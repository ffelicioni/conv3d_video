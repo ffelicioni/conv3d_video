{
  "nbformat": 4,
  "nbformat_minor": 0,
  "metadata": {
    "colab": {
      "name": "clasificar_hands.ipynb",
      "provenance": [],
      "collapsed_sections": [],
      "include_colab_link": true
    },
    "kernelspec": {
      "name": "python3",
      "display_name": "Python 3"
    },
    "language_info": {
      "name": "python"
    },
    "accelerator": "GPU"
  },
  "cells": [
    {
      "cell_type": "markdown",
      "metadata": {
        "id": "view-in-github",
        "colab_type": "text"
      },
      "source": [
        "<a href=\"https://colab.research.google.com/github/ffelicioni/conv3d_video/blob/main/clasificar_hands.ipynb\" target=\"_parent\"><img src=\"https://colab.research.google.com/assets/colab-badge.svg\" alt=\"Open In Colab\"/></a>"
      ]
    },
    {
      "cell_type": "markdown",
      "source": [
        "# Deep Learning - Clasificación de lenguaje de señas"
      ],
      "metadata": {
        "id": "gSdSlvzgMyxK"
      }
    },
    {
      "cell_type": "markdown",
      "source": [
        "## Módulos"
      ],
      "metadata": {
        "id": "fzjgmRX78tRn"
      }
    },
    {
      "cell_type": "code",
      "execution_count": 1,
      "metadata": {
        "id": "xbVtRxLIYi69"
      },
      "outputs": [],
      "source": [
        "import os as os\n",
        "import pandas as pd\n",
        "import glob\n",
        "from pathlib import Path\n",
        "\n",
        "from IPython.display import clear_output\n",
        "import sys\n",
        "\n",
        "import seaborn as sns\n",
        "import matplotlib.pyplot as plt\n",
        "import numpy as np\n",
        "import math as math\n",
        "\n",
        "from google.colab.patches import cv2_imshow\n",
        "\n",
        "import tensorflow as tf\n",
        "from tensorflow import keras\n",
        "\n",
        "import cv2\n",
        "\n",
        "from sklearn.model_selection import train_test_split\n",
        "\n",
        "from sklearn.model_selection import StratifiedShuffleSplit\n",
        "\n",
        "import matplotlib.pyplot as plt\n",
        "from skimage import io\n",
        "\n",
        "import random as random\n",
        "\n",
        "import shutil"
      ]
    },
    {
      "cell_type": "markdown",
      "source": [
        "## Funciones"
      ],
      "metadata": {
        "id": "Coq5VvkF8oez"
      }
    },
    {
      "cell_type": "code",
      "source": [
        "! mkdir /content/src\n",
        "sys.path.append('./src')\n",
        "% cd /content/src\n",
        "archivos=['__init__.py','armado_dataset.py','clasificacion.py','visualizar_filtros.py','carga_datos.py','separar_train_test.py']\n",
        "for archivo in archivos:\n",
        "    !wget \"https://raw.githubusercontent.com/ffelicioni/conv3d_video/main/src/{archivo}\"\n",
        "% cd /content\n",
        "\n",
        "clear_output()"
      ],
      "metadata": {
        "id": "tLbFnESzZ5dZ"
      },
      "execution_count": 2,
      "outputs": []
    },
    {
      "cell_type": "code",
      "source": [
        "from armado_dataset import video_capturing_function, data_load_function_frames, resampling_rand, data_load_frames_save_tf, load_data_from_tf, df_videos_names\n",
        "from separar_train_test import df_train_reordenar\n",
        "from clasificacion import prob2labels, accuracy, confusion\n",
        "from visualizar_filtros import plot_conv_weight, layer_by_name"
      ],
      "metadata": {
        "id": "wDk8AYPlaTIr"
      },
      "execution_count": 3,
      "outputs": []
    },
    {
      "cell_type": "markdown",
      "source": [
        "Clase sequence para carga de datos"
      ],
      "metadata": {
        "id": "9GlAdXB564Ll"
      }
    },
    {
      "cell_type": "code",
      "source": [
        "class CustomSequence(keras.utils.Sequence):\n",
        "    def __init__(self, batch_size):\n",
        "        super().__init__()\n",
        "        self.batch_size = batch_size\n",
        "        self.n=3948 \n",
        "    def __len__(self):\n",
        "        return self.n // self.batch_size\n",
        "\n",
        "    def __getitem__(self, batch_index):\n",
        "        idx_start = batch_index*self.batch_size\n",
        "        idx_end = idx_start+self.batch_size\n",
        "        \n",
        "        X=load_data_from_tf(df_train_batch[idx_start:idx_end],\"train_data\")\n",
        "        a=np.array(df_train_batch[idx_start:idx_end].ID)\n",
        "        y = tf.keras.utils.to_categorical(a-1, num_classes =64)\n",
        "        \n",
        "        nf,w,h=X[0].shape\n",
        "        X.reshape(self.batch_size,nf,w,h,1)\n",
        "        return X, y"
      ],
      "metadata": {
        "id": "1mKsfpk1sWWX"
      },
      "execution_count": 4,
      "outputs": []
    },
    {
      "cell_type": "markdown",
      "source": [
        "## Chequeo GPU"
      ],
      "metadata": {
        "id": "xlNa_dH48wwK"
      }
    },
    {
      "cell_type": "code",
      "source": [
        "tf.test.gpu_device_name()"
      ],
      "metadata": {
        "colab": {
          "base_uri": "https://localhost:8080/",
          "height": 35
        },
        "id": "yaTuNeJyzHhW",
        "outputId": "41fe1cce-4c1e-4e96-815d-681e2f376175"
      },
      "execution_count": null,
      "outputs": [
        {
          "output_type": "execute_result",
          "data": {
            "text/plain": [
              "'/device:GPU:0'"
            ],
            "application/vnd.google.colaboratory.intrinsic+json": {
              "type": "string"
            }
          },
          "metadata": {},
          "execution_count": 6
        }
      ]
    },
    {
      "cell_type": "code",
      "source": [
        "!/opt/bin/nvidia-smi"
      ],
      "metadata": {
        "colab": {
          "base_uri": "https://localhost:8080/"
        },
        "id": "w5SV6cv-3Lze",
        "outputId": "c67401e6-952b-46ad-f931-4da6d50a30f6"
      },
      "execution_count": null,
      "outputs": [
        {
          "output_type": "stream",
          "name": "stdout",
          "text": [
            "Tue Jul 12 18:17:24 2022       \n",
            "+-----------------------------------------------------------------------------+\n",
            "| NVIDIA-SMI 460.32.03    Driver Version: 460.32.03    CUDA Version: 11.2     |\n",
            "|-------------------------------+----------------------+----------------------+\n",
            "| GPU  Name        Persistence-M| Bus-Id        Disp.A | Volatile Uncorr. ECC |\n",
            "| Fan  Temp  Perf  Pwr:Usage/Cap|         Memory-Usage | GPU-Util  Compute M. |\n",
            "|                               |                      |               MIG M. |\n",
            "|===============================+======================+======================|\n",
            "|   0  Tesla T4            Off  | 00000000:00:04.0 Off |                    0 |\n",
            "| N/A   41C    P0    27W /  70W |    284MiB / 15109MiB |      0%      Default |\n",
            "|                               |                      |                  N/A |\n",
            "+-------------------------------+----------------------+----------------------+\n",
            "                                                                               \n",
            "+-----------------------------------------------------------------------------+\n",
            "| Processes:                                                                  |\n",
            "|  GPU   GI   CI        PID   Type   Process name                  GPU Memory |\n",
            "|        ID   ID                                                   Usage      |\n",
            "|=============================================================================|\n",
            "+-----------------------------------------------------------------------------+\n"
          ]
        }
      ]
    },
    {
      "cell_type": "code",
      "source": [
        "import gc\n",
        "gc.collect()"
      ],
      "metadata": {
        "colab": {
          "base_uri": "https://localhost:8080/"
        },
        "id": "n63YLbbE_kjf",
        "outputId": "27bc8741-e33a-40e6-9272-58c82e4fb71f"
      },
      "execution_count": 24,
      "outputs": [
        {
          "output_type": "execute_result",
          "data": {
            "text/plain": [
              "495"
            ]
          },
          "metadata": {},
          "execution_count": 24
        }
      ]
    },
    {
      "cell_type": "markdown",
      "source": [
        "## Datasets"
      ],
      "metadata": {
        "id": "WC2b6Fp285Sn"
      }
    },
    {
      "cell_type": "code",
      "source": [
        "from google.colab import drive\n",
        "drive.mount('/content/drive', force_remount=True)"
      ],
      "metadata": {
        "colab": {
          "base_uri": "https://localhost:8080/"
        },
        "id": "XArnzVbvYmvK",
        "outputId": "d9fc8246-439b-4a50-bc7f-36a249a9d7b7"
      },
      "execution_count": 5,
      "outputs": [
        {
          "output_type": "stream",
          "name": "stdout",
          "text": [
            "Mounted at /content/drive\n"
          ]
        }
      ]
    },
    {
      "cell_type": "code",
      "source": [
        "!unzip drive/MyDrive/lsa64_preprocessed.zip -d dataset\n",
        "clear_output()"
      ],
      "metadata": {
        "id": "Y_yfppm4ZD20"
      },
      "execution_count": 6,
      "outputs": []
    },
    {
      "cell_type": "markdown",
      "source": [
        "Armo dataset con nombres de los videos disponibles"
      ],
      "metadata": {
        "id": "gXH5eIVAt1l5"
      }
    },
    {
      "cell_type": "code",
      "source": [
        "df=df_videos_names('/content/dataset/lsa64_hand_videos/*.avi')\n",
        "print('cantidad de videos:',len(sorted(glob.glob('/content/dataset/lsa64_hand_videos/*.avi'))))\n",
        "print('cantidad de videos de la mano derecha:',len(df[df.mano=='right']))\n",
        "print('cantidad de videos de la mano izquierda:',len(df[df.mano=='left']))\n",
        "print('cantidad de personas:', len(df.persona.unique()))\n",
        "print('cantidad de repeticiones:', len(df.repeticion.unique()))"
      ],
      "metadata": {
        "colab": {
          "base_uri": "https://localhost:8080/"
        },
        "id": "kRQkwxyD4v-5",
        "outputId": "9659258f-df7b-44f5-fe9a-82f909f38663"
      },
      "execution_count": 7,
      "outputs": [
        {
          "output_type": "stream",
          "name": "stdout",
          "text": [
            "cantidad de videos: 4299\n",
            "cantidad de videos de la mano derecha: 3200\n",
            "cantidad de videos de la mano izquierda: 1099\n",
            "cantidad de personas: 10\n",
            "cantidad de repeticiones: 5\n"
          ]
        }
      ]
    },
    {
      "cell_type": "code",
      "source": [
        "clases=pd.read_csv('https://raw.githubusercontent.com/ffelicioni/conv3d_video/main/data/clase_LSA64.csv')\n",
        "print('cantidad de clases:', len(clases.Name.unique()),'nombres: ',clases.Name.unique())"
      ],
      "metadata": {
        "colab": {
          "base_uri": "https://localhost:8080/"
        },
        "id": "ws0jy5FgeY5F",
        "outputId": "08203884-713e-4c17-d6dd-ea6e9e39d272"
      },
      "execution_count": 8,
      "outputs": [
        {
          "output_type": "stream",
          "name": "stdout",
          "text": [
            "cantidad de clases: 64 nombres:  ['Opaque' 'Red' 'Green' 'Yellow' 'Bright' 'Light-blue' 'Colors' 'Rose'\n",
            " 'Women' 'Enemy' 'Son' 'Man' 'Away' 'Drawer' 'Born' 'Learn' 'Call'\n",
            " 'Skimmer' 'Bitter' 'Sweet milk' 'Milk' 'Water' 'Food' 'Argentina'\n",
            " 'Uruguay' 'Country' 'Last name' 'Where' 'Mock' 'Birthday' 'Breakfast'\n",
            " 'Photo' 'Hungry' 'Map' 'Coin' 'Music' 'Ship' 'None' 'Name' 'Patience'\n",
            " 'Perfume' 'Deaf' 'Trap' 'Rice' 'Barbecue' 'Candy' 'Chewing-gum'\n",
            " 'Spaghetti' 'Yogurt' 'Accept' 'Thanks' 'Shut down' 'Appear' 'To land'\n",
            " 'Catch' 'Help' 'Dance' 'Bathe' 'Buy' 'Copy' 'Run' 'Realize' 'Give' 'Find']\n"
          ]
        }
      ]
    },
    {
      "cell_type": "code",
      "source": [
        "df['id_name']=pd.merge(df,clases,on='ID',how='left').Name\n",
        "df"
      ],
      "metadata": {
        "colab": {
          "base_uri": "https://localhost:8080/",
          "height": 424
        },
        "id": "5k9OWVGh1lAf",
        "outputId": "bedd4b23-6a8f-498b-b752-02f6c338d37f"
      },
      "execution_count": 9,
      "outputs": [
        {
          "output_type": "execute_result",
          "data": {
            "text/plain": [
              "                                              file_path  ID persona  \\\n",
              "0     /content/dataset/lsa64_hand_videos/001_001_001...   1     001   \n",
              "1     /content/dataset/lsa64_hand_videos/001_001_002...   1     001   \n",
              "2     /content/dataset/lsa64_hand_videos/001_001_003...   1     001   \n",
              "3     /content/dataset/lsa64_hand_videos/001_001_004...   1     001   \n",
              "4     /content/dataset/lsa64_hand_videos/001_001_005...   1     001   \n",
              "...                                                 ...  ..     ...   \n",
              "4294  /content/dataset/lsa64_hand_videos/064_010_001...  64     010   \n",
              "4295  /content/dataset/lsa64_hand_videos/064_010_002...  64     010   \n",
              "4296  /content/dataset/lsa64_hand_videos/064_010_003...  64     010   \n",
              "4297  /content/dataset/lsa64_hand_videos/064_010_004...  64     010   \n",
              "4298  /content/dataset/lsa64_hand_videos/064_010_005...  64     010   \n",
              "\n",
              "     repeticion   mano id_name  \n",
              "0           001  right  Opaque  \n",
              "1           002  right  Opaque  \n",
              "2           003  right  Opaque  \n",
              "3           004  right  Opaque  \n",
              "4           005  right  Opaque  \n",
              "...         ...    ...     ...  \n",
              "4294        001  right    Find  \n",
              "4295        002  right    Find  \n",
              "4296        003  right    Find  \n",
              "4297        004  right    Find  \n",
              "4298        005  right    Find  \n",
              "\n",
              "[4299 rows x 6 columns]"
            ],
            "text/html": [
              "\n",
              "  <div id=\"df-716d64f3-da43-42c4-916a-0ef11b53b351\">\n",
              "    <div class=\"colab-df-container\">\n",
              "      <div>\n",
              "<style scoped>\n",
              "    .dataframe tbody tr th:only-of-type {\n",
              "        vertical-align: middle;\n",
              "    }\n",
              "\n",
              "    .dataframe tbody tr th {\n",
              "        vertical-align: top;\n",
              "    }\n",
              "\n",
              "    .dataframe thead th {\n",
              "        text-align: right;\n",
              "    }\n",
              "</style>\n",
              "<table border=\"1\" class=\"dataframe\">\n",
              "  <thead>\n",
              "    <tr style=\"text-align: right;\">\n",
              "      <th></th>\n",
              "      <th>file_path</th>\n",
              "      <th>ID</th>\n",
              "      <th>persona</th>\n",
              "      <th>repeticion</th>\n",
              "      <th>mano</th>\n",
              "      <th>id_name</th>\n",
              "    </tr>\n",
              "  </thead>\n",
              "  <tbody>\n",
              "    <tr>\n",
              "      <th>0</th>\n",
              "      <td>/content/dataset/lsa64_hand_videos/001_001_001...</td>\n",
              "      <td>1</td>\n",
              "      <td>001</td>\n",
              "      <td>001</td>\n",
              "      <td>right</td>\n",
              "      <td>Opaque</td>\n",
              "    </tr>\n",
              "    <tr>\n",
              "      <th>1</th>\n",
              "      <td>/content/dataset/lsa64_hand_videos/001_001_002...</td>\n",
              "      <td>1</td>\n",
              "      <td>001</td>\n",
              "      <td>002</td>\n",
              "      <td>right</td>\n",
              "      <td>Opaque</td>\n",
              "    </tr>\n",
              "    <tr>\n",
              "      <th>2</th>\n",
              "      <td>/content/dataset/lsa64_hand_videos/001_001_003...</td>\n",
              "      <td>1</td>\n",
              "      <td>001</td>\n",
              "      <td>003</td>\n",
              "      <td>right</td>\n",
              "      <td>Opaque</td>\n",
              "    </tr>\n",
              "    <tr>\n",
              "      <th>3</th>\n",
              "      <td>/content/dataset/lsa64_hand_videos/001_001_004...</td>\n",
              "      <td>1</td>\n",
              "      <td>001</td>\n",
              "      <td>004</td>\n",
              "      <td>right</td>\n",
              "      <td>Opaque</td>\n",
              "    </tr>\n",
              "    <tr>\n",
              "      <th>4</th>\n",
              "      <td>/content/dataset/lsa64_hand_videos/001_001_005...</td>\n",
              "      <td>1</td>\n",
              "      <td>001</td>\n",
              "      <td>005</td>\n",
              "      <td>right</td>\n",
              "      <td>Opaque</td>\n",
              "    </tr>\n",
              "    <tr>\n",
              "      <th>...</th>\n",
              "      <td>...</td>\n",
              "      <td>...</td>\n",
              "      <td>...</td>\n",
              "      <td>...</td>\n",
              "      <td>...</td>\n",
              "      <td>...</td>\n",
              "    </tr>\n",
              "    <tr>\n",
              "      <th>4294</th>\n",
              "      <td>/content/dataset/lsa64_hand_videos/064_010_001...</td>\n",
              "      <td>64</td>\n",
              "      <td>010</td>\n",
              "      <td>001</td>\n",
              "      <td>right</td>\n",
              "      <td>Find</td>\n",
              "    </tr>\n",
              "    <tr>\n",
              "      <th>4295</th>\n",
              "      <td>/content/dataset/lsa64_hand_videos/064_010_002...</td>\n",
              "      <td>64</td>\n",
              "      <td>010</td>\n",
              "      <td>002</td>\n",
              "      <td>right</td>\n",
              "      <td>Find</td>\n",
              "    </tr>\n",
              "    <tr>\n",
              "      <th>4296</th>\n",
              "      <td>/content/dataset/lsa64_hand_videos/064_010_003...</td>\n",
              "      <td>64</td>\n",
              "      <td>010</td>\n",
              "      <td>003</td>\n",
              "      <td>right</td>\n",
              "      <td>Find</td>\n",
              "    </tr>\n",
              "    <tr>\n",
              "      <th>4297</th>\n",
              "      <td>/content/dataset/lsa64_hand_videos/064_010_004...</td>\n",
              "      <td>64</td>\n",
              "      <td>010</td>\n",
              "      <td>004</td>\n",
              "      <td>right</td>\n",
              "      <td>Find</td>\n",
              "    </tr>\n",
              "    <tr>\n",
              "      <th>4298</th>\n",
              "      <td>/content/dataset/lsa64_hand_videos/064_010_005...</td>\n",
              "      <td>64</td>\n",
              "      <td>010</td>\n",
              "      <td>005</td>\n",
              "      <td>right</td>\n",
              "      <td>Find</td>\n",
              "    </tr>\n",
              "  </tbody>\n",
              "</table>\n",
              "<p>4299 rows × 6 columns</p>\n",
              "</div>\n",
              "      <button class=\"colab-df-convert\" onclick=\"convertToInteractive('df-716d64f3-da43-42c4-916a-0ef11b53b351')\"\n",
              "              title=\"Convert this dataframe to an interactive table.\"\n",
              "              style=\"display:none;\">\n",
              "        \n",
              "  <svg xmlns=\"http://www.w3.org/2000/svg\" height=\"24px\"viewBox=\"0 0 24 24\"\n",
              "       width=\"24px\">\n",
              "    <path d=\"M0 0h24v24H0V0z\" fill=\"none\"/>\n",
              "    <path d=\"M18.56 5.44l.94 2.06.94-2.06 2.06-.94-2.06-.94-.94-2.06-.94 2.06-2.06.94zm-11 1L8.5 8.5l.94-2.06 2.06-.94-2.06-.94L8.5 2.5l-.94 2.06-2.06.94zm10 10l.94 2.06.94-2.06 2.06-.94-2.06-.94-.94-2.06-.94 2.06-2.06.94z\"/><path d=\"M17.41 7.96l-1.37-1.37c-.4-.4-.92-.59-1.43-.59-.52 0-1.04.2-1.43.59L10.3 9.45l-7.72 7.72c-.78.78-.78 2.05 0 2.83L4 21.41c.39.39.9.59 1.41.59.51 0 1.02-.2 1.41-.59l7.78-7.78 2.81-2.81c.8-.78.8-2.07 0-2.86zM5.41 20L4 18.59l7.72-7.72 1.47 1.35L5.41 20z\"/>\n",
              "  </svg>\n",
              "      </button>\n",
              "      \n",
              "  <style>\n",
              "    .colab-df-container {\n",
              "      display:flex;\n",
              "      flex-wrap:wrap;\n",
              "      gap: 12px;\n",
              "    }\n",
              "\n",
              "    .colab-df-convert {\n",
              "      background-color: #E8F0FE;\n",
              "      border: none;\n",
              "      border-radius: 50%;\n",
              "      cursor: pointer;\n",
              "      display: none;\n",
              "      fill: #1967D2;\n",
              "      height: 32px;\n",
              "      padding: 0 0 0 0;\n",
              "      width: 32px;\n",
              "    }\n",
              "\n",
              "    .colab-df-convert:hover {\n",
              "      background-color: #E2EBFA;\n",
              "      box-shadow: 0px 1px 2px rgba(60, 64, 67, 0.3), 0px 1px 3px 1px rgba(60, 64, 67, 0.15);\n",
              "      fill: #174EA6;\n",
              "    }\n",
              "\n",
              "    [theme=dark] .colab-df-convert {\n",
              "      background-color: #3B4455;\n",
              "      fill: #D2E3FC;\n",
              "    }\n",
              "\n",
              "    [theme=dark] .colab-df-convert:hover {\n",
              "      background-color: #434B5C;\n",
              "      box-shadow: 0px 1px 3px 1px rgba(0, 0, 0, 0.15);\n",
              "      filter: drop-shadow(0px 1px 2px rgba(0, 0, 0, 0.3));\n",
              "      fill: #FFFFFF;\n",
              "    }\n",
              "  </style>\n",
              "\n",
              "      <script>\n",
              "        const buttonEl =\n",
              "          document.querySelector('#df-716d64f3-da43-42c4-916a-0ef11b53b351 button.colab-df-convert');\n",
              "        buttonEl.style.display =\n",
              "          google.colab.kernel.accessAllowed ? 'block' : 'none';\n",
              "\n",
              "        async function convertToInteractive(key) {\n",
              "          const element = document.querySelector('#df-716d64f3-da43-42c4-916a-0ef11b53b351');\n",
              "          const dataTable =\n",
              "            await google.colab.kernel.invokeFunction('convertToInteractive',\n",
              "                                                     [key], {});\n",
              "          if (!dataTable) return;\n",
              "\n",
              "          const docLinkHtml = 'Like what you see? Visit the ' +\n",
              "            '<a target=\"_blank\" href=https://colab.research.google.com/notebooks/data_table.ipynb>data table notebook</a>'\n",
              "            + ' to learn more about interactive tables.';\n",
              "          element.innerHTML = '';\n",
              "          dataTable['output_type'] = 'display_data';\n",
              "          await google.colab.output.renderOutput(dataTable, element);\n",
              "          const docLink = document.createElement('div');\n",
              "          docLink.innerHTML = docLinkHtml;\n",
              "          element.appendChild(docLink);\n",
              "        }\n",
              "      </script>\n",
              "    </div>\n",
              "  </div>\n",
              "  "
            ]
          },
          "metadata": {},
          "execution_count": 9
        }
      ]
    },
    {
      "cell_type": "code",
      "source": [
        "df.persona.value_counts()"
      ],
      "metadata": {
        "id": "PLVI658wJzmi",
        "outputId": "a8df7854-cf85-49b6-d471-9ff90c09e6b5",
        "colab": {
          "base_uri": "https://localhost:8080/"
        }
      },
      "execution_count": 10,
      "outputs": [
        {
          "output_type": "execute_result",
          "data": {
            "text/plain": [
              "001    430\n",
              "002    430\n",
              "003    430\n",
              "004    430\n",
              "006    430\n",
              "007    430\n",
              "008    430\n",
              "009    430\n",
              "010    430\n",
              "005    429\n",
              "Name: persona, dtype: int64"
            ]
          },
          "metadata": {},
          "execution_count": 10
        }
      ]
    },
    {
      "cell_type": "markdown",
      "source": [
        "Señas con cada mano"
      ],
      "metadata": {
        "id": "cH5SDXya4yhV"
      }
    },
    {
      "cell_type": "code",
      "source": [
        "df[df.mano=='right']"
      ],
      "metadata": {
        "id": "JKZ4wx_74xm-",
        "outputId": "26c1a925-8b1c-4d41-9432-d2663dd4ca66",
        "colab": {
          "base_uri": "https://localhost:8080/",
          "height": 424
        }
      },
      "execution_count": null,
      "outputs": [
        {
          "output_type": "execute_result",
          "data": {
            "text/plain": [
              "                                              file_path  ID persona  \\\n",
              "0     /content/dataset/lsa64_hand_videos/001_001_001...   1     001   \n",
              "1     /content/dataset/lsa64_hand_videos/001_001_002...   1     001   \n",
              "2     /content/dataset/lsa64_hand_videos/001_001_003...   1     001   \n",
              "3     /content/dataset/lsa64_hand_videos/001_001_004...   1     001   \n",
              "4     /content/dataset/lsa64_hand_videos/001_001_005...   1     001   \n",
              "...                                                 ...  ..     ...   \n",
              "4294  /content/dataset/lsa64_hand_videos/064_010_001...  64     010   \n",
              "4295  /content/dataset/lsa64_hand_videos/064_010_002...  64     010   \n",
              "4296  /content/dataset/lsa64_hand_videos/064_010_003...  64     010   \n",
              "4297  /content/dataset/lsa64_hand_videos/064_010_004...  64     010   \n",
              "4298  /content/dataset/lsa64_hand_videos/064_010_005...  64     010   \n",
              "\n",
              "     repeticion   mano id_name  \n",
              "0           001  right  Opaque  \n",
              "1           002  right  Opaque  \n",
              "2           003  right  Opaque  \n",
              "3           004  right  Opaque  \n",
              "4           005  right  Opaque  \n",
              "...         ...    ...     ...  \n",
              "4294        001  right    Find  \n",
              "4295        002  right    Find  \n",
              "4296        003  right    Find  \n",
              "4297        004  right    Find  \n",
              "4298        005  right    Find  \n",
              "\n",
              "[3200 rows x 6 columns]"
            ],
            "text/html": [
              "\n",
              "  <div id=\"df-4b659caf-2aba-429e-9301-17e1d9ec757a\">\n",
              "    <div class=\"colab-df-container\">\n",
              "      <div>\n",
              "<style scoped>\n",
              "    .dataframe tbody tr th:only-of-type {\n",
              "        vertical-align: middle;\n",
              "    }\n",
              "\n",
              "    .dataframe tbody tr th {\n",
              "        vertical-align: top;\n",
              "    }\n",
              "\n",
              "    .dataframe thead th {\n",
              "        text-align: right;\n",
              "    }\n",
              "</style>\n",
              "<table border=\"1\" class=\"dataframe\">\n",
              "  <thead>\n",
              "    <tr style=\"text-align: right;\">\n",
              "      <th></th>\n",
              "      <th>file_path</th>\n",
              "      <th>ID</th>\n",
              "      <th>persona</th>\n",
              "      <th>repeticion</th>\n",
              "      <th>mano</th>\n",
              "      <th>id_name</th>\n",
              "    </tr>\n",
              "  </thead>\n",
              "  <tbody>\n",
              "    <tr>\n",
              "      <th>0</th>\n",
              "      <td>/content/dataset/lsa64_hand_videos/001_001_001...</td>\n",
              "      <td>1</td>\n",
              "      <td>001</td>\n",
              "      <td>001</td>\n",
              "      <td>right</td>\n",
              "      <td>Opaque</td>\n",
              "    </tr>\n",
              "    <tr>\n",
              "      <th>1</th>\n",
              "      <td>/content/dataset/lsa64_hand_videos/001_001_002...</td>\n",
              "      <td>1</td>\n",
              "      <td>001</td>\n",
              "      <td>002</td>\n",
              "      <td>right</td>\n",
              "      <td>Opaque</td>\n",
              "    </tr>\n",
              "    <tr>\n",
              "      <th>2</th>\n",
              "      <td>/content/dataset/lsa64_hand_videos/001_001_003...</td>\n",
              "      <td>1</td>\n",
              "      <td>001</td>\n",
              "      <td>003</td>\n",
              "      <td>right</td>\n",
              "      <td>Opaque</td>\n",
              "    </tr>\n",
              "    <tr>\n",
              "      <th>3</th>\n",
              "      <td>/content/dataset/lsa64_hand_videos/001_001_004...</td>\n",
              "      <td>1</td>\n",
              "      <td>001</td>\n",
              "      <td>004</td>\n",
              "      <td>right</td>\n",
              "      <td>Opaque</td>\n",
              "    </tr>\n",
              "    <tr>\n",
              "      <th>4</th>\n",
              "      <td>/content/dataset/lsa64_hand_videos/001_001_005...</td>\n",
              "      <td>1</td>\n",
              "      <td>001</td>\n",
              "      <td>005</td>\n",
              "      <td>right</td>\n",
              "      <td>Opaque</td>\n",
              "    </tr>\n",
              "    <tr>\n",
              "      <th>...</th>\n",
              "      <td>...</td>\n",
              "      <td>...</td>\n",
              "      <td>...</td>\n",
              "      <td>...</td>\n",
              "      <td>...</td>\n",
              "      <td>...</td>\n",
              "    </tr>\n",
              "    <tr>\n",
              "      <th>4294</th>\n",
              "      <td>/content/dataset/lsa64_hand_videos/064_010_001...</td>\n",
              "      <td>64</td>\n",
              "      <td>010</td>\n",
              "      <td>001</td>\n",
              "      <td>right</td>\n",
              "      <td>Find</td>\n",
              "    </tr>\n",
              "    <tr>\n",
              "      <th>4295</th>\n",
              "      <td>/content/dataset/lsa64_hand_videos/064_010_002...</td>\n",
              "      <td>64</td>\n",
              "      <td>010</td>\n",
              "      <td>002</td>\n",
              "      <td>right</td>\n",
              "      <td>Find</td>\n",
              "    </tr>\n",
              "    <tr>\n",
              "      <th>4296</th>\n",
              "      <td>/content/dataset/lsa64_hand_videos/064_010_003...</td>\n",
              "      <td>64</td>\n",
              "      <td>010</td>\n",
              "      <td>003</td>\n",
              "      <td>right</td>\n",
              "      <td>Find</td>\n",
              "    </tr>\n",
              "    <tr>\n",
              "      <th>4297</th>\n",
              "      <td>/content/dataset/lsa64_hand_videos/064_010_004...</td>\n",
              "      <td>64</td>\n",
              "      <td>010</td>\n",
              "      <td>004</td>\n",
              "      <td>right</td>\n",
              "      <td>Find</td>\n",
              "    </tr>\n",
              "    <tr>\n",
              "      <th>4298</th>\n",
              "      <td>/content/dataset/lsa64_hand_videos/064_010_005...</td>\n",
              "      <td>64</td>\n",
              "      <td>010</td>\n",
              "      <td>005</td>\n",
              "      <td>right</td>\n",
              "      <td>Find</td>\n",
              "    </tr>\n",
              "  </tbody>\n",
              "</table>\n",
              "<p>3200 rows × 6 columns</p>\n",
              "</div>\n",
              "      <button class=\"colab-df-convert\" onclick=\"convertToInteractive('df-4b659caf-2aba-429e-9301-17e1d9ec757a')\"\n",
              "              title=\"Convert this dataframe to an interactive table.\"\n",
              "              style=\"display:none;\">\n",
              "        \n",
              "  <svg xmlns=\"http://www.w3.org/2000/svg\" height=\"24px\"viewBox=\"0 0 24 24\"\n",
              "       width=\"24px\">\n",
              "    <path d=\"M0 0h24v24H0V0z\" fill=\"none\"/>\n",
              "    <path d=\"M18.56 5.44l.94 2.06.94-2.06 2.06-.94-2.06-.94-.94-2.06-.94 2.06-2.06.94zm-11 1L8.5 8.5l.94-2.06 2.06-.94-2.06-.94L8.5 2.5l-.94 2.06-2.06.94zm10 10l.94 2.06.94-2.06 2.06-.94-2.06-.94-.94-2.06-.94 2.06-2.06.94z\"/><path d=\"M17.41 7.96l-1.37-1.37c-.4-.4-.92-.59-1.43-.59-.52 0-1.04.2-1.43.59L10.3 9.45l-7.72 7.72c-.78.78-.78 2.05 0 2.83L4 21.41c.39.39.9.59 1.41.59.51 0 1.02-.2 1.41-.59l7.78-7.78 2.81-2.81c.8-.78.8-2.07 0-2.86zM5.41 20L4 18.59l7.72-7.72 1.47 1.35L5.41 20z\"/>\n",
              "  </svg>\n",
              "      </button>\n",
              "      \n",
              "  <style>\n",
              "    .colab-df-container {\n",
              "      display:flex;\n",
              "      flex-wrap:wrap;\n",
              "      gap: 12px;\n",
              "    }\n",
              "\n",
              "    .colab-df-convert {\n",
              "      background-color: #E8F0FE;\n",
              "      border: none;\n",
              "      border-radius: 50%;\n",
              "      cursor: pointer;\n",
              "      display: none;\n",
              "      fill: #1967D2;\n",
              "      height: 32px;\n",
              "      padding: 0 0 0 0;\n",
              "      width: 32px;\n",
              "    }\n",
              "\n",
              "    .colab-df-convert:hover {\n",
              "      background-color: #E2EBFA;\n",
              "      box-shadow: 0px 1px 2px rgba(60, 64, 67, 0.3), 0px 1px 3px 1px rgba(60, 64, 67, 0.15);\n",
              "      fill: #174EA6;\n",
              "    }\n",
              "\n",
              "    [theme=dark] .colab-df-convert {\n",
              "      background-color: #3B4455;\n",
              "      fill: #D2E3FC;\n",
              "    }\n",
              "\n",
              "    [theme=dark] .colab-df-convert:hover {\n",
              "      background-color: #434B5C;\n",
              "      box-shadow: 0px 1px 3px 1px rgba(0, 0, 0, 0.15);\n",
              "      filter: drop-shadow(0px 1px 2px rgba(0, 0, 0, 0.3));\n",
              "      fill: #FFFFFF;\n",
              "    }\n",
              "  </style>\n",
              "\n",
              "      <script>\n",
              "        const buttonEl =\n",
              "          document.querySelector('#df-4b659caf-2aba-429e-9301-17e1d9ec757a button.colab-df-convert');\n",
              "        buttonEl.style.display =\n",
              "          google.colab.kernel.accessAllowed ? 'block' : 'none';\n",
              "\n",
              "        async function convertToInteractive(key) {\n",
              "          const element = document.querySelector('#df-4b659caf-2aba-429e-9301-17e1d9ec757a');\n",
              "          const dataTable =\n",
              "            await google.colab.kernel.invokeFunction('convertToInteractive',\n",
              "                                                     [key], {});\n",
              "          if (!dataTable) return;\n",
              "\n",
              "          const docLinkHtml = 'Like what you see? Visit the ' +\n",
              "            '<a target=\"_blank\" href=https://colab.research.google.com/notebooks/data_table.ipynb>data table notebook</a>'\n",
              "            + ' to learn more about interactive tables.';\n",
              "          element.innerHTML = '';\n",
              "          dataTable['output_type'] = 'display_data';\n",
              "          await google.colab.output.renderOutput(dataTable, element);\n",
              "          const docLink = document.createElement('div');\n",
              "          docLink.innerHTML = docLinkHtml;\n",
              "          element.appendChild(docLink);\n",
              "        }\n",
              "      </script>\n",
              "    </div>\n",
              "  </div>\n",
              "  "
            ]
          },
          "metadata": {},
          "execution_count": 14
        }
      ]
    },
    {
      "cell_type": "code",
      "source": [
        "df[df.mano=='left'].ID.value_counts()"
      ],
      "metadata": {
        "id": "wmdpq83Y4uY2",
        "outputId": "2d25b0bf-8546-4b89-b2b1-8fadbb6ae6ed",
        "colab": {
          "base_uri": "https://localhost:8080/"
        }
      },
      "execution_count": null,
      "outputs": [
        {
          "output_type": "execute_result",
          "data": {
            "text/plain": [
              "29    50\n",
              "31    50\n",
              "61    50\n",
              "60    50\n",
              "58    50\n",
              "57    50\n",
              "56    50\n",
              "55    50\n",
              "53    50\n",
              "51    50\n",
              "50    50\n",
              "49    50\n",
              "48    50\n",
              "45    50\n",
              "44    50\n",
              "43    50\n",
              "36    50\n",
              "35    50\n",
              "34    50\n",
              "32    50\n",
              "63    50\n",
              "54    49\n",
              "Name: ID, dtype: int64"
            ]
          },
          "metadata": {},
          "execution_count": 15
        }
      ]
    },
    {
      "cell_type": "code",
      "source": [
        "df_right=df[df.mano=='right']"
      ],
      "metadata": {
        "id": "4cMQmzMp5vnP"
      },
      "execution_count": null,
      "outputs": []
    },
    {
      "cell_type": "code",
      "source": [
        "_, X_test_index, _, _ = train_test_split(df_right.index, df_right.ID, stratify=df_right.ID, test_size=260,random_state=0)\n",
        "\n",
        "df_test=df_right.loc[sorted(X_test_index)]"
      ],
      "metadata": {
        "id": "AOTDAFwk5huj"
      },
      "execution_count": null,
      "outputs": []
    },
    {
      "cell_type": "code",
      "source": [
        "df_uno=pd.merge(df_test,df,on=['ID','persona','repeticion'],how='left')\n",
        "df_uno=df_uno[['file_path_y','ID','persona','repeticion','mano_y','id_name_y']]\n",
        "df_uno.rename(columns={'file_path_y':'file_path','mano_y':'mano','id_name_y':'id_name'},inplace=True)\n",
        "df_uno[df_uno.mano=='left']\n",
        "df_uno"
      ],
      "metadata": {
        "id": "AyPVQ8eeP0rf",
        "outputId": "da2a179f-a625-4d9e-e3f1-388c8d9cee58",
        "colab": {
          "base_uri": "https://localhost:8080/",
          "height": 424
        }
      },
      "execution_count": null,
      "outputs": [
        {
          "output_type": "execute_result",
          "data": {
            "text/plain": [
              "                                             file_path  ID persona repeticion  \\\n",
              "0    /content/dataset/lsa64_hand_videos/001_001_002...   1     001        002   \n",
              "1    /content/dataset/lsa64_hand_videos/001_001_005...   1     001        005   \n",
              "2    /content/dataset/lsa64_hand_videos/001_007_002...   1     007        002   \n",
              "3    /content/dataset/lsa64_hand_videos/001_009_002...   1     009        002   \n",
              "4    /content/dataset/lsa64_hand_videos/001_009_003...   1     009        003   \n",
              "..                                                 ...  ..     ...        ...   \n",
              "346  /content/dataset/lsa64_hand_videos/063_010_003...  63     010        003   \n",
              "347  /content/dataset/lsa64_hand_videos/064_001_005...  64     001        005   \n",
              "348  /content/dataset/lsa64_hand_videos/064_006_005...  64     006        005   \n",
              "349  /content/dataset/lsa64_hand_videos/064_009_003...  64     009        003   \n",
              "350  /content/dataset/lsa64_hand_videos/064_009_005...  64     009        005   \n",
              "\n",
              "      mano id_name  \n",
              "0    right  Opaque  \n",
              "1    right  Opaque  \n",
              "2    right  Opaque  \n",
              "3    right  Opaque  \n",
              "4    right  Opaque  \n",
              "..     ...     ...  \n",
              "346  right    Give  \n",
              "347  right    Find  \n",
              "348  right    Find  \n",
              "349  right    Find  \n",
              "350  right    Find  \n",
              "\n",
              "[351 rows x 6 columns]"
            ],
            "text/html": [
              "\n",
              "  <div id=\"df-c78a3ef1-dbfd-4466-b99a-3c079b981e03\">\n",
              "    <div class=\"colab-df-container\">\n",
              "      <div>\n",
              "<style scoped>\n",
              "    .dataframe tbody tr th:only-of-type {\n",
              "        vertical-align: middle;\n",
              "    }\n",
              "\n",
              "    .dataframe tbody tr th {\n",
              "        vertical-align: top;\n",
              "    }\n",
              "\n",
              "    .dataframe thead th {\n",
              "        text-align: right;\n",
              "    }\n",
              "</style>\n",
              "<table border=\"1\" class=\"dataframe\">\n",
              "  <thead>\n",
              "    <tr style=\"text-align: right;\">\n",
              "      <th></th>\n",
              "      <th>file_path</th>\n",
              "      <th>ID</th>\n",
              "      <th>persona</th>\n",
              "      <th>repeticion</th>\n",
              "      <th>mano</th>\n",
              "      <th>id_name</th>\n",
              "    </tr>\n",
              "  </thead>\n",
              "  <tbody>\n",
              "    <tr>\n",
              "      <th>0</th>\n",
              "      <td>/content/dataset/lsa64_hand_videos/001_001_002...</td>\n",
              "      <td>1</td>\n",
              "      <td>001</td>\n",
              "      <td>002</td>\n",
              "      <td>right</td>\n",
              "      <td>Opaque</td>\n",
              "    </tr>\n",
              "    <tr>\n",
              "      <th>1</th>\n",
              "      <td>/content/dataset/lsa64_hand_videos/001_001_005...</td>\n",
              "      <td>1</td>\n",
              "      <td>001</td>\n",
              "      <td>005</td>\n",
              "      <td>right</td>\n",
              "      <td>Opaque</td>\n",
              "    </tr>\n",
              "    <tr>\n",
              "      <th>2</th>\n",
              "      <td>/content/dataset/lsa64_hand_videos/001_007_002...</td>\n",
              "      <td>1</td>\n",
              "      <td>007</td>\n",
              "      <td>002</td>\n",
              "      <td>right</td>\n",
              "      <td>Opaque</td>\n",
              "    </tr>\n",
              "    <tr>\n",
              "      <th>3</th>\n",
              "      <td>/content/dataset/lsa64_hand_videos/001_009_002...</td>\n",
              "      <td>1</td>\n",
              "      <td>009</td>\n",
              "      <td>002</td>\n",
              "      <td>right</td>\n",
              "      <td>Opaque</td>\n",
              "    </tr>\n",
              "    <tr>\n",
              "      <th>4</th>\n",
              "      <td>/content/dataset/lsa64_hand_videos/001_009_003...</td>\n",
              "      <td>1</td>\n",
              "      <td>009</td>\n",
              "      <td>003</td>\n",
              "      <td>right</td>\n",
              "      <td>Opaque</td>\n",
              "    </tr>\n",
              "    <tr>\n",
              "      <th>...</th>\n",
              "      <td>...</td>\n",
              "      <td>...</td>\n",
              "      <td>...</td>\n",
              "      <td>...</td>\n",
              "      <td>...</td>\n",
              "      <td>...</td>\n",
              "    </tr>\n",
              "    <tr>\n",
              "      <th>346</th>\n",
              "      <td>/content/dataset/lsa64_hand_videos/063_010_003...</td>\n",
              "      <td>63</td>\n",
              "      <td>010</td>\n",
              "      <td>003</td>\n",
              "      <td>right</td>\n",
              "      <td>Give</td>\n",
              "    </tr>\n",
              "    <tr>\n",
              "      <th>347</th>\n",
              "      <td>/content/dataset/lsa64_hand_videos/064_001_005...</td>\n",
              "      <td>64</td>\n",
              "      <td>001</td>\n",
              "      <td>005</td>\n",
              "      <td>right</td>\n",
              "      <td>Find</td>\n",
              "    </tr>\n",
              "    <tr>\n",
              "      <th>348</th>\n",
              "      <td>/content/dataset/lsa64_hand_videos/064_006_005...</td>\n",
              "      <td>64</td>\n",
              "      <td>006</td>\n",
              "      <td>005</td>\n",
              "      <td>right</td>\n",
              "      <td>Find</td>\n",
              "    </tr>\n",
              "    <tr>\n",
              "      <th>349</th>\n",
              "      <td>/content/dataset/lsa64_hand_videos/064_009_003...</td>\n",
              "      <td>64</td>\n",
              "      <td>009</td>\n",
              "      <td>003</td>\n",
              "      <td>right</td>\n",
              "      <td>Find</td>\n",
              "    </tr>\n",
              "    <tr>\n",
              "      <th>350</th>\n",
              "      <td>/content/dataset/lsa64_hand_videos/064_009_005...</td>\n",
              "      <td>64</td>\n",
              "      <td>009</td>\n",
              "      <td>005</td>\n",
              "      <td>right</td>\n",
              "      <td>Find</td>\n",
              "    </tr>\n",
              "  </tbody>\n",
              "</table>\n",
              "<p>351 rows × 6 columns</p>\n",
              "</div>\n",
              "      <button class=\"colab-df-convert\" onclick=\"convertToInteractive('df-c78a3ef1-dbfd-4466-b99a-3c079b981e03')\"\n",
              "              title=\"Convert this dataframe to an interactive table.\"\n",
              "              style=\"display:none;\">\n",
              "        \n",
              "  <svg xmlns=\"http://www.w3.org/2000/svg\" height=\"24px\"viewBox=\"0 0 24 24\"\n",
              "       width=\"24px\">\n",
              "    <path d=\"M0 0h24v24H0V0z\" fill=\"none\"/>\n",
              "    <path d=\"M18.56 5.44l.94 2.06.94-2.06 2.06-.94-2.06-.94-.94-2.06-.94 2.06-2.06.94zm-11 1L8.5 8.5l.94-2.06 2.06-.94-2.06-.94L8.5 2.5l-.94 2.06-2.06.94zm10 10l.94 2.06.94-2.06 2.06-.94-2.06-.94-.94-2.06-.94 2.06-2.06.94z\"/><path d=\"M17.41 7.96l-1.37-1.37c-.4-.4-.92-.59-1.43-.59-.52 0-1.04.2-1.43.59L10.3 9.45l-7.72 7.72c-.78.78-.78 2.05 0 2.83L4 21.41c.39.39.9.59 1.41.59.51 0 1.02-.2 1.41-.59l7.78-7.78 2.81-2.81c.8-.78.8-2.07 0-2.86zM5.41 20L4 18.59l7.72-7.72 1.47 1.35L5.41 20z\"/>\n",
              "  </svg>\n",
              "      </button>\n",
              "      \n",
              "  <style>\n",
              "    .colab-df-container {\n",
              "      display:flex;\n",
              "      flex-wrap:wrap;\n",
              "      gap: 12px;\n",
              "    }\n",
              "\n",
              "    .colab-df-convert {\n",
              "      background-color: #E8F0FE;\n",
              "      border: none;\n",
              "      border-radius: 50%;\n",
              "      cursor: pointer;\n",
              "      display: none;\n",
              "      fill: #1967D2;\n",
              "      height: 32px;\n",
              "      padding: 0 0 0 0;\n",
              "      width: 32px;\n",
              "    }\n",
              "\n",
              "    .colab-df-convert:hover {\n",
              "      background-color: #E2EBFA;\n",
              "      box-shadow: 0px 1px 2px rgba(60, 64, 67, 0.3), 0px 1px 3px 1px rgba(60, 64, 67, 0.15);\n",
              "      fill: #174EA6;\n",
              "    }\n",
              "\n",
              "    [theme=dark] .colab-df-convert {\n",
              "      background-color: #3B4455;\n",
              "      fill: #D2E3FC;\n",
              "    }\n",
              "\n",
              "    [theme=dark] .colab-df-convert:hover {\n",
              "      background-color: #434B5C;\n",
              "      box-shadow: 0px 1px 3px 1px rgba(0, 0, 0, 0.15);\n",
              "      filter: drop-shadow(0px 1px 2px rgba(0, 0, 0, 0.3));\n",
              "      fill: #FFFFFF;\n",
              "    }\n",
              "  </style>\n",
              "\n",
              "      <script>\n",
              "        const buttonEl =\n",
              "          document.querySelector('#df-c78a3ef1-dbfd-4466-b99a-3c079b981e03 button.colab-df-convert');\n",
              "        buttonEl.style.display =\n",
              "          google.colab.kernel.accessAllowed ? 'block' : 'none';\n",
              "\n",
              "        async function convertToInteractive(key) {\n",
              "          const element = document.querySelector('#df-c78a3ef1-dbfd-4466-b99a-3c079b981e03');\n",
              "          const dataTable =\n",
              "            await google.colab.kernel.invokeFunction('convertToInteractive',\n",
              "                                                     [key], {});\n",
              "          if (!dataTable) return;\n",
              "\n",
              "          const docLinkHtml = 'Like what you see? Visit the ' +\n",
              "            '<a target=\"_blank\" href=https://colab.research.google.com/notebooks/data_table.ipynb>data table notebook</a>'\n",
              "            + ' to learn more about interactive tables.';\n",
              "          element.innerHTML = '';\n",
              "          dataTable['output_type'] = 'display_data';\n",
              "          await google.colab.output.renderOutput(dataTable, element);\n",
              "          const docLink = document.createElement('div');\n",
              "          docLink.innerHTML = docLinkHtml;\n",
              "          element.appendChild(docLink);\n",
              "        }\n",
              "      </script>\n",
              "    </div>\n",
              "  </div>\n",
              "  "
            ]
          },
          "metadata": {},
          "execution_count": 18
        }
      ]
    },
    {
      "cell_type": "code",
      "source": [
        "df_test=df_uno.copy()"
      ],
      "metadata": {
        "id": "mo1ZBK0bUeg8"
      },
      "execution_count": null,
      "outputs": []
    },
    {
      "cell_type": "markdown",
      "source": [
        "Reservo al participante 5 para test"
      ],
      "metadata": {
        "id": "Wm6ns6tgK8qm"
      }
    },
    {
      "cell_type": "code",
      "source": [
        "df_test=df[df.persona=='005']"
      ],
      "metadata": {
        "id": "jC-iKi3ELEe8"
      },
      "execution_count": 11,
      "outputs": []
    },
    {
      "cell_type": "code",
      "source": [
        "df_train=df[~df.file_path.isin(df_test.file_path)]"
      ],
      "metadata": {
        "id": "Y2erA3lJUnYy"
      },
      "execution_count": 12,
      "outputs": []
    },
    {
      "cell_type": "code",
      "source": [
        "#df_uno[df_uno.mano_y=='left']['file_path_y'][113]"
      ],
      "metadata": {
        "id": "gsUVoHoASjGa"
      },
      "execution_count": null,
      "outputs": []
    },
    {
      "cell_type": "code",
      "source": [
        "#df_uno['file_path_y'][0]"
      ],
      "metadata": {
        "id": "pbyCX4GjS5BE"
      },
      "execution_count": null,
      "outputs": []
    },
    {
      "cell_type": "code",
      "source": [
        "4299-(91+260)\n"
      ],
      "metadata": {
        "id": "c_PA_1zJP-5t",
        "outputId": "8d1be20c-ffcb-463a-c990-3f501a988247",
        "colab": {
          "base_uri": "https://localhost:8080/"
        }
      },
      "execution_count": null,
      "outputs": [
        {
          "output_type": "execute_result",
          "data": {
            "text/plain": [
              "3948"
            ]
          },
          "metadata": {},
          "execution_count": 23
        }
      ]
    },
    {
      "cell_type": "code",
      "source": [
        "3948/4"
      ],
      "metadata": {
        "id": "xOgnrA8aQRIZ",
        "outputId": "20a3d86d-d83a-4065-f72e-fd46a43db40f",
        "colab": {
          "base_uri": "https://localhost:8080/"
        }
      },
      "execution_count": null,
      "outputs": [
        {
          "output_type": "execute_result",
          "data": {
            "text/plain": [
              "987.0"
            ]
          },
          "metadata": {},
          "execution_count": 24
        }
      ]
    },
    {
      "cell_type": "code",
      "source": [
        "(3870)/4"
      ],
      "metadata": {
        "id": "-aQU1mJTLTjD",
        "outputId": "57a533de-3758-4f02-8f91-7bfdaf8dd386",
        "colab": {
          "base_uri": "https://localhost:8080/"
        }
      },
      "execution_count": 17,
      "outputs": [
        {
          "output_type": "execute_result",
          "data": {
            "text/plain": [
              "967.5"
            ]
          },
          "metadata": {},
          "execution_count": 17
        }
      ]
    },
    {
      "cell_type": "markdown",
      "source": [
        "Lotes de 4"
      ],
      "metadata": {
        "id": "QJWBpRi2y4Yi"
      }
    },
    {
      "cell_type": "code",
      "source": [
        "batch=967\n",
        "batch_size=4\n",
        "cant_train=batch*batch_size \n",
        "n_test=len(df)-cant_train\n",
        "print('entrenamiento:',cant_train, 'testing:', n_test,'-', (len(df)-cant_train)/cant_train,'%')\n",
        "print('cantidad batch:',batch,'batch_size:', cant_train / batch)"
      ],
      "metadata": {
        "colab": {
          "base_uri": "https://localhost:8080/"
        },
        "id": "t14Df5RyGyZ8",
        "outputId": "be76c1e9-8327-4ef4-81f8-b1881f3618c3"
      },
      "execution_count": 18,
      "outputs": [
        {
          "output_type": "stream",
          "name": "stdout",
          "text": [
            "entrenamiento: 3868 testing: 431 - 0.11142709410548086 %\n",
            "cantidad batch: 967 batch_size: 4.0\n"
          ]
        }
      ]
    },
    {
      "cell_type": "code",
      "source": [
        "#X_train_index, X_test_index, y_train, y_test = train_test_split(df.index, df.ID, stratify=df.ID, test_size=n_test,random_state=0)\n",
        "\n",
        "#df_train=df.loc[sorted(X_train_index)]\n",
        "\n",
        "#df_test=df.loc[sorted(X_test_index)]\n",
        "\n",
        "#df_train_batch=df_train_reordenar(df_train,cant_train,batch)"
      ],
      "metadata": {
        "id": "e_LkKO0V6_n1"
      },
      "execution_count": null,
      "outputs": []
    },
    {
      "cell_type": "markdown",
      "source": [
        "Separo en conjuntos de acuerdo. "
      ],
      "metadata": {
        "id": "S692gallurzn"
      }
    },
    {
      "cell_type": "code",
      "source": [
        "df_train_batch=df_train_reordenar(df_train,cant_train,batch)"
      ],
      "metadata": {
        "id": "MoP_pwHK87lD"
      },
      "execution_count": 19,
      "outputs": []
    },
    {
      "cell_type": "code",
      "source": [
        "df_train_batch[df_train_batch.mano=='left'].loc[1638]"
      ],
      "metadata": {
        "colab": {
          "base_uri": "https://localhost:8080/"
        },
        "id": "uxfRzelHzZBZ",
        "outputId": "115aed41-e50d-4e94-a133-0e36106206df"
      },
      "execution_count": 20,
      "outputs": [
        {
          "output_type": "execute_result",
          "data": {
            "text/plain": [
              "file_path     /content/dataset/lsa64_hand_videos/031_009_005...\n",
              "ID                                                           31\n",
              "persona                                                     009\n",
              "repeticion                                                  005\n",
              "mano                                                       left\n",
              "id_name                                               Breakfast\n",
              "Name: 1638, dtype: object"
            ]
          },
          "metadata": {},
          "execution_count": 20
        }
      ]
    },
    {
      "cell_type": "code",
      "source": [
        "df_train_batch[((df_train_batch.ID==31)&(df_train_batch.persona=='009')&(df_train_batch.repeticion=='005'))]"
      ],
      "metadata": {
        "colab": {
          "base_uri": "https://localhost:8080/",
          "height": 112
        },
        "id": "7zPQcnsqzsah",
        "outputId": "c7a92943-35c8-434c-ee67-f770889cb11b"
      },
      "execution_count": 21,
      "outputs": [
        {
          "output_type": "execute_result",
          "data": {
            "text/plain": [
              "                                              file_path  ID persona  \\\n",
              "1639  /content/dataset/lsa64_hand_videos/031_009_005...  31     009   \n",
              "1638  /content/dataset/lsa64_hand_videos/031_009_005...  31     009   \n",
              "\n",
              "     repeticion   mano    id_name  \n",
              "1639        005  right  Breakfast  \n",
              "1638        005   left  Breakfast  "
            ],
            "text/html": [
              "\n",
              "  <div id=\"df-c86c6e22-0e5f-4e4d-8efd-40f5fdaed266\">\n",
              "    <div class=\"colab-df-container\">\n",
              "      <div>\n",
              "<style scoped>\n",
              "    .dataframe tbody tr th:only-of-type {\n",
              "        vertical-align: middle;\n",
              "    }\n",
              "\n",
              "    .dataframe tbody tr th {\n",
              "        vertical-align: top;\n",
              "    }\n",
              "\n",
              "    .dataframe thead th {\n",
              "        text-align: right;\n",
              "    }\n",
              "</style>\n",
              "<table border=\"1\" class=\"dataframe\">\n",
              "  <thead>\n",
              "    <tr style=\"text-align: right;\">\n",
              "      <th></th>\n",
              "      <th>file_path</th>\n",
              "      <th>ID</th>\n",
              "      <th>persona</th>\n",
              "      <th>repeticion</th>\n",
              "      <th>mano</th>\n",
              "      <th>id_name</th>\n",
              "    </tr>\n",
              "  </thead>\n",
              "  <tbody>\n",
              "    <tr>\n",
              "      <th>1639</th>\n",
              "      <td>/content/dataset/lsa64_hand_videos/031_009_005...</td>\n",
              "      <td>31</td>\n",
              "      <td>009</td>\n",
              "      <td>005</td>\n",
              "      <td>right</td>\n",
              "      <td>Breakfast</td>\n",
              "    </tr>\n",
              "    <tr>\n",
              "      <th>1638</th>\n",
              "      <td>/content/dataset/lsa64_hand_videos/031_009_005...</td>\n",
              "      <td>31</td>\n",
              "      <td>009</td>\n",
              "      <td>005</td>\n",
              "      <td>left</td>\n",
              "      <td>Breakfast</td>\n",
              "    </tr>\n",
              "  </tbody>\n",
              "</table>\n",
              "</div>\n",
              "      <button class=\"colab-df-convert\" onclick=\"convertToInteractive('df-c86c6e22-0e5f-4e4d-8efd-40f5fdaed266')\"\n",
              "              title=\"Convert this dataframe to an interactive table.\"\n",
              "              style=\"display:none;\">\n",
              "        \n",
              "  <svg xmlns=\"http://www.w3.org/2000/svg\" height=\"24px\"viewBox=\"0 0 24 24\"\n",
              "       width=\"24px\">\n",
              "    <path d=\"M0 0h24v24H0V0z\" fill=\"none\"/>\n",
              "    <path d=\"M18.56 5.44l.94 2.06.94-2.06 2.06-.94-2.06-.94-.94-2.06-.94 2.06-2.06.94zm-11 1L8.5 8.5l.94-2.06 2.06-.94-2.06-.94L8.5 2.5l-.94 2.06-2.06.94zm10 10l.94 2.06.94-2.06 2.06-.94-2.06-.94-.94-2.06-.94 2.06-2.06.94z\"/><path d=\"M17.41 7.96l-1.37-1.37c-.4-.4-.92-.59-1.43-.59-.52 0-1.04.2-1.43.59L10.3 9.45l-7.72 7.72c-.78.78-.78 2.05 0 2.83L4 21.41c.39.39.9.59 1.41.59.51 0 1.02-.2 1.41-.59l7.78-7.78 2.81-2.81c.8-.78.8-2.07 0-2.86zM5.41 20L4 18.59l7.72-7.72 1.47 1.35L5.41 20z\"/>\n",
              "  </svg>\n",
              "      </button>\n",
              "      \n",
              "  <style>\n",
              "    .colab-df-container {\n",
              "      display:flex;\n",
              "      flex-wrap:wrap;\n",
              "      gap: 12px;\n",
              "    }\n",
              "\n",
              "    .colab-df-convert {\n",
              "      background-color: #E8F0FE;\n",
              "      border: none;\n",
              "      border-radius: 50%;\n",
              "      cursor: pointer;\n",
              "      display: none;\n",
              "      fill: #1967D2;\n",
              "      height: 32px;\n",
              "      padding: 0 0 0 0;\n",
              "      width: 32px;\n",
              "    }\n",
              "\n",
              "    .colab-df-convert:hover {\n",
              "      background-color: #E2EBFA;\n",
              "      box-shadow: 0px 1px 2px rgba(60, 64, 67, 0.3), 0px 1px 3px 1px rgba(60, 64, 67, 0.15);\n",
              "      fill: #174EA6;\n",
              "    }\n",
              "\n",
              "    [theme=dark] .colab-df-convert {\n",
              "      background-color: #3B4455;\n",
              "      fill: #D2E3FC;\n",
              "    }\n",
              "\n",
              "    [theme=dark] .colab-df-convert:hover {\n",
              "      background-color: #434B5C;\n",
              "      box-shadow: 0px 1px 3px 1px rgba(0, 0, 0, 0.15);\n",
              "      filter: drop-shadow(0px 1px 2px rgba(0, 0, 0, 0.3));\n",
              "      fill: #FFFFFF;\n",
              "    }\n",
              "  </style>\n",
              "\n",
              "      <script>\n",
              "        const buttonEl =\n",
              "          document.querySelector('#df-c86c6e22-0e5f-4e4d-8efd-40f5fdaed266 button.colab-df-convert');\n",
              "        buttonEl.style.display =\n",
              "          google.colab.kernel.accessAllowed ? 'block' : 'none';\n",
              "\n",
              "        async function convertToInteractive(key) {\n",
              "          const element = document.querySelector('#df-c86c6e22-0e5f-4e4d-8efd-40f5fdaed266');\n",
              "          const dataTable =\n",
              "            await google.colab.kernel.invokeFunction('convertToInteractive',\n",
              "                                                     [key], {});\n",
              "          if (!dataTable) return;\n",
              "\n",
              "          const docLinkHtml = 'Like what you see? Visit the ' +\n",
              "            '<a target=\"_blank\" href=https://colab.research.google.com/notebooks/data_table.ipynb>data table notebook</a>'\n",
              "            + ' to learn more about interactive tables.';\n",
              "          element.innerHTML = '';\n",
              "          dataTable['output_type'] = 'display_data';\n",
              "          await google.colab.output.renderOutput(dataTable, element);\n",
              "          const docLink = document.createElement('div');\n",
              "          docLink.innerHTML = docLinkHtml;\n",
              "          element.appendChild(docLink);\n",
              "        }\n",
              "      </script>\n",
              "    </div>\n",
              "  </div>\n",
              "  "
            ]
          },
          "metadata": {},
          "execution_count": 21
        }
      ]
    },
    {
      "cell_type": "code",
      "source": [
        "%ls"
      ],
      "metadata": {
        "colab": {
          "base_uri": "https://localhost:8080/"
        },
        "id": "X1j_0uVvVH5k",
        "outputId": "dd53cd20-7248-4173-c97b-3a22b97a83f6"
      },
      "execution_count": null,
      "outputs": [
        {
          "output_type": "stream",
          "name": "stdout",
          "text": [
            "\u001b[0m\u001b[01;34mdataset\u001b[0m/  \u001b[01;34mdrive\u001b[0m/  \u001b[01;34msample_data\u001b[0m/  \u001b[01;34msrc\u001b[0m/\n"
          ]
        }
      ]
    },
    {
      "cell_type": "markdown",
      "source": [
        "# Data training - test"
      ],
      "metadata": {
        "id": "VKxQshAIEcD7"
      }
    },
    {
      "cell_type": "markdown",
      "source": [
        "Con la separación realizada se arman dos carpetas: train_data y test_data. Cada video fue convertido a un conjunto de imágenes de 1 solo canal, dentro de cada archivo.\n",
        "\n",
        "Referencia \n",
        "https://medium.com/video-classification-using-keras-and-tensorflow/action-recognition-and-video-classification-using-keras-and-tensorflow-56badcbe5f77"
      ],
      "metadata": {
        "id": "bswMPcPBw7bY"
      }
    },
    {
      "cell_type": "code",
      "source": [
        "video_capturing_function(df_train,'train_data')\n",
        "\n",
        "video_capturing_function(df_test,'test_data')"
      ],
      "metadata": {
        "colab": {
          "base_uri": "https://localhost:8080/"
        },
        "id": "4rsAXnEy4hpc",
        "outputId": "bfd3a2c2-9ae5-4595-8a4f-001fcf88485d"
      },
      "execution_count": 22,
      "outputs": [
        {
          "output_type": "stream",
          "name": "stdout",
          "text": [
            "All frames written in the: train_data Folder\n",
            "All frames written in the: test_data Folder\n"
          ]
        }
      ]
    },
    {
      "cell_type": "code",
      "source": [
        "gc.collect()"
      ],
      "metadata": {
        "id": "KZJrF02cAAyV",
        "colab": {
          "base_uri": "https://localhost:8080/"
        },
        "outputId": "05445d9d-aa5d-45d0-e602-ebfd30300a43"
      },
      "execution_count": 25,
      "outputs": [
        {
          "output_type": "execute_result",
          "data": {
            "text/plain": [
              "88"
            ]
          },
          "metadata": {},
          "execution_count": 25
        }
      ]
    },
    {
      "cell_type": "code",
      "source": [
        "DIR = '/content/train_data'\n",
        "lista_imagenes=os.listdir(DIR)"
      ],
      "metadata": {
        "id": "0B23MjhMNnMB"
      },
      "execution_count": 59,
      "outputs": []
    },
    {
      "cell_type": "code",
      "source": [
        "meta=[]\n",
        "for carpeta in lista_imagenes:\n",
        "   cantidad_frames=len(os.listdir(os.path.join(DIR, carpeta)))\n",
        "   filename_parts = carpeta.split('_')\n",
        "   metadata = {'file_path': carpeta,\n",
        "              'ID': filename_parts[0],\n",
        "              'persona': filename_parts[1],\n",
        "              'repeticion': filename_parts[2],\n",
        "              'mano': filename_parts[3],\n",
        "              'cantidad_frames':cantidad_frames,\n",
        "              }\n",
        "   meta.append(metadata)\n",
        "\n",
        "df_duracion=pd.DataFrame(meta)"
      ],
      "metadata": {
        "id": "qYsSqlBNNNKg"
      },
      "execution_count": 63,
      "outputs": []
    },
    {
      "cell_type": "code",
      "source": [
        "sns.boxplot(df_duracion[df_duracion.ID=='001'].cantidad_frames)"
      ],
      "metadata": {
        "id": "VdOxHzegQ4Nq",
        "outputId": "5a1625a5-a477-4945-c051-8f297b96e562",
        "colab": {
          "base_uri": "https://localhost:8080/",
          "height": 352
        }
      },
      "execution_count": 69,
      "outputs": [
        {
          "output_type": "stream",
          "name": "stderr",
          "text": [
            "/usr/local/lib/python3.7/dist-packages/seaborn/_decorators.py:43: FutureWarning: Pass the following variable as a keyword arg: x. From version 0.12, the only valid positional argument will be `data`, and passing other arguments without an explicit keyword will result in an error or misinterpretation.\n",
            "  FutureWarning\n"
          ]
        },
        {
          "output_type": "execute_result",
          "data": {
            "text/plain": [
              "<matplotlib.axes._subplots.AxesSubplot at 0x7f56c595b310>"
            ]
          },
          "metadata": {},
          "execution_count": 69
        },
        {
          "output_type": "display_data",
          "data": {
            "text/plain": [
              "<Figure size 432x288 with 1 Axes>"
            ],
            "image/png": "[encoded data removed]"
          },
          "metadata": {
            "needs_background": "light"
          }
        }
      ]
    },
    {
      "cell_type": "code",
      "source": [
        "import seaborn as sns\n",
        "sns.boxplot(y='cantidad_frames', x='ID', \n",
        "                 data=df_duracion, \n",
        "                 palette=\"colorblind\",\n",
        "                 hue='year')"
      ],
      "metadata": {
        "id": "vgK4nw6_R6kd",
        "outputId": "0f76216b-a657-4553-8a47-493e5aa56814",
        "colab": {
          "base_uri": "https://localhost:8080/",
          "height": 235
        }
      },
      "execution_count": 2,
      "outputs": [
        {
          "output_type": "error",
          "ename": "NameError",
          "evalue": "ignored",
          "traceback": [
            "\u001b[0;31m---------------------------------------------------------------------------\u001b[0m",
            "\u001b[0;31mNameError\u001b[0m                                 Traceback (most recent call last)",
            "\u001b[0;32m<ipython-input-2-82bd0e04c24c>\u001b[0m in \u001b[0;36m<module>\u001b[0;34m()\u001b[0m\n\u001b[1;32m      1\u001b[0m \u001b[0;32mimport\u001b[0m \u001b[0mseaborn\u001b[0m \u001b[0;32mas\u001b[0m \u001b[0msns\u001b[0m\u001b[0;34m\u001b[0m\u001b[0;34m\u001b[0m\u001b[0m\n\u001b[1;32m      2\u001b[0m sns.boxplot(y='cantidad_frames', x='ID', \n\u001b[0;32m----> 3\u001b[0;31m                  \u001b[0mdata\u001b[0m\u001b[0;34m=\u001b[0m\u001b[0mdf_duracion\u001b[0m\u001b[0;34m,\u001b[0m\u001b[0;34m\u001b[0m\u001b[0;34m\u001b[0m\u001b[0m\n\u001b[0m\u001b[1;32m      4\u001b[0m                  \u001b[0mpalette\u001b[0m\u001b[0;34m=\u001b[0m\u001b[0;34m\"colorblind\"\u001b[0m\u001b[0;34m,\u001b[0m\u001b[0;34m\u001b[0m\u001b[0;34m\u001b[0m\u001b[0m\n\u001b[1;32m      5\u001b[0m                  hue='year')\n",
            "\u001b[0;31mNameError\u001b[0m: name 'df_duracion' is not defined"
          ]
        }
      ]
    },
    {
      "cell_type": "markdown",
      "source": [
        "### Ejemplo \n",
        "Imágenes de uno de los videos"
      ],
      "metadata": {
        "id": "YL2fUa4mxPMN"
      }
    },
    {
      "cell_type": "code",
      "source": [
        "rows,cols = 5,8\n",
        "f,ax=plt.subplots(rows,cols,figsize=(rows*2,cols*1))\n",
        "for i in range(rows):\n",
        "  for j in range(cols):\n",
        "    x = (io.imread(\"/content/train_data/001_001_001_right/frame\"+str(i*5+j)+\".jpg\")/255.0).astype('float32')\n",
        "    ax[i,j].imshow(x,cmap='plasma')#,vmin=0,vmax=1) #plasma\n",
        "    ax[i,j].axis('off')"
      ],
      "metadata": {
        "colab": {
          "base_uri": "https://localhost:8080/",
          "height": 450
        },
        "id": "gTGAL6fTttbV",
        "outputId": "aa30eeaa-acee-465e-a358-c7054fb6660a"
      },
      "execution_count": null,
      "outputs": [
        {
          "output_type": "display_data",
          "data": {
            "text/plain": [
              "<Figure size 720x576 with 40 Axes>"
            ],
            "image/png": "[encoded data removed]"
          },
          "metadata": {
            "needs_background": "light"
          }
        }
      ]
    },
    {
      "cell_type": "code",
      "source": [
        "imagen0=(io.imread(\"/content/train_data/001_001_001_right/frame0.jpg\")/255.0).astype('float32')\n",
        "plt.imshow(imagen0)\n",
        "\n",
        "print(\"Dimensiones de la imagen:\")\n",
        "plt.imshow(imagen0,cmap='plasma')#vmin=0,vmax=1)\n",
        "plt.title(\"Detalle - frame0\")\n",
        "plt.figure()"
      ],
      "metadata": {
        "id": "A9Zi6-c9WPJO",
        "outputId": "00c3e132-b7ce-463a-8668-3616391199d1",
        "colab": {
          "base_uri": "https://localhost:8080/",
          "height": 333
        }
      },
      "execution_count": null,
      "outputs": [
        {
          "output_type": "stream",
          "name": "stdout",
          "text": [
            "Dimensiones de la imagen:\n"
          ]
        },
        {
          "output_type": "execute_result",
          "data": {
            "text/plain": [
              "<Figure size 432x288 with 0 Axes>"
            ]
          },
          "metadata": {},
          "execution_count": 34
        },
        {
          "output_type": "display_data",
          "data": {
            "text/plain": [
              "<Figure size 432x288 with 1 Axes>"
            ],
            "image/png": "[encoded data removed]"
          },
          "metadata": {
            "needs_background": "light"
          }
        },
        {
          "output_type": "display_data",
          "data": {
            "text/plain": [
              "<Figure size 432x288 with 0 Axes>"
            ]
          },
          "metadata": {}
        }
      ]
    },
    {
      "cell_type": "markdown",
      "source": [
        "### Obtención de tensores \n",
        "\n",
        "**Funcion \"data_load_frames_save_tf\"**\n",
        "\n",
        "Proceso los videos y selecciono 32 frames del total de videos de forma aleatoria, en caso que los videos tengan menos frames repito el último hasta completar los 32.\n",
        "\n",
        "Los frames de cada video (imágenes) se pasan a tensores de numpy para que cuando se desee cargar lotes no se tenga que procesar imagenes sino leer archivos numpy previamente salvados. Los tensores son grabados en float32 para reducir el tamaño de archivos.\n",
        "\n",
        "La función borra además las imágenes para no sobrecargar el disco de la máqunia del colab.\n",
        "\n",
        "Los archivos de los tensores de numpy se guardan en **train_data** y **test_data**"
      ],
      "metadata": {
        "id": "hFYrdTc25V5y"
      }
    },
    {
      "cell_type": "code",
      "source": [
        "data_load_frames_save_tf(df_test,'test_data',32)\n",
        "data_load_frames_save_tf(df_train,'train_data',32)"
      ],
      "metadata": {
        "id": "CbSUc0dy0Shl"
      },
      "execution_count": null,
      "outputs": []
    },
    {
      "cell_type": "code",
      "source": [
        "gc.collect()"
      ],
      "metadata": {
        "colab": {
          "base_uri": "https://localhost:8080/"
        },
        "id": "zNVprE3nseDx",
        "outputId": "c4eb39b8-e965-4d43-d9a5-e31fd9051fd1"
      },
      "execution_count": null,
      "outputs": [
        {
          "output_type": "execute_result",
          "data": {
            "text/plain": [
              "142"
            ]
          },
          "metadata": {},
          "execution_count": 36
        }
      ]
    },
    {
      "cell_type": "markdown",
      "source": [
        "# Modelo Convolucional 3D \n"
      ],
      "metadata": {
        "id": "BS6rzySu-CMh"
      }
    },
    {
      "cell_type": "code",
      "source": [
        "test_dataset_new=load_data_from_tf(df_test,\"test_data\")"
      ],
      "metadata": {
        "id": "I-sZ2axmHHfx"
      },
      "execution_count": null,
      "outputs": []
    },
    {
      "cell_type": "code",
      "source": [
        "test_dataset_new.shape"
      ],
      "metadata": {
        "id": "MS-Rqp157HyD",
        "outputId": "691b48cf-2d48-4d34-ad17-3d0848be40f7",
        "colab": {
          "base_uri": "https://localhost:8080/"
        }
      },
      "execution_count": null,
      "outputs": [
        {
          "output_type": "execute_result",
          "data": {
            "text/plain": [
              "(351, 32, 128, 128)"
            ]
          },
          "metadata": {},
          "execution_count": 38
        }
      ]
    },
    {
      "cell_type": "code",
      "source": [
        "a=np.array(df_test.ID)\n",
        "y_test = tf.keras.utils.to_categorical(a-1, num_classes =np.max(df_test.ID))\n",
        "\n",
        "model_output_size=len(df_test.ID.unique())\n",
        "model_output_size"
      ],
      "metadata": {
        "id": "1SD1b-Afndn9",
        "colab": {
          "base_uri": "https://localhost:8080/"
        },
        "outputId": "2ee7170d-cc8e-41a4-ea37-54a6add15f11"
      },
      "execution_count": null,
      "outputs": [
        {
          "output_type": "execute_result",
          "data": {
            "text/plain": [
              "64"
            ]
          },
          "metadata": {},
          "execution_count": 39
        }
      ]
    },
    {
      "cell_type": "markdown",
      "source": [
        "Conv2D(stride_temporal=2)->\n",
        "Conv2D(stride_temporal=2,stride_espacial=2) -> Conv2D(stride_temporal=2) -> Conv2D(stride_temporal=2,stride_espacial=2)"
      ],
      "metadata": {
        "id": "uvlg-7hT26d4"
      }
    },
    {
      "cell_type": "code",
      "source": [
        "nf=32\n",
        "w=128 \n",
        "h=128\n",
        "\n",
        "from sklearn.model_selection import train_test_split\n",
        "\n",
        "from tensorflow.keras.layers import *\n",
        "from tensorflow.keras.models import Sequential\n",
        "from tensorflow.keras.utils import to_categorical\n",
        "from tensorflow.keras.callbacks import EarlyStopping\n",
        "from tensorflow.keras.utils import plot_model\n",
        "\n",
        "def create_model():\n",
        "\n",
        "    model = Sequential()\n",
        "\n",
        "    model.add(Conv3D(filters = 32, kernel_size = (3, 3,3), strides=(2,1,1), padding='same', activation = 'relu', input_shape = (nf,w, h, 1)))\n",
        "    model.add(Conv3D(filters = 32, kernel_size = (3, 3,3),strides=(2,2,2), padding='same', activation = 'relu'))\n",
        "    model.add(Conv3D(filters = 32, kernel_size = (3, 3,3),strides=(2,1,1), padding='same', activation = 'relu'))\n",
        "    model.add(Conv3D(filters = 64, kernel_size = (3, 3,3),strides=(2,2,2), padding='same', activation = 'relu')) \n",
        "    \n",
        "    model.add(BatchNormalization())\n",
        "    model.add(MaxPooling3D(pool_size = (2, 2,2)))\n",
        "    model.add(GlobalAveragePooling3D())\n",
        "\n",
        "    model.add(Dense(model_output_size, activation = 'softmax'))\n",
        "\n",
        "    model.summary()\n",
        "\n",
        "    return model\n",
        "\n",
        "\n",
        "model = create_model()\n",
        "\n",
        "print(\"Model Created Successfully!\")"
      ],
      "metadata": {
        "colab": {
          "base_uri": "https://localhost:8080/"
        },
        "id": "DBBg19_8WMQL",
        "outputId": "9cdf0bb4-0f6e-4610-e9f2-aeaf1e1f6cb3"
      },
      "execution_count": null,
      "outputs": [
        {
          "output_type": "stream",
          "name": "stdout",
          "text": [
            "Model: \"sequential\"\n",
            "_________________________________________________________________\n",
            " Layer (type)                Output Shape              Param #   \n",
            "=================================================================\n",
            " conv3d (Conv3D)             (None, 16, 128, 128, 32)  896       \n",
            "                                                                 \n",
            " conv3d_1 (Conv3D)           (None, 8, 64, 64, 32)     27680     \n",
            "                                                                 \n",
            " conv3d_2 (Conv3D)           (None, 4, 64, 64, 32)     27680     \n",
            "                                                                 \n",
            " conv3d_3 (Conv3D)           (None, 2, 32, 32, 64)     55360     \n",
            "                                                                 \n",
            " batch_normalization (BatchN  (None, 2, 32, 32, 64)    256       \n",
            " ormalization)                                                   \n",
            "                                                                 \n",
            " max_pooling3d (MaxPooling3D  (None, 1, 16, 16, 64)    0         \n",
            " )                                                               \n",
            "                                                                 \n",
            " global_average_pooling3d (G  (None, 64)               0         \n",
            " lobalAveragePooling3D)                                          \n",
            "                                                                 \n",
            " dense (Dense)               (None, 64)                4160      \n",
            "                                                                 \n",
            "=================================================================\n",
            "Total params: 116,032\n",
            "Trainable params: 115,904\n",
            "Non-trainable params: 128\n",
            "_________________________________________________________________\n",
            "Model Created Successfully!\n"
          ]
        }
      ]
    },
    {
      "cell_type": "code",
      "source": [
        "plot_model(model, to_file = 'model_structure_plot.png', show_shapes = True, show_layer_names = True)"
      ],
      "metadata": {
        "colab": {
          "base_uri": "https://localhost:8080/",
          "height": 976
        },
        "id": "xNrwGrS1-5Cf",
        "outputId": "b7c62ddb-80eb-4898-c91c-2250d6fa3d60"
      },
      "execution_count": null,
      "outputs": [
        {
          "output_type": "execute_result",
          "data": {
            "text/plain": [
              "<IPython.core.display.Image object>"
            ],
            "image/png": "[encoded data removed]"
          },
          "metadata": {},
          "execution_count": 41
        }
      ]
    },
    {
      "cell_type": "markdown",
      "source": [
        "### Entrenamiento con Custom Sequence \n",
        "\n",
        "La función CustomSequence carga cada lote con 128 tensores numpy guardados en la carpeta train_data (nombre de archivo.npy) usando la función \n",
        "**load_data_from_tf**. "
      ],
      "metadata": {
        "id": "Ys4U6x4F1nMN"
      }
    },
    {
      "cell_type": "code",
      "source": [
        "# Adding Early Stopping Callback\n",
        "early_stopping_callback = EarlyStopping(monitor = 'val_loss', patience = 15, mode = 'min', restore_best_weights = True)\n",
        "\n",
        "# Adding loss, optimizer and metrics values to the model.\n",
        "model.compile(loss = 'categorical_crossentropy', optimizer = 'Adam', metrics = [\"accuracy\"])\n",
        "\n",
        "# usando generador custom\n",
        "model_training_history = model.fit(CustomSequence(4), epochs=40 , validation_data=(test_dataset_new,y_test), callbacks = [early_stopping_callback]) #, shuffle = True"
      ],
      "metadata": {
        "id": "hxNtGFKY_Hoy",
        "colab": {
          "base_uri": "https://localhost:8080/"
        },
        "outputId": "b1a5acb6-3f94-4459-d875-3334c8612a5d"
      },
      "execution_count": null,
      "outputs": [
        {
          "output_type": "stream",
          "name": "stdout",
          "text": [
            "Epoch 1/40\n",
            "987/987 [==============================] - 71s 60ms/step - loss: 3.8097 - accuracy: 0.0565 - val_loss: 3.5532 - val_accuracy: 0.0912\n",
            "Epoch 2/40\n",
            "987/987 [==============================] - 59s 60ms/step - loss: 3.3840 - accuracy: 0.1264 - val_loss: 3.1853 - val_accuracy: 0.1624\n",
            "Epoch 3/40\n",
            "987/987 [==============================] - 58s 59ms/step - loss: 3.0026 - accuracy: 0.2171 - val_loss: 2.7557 - val_accuracy: 0.2678\n",
            "Epoch 4/40\n",
            "987/987 [==============================] - 59s 59ms/step - loss: 2.6284 - accuracy: 0.3002 - val_loss: 2.3807 - val_accuracy: 0.3390\n",
            "Epoch 5/40\n",
            "987/987 [==============================] - 57s 58ms/step - loss: 2.3084 - accuracy: 0.3837 - val_loss: 2.1212 - val_accuracy: 0.4131\n",
            "Epoch 6/40\n",
            "987/987 [==============================] - 58s 58ms/step - loss: 2.0228 - accuracy: 0.4397 - val_loss: 2.0017 - val_accuracy: 0.4587\n",
            "Epoch 7/40\n",
            "987/987 [==============================] - 114s 116ms/step - loss: 1.7477 - accuracy: 0.5284 - val_loss: 1.7360 - val_accuracy: 0.5014\n",
            "Epoch 8/40\n",
            "987/987 [==============================] - 136s 137ms/step - loss: 1.5018 - accuracy: 0.5983 - val_loss: 1.5667 - val_accuracy: 0.5356\n",
            "Epoch 9/40\n",
            "987/987 [==============================] - 162s 164ms/step - loss: 1.2887 - accuracy: 0.6596 - val_loss: 1.4226 - val_accuracy: 0.6154\n",
            "Epoch 10/40\n",
            "987/987 [==============================] - 157s 159ms/step - loss: 1.0762 - accuracy: 0.7171 - val_loss: 1.3060 - val_accuracy: 0.6154\n",
            "Epoch 11/40\n",
            "987/987 [==============================] - 162s 164ms/step - loss: 0.9069 - accuracy: 0.7576 - val_loss: 1.1950 - val_accuracy: 0.6211\n",
            "Epoch 12/40\n",
            "987/987 [==============================] - 156s 158ms/step - loss: 0.7641 - accuracy: 0.8009 - val_loss: 1.1191 - val_accuracy: 0.6638\n",
            "Epoch 13/40\n",
            "987/987 [==============================] - 160s 163ms/step - loss: 0.6260 - accuracy: 0.8498 - val_loss: 1.0416 - val_accuracy: 0.6952\n",
            "Epoch 14/40\n",
            "987/987 [==============================] - 163s 165ms/step - loss: 0.5219 - accuracy: 0.8736 - val_loss: 1.0867 - val_accuracy: 0.7009\n",
            "Epoch 15/40\n",
            "987/987 [==============================] - 161s 163ms/step - loss: 0.4258 - accuracy: 0.9027 - val_loss: 1.0776 - val_accuracy: 0.6809\n",
            "Epoch 16/40\n",
            "987/987 [==============================] - 157s 159ms/step - loss: 0.3375 - accuracy: 0.9293 - val_loss: 0.9766 - val_accuracy: 0.6866\n",
            "Epoch 17/40\n",
            "987/987 [==============================] - 160s 162ms/step - loss: 0.2644 - accuracy: 0.9519 - val_loss: 0.9536 - val_accuracy: 0.7293\n",
            "Epoch 18/40\n",
            "987/987 [==============================] - 162s 164ms/step - loss: 0.2246 - accuracy: 0.9600 - val_loss: 1.0376 - val_accuracy: 0.7151\n",
            "Epoch 19/40\n",
            "987/987 [==============================] - 162s 164ms/step - loss: 0.1817 - accuracy: 0.9719 - val_loss: 1.1528 - val_accuracy: 0.7236\n",
            "Epoch 20/40\n",
            "987/987 [==============================] - 164s 166ms/step - loss: 0.1330 - accuracy: 0.9810 - val_loss: 1.1773 - val_accuracy: 0.6952\n",
            "Epoch 21/40\n",
            "987/987 [==============================] - 167s 170ms/step - loss: 0.1392 - accuracy: 0.9742 - val_loss: 1.0028 - val_accuracy: 0.7350\n",
            "Epoch 22/40\n",
            "987/987 [==============================] - 161s 163ms/step - loss: 0.0722 - accuracy: 0.9949 - val_loss: 1.1493 - val_accuracy: 0.7066\n",
            "Epoch 23/40\n",
            "987/987 [==============================] - 163s 165ms/step - loss: 0.0689 - accuracy: 0.9911 - val_loss: 1.2968 - val_accuracy: 0.6866\n",
            "Epoch 24/40\n",
            "987/987 [==============================] - 164s 166ms/step - loss: 0.1477 - accuracy: 0.9663 - val_loss: 1.0913 - val_accuracy: 0.7379\n",
            "Epoch 25/40\n",
            "987/987 [==============================] - 160s 162ms/step - loss: 0.0460 - accuracy: 0.9967 - val_loss: 0.9280 - val_accuracy: 0.7635\n",
            "Epoch 26/40\n",
            "987/987 [==============================] - 161s 163ms/step - loss: 0.0170 - accuracy: 1.0000 - val_loss: 0.8178 - val_accuracy: 0.7977\n",
            "Epoch 27/40\n",
            "987/987 [==============================] - 160s 163ms/step - loss: 0.0108 - accuracy: 1.0000 - val_loss: 0.8792 - val_accuracy: 0.7664\n",
            "Epoch 28/40\n",
            "987/987 [==============================] - 165s 167ms/step - loss: 0.0081 - accuracy: 1.0000 - val_loss: 0.8897 - val_accuracy: 0.7749\n",
            "Epoch 29/40\n",
            "987/987 [==============================] - 163s 165ms/step - loss: 0.2503 - accuracy: 0.9364 - val_loss: 1.8547 - val_accuracy: 0.6239\n",
            "Epoch 30/40\n",
            "987/987 [==============================] - 125s 127ms/step - loss: 0.1879 - accuracy: 0.9435 - val_loss: 1.0425 - val_accuracy: 0.7550\n",
            "Epoch 31/40\n",
            "987/987 [==============================] - 163s 165ms/step - loss: 0.0275 - accuracy: 0.9975 - val_loss: 0.9131 - val_accuracy: 0.7692\n",
            "Epoch 32/40\n",
            "987/987 [==============================] - 164s 167ms/step - loss: 0.0112 - accuracy: 0.9997 - val_loss: 0.8119 - val_accuracy: 0.7949\n",
            "Epoch 33/40\n",
            "987/987 [==============================] - 123s 125ms/step - loss: 0.0060 - accuracy: 1.0000 - val_loss: 0.8043 - val_accuracy: 0.8148\n",
            "Epoch 34/40\n",
            "987/987 [==============================] - 60s 61ms/step - loss: 0.0044 - accuracy: 1.0000 - val_loss: 0.8610 - val_accuracy: 0.7920\n",
            "Epoch 35/40\n",
            "987/987 [==============================] - 58s 59ms/step - loss: 0.0035 - accuracy: 1.0000 - val_loss: 0.8343 - val_accuracy: 0.7920\n",
            "Epoch 36/40\n",
            "987/987 [==============================] - 59s 60ms/step - loss: 0.0030 - accuracy: 1.0000 - val_loss: 0.8893 - val_accuracy: 0.8063\n",
            "Epoch 37/40\n",
            "987/987 [==============================] - 59s 59ms/step - loss: 0.3194 - accuracy: 0.9037 - val_loss: 0.9624 - val_accuracy: 0.7464\n",
            "Epoch 38/40\n",
            "987/987 [==============================] - 59s 60ms/step - loss: 0.0450 - accuracy: 0.9904 - val_loss: 0.9667 - val_accuracy: 0.7578\n",
            "Epoch 39/40\n",
            "987/987 [==============================] - 58s 59ms/step - loss: 0.0102 - accuracy: 1.0000 - val_loss: 0.8648 - val_accuracy: 0.7664\n",
            "Epoch 40/40\n",
            "987/987 [==============================] - 119s 121ms/step - loss: 0.0045 - accuracy: 1.0000 - val_loss: 0.8809 - val_accuracy: 0.7920\n"
          ]
        }
      ]
    },
    {
      "cell_type": "code",
      "source": [
        "print(\"Saving trained model..\")\n",
        "model.save('conv3d_lsa64.h5')\n",
        "print(\"Done.\")"
      ],
      "metadata": {
        "id": "BL5Dd0EM8Le4",
        "outputId": "e2f5643e-5232-4871-d66d-6062d552cb0b",
        "colab": {
          "base_uri": "https://localhost:8080/"
        }
      },
      "execution_count": null,
      "outputs": [
        {
          "output_type": "stream",
          "name": "stdout",
          "text": [
            "Saving trained model..\n",
            "Done.\n"
          ]
        }
      ]
    },
    {
      "cell_type": "code",
      "source": [
        "y_predict=model.predict(test_dataset_new)\n",
        "y_pred=prob2labels(y_predict)\n",
        "accuracy(np.array(df_test.ID)-1,y_pred)"
      ],
      "metadata": {
        "id": "eO_cRTBw0yyv",
        "outputId": "cccd5588-e40b-490c-f249-791694197d86",
        "colab": {
          "base_uri": "https://localhost:8080/"
        }
      },
      "execution_count": null,
      "outputs": [
        {
          "output_type": "execute_result",
          "data": {
            "text/plain": [
              "0.792022792022792"
            ]
          },
          "metadata": {},
          "execution_count": 60
        }
      ]
    },
    {
      "cell_type": "code",
      "source": [
        "confusion_calculada=confusion(np.array(df_test.ID)-1,y_pred).astype(int)\n",
        "names=df.id_name.unique()\n",
        "\n",
        "plt.figure(figsize=(12,10))\n",
        "import seaborn as sns\n",
        "confusion_normalizada=confusion_calculada / confusion_calculada.astype(np.float64).sum(axis=1)\n",
        "sns.heatmap(confusion_normalizada, cmap=\"Blues\") #,annot=True"
      ],
      "metadata": {
        "colab": {
          "base_uri": "https://localhost:8080/",
          "height": 613
        },
        "id": "z8YGZPssjzAs",
        "outputId": "f170e649-10be-42f5-c3f4-7c7b7b34343a"
      },
      "execution_count": null,
      "outputs": [
        {
          "output_type": "execute_result",
          "data": {
            "text/plain": [
              "<matplotlib.axes._subplots.AxesSubplot at 0x7f0d601fe450>"
            ]
          },
          "metadata": {},
          "execution_count": 99
        },
        {
          "output_type": "display_data",
          "data": {
            "text/plain": [
              "<Figure size 864x720 with 2 Axes>"
            ],
            "image/png": "[encoded data removed]"
          },
          "metadata": {
            "needs_background": "light"
          }
        }
      ]
    },
    {
      "cell_type": "code",
      "source": [
        "cantidades=pd.DataFrame(df_test.ID.value_counts())\n",
        "cantidades.sort_index(inplace=True)\n",
        "np.diag(cantidades.ID)"
      ],
      "metadata": {
        "id": "Uk1z_RlHGzV-",
        "outputId": "9fb3a36c-b120-44f4-f2df-fa53f7b5f0a7",
        "colab": {
          "base_uri": "https://localhost:8080/"
        }
      },
      "execution_count": null,
      "outputs": [
        {
          "output_type": "execute_result",
          "data": {
            "text/plain": [
              "array([[5, 0, 0, ..., 0, 0, 0],\n",
              "       [0, 4, 0, ..., 0, 0, 0],\n",
              "       [0, 0, 4, ..., 0, 0, 0],\n",
              "       ...,\n",
              "       [0, 0, 0, ..., 4, 0, 0],\n",
              "       [0, 0, 0, ..., 0, 8, 0],\n",
              "       [0, 0, 0, ..., 0, 0, 4]])"
            ]
          },
          "metadata": {},
          "execution_count": 94
        }
      ]
    },
    {
      "cell_type": "code",
      "source": [
        "#confusion_calculada"
      ],
      "metadata": {
        "id": "GHK45mQmIhm0"
      },
      "execution_count": null,
      "outputs": []
    },
    {
      "cell_type": "code",
      "source": [
        "plt.plot(model_training_history.history['accuracy'])\n",
        "plt.plot(model_training_history.history['val_accuracy'])\n",
        "plt.legend(['train_acc','val_acc'])"
      ],
      "metadata": {
        "colab": {
          "base_uri": "https://localhost:8080/",
          "height": 282
        },
        "id": "28ZG9NDOSDQe",
        "outputId": "d3e0aecd-85c6-4974-e63d-38b37f156dcb"
      },
      "execution_count": null,
      "outputs": [
        {
          "output_type": "execute_result",
          "data": {
            "text/plain": [
              "<matplotlib.legend.Legend at 0x7f0c2805ee10>"
            ]
          },
          "metadata": {},
          "execution_count": 62
        },
        {
          "output_type": "display_data",
          "data": {
            "text/plain": [
              "<Figure size 432x288 with 1 Axes>"
            ],
            "image/png": "[encoded data removed]"
          },
          "metadata": {
            "needs_background": "light"
          }
        }
      ]
    },
    {
      "cell_type": "code",
      "source": [
        "plt.plot(model_training_history.history['loss'])\n",
        "plt.plot(model_training_history.history['val_loss'])\n",
        "plt.legend(['train_loss','val_loss'])"
      ],
      "metadata": {
        "colab": {
          "base_uri": "https://localhost:8080/",
          "height": 286
        },
        "id": "TGsbLWa7SHdT",
        "outputId": "83d9a13e-cde6-4ef7-e90e-36e1cee467dd"
      },
      "execution_count": null,
      "outputs": [
        {
          "output_type": "execute_result",
          "data": {
            "text/plain": [
              "<matplotlib.legend.Legend at 0x7f0a437ee210>"
            ]
          },
          "metadata": {},
          "execution_count": 63
        },
        {
          "output_type": "display_data",
          "data": {
            "text/plain": [
              "<Figure size 432x288 with 1 Axes>"
            ],
            "image/png": "[encoded data removed]"
          },
          "metadata": {
            "needs_background": "light"
          }
        }
      ]
    },
    {
      "cell_type": "markdown",
      "source": [
        "Visualización de filtros del modelo"
      ],
      "metadata": {
        "id": "tx07izbE8G8Y"
      }
    },
    {
      "cell_type": "code",
      "source": [
        "for layer in model.layers:\n",
        "    if 'conv'  in layer.name.lower():\n",
        "      filters, biases = layer.get_weights()\n",
        "      print(layer.name,filters.shape)\n",
        "    else:\n",
        "      weights = layer.get_weights()\n",
        "      if len(weights)>0:\n",
        "        message = \",\".join([str(w.shape) for w in weights])\n",
        "      else:\n",
        "        message=\"none\"\n",
        "      print(f\"{layer.name} weights: {message}\")\n"
      ],
      "metadata": {
        "id": "96wFP65y4m1m",
        "colab": {
          "base_uri": "https://localhost:8080/"
        },
        "outputId": "8d7c2836-4460-4af6-ce56-730565dcda22"
      },
      "execution_count": null,
      "outputs": [
        {
          "output_type": "stream",
          "name": "stdout",
          "text": [
            "conv3d (3, 3, 3, 1, 32)\n",
            "conv3d_1 (3, 3, 3, 32, 32)\n",
            "conv3d_2 (3, 3, 3, 32, 32)\n",
            "conv3d_3 (3, 3, 3, 32, 64)\n",
            "batch_normalization weights: (64,),(64,),(64,),(64,)\n",
            "max_pooling3d weights: none\n",
            "global_average_pooling3d weights: none\n",
            "dense weights: (64, 64),(64,)\n"
          ]
        }
      ]
    },
    {
      "cell_type": "code",
      "source": [
        "#Elegir capa convolucional y nro de filtro\n",
        "layer_name=\"conv3d\"\n",
        "filter_index=0\n",
        "\n",
        "layer = layer_by_name(model,layer_name)\n",
        "filters, biases = layer.get_weights()\n",
        "\n",
        "#filters.shape[4]//4\n",
        "\n",
        "print('filters - primera capa - 0 a 8')\n",
        "# 8 primeros filtros de la primera capa convolucional\n",
        "for i in range(0,8): \n",
        "  plot_conv_weight(layer.name,filters[:,:,:,0,i])"
      ],
      "metadata": {
        "colab": {
          "base_uri": "https://localhost:8080/",
          "height": 834
        },
        "id": "g1WtVL2LuyQ9",
        "outputId": "42606a57-ad54-437c-ed3d-360fb06ad52f"
      },
      "execution_count": null,
      "outputs": [
        {
          "output_type": "stream",
          "name": "stdout",
          "text": [
            "filters - primera capa - 0 a 8\n"
          ]
        },
        {
          "output_type": "display_data",
          "data": {
            "text/plain": [
              "<Figure size 1200x100 with 12 Axes>"
            ],
            "image/png": "[encoded data removed]"
          },
          "metadata": {
            "needs_background": "light"
          }
        },
        {
          "output_type": "display_data",
          "data": {
            "text/plain": [
              "<Figure size 1200x100 with 12 Axes>"
            ],
            "image/png": "[encoded data removed]"
          },
          "metadata": {
            "needs_background": "light"
          }
        },
        {
          "output_type": "display_data",
          "data": {
            "text/plain": [
              "<Figure size 1200x100 with 12 Axes>"
            ],
            "image/png": "[encoded data removed]"
          },
          "metadata": {
            "needs_background": "light"
          }
        },
        {
          "output_type": "display_data",
          "data": {
            "text/plain": [
              "<Figure size 1200x100 with 12 Axes>"
            ],
            "image/png": "[encoded data removed]"
          },
          "metadata": {
            "needs_background": "light"
          }
        },
        {
          "output_type": "display_data",
          "data": {
            "text/plain": [
              "<Figure size 1200x100 with 12 Axes>"
            ],
            "image/png": "[encoded data removed]"
          },
          "metadata": {
            "needs_background": "light"
          }
        },
        {
          "output_type": "display_data",
          "data": {
            "text/plain": [
              "<Figure size 1200x100 with 12 Axes>"
            ],
            "image/png": "[encoded data removed]"
          },
          "metadata": {
            "needs_background": "light"
          }
        },
        {
          "output_type": "display_data",
          "data": {
            "text/plain": [
              "<Figure size 1200x100 with 12 Axes>"
            ],
            "image/png": "[encoded data removed]"
          },
          "metadata": {
            "needs_background": "light"
          }
        },
        {
          "output_type": "display_data",
          "data": {
            "text/plain": [
              "<Figure size 1200x100 with 12 Axes>"
            ],
            "image/png": "[encoded data removed]"
          },
          "metadata": {
            "needs_background": "light"
          }
        }
      ]
    },
    {
      "cell_type": "code",
      "source": [
        "print('filters - primera capa - 8 a 16')\n",
        "# 8 segundos filtros de la primera capa convolucional\n",
        "for i in range(8,16): \n",
        "  plot_conv_weight(layer.name,filters[:,:,:,0,i])"
      ],
      "metadata": {
        "id": "0styxzMWUnn9",
        "outputId": "ebb8f18a-5db9-4455-e77c-f38bb003793a",
        "colab": {
          "base_uri": "https://localhost:8080/",
          "height": 834
        }
      },
      "execution_count": null,
      "outputs": [
        {
          "output_type": "stream",
          "name": "stdout",
          "text": [
            "filters - primera capa - 8 a 16\n"
          ]
        },
        {
          "output_type": "display_data",
          "data": {
            "text/plain": [
              "<Figure size 1200x100 with 12 Axes>"
            ],
            "image/png": "[encoded data removed]"
          },
          "metadata": {
            "needs_background": "light"
          }
        },
        {
          "output_type": "display_data",
          "data": {
            "text/plain": [
              "<Figure size 1200x100 with 12 Axes>"
            ],
            "image/png": "[encoded data removed]"
          },
          "metadata": {
            "needs_background": "light"
          }
        },
        {
          "output_type": "display_data",
          "data": {
            "text/plain": [
              "<Figure size 1200x100 with 12 Axes>"
            ],
            "image/png": "[encoded data removed]"
          },
          "metadata": {
            "needs_background": "light"
          }
        },
        {
          "output_type": "display_data",
          "data": {
            "text/plain": [
              "<Figure size 1200x100 with 12 Axes>"
            ],
            "image/png": "[encoded data removed]"
          },
          "metadata": {
            "needs_background": "light"
          }
        },
        {
          "output_type": "display_data",
          "data": {
            "text/plain": [
              "<Figure size 1200x100 with 12 Axes>"
            ],
            "image/png": "[encoded data removed]"
          },
          "metadata": {
            "needs_background": "light"
          }
        },
        {
          "output_type": "display_data",
          "data": {
            "text/plain": [
              "<Figure size 1200x100 with 12 Axes>"
            ],
            "image/png": "[encoded data removed]"
          },
          "metadata": {
            "needs_background": "light"
          }
        },
        {
          "output_type": "display_data",
          "data": {
            "text/plain": [
              "<Figure size 1200x100 with 12 Axes>"
            ],
            "image/png": "[encoded data removed]"
          },
          "metadata": {
            "needs_background": "light"
          }
        },
        {
          "output_type": "display_data",
          "data": {
            "text/plain": [
              "<Figure size 1200x100 with 12 Axes>"
            ],
            "image/png": "[encoded data removed]"
          },
          "metadata": {
            "needs_background": "light"
          }
        }
      ]
    },
    {
      "cell_type": "code",
      "source": [
        "filters.shape"
      ],
      "metadata": {
        "colab": {
          "base_uri": "https://localhost:8080/"
        },
        "id": "9WfU-yU-vMZr",
        "outputId": "d8ea4e4e-4146-4bbc-cc87-284e1eb4cdd2"
      },
      "execution_count": null,
      "outputs": [
        {
          "output_type": "execute_result",
          "data": {
            "text/plain": [
              "(3, 3, 3, 1, 32)"
            ]
          },
          "metadata": {},
          "execution_count": 51
        }
      ]
    },
    {
      "cell_type": "code",
      "source": [
        "from matplotlib import pyplot\n"
      ],
      "metadata": {
        "id": "TZOSGSMEPUHm"
      },
      "execution_count": null,
      "outputs": []
    },
    {
      "cell_type": "code",
      "source": [
        "df_train_batch[df_train_batch.ID==31]"
      ],
      "metadata": {
        "id": "VpdAudilNBw-",
        "outputId": "876857c1-3305-41e8-f67a-804b731b6038",
        "colab": {
          "base_uri": "https://localhost:8080/",
          "height": 424
        }
      },
      "execution_count": null,
      "outputs": [
        {
          "output_type": "execute_result",
          "data": {
            "text/plain": [
              "                                              file_path  ID persona  \\\n",
              "1638  /content/dataset/lsa64_hand_videos/031_009_005...  31     009   \n",
              "1639  /content/dataset/lsa64_hand_videos/031_009_005...  31     009   \n",
              "1637  /content/dataset/lsa64_hand_videos/031_009_004...  31     009   \n",
              "1551  /content/dataset/lsa64_hand_videos/031_001_001...  31     001   \n",
              "1595  /content/dataset/lsa64_hand_videos/031_005_003...  31     005   \n",
              "...                                                 ...  ..     ...   \n",
              "1618  /content/dataset/lsa64_hand_videos/031_007_005...  31     007   \n",
              "1628  /content/dataset/lsa64_hand_videos/031_008_005...  31     008   \n",
              "1570  /content/dataset/lsa64_hand_videos/031_003_001...  31     003   \n",
              "1634  /content/dataset/lsa64_hand_videos/031_009_003...  31     009   \n",
              "1593  /content/dataset/lsa64_hand_videos/031_005_002...  31     005   \n",
              "\n",
              "     repeticion   mano    id_name  \n",
              "1638        005   left  Breakfast  \n",
              "1639        005  right  Breakfast  \n",
              "1637        004  right  Breakfast  \n",
              "1551        001  right  Breakfast  \n",
              "1595        003  right  Breakfast  \n",
              "...         ...    ...        ...  \n",
              "1618        005   left  Breakfast  \n",
              "1628        005   left  Breakfast  \n",
              "1570        001   left  Breakfast  \n",
              "1634        003   left  Breakfast  \n",
              "1593        002  right  Breakfast  \n",
              "\n",
              "[92 rows x 6 columns]"
            ],
            "text/html": [
              "\n",
              "  <div id=\"df-462b11e6-8c7c-414e-bb99-a962c8e9be2c\">\n",
              "    <div class=\"colab-df-container\">\n",
              "      <div>\n",
              "<style scoped>\n",
              "    .dataframe tbody tr th:only-of-type {\n",
              "        vertical-align: middle;\n",
              "    }\n",
              "\n",
              "    .dataframe tbody tr th {\n",
              "        vertical-align: top;\n",
              "    }\n",
              "\n",
              "    .dataframe thead th {\n",
              "        text-align: right;\n",
              "    }\n",
              "</style>\n",
              "<table border=\"1\" class=\"dataframe\">\n",
              "  <thead>\n",
              "    <tr style=\"text-align: right;\">\n",
              "      <th></th>\n",
              "      <th>file_path</th>\n",
              "      <th>ID</th>\n",
              "      <th>persona</th>\n",
              "      <th>repeticion</th>\n",
              "      <th>mano</th>\n",
              "      <th>id_name</th>\n",
              "    </tr>\n",
              "  </thead>\n",
              "  <tbody>\n",
              "    <tr>\n",
              "      <th>1638</th>\n",
              "      <td>/content/dataset/lsa64_hand_videos/031_009_005...</td>\n",
              "      <td>31</td>\n",
              "      <td>009</td>\n",
              "      <td>005</td>\n",
              "      <td>left</td>\n",
              "      <td>Breakfast</td>\n",
              "    </tr>\n",
              "    <tr>\n",
              "      <th>1639</th>\n",
              "      <td>/content/dataset/lsa64_hand_videos/031_009_005...</td>\n",
              "      <td>31</td>\n",
              "      <td>009</td>\n",
              "      <td>005</td>\n",
              "      <td>right</td>\n",
              "      <td>Breakfast</td>\n",
              "    </tr>\n",
              "    <tr>\n",
              "      <th>1637</th>\n",
              "      <td>/content/dataset/lsa64_hand_videos/031_009_004...</td>\n",
              "      <td>31</td>\n",
              "      <td>009</td>\n",
              "      <td>004</td>\n",
              "      <td>right</td>\n",
              "      <td>Breakfast</td>\n",
              "    </tr>\n",
              "    <tr>\n",
              "      <th>1551</th>\n",
              "      <td>/content/dataset/lsa64_hand_videos/031_001_001...</td>\n",
              "      <td>31</td>\n",
              "      <td>001</td>\n",
              "      <td>001</td>\n",
              "      <td>right</td>\n",
              "      <td>Breakfast</td>\n",
              "    </tr>\n",
              "    <tr>\n",
              "      <th>1595</th>\n",
              "      <td>/content/dataset/lsa64_hand_videos/031_005_003...</td>\n",
              "      <td>31</td>\n",
              "      <td>005</td>\n",
              "      <td>003</td>\n",
              "      <td>right</td>\n",
              "      <td>Breakfast</td>\n",
              "    </tr>\n",
              "    <tr>\n",
              "      <th>...</th>\n",
              "      <td>...</td>\n",
              "      <td>...</td>\n",
              "      <td>...</td>\n",
              "      <td>...</td>\n",
              "      <td>...</td>\n",
              "      <td>...</td>\n",
              "    </tr>\n",
              "    <tr>\n",
              "      <th>1618</th>\n",
              "      <td>/content/dataset/lsa64_hand_videos/031_007_005...</td>\n",
              "      <td>31</td>\n",
              "      <td>007</td>\n",
              "      <td>005</td>\n",
              "      <td>left</td>\n",
              "      <td>Breakfast</td>\n",
              "    </tr>\n",
              "    <tr>\n",
              "      <th>1628</th>\n",
              "      <td>/content/dataset/lsa64_hand_videos/031_008_005...</td>\n",
              "      <td>31</td>\n",
              "      <td>008</td>\n",
              "      <td>005</td>\n",
              "      <td>left</td>\n",
              "      <td>Breakfast</td>\n",
              "    </tr>\n",
              "    <tr>\n",
              "      <th>1570</th>\n",
              "      <td>/content/dataset/lsa64_hand_videos/031_003_001...</td>\n",
              "      <td>31</td>\n",
              "      <td>003</td>\n",
              "      <td>001</td>\n",
              "      <td>left</td>\n",
              "      <td>Breakfast</td>\n",
              "    </tr>\n",
              "    <tr>\n",
              "      <th>1634</th>\n",
              "      <td>/content/dataset/lsa64_hand_videos/031_009_003...</td>\n",
              "      <td>31</td>\n",
              "      <td>009</td>\n",
              "      <td>003</td>\n",
              "      <td>left</td>\n",
              "      <td>Breakfast</td>\n",
              "    </tr>\n",
              "    <tr>\n",
              "      <th>1593</th>\n",
              "      <td>/content/dataset/lsa64_hand_videos/031_005_002...</td>\n",
              "      <td>31</td>\n",
              "      <td>005</td>\n",
              "      <td>002</td>\n",
              "      <td>right</td>\n",
              "      <td>Breakfast</td>\n",
              "    </tr>\n",
              "  </tbody>\n",
              "</table>\n",
              "<p>92 rows × 6 columns</p>\n",
              "</div>\n",
              "      <button class=\"colab-df-convert\" onclick=\"convertToInteractive('df-462b11e6-8c7c-414e-bb99-a962c8e9be2c')\"\n",
              "              title=\"Convert this dataframe to an interactive table.\"\n",
              "              style=\"display:none;\">\n",
              "        \n",
              "  <svg xmlns=\"http://www.w3.org/2000/svg\" height=\"24px\"viewBox=\"0 0 24 24\"\n",
              "       width=\"24px\">\n",
              "    <path d=\"M0 0h24v24H0V0z\" fill=\"none\"/>\n",
              "    <path d=\"M18.56 5.44l.94 2.06.94-2.06 2.06-.94-2.06-.94-.94-2.06-.94 2.06-2.06.94zm-11 1L8.5 8.5l.94-2.06 2.06-.94-2.06-.94L8.5 2.5l-.94 2.06-2.06.94zm10 10l.94 2.06.94-2.06 2.06-.94-2.06-.94-.94-2.06-.94 2.06-2.06.94z\"/><path d=\"M17.41 7.96l-1.37-1.37c-.4-.4-.92-.59-1.43-.59-.52 0-1.04.2-1.43.59L10.3 9.45l-7.72 7.72c-.78.78-.78 2.05 0 2.83L4 21.41c.39.39.9.59 1.41.59.51 0 1.02-.2 1.41-.59l7.78-7.78 2.81-2.81c.8-.78.8-2.07 0-2.86zM5.41 20L4 18.59l7.72-7.72 1.47 1.35L5.41 20z\"/>\n",
              "  </svg>\n",
              "      </button>\n",
              "      \n",
              "  <style>\n",
              "    .colab-df-container {\n",
              "      display:flex;\n",
              "      flex-wrap:wrap;\n",
              "      gap: 12px;\n",
              "    }\n",
              "\n",
              "    .colab-df-convert {\n",
              "      background-color: #E8F0FE;\n",
              "      border: none;\n",
              "      border-radius: 50%;\n",
              "      cursor: pointer;\n",
              "      display: none;\n",
              "      fill: #1967D2;\n",
              "      height: 32px;\n",
              "      padding: 0 0 0 0;\n",
              "      width: 32px;\n",
              "    }\n",
              "\n",
              "    .colab-df-convert:hover {\n",
              "      background-color: #E2EBFA;\n",
              "      box-shadow: 0px 1px 2px rgba(60, 64, 67, 0.3), 0px 1px 3px 1px rgba(60, 64, 67, 0.15);\n",
              "      fill: #174EA6;\n",
              "    }\n",
              "\n",
              "    [theme=dark] .colab-df-convert {\n",
              "      background-color: #3B4455;\n",
              "      fill: #D2E3FC;\n",
              "    }\n",
              "\n",
              "    [theme=dark] .colab-df-convert:hover {\n",
              "      background-color: #434B5C;\n",
              "      box-shadow: 0px 1px 3px 1px rgba(0, 0, 0, 0.15);\n",
              "      filter: drop-shadow(0px 1px 2px rgba(0, 0, 0, 0.3));\n",
              "      fill: #FFFFFF;\n",
              "    }\n",
              "  </style>\n",
              "\n",
              "      <script>\n",
              "        const buttonEl =\n",
              "          document.querySelector('#df-462b11e6-8c7c-414e-bb99-a962c8e9be2c button.colab-df-convert');\n",
              "        buttonEl.style.display =\n",
              "          google.colab.kernel.accessAllowed ? 'block' : 'none';\n",
              "\n",
              "        async function convertToInteractive(key) {\n",
              "          const element = document.querySelector('#df-462b11e6-8c7c-414e-bb99-a962c8e9be2c');\n",
              "          const dataTable =\n",
              "            await google.colab.kernel.invokeFunction('convertToInteractive',\n",
              "                                                     [key], {});\n",
              "          if (!dataTable) return;\n",
              "\n",
              "          const docLinkHtml = 'Like what you see? Visit the ' +\n",
              "            '<a target=\"_blank\" href=https://colab.research.google.com/notebooks/data_table.ipynb>data table notebook</a>'\n",
              "            + ' to learn more about interactive tables.';\n",
              "          element.innerHTML = '';\n",
              "          dataTable['output_type'] = 'display_data';\n",
              "          await google.colab.output.renderOutput(dataTable, element);\n",
              "          const docLink = document.createElement('div');\n",
              "          docLink.innerHTML = docLinkHtml;\n",
              "          element.appendChild(docLink);\n",
              "        }\n",
              "      </script>\n",
              "    </div>\n",
              "  </div>\n",
              "  "
            ]
          },
          "metadata": {},
          "execution_count": 103
        }
      ]
    },
    {
      "cell_type": "code",
      "source": [
        "df_train_batch.loc[0]"
      ],
      "metadata": {
        "id": "YAyfGrrBDV6Y",
        "outputId": "e2f8a1ce-d3c3-49f0-b387-ccdd4fb53a93",
        "colab": {
          "base_uri": "https://localhost:8080/"
        }
      },
      "execution_count": null,
      "outputs": [
        {
          "output_type": "execute_result",
          "data": {
            "text/plain": [
              "file_path     /content/dataset/lsa64_hand_videos/001_001_001...\n",
              "ID                                                            1\n",
              "persona                                                     001\n",
              "repeticion                                                  001\n",
              "mano                                                      right\n",
              "id_name                                                  Opaque\n",
              "Name: 0, dtype: object"
            ]
          },
          "metadata": {},
          "execution_count": 69
        }
      ]
    },
    {
      "cell_type": "code",
      "source": [
        "df_train_batch.loc[1638]"
      ],
      "metadata": {
        "id": "dqSLVlCRNgQE",
        "outputId": "d9f19cbb-0e3b-4a1b-8a6f-59acdbf4df57",
        "colab": {
          "base_uri": "https://localhost:8080/"
        }
      },
      "execution_count": null,
      "outputs": [
        {
          "output_type": "execute_result",
          "data": {
            "text/plain": [
              "file_path     /content/dataset/lsa64_hand_videos/031_009_005...\n",
              "ID                                                           31\n",
              "persona                                                     009\n",
              "repeticion                                                  005\n",
              "mano                                                       left\n",
              "id_name                                               Breakfast\n",
              "Name: 1638, dtype: object"
            ]
          },
          "metadata": {},
          "execution_count": 104
        }
      ]
    },
    {
      "cell_type": "code",
      "source": [
        "df_train_batch.loc[1639]"
      ],
      "metadata": {
        "id": "C4dkWSJQNjdE",
        "outputId": "a8331890-ac84-42f4-c0b4-444567a5e63a",
        "colab": {
          "base_uri": "https://localhost:8080/"
        }
      },
      "execution_count": null,
      "outputs": [
        {
          "output_type": "execute_result",
          "data": {
            "text/plain": [
              "file_path     /content/dataset/lsa64_hand_videos/031_009_005...\n",
              "ID                                                           31\n",
              "persona                                                     009\n",
              "repeticion                                                  005\n",
              "mano                                                      right\n",
              "id_name                                               Breakfast\n",
              "Name: 1639, dtype: object"
            ]
          },
          "metadata": {},
          "execution_count": 105
        }
      ]
    },
    {
      "cell_type": "code",
      "source": [
        "ejemplo=pd.DataFrame(df_train_batch.loc[1639]).T\n",
        "XR=load_data_from_tf(ejemplo,\"train_data\")\n",
        "XR.shape\n",
        "\n",
        "ejemplo=pd.DataFrame(df_train_batch.loc[1638]).T\n",
        "XL=load_data_from_tf(ejemplo,\"train_data\")\n",
        "XL.shape"
      ],
      "metadata": {
        "id": "MdSH0mankPAb",
        "outputId": "d50484b9-b549-4e22-cca6-11e171be44a3",
        "colab": {
          "base_uri": "https://localhost:8080/"
        }
      },
      "execution_count": null,
      "outputs": [
        {
          "output_type": "execute_result",
          "data": {
            "text/plain": [
              "(1, 32, 128, 128)"
            ]
          },
          "metadata": {},
          "execution_count": 111
        }
      ]
    },
    {
      "cell_type": "code",
      "source": [
        "visualization_model = tf.keras.models.Model(inputs=model.inputs, outputs=model.layers[0].output)"
      ],
      "metadata": {
        "id": "I04TFbzvmBCQ"
      },
      "execution_count": null,
      "outputs": []
    },
    {
      "cell_type": "code",
      "source": [
        "feature_maps = visualization_model.predict(XR)\n",
        "rows,cols = 4,8\n",
        "f,ax=plt.subplots(rows,cols,figsize=(rows*3,cols*1))\n",
        "\n",
        "# plot all 64 maps in an 8x8 squares\n",
        "ix = 1\n",
        "for _ in range(cols):\n",
        "\tfor _ in range(rows):\n",
        "\t\t# specify subplot and turn of axis\n",
        "\t\tax = pyplot.subplot(rows,cols, ix)\n",
        "\t\tax.set_xticks([])\n",
        "\t\tax.set_yticks([])\n",
        "\t\t# plot filter channel in grayscale\n",
        "\t\tpyplot.imshow(feature_maps[0, 0, :,:, ix-1], cmap='plasma')\n",
        "\t\tix += 1\n",
        "# show the figure\n",
        "pyplot.show()"
      ],
      "metadata": {
        "id": "81Zf9va1WV_X",
        "outputId": "c443c7e7-ef60-4f12-b212-cd3a9947ed8b",
        "colab": {
          "base_uri": "https://localhost:8080/",
          "height": 446
        }
      },
      "execution_count": null,
      "outputs": [
        {
          "output_type": "display_data",
          "data": {
            "text/plain": [
              "<Figure size 864x576 with 32 Axes>"
            ],
            "image/png": "[encoded data removed]"
          },
          "metadata": {}
        }
      ]
    },
    {
      "cell_type": "code",
      "source": [
        "feature_maps = visualization_model.predict(XL)\n",
        "rows,cols = 4,8\n",
        "f,ax=plt.subplots(rows,cols,figsize=(rows*3,cols*1))\n",
        "\n",
        "# plot all 64 maps in an 8x8 squares\n",
        "ix = 1\n",
        "for _ in range(cols):\n",
        "\tfor _ in range(rows):\n",
        "\t\t# specify subplot and turn of axis\n",
        "\t\tax = pyplot.subplot(rows,cols, ix)\n",
        "\t\tax.set_xticks([])\n",
        "\t\tax.set_yticks([])\n",
        "\t\t# plot filter channel in grayscale\n",
        "\t\tpyplot.imshow(feature_maps[0, 0, :,:, ix-1], cmap='plasma')\n",
        "\t\tix += 1\n",
        "# show the figure\n",
        "pyplot.show()"
      ],
      "metadata": {
        "id": "9vaiWq5TOJl_",
        "outputId": "2568f43e-6b69-4009-b2ad-e64da8ac1ba0",
        "colab": {
          "base_uri": "https://localhost:8080/",
          "height": 446
        }
      },
      "execution_count": null,
      "outputs": [
        {
          "output_type": "display_data",
          "data": {
            "text/plain": [
              "<Figure size 864x576 with 32 Axes>"
            ],
            "image/png": "[encoded data removed]"
          },
          "metadata": {}
        }
      ]
    }
  ]
}