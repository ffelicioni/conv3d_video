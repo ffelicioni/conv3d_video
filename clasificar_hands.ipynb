{
  "nbformat": 4,
  "nbformat_minor": 0,
  "metadata": {
    "colab": {
      "name": "clasificar_hands.ipynb",
      "provenance": [],
      "collapsed_sections": [],
      "include_colab_link": true
    },
    "kernelspec": {
      "name": "python3",
      "display_name": "Python 3"
    },
    "language_info": {
      "name": "python"
    },
    "accelerator": "GPU"
  },
  "cells": [
    {
      "cell_type": "markdown",
      "metadata": {
        "id": "view-in-github",
        "colab_type": "text"
      },
      "source": [
        "<a href=\"https://colab.research.google.com/github/ffelicioni/conv3d_video/blob/main/clasificar_hands.ipynb\" target=\"_parent\"><img src=\"https://colab.research.google.com/assets/colab-badge.svg\" alt=\"Open In Colab\"/></a>"
      ]
    },
    {
      "cell_type": "markdown",
      "source": [
        "## Módulos"
      ],
      "metadata": {
        "id": "fzjgmRX78tRn"
      }
    },
    {
      "cell_type": "code",
      "execution_count": 1,
      "metadata": {
        "id": "xbVtRxLIYi69"
      },
      "outputs": [],
      "source": [
        "import os as os\n",
        "import pandas as pd\n",
        "import glob\n",
        "from pathlib import Path\n",
        "\n",
        "from IPython.display import clear_output\n",
        "import sys\n",
        "\n",
        "import seaborn as sns\n",
        "import matplotlib.pyplot as plt\n",
        "import numpy as np\n",
        "import math as math\n",
        "\n",
        "from google.colab.patches import cv2_imshow\n",
        "\n",
        "import tensorflow as tf\n",
        "from tensorflow import keras\n",
        "\n",
        "import cv2\n",
        "\n",
        "from sklearn.model_selection import train_test_split\n",
        "\n",
        "from sklearn.model_selection import StratifiedShuffleSplit\n",
        "\n",
        "import matplotlib.pyplot as plt\n",
        "from skimage import io\n",
        "\n",
        "import random as random\n",
        "\n",
        "import shutil"
      ]
    },
    {
      "cell_type": "markdown",
      "source": [
        "## Funciones"
      ],
      "metadata": {
        "id": "Coq5VvkF8oez"
      }
    },
    {
      "cell_type": "code",
      "source": [
        "! mkdir /content/src\n",
        "sys.path.append('./src')\n",
        "% cd /content/src\n",
        "archivos=['__init__.py','armado_dataset.py','clasificacion.py','visualizar_filtros.py','carga_datos.py']\n",
        "for archivo in archivos:\n",
        "    !wget \"https://raw.githubusercontent.com/ffelicioni/conv3d_video/main/src/{archivo}\"\n",
        "% cd /content\n",
        "\n",
        "clear_output()"
      ],
      "metadata": {
        "id": "tLbFnESzZ5dZ"
      },
      "execution_count": 2,
      "outputs": []
    },
    {
      "cell_type": "code",
      "source": [
        "from armado_dataset import video_capturing_function, data_load_function_frames, resampling_rand, data_load_frames_save_tf, load_data_from_tf, CustomSequence\n",
        "\n",
        "from clasificacion import prob2labels, accuracy, confusion\n",
        "\n",
        "from visualizar_filtros import plot_conv_weight, layer_by_name"
      ],
      "metadata": {
        "id": "wDk8AYPlaTIr"
      },
      "execution_count": 3,
      "outputs": []
    },
    {
      "cell_type": "code",
      "source": [
        "class CustomSequence(keras.utils.Sequence):\n",
        "    def __init__(self, batch_size):\n",
        "        super().__init__()\n",
        "        self.batch_size = batch_size\n",
        "        self.n=3840\n",
        "    def __len__(self):\n",
        "        return self.n // self.batch_size\n",
        "\n",
        "    def __getitem__(self, batch_index):\n",
        "        idx_start = batch_index*self.batch_size\n",
        "        idx_end = idx_start+self.batch_size\n",
        "        \n",
        "        X=load_data_from_tf(df_train_batch[idx_start:idx_end],\"train_data\")\n",
        "        a=np.array(df_train_batch[idx_start:idx_end].ID)\n",
        "        y = tf.keras.utils.to_categorical(a-1, num_classes =64)\n",
        "        \n",
        "        nf,w,h=X[0].shape\n",
        "        X.reshape(self.batch_size,nf,w,h,1)\n",
        "        return X, y"
      ],
      "metadata": {
        "id": "1mKsfpk1sWWX"
      },
      "execution_count": 42,
      "outputs": []
    },
    {
      "cell_type": "markdown",
      "source": [
        "## Chequeo GPU"
      ],
      "metadata": {
        "id": "xlNa_dH48wwK"
      }
    },
    {
      "cell_type": "code",
      "source": [
        "tf.test.gpu_device_name()"
      ],
      "metadata": {
        "colab": {
          "base_uri": "https://localhost:8080/",
          "height": 35
        },
        "id": "yaTuNeJyzHhW",
        "outputId": "aa853b53-58bf-4ad7-cc8c-c6f33407cbeb"
      },
      "execution_count": 4,
      "outputs": [
        {
          "output_type": "execute_result",
          "data": {
            "text/plain": [
              "'/device:GPU:0'"
            ],
            "application/vnd.google.colaboratory.intrinsic+json": {
              "type": "string"
            }
          },
          "metadata": {},
          "execution_count": 4
        }
      ]
    },
    {
      "cell_type": "code",
      "source": [
        "!/opt/bin/nvidia-smi"
      ],
      "metadata": {
        "colab": {
          "base_uri": "https://localhost:8080/"
        },
        "id": "w5SV6cv-3Lze",
        "outputId": "418f9a36-53ef-406d-983c-3d6ee5a1caec"
      },
      "execution_count": 5,
      "outputs": [
        {
          "output_type": "stream",
          "name": "stdout",
          "text": [
            "Mon Jul  4 19:43:55 2022       \n",
            "+-----------------------------------------------------------------------------+\n",
            "| NVIDIA-SMI 460.32.03    Driver Version: 460.32.03    CUDA Version: 11.2     |\n",
            "|-------------------------------+----------------------+----------------------+\n",
            "| GPU  Name        Persistence-M| Bus-Id        Disp.A | Volatile Uncorr. ECC |\n",
            "| Fan  Temp  Perf  Pwr:Usage/Cap|         Memory-Usage | GPU-Util  Compute M. |\n",
            "|                               |                      |               MIG M. |\n",
            "|===============================+======================+======================|\n",
            "|   0  Tesla T4            Off  | 00000000:00:04.0 Off |                    0 |\n",
            "| N/A   50C    P0    28W /  70W |    264MiB / 15109MiB |      0%      Default |\n",
            "|                               |                      |                  N/A |\n",
            "+-------------------------------+----------------------+----------------------+\n",
            "                                                                               \n",
            "+-----------------------------------------------------------------------------+\n",
            "| Processes:                                                                  |\n",
            "|  GPU   GI   CI        PID   Type   Process name                  GPU Memory |\n",
            "|        ID   ID                                                   Usage      |\n",
            "|=============================================================================|\n",
            "+-----------------------------------------------------------------------------+\n"
          ]
        }
      ]
    },
    {
      "cell_type": "code",
      "source": [
        "import gc\n",
        "gc.collect()"
      ],
      "metadata": {
        "colab": {
          "base_uri": "https://localhost:8080/"
        },
        "id": "n63YLbbE_kjf",
        "outputId": "8dfce970-df3c-4704-9312-77acb4faf7d2"
      },
      "execution_count": 6,
      "outputs": [
        {
          "output_type": "execute_result",
          "data": {
            "text/plain": [
              "404"
            ]
          },
          "metadata": {},
          "execution_count": 6
        }
      ]
    },
    {
      "cell_type": "markdown",
      "source": [
        "## Datasets"
      ],
      "metadata": {
        "id": "WC2b6Fp285Sn"
      }
    },
    {
      "cell_type": "code",
      "source": [
        "from google.colab import drive\n",
        "drive.mount('/content/drive')"
      ],
      "metadata": {
        "colab": {
          "base_uri": "https://localhost:8080/"
        },
        "id": "XArnzVbvYmvK",
        "outputId": "50c6d9b8-267f-4270-e3b9-c87c18b0cda8"
      },
      "execution_count": 7,
      "outputs": [
        {
          "output_type": "stream",
          "name": "stdout",
          "text": [
            "Mounted at /content/drive\n"
          ]
        }
      ]
    },
    {
      "cell_type": "code",
      "source": [
        "!unzip drive/MyDrive/lsa64_preprocessed.zip -d dataset\n",
        "clear_output()"
      ],
      "metadata": {
        "id": "Y_yfppm4ZD20"
      },
      "execution_count": 8,
      "outputs": []
    },
    {
      "cell_type": "markdown",
      "source": [
        "Armo dataset con nombres de los videos disponibles"
      ],
      "metadata": {
        "id": "gXH5eIVAt1l5"
      }
    },
    {
      "cell_type": "code",
      "source": [
        "import glob\n",
        "from pathlib import Path\n",
        "import pandas as pd\n",
        "meta=[]\n",
        "data = []\n",
        "for file_path in sorted(glob.glob('/content/dataset/lsa64_hand_videos/*.avi')):\n",
        "  filename = Path(file_path).stem\n",
        "  filename_parts = filename.split('_')\n",
        "  metadata = {'file_path': file_path,\n",
        "              'ID': filename_parts[0],\n",
        "              'persona': filename_parts[1],\n",
        "              'repeticion': filename_parts[2],\n",
        "              'mano': filename_parts[3]\n",
        "              }\n",
        "  meta.append(metadata)\n",
        "  #image = io.cv2.imread(file_path,cv2.IMREAD_GRAYSCALE)\n",
        "  #data.append(image)\n",
        "\n",
        "df = pd.DataFrame(meta)\n",
        "df.ID=df.ID.astype('int64')"
      ],
      "metadata": {
        "id": "1sI7HZK9ZiFY"
      },
      "execution_count": 9,
      "outputs": []
    },
    {
      "cell_type": "code",
      "source": [
        "print('cantidad de videos:',len(sorted(glob.glob('/content/dataset/lsa64_hand_videos/*.avi'))))\n",
        "print('cantidad de personas:', len(df.persona.unique()))\n",
        "print('cantidad de repeticiones:', len(df.repeticion.unique()))"
      ],
      "metadata": {
        "colab": {
          "base_uri": "https://localhost:8080/"
        },
        "id": "kRQkwxyD4v-5",
        "outputId": "615d352b-bbd3-4023-cb8c-2597c24b5ca4"
      },
      "execution_count": 10,
      "outputs": [
        {
          "output_type": "stream",
          "name": "stdout",
          "text": [
            "cantidad de videos: 4299\n",
            "cantidad de personas: 10\n",
            "cantidad de repeticiones: 5\n"
          ]
        }
      ]
    },
    {
      "cell_type": "code",
      "source": [
        "clases=pd.read_csv('/content/drive/MyDrive/clase_LSA64.csv')\n",
        "print('cantidad de clases:', len(clases.Name.unique()),'nombres: ',clases.Name.unique())"
      ],
      "metadata": {
        "colab": {
          "base_uri": "https://localhost:8080/"
        },
        "id": "ws0jy5FgeY5F",
        "outputId": "a23aa1a7-175b-496c-fb60-20a45f70e5c2"
      },
      "execution_count": 11,
      "outputs": [
        {
          "output_type": "stream",
          "name": "stdout",
          "text": [
            "cantidad de clases: 63 nombres:  ['Opaque' 'Red' 'Green' 'Yellow' 'Bright' 'Light-blue' 'Colors' 'Women'\n",
            " 'Enemy' 'Son' 'Man' 'Away' 'Drawer' 'Born' 'Learn' 'Call' 'Skimmer'\n",
            " 'Bitter' 'Sweet milk' 'Milk' 'Water' 'Food' 'Argentina' 'Uruguay'\n",
            " 'Country' 'Last name' 'Where' 'Mock' 'Birthday' 'Breakfast' 'Photo'\n",
            " 'Hungry' 'Map' 'Coin' 'Music' 'Ship' 'None' 'Name' 'Patience' 'Perfume'\n",
            " 'Deaf' 'Trap' 'Rice' 'Barbecue' 'Candy' 'Chewing-gum' 'Spaghetti'\n",
            " 'Yogurt' 'Accept' 'Thanks' 'Shut down' 'Appear' 'To land' 'Catch' 'Help'\n",
            " 'Dance' 'Bathe' 'Buy' 'Copy' 'Run' 'Realize' 'Give' 'Find']\n"
          ]
        }
      ]
    },
    {
      "cell_type": "markdown",
      "source": [
        "hay 63 clases distintas porque la clase \"Red\" se repite. "
      ],
      "metadata": {
        "id": "r4U88I4NuRTG"
      }
    },
    {
      "cell_type": "code",
      "source": [
        "df['id_name']=pd.merge(df,clases,on='ID',how='left').Name\n",
        "df"
      ],
      "metadata": {
        "colab": {
          "base_uri": "https://localhost:8080/",
          "height": 424
        },
        "id": "5k9OWVGh1lAf",
        "outputId": "2d868d73-ba7b-4122-ad4f-bd978fda05ad"
      },
      "execution_count": 12,
      "outputs": [
        {
          "output_type": "execute_result",
          "data": {
            "text/plain": [
              "                                              file_path  ID persona  \\\n",
              "0     /content/dataset/lsa64_hand_videos/001_001_001...   1     001   \n",
              "1     /content/dataset/lsa64_hand_videos/001_001_002...   1     001   \n",
              "2     /content/dataset/lsa64_hand_videos/001_001_003...   1     001   \n",
              "3     /content/dataset/lsa64_hand_videos/001_001_004...   1     001   \n",
              "4     /content/dataset/lsa64_hand_videos/001_001_005...   1     001   \n",
              "...                                                 ...  ..     ...   \n",
              "4294  /content/dataset/lsa64_hand_videos/064_010_001...  64     010   \n",
              "4295  /content/dataset/lsa64_hand_videos/064_010_002...  64     010   \n",
              "4296  /content/dataset/lsa64_hand_videos/064_010_003...  64     010   \n",
              "4297  /content/dataset/lsa64_hand_videos/064_010_004...  64     010   \n",
              "4298  /content/dataset/lsa64_hand_videos/064_010_005...  64     010   \n",
              "\n",
              "     repeticion   mano id_name  \n",
              "0           001  right  Opaque  \n",
              "1           002  right  Opaque  \n",
              "2           003  right  Opaque  \n",
              "3           004  right  Opaque  \n",
              "4           005  right  Opaque  \n",
              "...         ...    ...     ...  \n",
              "4294        001  right    Find  \n",
              "4295        002  right    Find  \n",
              "4296        003  right    Find  \n",
              "4297        004  right    Find  \n",
              "4298        005  right    Find  \n",
              "\n",
              "[4299 rows x 6 columns]"
            ],
            "text/html": [
              "\n",
              "  <div id=\"df-0ecc3674-9de8-407f-9482-8c36b9032a66\">\n",
              "    <div class=\"colab-df-container\">\n",
              "      <div>\n",
              "<style scoped>\n",
              "    .dataframe tbody tr th:only-of-type {\n",
              "        vertical-align: middle;\n",
              "    }\n",
              "\n",
              "    .dataframe tbody tr th {\n",
              "        vertical-align: top;\n",
              "    }\n",
              "\n",
              "    .dataframe thead th {\n",
              "        text-align: right;\n",
              "    }\n",
              "</style>\n",
              "<table border=\"1\" class=\"dataframe\">\n",
              "  <thead>\n",
              "    <tr style=\"text-align: right;\">\n",
              "      <th></th>\n",
              "      <th>file_path</th>\n",
              "      <th>ID</th>\n",
              "      <th>persona</th>\n",
              "      <th>repeticion</th>\n",
              "      <th>mano</th>\n",
              "      <th>id_name</th>\n",
              "    </tr>\n",
              "  </thead>\n",
              "  <tbody>\n",
              "    <tr>\n",
              "      <th>0</th>\n",
              "      <td>/content/dataset/lsa64_hand_videos/001_001_001...</td>\n",
              "      <td>1</td>\n",
              "      <td>001</td>\n",
              "      <td>001</td>\n",
              "      <td>right</td>\n",
              "      <td>Opaque</td>\n",
              "    </tr>\n",
              "    <tr>\n",
              "      <th>1</th>\n",
              "      <td>/content/dataset/lsa64_hand_videos/001_001_002...</td>\n",
              "      <td>1</td>\n",
              "      <td>001</td>\n",
              "      <td>002</td>\n",
              "      <td>right</td>\n",
              "      <td>Opaque</td>\n",
              "    </tr>\n",
              "    <tr>\n",
              "      <th>2</th>\n",
              "      <td>/content/dataset/lsa64_hand_videos/001_001_003...</td>\n",
              "      <td>1</td>\n",
              "      <td>001</td>\n",
              "      <td>003</td>\n",
              "      <td>right</td>\n",
              "      <td>Opaque</td>\n",
              "    </tr>\n",
              "    <tr>\n",
              "      <th>3</th>\n",
              "      <td>/content/dataset/lsa64_hand_videos/001_001_004...</td>\n",
              "      <td>1</td>\n",
              "      <td>001</td>\n",
              "      <td>004</td>\n",
              "      <td>right</td>\n",
              "      <td>Opaque</td>\n",
              "    </tr>\n",
              "    <tr>\n",
              "      <th>4</th>\n",
              "      <td>/content/dataset/lsa64_hand_videos/001_001_005...</td>\n",
              "      <td>1</td>\n",
              "      <td>001</td>\n",
              "      <td>005</td>\n",
              "      <td>right</td>\n",
              "      <td>Opaque</td>\n",
              "    </tr>\n",
              "    <tr>\n",
              "      <th>...</th>\n",
              "      <td>...</td>\n",
              "      <td>...</td>\n",
              "      <td>...</td>\n",
              "      <td>...</td>\n",
              "      <td>...</td>\n",
              "      <td>...</td>\n",
              "    </tr>\n",
              "    <tr>\n",
              "      <th>4294</th>\n",
              "      <td>/content/dataset/lsa64_hand_videos/064_010_001...</td>\n",
              "      <td>64</td>\n",
              "      <td>010</td>\n",
              "      <td>001</td>\n",
              "      <td>right</td>\n",
              "      <td>Find</td>\n",
              "    </tr>\n",
              "    <tr>\n",
              "      <th>4295</th>\n",
              "      <td>/content/dataset/lsa64_hand_videos/064_010_002...</td>\n",
              "      <td>64</td>\n",
              "      <td>010</td>\n",
              "      <td>002</td>\n",
              "      <td>right</td>\n",
              "      <td>Find</td>\n",
              "    </tr>\n",
              "    <tr>\n",
              "      <th>4296</th>\n",
              "      <td>/content/dataset/lsa64_hand_videos/064_010_003...</td>\n",
              "      <td>64</td>\n",
              "      <td>010</td>\n",
              "      <td>003</td>\n",
              "      <td>right</td>\n",
              "      <td>Find</td>\n",
              "    </tr>\n",
              "    <tr>\n",
              "      <th>4297</th>\n",
              "      <td>/content/dataset/lsa64_hand_videos/064_010_004...</td>\n",
              "      <td>64</td>\n",
              "      <td>010</td>\n",
              "      <td>004</td>\n",
              "      <td>right</td>\n",
              "      <td>Find</td>\n",
              "    </tr>\n",
              "    <tr>\n",
              "      <th>4298</th>\n",
              "      <td>/content/dataset/lsa64_hand_videos/064_010_005...</td>\n",
              "      <td>64</td>\n",
              "      <td>010</td>\n",
              "      <td>005</td>\n",
              "      <td>right</td>\n",
              "      <td>Find</td>\n",
              "    </tr>\n",
              "  </tbody>\n",
              "</table>\n",
              "<p>4299 rows × 6 columns</p>\n",
              "</div>\n",
              "      <button class=\"colab-df-convert\" onclick=\"convertToInteractive('df-0ecc3674-9de8-407f-9482-8c36b9032a66')\"\n",
              "              title=\"Convert this dataframe to an interactive table.\"\n",
              "              style=\"display:none;\">\n",
              "        \n",
              "  <svg xmlns=\"http://www.w3.org/2000/svg\" height=\"24px\"viewBox=\"0 0 24 24\"\n",
              "       width=\"24px\">\n",
              "    <path d=\"M0 0h24v24H0V0z\" fill=\"none\"/>\n",
              "    <path d=\"M18.56 5.44l.94 2.06.94-2.06 2.06-.94-2.06-.94-.94-2.06-.94 2.06-2.06.94zm-11 1L8.5 8.5l.94-2.06 2.06-.94-2.06-.94L8.5 2.5l-.94 2.06-2.06.94zm10 10l.94 2.06.94-2.06 2.06-.94-2.06-.94-.94-2.06-.94 2.06-2.06.94z\"/><path d=\"M17.41 7.96l-1.37-1.37c-.4-.4-.92-.59-1.43-.59-.52 0-1.04.2-1.43.59L10.3 9.45l-7.72 7.72c-.78.78-.78 2.05 0 2.83L4 21.41c.39.39.9.59 1.41.59.51 0 1.02-.2 1.41-.59l7.78-7.78 2.81-2.81c.8-.78.8-2.07 0-2.86zM5.41 20L4 18.59l7.72-7.72 1.47 1.35L5.41 20z\"/>\n",
              "  </svg>\n",
              "      </button>\n",
              "      \n",
              "  <style>\n",
              "    .colab-df-container {\n",
              "      display:flex;\n",
              "      flex-wrap:wrap;\n",
              "      gap: 12px;\n",
              "    }\n",
              "\n",
              "    .colab-df-convert {\n",
              "      background-color: #E8F0FE;\n",
              "      border: none;\n",
              "      border-radius: 50%;\n",
              "      cursor: pointer;\n",
              "      display: none;\n",
              "      fill: #1967D2;\n",
              "      height: 32px;\n",
              "      padding: 0 0 0 0;\n",
              "      width: 32px;\n",
              "    }\n",
              "\n",
              "    .colab-df-convert:hover {\n",
              "      background-color: #E2EBFA;\n",
              "      box-shadow: 0px 1px 2px rgba(60, 64, 67, 0.3), 0px 1px 3px 1px rgba(60, 64, 67, 0.15);\n",
              "      fill: #174EA6;\n",
              "    }\n",
              "\n",
              "    [theme=dark] .colab-df-convert {\n",
              "      background-color: #3B4455;\n",
              "      fill: #D2E3FC;\n",
              "    }\n",
              "\n",
              "    [theme=dark] .colab-df-convert:hover {\n",
              "      background-color: #434B5C;\n",
              "      box-shadow: 0px 1px 3px 1px rgba(0, 0, 0, 0.15);\n",
              "      filter: drop-shadow(0px 1px 2px rgba(0, 0, 0, 0.3));\n",
              "      fill: #FFFFFF;\n",
              "    }\n",
              "  </style>\n",
              "\n",
              "      <script>\n",
              "        const buttonEl =\n",
              "          document.querySelector('#df-0ecc3674-9de8-407f-9482-8c36b9032a66 button.colab-df-convert');\n",
              "        buttonEl.style.display =\n",
              "          google.colab.kernel.accessAllowed ? 'block' : 'none';\n",
              "\n",
              "        async function convertToInteractive(key) {\n",
              "          const element = document.querySelector('#df-0ecc3674-9de8-407f-9482-8c36b9032a66');\n",
              "          const dataTable =\n",
              "            await google.colab.kernel.invokeFunction('convertToInteractive',\n",
              "                                                     [key], {});\n",
              "          if (!dataTable) return;\n",
              "\n",
              "          const docLinkHtml = 'Like what you see? Visit the ' +\n",
              "            '<a target=\"_blank\" href=https://colab.research.google.com/notebooks/data_table.ipynb>data table notebook</a>'\n",
              "            + ' to learn more about interactive tables.';\n",
              "          element.innerHTML = '';\n",
              "          dataTable['output_type'] = 'display_data';\n",
              "          await google.colab.output.renderOutput(dataTable, element);\n",
              "          const docLink = document.createElement('div');\n",
              "          docLink.innerHTML = docLinkHtml;\n",
              "          element.appendChild(docLink);\n",
              "        }\n",
              "      </script>\n",
              "    </div>\n",
              "  </div>\n",
              "  "
            ]
          },
          "metadata": {},
          "execution_count": 12
        }
      ]
    },
    {
      "cell_type": "code",
      "source": [
        "plt.plot(df.ID.value_counts(),'x')"
      ],
      "metadata": {
        "colab": {
          "base_uri": "https://localhost:8080/",
          "height": 282
        },
        "id": "rclTww50dBt-",
        "outputId": "6aecb465-4d7e-444c-a211-a068d162b917"
      },
      "execution_count": 13,
      "outputs": [
        {
          "output_type": "execute_result",
          "data": {
            "text/plain": [
              "[<matplotlib.lines.Line2D at 0x7fba8023e710>]"
            ]
          },
          "metadata": {},
          "execution_count": 13
        },
        {
          "output_type": "display_data",
          "data": {
            "text/plain": [
              "<Figure size 432x288 with 1 Axes>"
            ],
            "image/png": "[encoded data removed]"
          },
          "metadata": {
            "needs_background": "light"
          }
        }
      ]
    },
    {
      "cell_type": "markdown",
      "source": [
        "Lotes de 4"
      ],
      "metadata": {
        "id": "QJWBpRi2y4Yi"
      }
    },
    {
      "cell_type": "code",
      "source": [
        "batch=960\n",
        "batch_size=4\n",
        "cant_train=batch*batch_size #6*\n",
        "n_test=len(df)-cant_train\n",
        "print('entrenamiento:',cant_train, 'testing:', n_test,'-', (len(df)-cant_train)/cant_train,'%')\n",
        "print('cantidad batch:',batch,'batch_size:', cant_train / batch)"
      ],
      "metadata": {
        "colab": {
          "base_uri": "https://localhost:8080/"
        },
        "id": "t14Df5RyGyZ8",
        "outputId": "e83a5002-eedb-4787-9765-a7157ee1e885"
      },
      "execution_count": 14,
      "outputs": [
        {
          "output_type": "stream",
          "name": "stdout",
          "text": [
            "entrenamiento: 3840 testing: 459 - 0.11953125 %\n",
            "cantidad batch: 960 batch_size: 4.0\n"
          ]
        }
      ]
    },
    {
      "cell_type": "code",
      "source": [
        "X_train_index, X_test_index, y_train, y_test = train_test_split(df.index, df.ID, stratify=df.ID, test_size=n_test,random_state=0)\n",
        "\n",
        "df_train=df.loc[sorted(X_train_index)]\n",
        "\n",
        "df_test=df.loc[sorted(X_test_index)]\n",
        "df_test"
      ],
      "metadata": {
        "id": "e_LkKO0V6_n1",
        "colab": {
          "base_uri": "https://localhost:8080/",
          "height": 424
        },
        "outputId": "2b37205f-c0b1-4a36-8e57-38e529e81017"
      },
      "execution_count": 15,
      "outputs": [
        {
          "output_type": "execute_result",
          "data": {
            "text/plain": [
              "                                              file_path  ID persona  \\\n",
              "10    /content/dataset/lsa64_hand_videos/001_003_001...   1     003   \n",
              "11    /content/dataset/lsa64_hand_videos/001_003_002...   1     003   \n",
              "23    /content/dataset/lsa64_hand_videos/001_005_004...   1     005   \n",
              "31    /content/dataset/lsa64_hand_videos/001_007_002...   1     007   \n",
              "32    /content/dataset/lsa64_hand_videos/001_007_003...   1     007   \n",
              "...                                                 ...  ..     ...   \n",
              "4254  /content/dataset/lsa64_hand_videos/064_002_001...  64     002   \n",
              "4256  /content/dataset/lsa64_hand_videos/064_002_003...  64     002   \n",
              "4258  /content/dataset/lsa64_hand_videos/064_002_005...  64     002   \n",
              "4269  /content/dataset/lsa64_hand_videos/064_005_001...  64     005   \n",
              "4285  /content/dataset/lsa64_hand_videos/064_008_002...  64     008   \n",
              "\n",
              "     repeticion   mano id_name  \n",
              "10          001  right  Opaque  \n",
              "11          002  right  Opaque  \n",
              "23          004  right  Opaque  \n",
              "31          002  right  Opaque  \n",
              "32          003  right  Opaque  \n",
              "...         ...    ...     ...  \n",
              "4254        001  right    Find  \n",
              "4256        003  right    Find  \n",
              "4258        005  right    Find  \n",
              "4269        001  right    Find  \n",
              "4285        002  right    Find  \n",
              "\n",
              "[459 rows x 6 columns]"
            ],
            "text/html": [
              "\n",
              "  <div id=\"df-18cecc26-dde8-48b6-8ed0-49c2fb473f19\">\n",
              "    <div class=\"colab-df-container\">\n",
              "      <div>\n",
              "<style scoped>\n",
              "    .dataframe tbody tr th:only-of-type {\n",
              "        vertical-align: middle;\n",
              "    }\n",
              "\n",
              "    .dataframe tbody tr th {\n",
              "        vertical-align: top;\n",
              "    }\n",
              "\n",
              "    .dataframe thead th {\n",
              "        text-align: right;\n",
              "    }\n",
              "</style>\n",
              "<table border=\"1\" class=\"dataframe\">\n",
              "  <thead>\n",
              "    <tr style=\"text-align: right;\">\n",
              "      <th></th>\n",
              "      <th>file_path</th>\n",
              "      <th>ID</th>\n",
              "      <th>persona</th>\n",
              "      <th>repeticion</th>\n",
              "      <th>mano</th>\n",
              "      <th>id_name</th>\n",
              "    </tr>\n",
              "  </thead>\n",
              "  <tbody>\n",
              "    <tr>\n",
              "      <th>10</th>\n",
              "      <td>/content/dataset/lsa64_hand_videos/001_003_001...</td>\n",
              "      <td>1</td>\n",
              "      <td>003</td>\n",
              "      <td>001</td>\n",
              "      <td>right</td>\n",
              "      <td>Opaque</td>\n",
              "    </tr>\n",
              "    <tr>\n",
              "      <th>11</th>\n",
              "      <td>/content/dataset/lsa64_hand_videos/001_003_002...</td>\n",
              "      <td>1</td>\n",
              "      <td>003</td>\n",
              "      <td>002</td>\n",
              "      <td>right</td>\n",
              "      <td>Opaque</td>\n",
              "    </tr>\n",
              "    <tr>\n",
              "      <th>23</th>\n",
              "      <td>/content/dataset/lsa64_hand_videos/001_005_004...</td>\n",
              "      <td>1</td>\n",
              "      <td>005</td>\n",
              "      <td>004</td>\n",
              "      <td>right</td>\n",
              "      <td>Opaque</td>\n",
              "    </tr>\n",
              "    <tr>\n",
              "      <th>31</th>\n",
              "      <td>/content/dataset/lsa64_hand_videos/001_007_002...</td>\n",
              "      <td>1</td>\n",
              "      <td>007</td>\n",
              "      <td>002</td>\n",
              "      <td>right</td>\n",
              "      <td>Opaque</td>\n",
              "    </tr>\n",
              "    <tr>\n",
              "      <th>32</th>\n",
              "      <td>/content/dataset/lsa64_hand_videos/001_007_003...</td>\n",
              "      <td>1</td>\n",
              "      <td>007</td>\n",
              "      <td>003</td>\n",
              "      <td>right</td>\n",
              "      <td>Opaque</td>\n",
              "    </tr>\n",
              "    <tr>\n",
              "      <th>...</th>\n",
              "      <td>...</td>\n",
              "      <td>...</td>\n",
              "      <td>...</td>\n",
              "      <td>...</td>\n",
              "      <td>...</td>\n",
              "      <td>...</td>\n",
              "    </tr>\n",
              "    <tr>\n",
              "      <th>4254</th>\n",
              "      <td>/content/dataset/lsa64_hand_videos/064_002_001...</td>\n",
              "      <td>64</td>\n",
              "      <td>002</td>\n",
              "      <td>001</td>\n",
              "      <td>right</td>\n",
              "      <td>Find</td>\n",
              "    </tr>\n",
              "    <tr>\n",
              "      <th>4256</th>\n",
              "      <td>/content/dataset/lsa64_hand_videos/064_002_003...</td>\n",
              "      <td>64</td>\n",
              "      <td>002</td>\n",
              "      <td>003</td>\n",
              "      <td>right</td>\n",
              "      <td>Find</td>\n",
              "    </tr>\n",
              "    <tr>\n",
              "      <th>4258</th>\n",
              "      <td>/content/dataset/lsa64_hand_videos/064_002_005...</td>\n",
              "      <td>64</td>\n",
              "      <td>002</td>\n",
              "      <td>005</td>\n",
              "      <td>right</td>\n",
              "      <td>Find</td>\n",
              "    </tr>\n",
              "    <tr>\n",
              "      <th>4269</th>\n",
              "      <td>/content/dataset/lsa64_hand_videos/064_005_001...</td>\n",
              "      <td>64</td>\n",
              "      <td>005</td>\n",
              "      <td>001</td>\n",
              "      <td>right</td>\n",
              "      <td>Find</td>\n",
              "    </tr>\n",
              "    <tr>\n",
              "      <th>4285</th>\n",
              "      <td>/content/dataset/lsa64_hand_videos/064_008_002...</td>\n",
              "      <td>64</td>\n",
              "      <td>008</td>\n",
              "      <td>002</td>\n",
              "      <td>right</td>\n",
              "      <td>Find</td>\n",
              "    </tr>\n",
              "  </tbody>\n",
              "</table>\n",
              "<p>459 rows × 6 columns</p>\n",
              "</div>\n",
              "      <button class=\"colab-df-convert\" onclick=\"convertToInteractive('df-18cecc26-dde8-48b6-8ed0-49c2fb473f19')\"\n",
              "              title=\"Convert this dataframe to an interactive table.\"\n",
              "              style=\"display:none;\">\n",
              "        \n",
              "  <svg xmlns=\"http://www.w3.org/2000/svg\" height=\"24px\"viewBox=\"0 0 24 24\"\n",
              "       width=\"24px\">\n",
              "    <path d=\"M0 0h24v24H0V0z\" fill=\"none\"/>\n",
              "    <path d=\"M18.56 5.44l.94 2.06.94-2.06 2.06-.94-2.06-.94-.94-2.06-.94 2.06-2.06.94zm-11 1L8.5 8.5l.94-2.06 2.06-.94-2.06-.94L8.5 2.5l-.94 2.06-2.06.94zm10 10l.94 2.06.94-2.06 2.06-.94-2.06-.94-.94-2.06-.94 2.06-2.06.94z\"/><path d=\"M17.41 7.96l-1.37-1.37c-.4-.4-.92-.59-1.43-.59-.52 0-1.04.2-1.43.59L10.3 9.45l-7.72 7.72c-.78.78-.78 2.05 0 2.83L4 21.41c.39.39.9.59 1.41.59.51 0 1.02-.2 1.41-.59l7.78-7.78 2.81-2.81c.8-.78.8-2.07 0-2.86zM5.41 20L4 18.59l7.72-7.72 1.47 1.35L5.41 20z\"/>\n",
              "  </svg>\n",
              "      </button>\n",
              "      \n",
              "  <style>\n",
              "    .colab-df-container {\n",
              "      display:flex;\n",
              "      flex-wrap:wrap;\n",
              "      gap: 12px;\n",
              "    }\n",
              "\n",
              "    .colab-df-convert {\n",
              "      background-color: #E8F0FE;\n",
              "      border: none;\n",
              "      border-radius: 50%;\n",
              "      cursor: pointer;\n",
              "      display: none;\n",
              "      fill: #1967D2;\n",
              "      height: 32px;\n",
              "      padding: 0 0 0 0;\n",
              "      width: 32px;\n",
              "    }\n",
              "\n",
              "    .colab-df-convert:hover {\n",
              "      background-color: #E2EBFA;\n",
              "      box-shadow: 0px 1px 2px rgba(60, 64, 67, 0.3), 0px 1px 3px 1px rgba(60, 64, 67, 0.15);\n",
              "      fill: #174EA6;\n",
              "    }\n",
              "\n",
              "    [theme=dark] .colab-df-convert {\n",
              "      background-color: #3B4455;\n",
              "      fill: #D2E3FC;\n",
              "    }\n",
              "\n",
              "    [theme=dark] .colab-df-convert:hover {\n",
              "      background-color: #434B5C;\n",
              "      box-shadow: 0px 1px 3px 1px rgba(0, 0, 0, 0.15);\n",
              "      filter: drop-shadow(0px 1px 2px rgba(0, 0, 0, 0.3));\n",
              "      fill: #FFFFFF;\n",
              "    }\n",
              "  </style>\n",
              "\n",
              "      <script>\n",
              "        const buttonEl =\n",
              "          document.querySelector('#df-18cecc26-dde8-48b6-8ed0-49c2fb473f19 button.colab-df-convert');\n",
              "        buttonEl.style.display =\n",
              "          google.colab.kernel.accessAllowed ? 'block' : 'none';\n",
              "\n",
              "        async function convertToInteractive(key) {\n",
              "          const element = document.querySelector('#df-18cecc26-dde8-48b6-8ed0-49c2fb473f19');\n",
              "          const dataTable =\n",
              "            await google.colab.kernel.invokeFunction('convertToInteractive',\n",
              "                                                     [key], {});\n",
              "          if (!dataTable) return;\n",
              "\n",
              "          const docLinkHtml = 'Like what you see? Visit the ' +\n",
              "            '<a target=\"_blank\" href=https://colab.research.google.com/notebooks/data_table.ipynb>data table notebook</a>'\n",
              "            + ' to learn more about interactive tables.';\n",
              "          element.innerHTML = '';\n",
              "          dataTable['output_type'] = 'display_data';\n",
              "          await google.colab.output.renderOutput(dataTable, element);\n",
              "          const docLink = document.createElement('div');\n",
              "          docLink.innerHTML = docLinkHtml;\n",
              "          element.appendChild(docLink);\n",
              "        }\n",
              "      </script>\n",
              "    </div>\n",
              "  </div>\n",
              "  "
            ]
          },
          "metadata": {},
          "execution_count": 15
        }
      ]
    },
    {
      "cell_type": "code",
      "source": [
        "plt.plot(df_train.ID.value_counts(),'x')"
      ],
      "metadata": {
        "colab": {
          "base_uri": "https://localhost:8080/",
          "height": 282
        },
        "id": "t3OXpMNucwQW",
        "outputId": "24891f3e-ad7a-4791-cfe9-30346cbc793c"
      },
      "execution_count": 16,
      "outputs": [
        {
          "output_type": "execute_result",
          "data": {
            "text/plain": [
              "[<matplotlib.lines.Line2D at 0x7fba80181b10>]"
            ]
          },
          "metadata": {},
          "execution_count": 16
        },
        {
          "output_type": "display_data",
          "data": {
            "text/plain": [
              "<Figure size 432x288 with 1 Axes>"
            ],
            "image/png": "[encoded data removed]"
          },
          "metadata": {
            "needs_background": "light"
          }
        }
      ]
    },
    {
      "cell_type": "markdown",
      "source": [
        "Separo en conjuntos de acuerdo a clase (intento que haya algún video de cada clase). "
      ],
      "metadata": {
        "id": "S692gallurzn"
      }
    },
    {
      "cell_type": "code",
      "source": [
        "df_resto=df_train.copy()\n",
        "df_train_batch=pd.DataFrame([])\n",
        "for i in range(batch-1):\n",
        "  X_train_index, X_test_index, y_train, y_test = train_test_split(df_resto.index, df_resto.ID, test_size=cant_train//batch,random_state=0)\n",
        "  df_seleccion=df_resto.loc[sorted(X_test_index)]   #dataset seleccionado de x videos\n",
        "  df_resto=df_resto.loc[sorted(X_train_index)]      #sigue iterando en el resto  \n",
        "  df_train_batch=pd.concat([df_train_batch,df_seleccion],axis=0)    #ordeno el dataset_batch\n",
        "  \n",
        "\n",
        "df_train_batch=pd.concat([df_train_batch,df_resto],axis=0)    #agrego la ultima parte"
      ],
      "metadata": {
        "id": "VS3lxcT5Xvus"
      },
      "execution_count": 17,
      "outputs": []
    },
    {
      "cell_type": "code",
      "source": [
        "df_train_batch[0:4]"
      ],
      "metadata": {
        "colab": {
          "base_uri": "https://localhost:8080/",
          "height": 175
        },
        "id": "mhmnoesBQQl6",
        "outputId": "d4499f52-61db-4cb6-feeb-362e2fd08377"
      },
      "execution_count": 18,
      "outputs": [
        {
          "output_type": "execute_result",
          "data": {
            "text/plain": [
              "                                              file_path  ID persona  \\\n",
              "1516  /content/dataset/lsa64_hand_videos/030_004_002...  30     004   \n",
              "1909  /content/dataset/lsa64_hand_videos/035_001_005...  35     001   \n",
              "3993  /content/dataset/lsa64_hand_videos/060_010_003...  60     010   \n",
              "4072  /content/dataset/lsa64_hand_videos/061_008_002...  61     008   \n",
              "\n",
              "     repeticion   mano   id_name  \n",
              "1516        002  right  Birthday  \n",
              "1909        005  right      Coin  \n",
              "3993        003   left      Copy  \n",
              "4072        002  right       Run  "
            ],
            "text/html": [
              "\n",
              "  <div id=\"df-e4593f51-809f-45e5-a36d-6f537aff4a0a\">\n",
              "    <div class=\"colab-df-container\">\n",
              "      <div>\n",
              "<style scoped>\n",
              "    .dataframe tbody tr th:only-of-type {\n",
              "        vertical-align: middle;\n",
              "    }\n",
              "\n",
              "    .dataframe tbody tr th {\n",
              "        vertical-align: top;\n",
              "    }\n",
              "\n",
              "    .dataframe thead th {\n",
              "        text-align: right;\n",
              "    }\n",
              "</style>\n",
              "<table border=\"1\" class=\"dataframe\">\n",
              "  <thead>\n",
              "    <tr style=\"text-align: right;\">\n",
              "      <th></th>\n",
              "      <th>file_path</th>\n",
              "      <th>ID</th>\n",
              "      <th>persona</th>\n",
              "      <th>repeticion</th>\n",
              "      <th>mano</th>\n",
              "      <th>id_name</th>\n",
              "    </tr>\n",
              "  </thead>\n",
              "  <tbody>\n",
              "    <tr>\n",
              "      <th>1516</th>\n",
              "      <td>/content/dataset/lsa64_hand_videos/030_004_002...</td>\n",
              "      <td>30</td>\n",
              "      <td>004</td>\n",
              "      <td>002</td>\n",
              "      <td>right</td>\n",
              "      <td>Birthday</td>\n",
              "    </tr>\n",
              "    <tr>\n",
              "      <th>1909</th>\n",
              "      <td>/content/dataset/lsa64_hand_videos/035_001_005...</td>\n",
              "      <td>35</td>\n",
              "      <td>001</td>\n",
              "      <td>005</td>\n",
              "      <td>right</td>\n",
              "      <td>Coin</td>\n",
              "    </tr>\n",
              "    <tr>\n",
              "      <th>3993</th>\n",
              "      <td>/content/dataset/lsa64_hand_videos/060_010_003...</td>\n",
              "      <td>60</td>\n",
              "      <td>010</td>\n",
              "      <td>003</td>\n",
              "      <td>left</td>\n",
              "      <td>Copy</td>\n",
              "    </tr>\n",
              "    <tr>\n",
              "      <th>4072</th>\n",
              "      <td>/content/dataset/lsa64_hand_videos/061_008_002...</td>\n",
              "      <td>61</td>\n",
              "      <td>008</td>\n",
              "      <td>002</td>\n",
              "      <td>right</td>\n",
              "      <td>Run</td>\n",
              "    </tr>\n",
              "  </tbody>\n",
              "</table>\n",
              "</div>\n",
              "      <button class=\"colab-df-convert\" onclick=\"convertToInteractive('df-e4593f51-809f-45e5-a36d-6f537aff4a0a')\"\n",
              "              title=\"Convert this dataframe to an interactive table.\"\n",
              "              style=\"display:none;\">\n",
              "        \n",
              "  <svg xmlns=\"http://www.w3.org/2000/svg\" height=\"24px\"viewBox=\"0 0 24 24\"\n",
              "       width=\"24px\">\n",
              "    <path d=\"M0 0h24v24H0V0z\" fill=\"none\"/>\n",
              "    <path d=\"M18.56 5.44l.94 2.06.94-2.06 2.06-.94-2.06-.94-.94-2.06-.94 2.06-2.06.94zm-11 1L8.5 8.5l.94-2.06 2.06-.94-2.06-.94L8.5 2.5l-.94 2.06-2.06.94zm10 10l.94 2.06.94-2.06 2.06-.94-2.06-.94-.94-2.06-.94 2.06-2.06.94z\"/><path d=\"M17.41 7.96l-1.37-1.37c-.4-.4-.92-.59-1.43-.59-.52 0-1.04.2-1.43.59L10.3 9.45l-7.72 7.72c-.78.78-.78 2.05 0 2.83L4 21.41c.39.39.9.59 1.41.59.51 0 1.02-.2 1.41-.59l7.78-7.78 2.81-2.81c.8-.78.8-2.07 0-2.86zM5.41 20L4 18.59l7.72-7.72 1.47 1.35L5.41 20z\"/>\n",
              "  </svg>\n",
              "      </button>\n",
              "      \n",
              "  <style>\n",
              "    .colab-df-container {\n",
              "      display:flex;\n",
              "      flex-wrap:wrap;\n",
              "      gap: 12px;\n",
              "    }\n",
              "\n",
              "    .colab-df-convert {\n",
              "      background-color: #E8F0FE;\n",
              "      border: none;\n",
              "      border-radius: 50%;\n",
              "      cursor: pointer;\n",
              "      display: none;\n",
              "      fill: #1967D2;\n",
              "      height: 32px;\n",
              "      padding: 0 0 0 0;\n",
              "      width: 32px;\n",
              "    }\n",
              "\n",
              "    .colab-df-convert:hover {\n",
              "      background-color: #E2EBFA;\n",
              "      box-shadow: 0px 1px 2px rgba(60, 64, 67, 0.3), 0px 1px 3px 1px rgba(60, 64, 67, 0.15);\n",
              "      fill: #174EA6;\n",
              "    }\n",
              "\n",
              "    [theme=dark] .colab-df-convert {\n",
              "      background-color: #3B4455;\n",
              "      fill: #D2E3FC;\n",
              "    }\n",
              "\n",
              "    [theme=dark] .colab-df-convert:hover {\n",
              "      background-color: #434B5C;\n",
              "      box-shadow: 0px 1px 3px 1px rgba(0, 0, 0, 0.15);\n",
              "      filter: drop-shadow(0px 1px 2px rgba(0, 0, 0, 0.3));\n",
              "      fill: #FFFFFF;\n",
              "    }\n",
              "  </style>\n",
              "\n",
              "      <script>\n",
              "        const buttonEl =\n",
              "          document.querySelector('#df-e4593f51-809f-45e5-a36d-6f537aff4a0a button.colab-df-convert');\n",
              "        buttonEl.style.display =\n",
              "          google.colab.kernel.accessAllowed ? 'block' : 'none';\n",
              "\n",
              "        async function convertToInteractive(key) {\n",
              "          const element = document.querySelector('#df-e4593f51-809f-45e5-a36d-6f537aff4a0a');\n",
              "          const dataTable =\n",
              "            await google.colab.kernel.invokeFunction('convertToInteractive',\n",
              "                                                     [key], {});\n",
              "          if (!dataTable) return;\n",
              "\n",
              "          const docLinkHtml = 'Like what you see? Visit the ' +\n",
              "            '<a target=\"_blank\" href=https://colab.research.google.com/notebooks/data_table.ipynb>data table notebook</a>'\n",
              "            + ' to learn more about interactive tables.';\n",
              "          element.innerHTML = '';\n",
              "          dataTable['output_type'] = 'display_data';\n",
              "          await google.colab.output.renderOutput(dataTable, element);\n",
              "          const docLink = document.createElement('div');\n",
              "          docLink.innerHTML = docLinkHtml;\n",
              "          element.appendChild(docLink);\n",
              "        }\n",
              "      </script>\n",
              "    </div>\n",
              "  </div>\n",
              "  "
            ]
          },
          "metadata": {},
          "execution_count": 18
        }
      ]
    },
    {
      "cell_type": "code",
      "source": [
        "%ls"
      ],
      "metadata": {
        "colab": {
          "base_uri": "https://localhost:8080/"
        },
        "id": "X1j_0uVvVH5k",
        "outputId": "0ddb1939-2a52-4838-ae75-f816248e93cf"
      },
      "execution_count": 19,
      "outputs": [
        {
          "output_type": "stream",
          "name": "stdout",
          "text": [
            "\u001b[0m\u001b[01;34mdataset\u001b[0m/  \u001b[01;34mdrive\u001b[0m/  \u001b[01;34msample_data\u001b[0m/  \u001b[01;34msrc\u001b[0m/\n"
          ]
        }
      ]
    },
    {
      "cell_type": "markdown",
      "source": [
        "# Data training - test"
      ],
      "metadata": {
        "id": "VKxQshAIEcD7"
      }
    },
    {
      "cell_type": "markdown",
      "source": [
        "Con la separación realizada se arman dos carpetas: train_data y test_data. Cada video fue convertido a un conjunto de imágenes de 1 solo canal, dentro de cada archivo"
      ],
      "metadata": {
        "id": "bswMPcPBw7bY"
      }
    },
    {
      "cell_type": "code",
      "source": [
        "video_capturing_function(df_train,'train_data')\n",
        "\n",
        "video_capturing_function(df_test,'test_data')\n",
        "\n",
        "#https://medium.com/video-classification-using-keras-and-tensorflow/action-recognition-and-video-classification-using-keras-and-tensorflow-56badcbe5f77"
      ],
      "metadata": {
        "colab": {
          "base_uri": "https://localhost:8080/"
        },
        "id": "4rsAXnEy4hpc",
        "outputId": "5cfcd92a-8205-4b65-cd48-bf9f54bef578"
      },
      "execution_count": 19,
      "outputs": [
        {
          "output_type": "stream",
          "name": "stdout",
          "text": [
            "All frames written in the: train_data Folder\n",
            "All frames written in the: test_data Folder\n"
          ]
        }
      ]
    },
    {
      "cell_type": "code",
      "source": [
        "gc.collect()"
      ],
      "metadata": {
        "id": "KZJrF02cAAyV",
        "colab": {
          "base_uri": "https://localhost:8080/"
        },
        "outputId": "30a2d44b-693a-4674-b0c6-10d241fec26e"
      },
      "execution_count": 20,
      "outputs": [
        {
          "output_type": "execute_result",
          "data": {
            "text/plain": [
              "506"
            ]
          },
          "metadata": {},
          "execution_count": 20
        }
      ]
    },
    {
      "cell_type": "markdown",
      "source": [
        "### Ejemplo \n",
        "Imagen de uno de los videos"
      ],
      "metadata": {
        "id": "YL2fUa4mxPMN"
      }
    },
    {
      "cell_type": "code",
      "source": [
        "imagen_rgb=(io.imread(\"/content/train_data/001_001_001_right/frame0.jpg\")/255.0).astype('float32')\n",
        "plt.imshow(imagen_rgb) # no es necesario el vmin/vmax para imágenes a color\n",
        "\n",
        "print(\"Dimensiones de la imagen:\")\n",
        "plt.imshow(imagen_rgb,vmin=0,vmax=1)\n",
        "plt.title(\"Canal Rojo\")\n",
        "plt.figure()"
      ],
      "metadata": {
        "colab": {
          "base_uri": "https://localhost:8080/",
          "height": 333
        },
        "id": "gTGAL6fTttbV",
        "outputId": "34f367e9-5b3f-417b-861a-88ee007e0f1a"
      },
      "execution_count": 21,
      "outputs": [
        {
          "output_type": "stream",
          "name": "stdout",
          "text": [
            "Dimensiones de la imagen:\n"
          ]
        },
        {
          "output_type": "execute_result",
          "data": {
            "text/plain": [
              "<Figure size 432x288 with 0 Axes>"
            ]
          },
          "metadata": {},
          "execution_count": 21
        },
        {
          "output_type": "display_data",
          "data": {
            "text/plain": [
              "<Figure size 432x288 with 1 Axes>"
            ],
            "image/png": "[encoded data removed]"
          },
          "metadata": {
            "needs_background": "light"
          }
        },
        {
          "output_type": "display_data",
          "data": {
            "text/plain": [
              "<Figure size 432x288 with 0 Axes>"
            ]
          },
          "metadata": {}
        }
      ]
    },
    {
      "cell_type": "markdown",
      "source": [
        "### Obtención de tensores \n",
        "\n",
        "**Funcion \"data_load_frames_save_tf\"**\n",
        "\n",
        "Proceso los videos y selecciono 32 frames del total de videos de forma aleatoria, en caso que los videos tengan menos frames repito el último hasta completar los 32.\n",
        "\n",
        "Los frames de cada video (imágenes) se pasan a tensores de numpy para que cuando se desee cargar lotes no se tenga que procesar imagenes sino leer archivos numpy previamente salvados. Los tensores son grabados en float32 para reducir el tamaño de archivos.\n",
        "\n",
        "La función borra además las imágenes para no sobrecargar el disco de la máqunia del colab.\n",
        "\n",
        "Los archivos de los tensores de numpy se guardan en **train_data** y **test_data**"
      ],
      "metadata": {
        "id": "hFYrdTc25V5y"
      }
    },
    {
      "cell_type": "code",
      "source": [
        "data_load_frames_save_tf(df_test,'test_data',32)\n",
        "data_load_frames_save_tf(df_train,'train_data',32)"
      ],
      "metadata": {
        "id": "CbSUc0dy0Shl"
      },
      "execution_count": 22,
      "outputs": []
    },
    {
      "cell_type": "code",
      "source": [
        "gc.collect()"
      ],
      "metadata": {
        "colab": {
          "base_uri": "https://localhost:8080/"
        },
        "id": "zNVprE3nseDx",
        "outputId": "9754273a-34f1-467d-b184-911fff20477e"
      },
      "execution_count": 23,
      "outputs": [
        {
          "output_type": "execute_result",
          "data": {
            "text/plain": [
              "277"
            ]
          },
          "metadata": {},
          "execution_count": 23
        }
      ]
    },
    {
      "cell_type": "markdown",
      "source": [
        "# Modelo Convolucional 3D \n"
      ],
      "metadata": {
        "id": "BS6rzySu-CMh"
      }
    },
    {
      "cell_type": "code",
      "source": [
        "test_dataset_new=load_data_from_tf(df_test,\"test_data\")"
      ],
      "metadata": {
        "id": "I-sZ2axmHHfx"
      },
      "execution_count": 24,
      "outputs": []
    },
    {
      "cell_type": "code",
      "source": [
        "#a=np.array(df_train.ID)\n",
        "#y_train = tf.keras.utils.to_categorical(a-1, num_classes =np.max(df_train.ID))\n",
        "\n",
        "a=np.array(df_test.ID)\n",
        "y_test = tf.keras.utils.to_categorical(a-1, num_classes =np.max(df_test.ID))\n",
        "\n",
        "model_output_size=len(df_test.ID.unique())\n",
        "model_output_size"
      ],
      "metadata": {
        "id": "1SD1b-Afndn9",
        "colab": {
          "base_uri": "https://localhost:8080/"
        },
        "outputId": "58c488c4-905b-488a-fb52-e4766c22df7b"
      },
      "execution_count": 25,
      "outputs": [
        {
          "output_type": "execute_result",
          "data": {
            "text/plain": [
              "64"
            ]
          },
          "metadata": {},
          "execution_count": 25
        }
      ]
    },
    {
      "cell_type": "markdown",
      "source": [
        "Conv2D(stride_temporal=2)->\n",
        "Conv2D(stride_temporal=2,stride_espacial=2) -> Conv2D(stride_temporal=2) -> Conv2D(stride_temporal=2,stride_espacial=2)"
      ],
      "metadata": {
        "id": "uvlg-7hT26d4"
      }
    },
    {
      "cell_type": "code",
      "source": [
        "nf=32\n",
        "w=128 \n",
        "h=128\n",
        "\n",
        "from sklearn.model_selection import train_test_split\n",
        "\n",
        "from tensorflow.keras.layers import *\n",
        "from tensorflow.keras.models import Sequential\n",
        "from tensorflow.keras.utils import to_categorical\n",
        "from tensorflow.keras.callbacks import EarlyStopping\n",
        "from tensorflow.keras.utils import plot_model\n",
        "\n",
        "def create_model():\n",
        "\n",
        "    # We will use a Sequential model for model construction\n",
        "    model = Sequential()\n",
        "\n",
        "    # Defining The Model Architecture\n",
        "    model.add(Conv3D(filters = 32, kernel_size = (3, 3,3), strides=(1,1,2), padding='same', activation = 'relu', input_shape = (nf,w, h, 1)))\n",
        "    model.add(Conv3D(filters = 32, kernel_size = (3, 3,3),strides=(2,2,2), padding='same', activation = 'relu'))\n",
        "    model.add(Conv3D(filters = 32, kernel_size = (3, 3,3),strides=(1,1,2), padding='same', activation = 'relu'))\n",
        "    model.add(Conv3D(filters = 64, kernel_size = (3, 3,3),strides=(2,2,2), padding='same', activation = 'relu')) \n",
        "    \n",
        "    model.add(BatchNormalization())\n",
        "    model.add(MaxPooling3D(pool_size = (2, 2,2)))\n",
        "    model.add(GlobalAveragePooling3D())\n",
        "    #model.add(Dense(64, activation = 'relu'))\n",
        "    #model.add(BatchNormalization())\n",
        "    model.add(Dense(model_output_size, activation = 'softmax'))\n",
        "\n",
        "    # Printing the models summary\n",
        "    model.summary()\n",
        "\n",
        "    return model\n",
        "\n",
        "\n",
        "# Calling the create_model method\n",
        "model = create_model()\n",
        "\n",
        "print(\"Model Created Successfully!\")"
      ],
      "metadata": {
        "colab": {
          "base_uri": "https://localhost:8080/"
        },
        "id": "DBBg19_8WMQL",
        "outputId": "2572a805-57e1-4c75-82fe-d77cf2fe3c3d"
      },
      "execution_count": 26,
      "outputs": [
        {
          "output_type": "stream",
          "name": "stdout",
          "text": [
            "Model: \"sequential\"\n",
            "_________________________________________________________________\n",
            " Layer (type)                Output Shape              Param #   \n",
            "=================================================================\n",
            " conv3d (Conv3D)             (None, 32, 128, 64, 32)   896       \n",
            "                                                                 \n",
            " conv3d_1 (Conv3D)           (None, 16, 64, 32, 32)    27680     \n",
            "                                                                 \n",
            " conv3d_2 (Conv3D)           (None, 16, 64, 16, 32)    27680     \n",
            "                                                                 \n",
            " conv3d_3 (Conv3D)           (None, 8, 32, 8, 64)      55360     \n",
            "                                                                 \n",
            " batch_normalization (BatchN  (None, 8, 32, 8, 64)     256       \n",
            " ormalization)                                                   \n",
            "                                                                 \n",
            " max_pooling3d (MaxPooling3D  (None, 4, 16, 4, 64)     0         \n",
            " )                                                               \n",
            "                                                                 \n",
            " global_average_pooling3d (G  (None, 64)               0         \n",
            " lobalAveragePooling3D)                                          \n",
            "                                                                 \n",
            " dense (Dense)               (None, 64)                4160      \n",
            "                                                                 \n",
            "=================================================================\n",
            "Total params: 116,032\n",
            "Trainable params: 115,904\n",
            "Non-trainable params: 128\n",
            "_________________________________________________________________\n",
            "Model Created Successfully!\n"
          ]
        }
      ]
    },
    {
      "cell_type": "code",
      "source": [
        "plot_model(model, to_file = 'model_structure_plot.png', show_shapes = True, show_layer_names = True)"
      ],
      "metadata": {
        "colab": {
          "base_uri": "https://localhost:8080/",
          "height": 976
        },
        "id": "xNrwGrS1-5Cf",
        "outputId": "b6117e14-0e96-4bb5-c583-144b300f2245"
      },
      "execution_count": 27,
      "outputs": [
        {
          "output_type": "execute_result",
          "data": {
            "text/plain": [
              "<IPython.core.display.Image object>"
            ],
            "image/png": "[encoded data removed]"
          },
          "metadata": {},
          "execution_count": 27
        }
      ]
    },
    {
      "cell_type": "markdown",
      "source": [
        "### Entrenamiento con Custom Sequence \n",
        "\n",
        "La función CustomSequence carga cada lote con 128 tensores numpy guardados en la carpeta train_data (nombre de archivo.npy) usando la función \n",
        "**load_data_from_tf**. "
      ],
      "metadata": {
        "id": "Ys4U6x4F1nMN"
      }
    },
    {
      "cell_type": "code",
      "source": [
        "# Adding Early Stopping Callback\n",
        "early_stopping_callback = EarlyStopping(monitor = 'val_loss', patience = 15, mode = 'min', restore_best_weights = True)\n",
        "\n",
        "# Adding loss, optimizer and metrics values to the model.\n",
        "model.compile(loss = 'categorical_crossentropy', optimizer = 'Adam', metrics = [\"accuracy\"])\n",
        "\n",
        "# generator\n",
        "#model_training_history = model.fit(generator(64), steps_per_epoch=60 , #validation_data=(test_dataset_new,y_test),\n",
        "#                                   callbacks = [early_stopping_callback]) #, shuffle = True\n",
        "# entrenamiento clásico\n",
        "#model_training_history = model.fit(x = train_dataset_new, y = y_train, epochs = 50, batch_size = 10 , validation_data=(test_dataset_new,y_test), callbacks = [early_stopping_callback]) #, shuffle = True\n",
        "\n",
        "# usando generador custom\n",
        "model_training_history = model.fit_generator(CustomSequence(4), epochs=1 , validation_data=(test_dataset_new,y_test), callbacks = [early_stopping_callback]) #, shuffle = True"
      ],
      "metadata": {
        "id": "hxNtGFKY_Hoy",
        "colab": {
          "base_uri": "https://localhost:8080/"
        },
        "outputId": "ceef7d3b-4f02-4f8d-bdb3-7d0fd4091786"
      },
      "execution_count": 31,
      "outputs": [
        {
          "output_type": "stream",
          "name": "stderr",
          "text": [
            "/usr/local/lib/python3.7/dist-packages/ipykernel_launcher.py:14: UserWarning: `Model.fit_generator` is deprecated and will be removed in a future version. Please use `Model.fit`, which supports generators.\n",
            "  \n"
          ]
        },
        {
          "output_type": "stream",
          "name": "stdout",
          "text": [
            "960/960 [==============================] - 70s 60ms/step - loss: 3.8665 - accuracy: 0.0576 - val_loss: 3.5799 - val_accuracy: 0.0784\n"
          ]
        }
      ]
    },
    {
      "cell_type": "code",
      "source": [
        "y_predict=model.predict(test_dataset_new)"
      ],
      "metadata": {
        "id": "eO_cRTBw0yyv"
      },
      "execution_count": 32,
      "outputs": []
    },
    {
      "cell_type": "code",
      "source": [
        "y_pred=prob2labels(y_predict)"
      ],
      "metadata": {
        "id": "bqkoca5V1C7u"
      },
      "execution_count": 33,
      "outputs": []
    },
    {
      "cell_type": "code",
      "source": [
        "accuracy(np.array(df_test.ID)-1,y_pred)"
      ],
      "metadata": {
        "colab": {
          "base_uri": "https://localhost:8080/"
        },
        "id": "2o1lHuYd1ImY",
        "outputId": "6b35f733-34c5-4a98-d712-ca77fd987029"
      },
      "execution_count": 34,
      "outputs": [
        {
          "output_type": "execute_result",
          "data": {
            "text/plain": [
              "0.0784313725490196"
            ]
          },
          "metadata": {},
          "execution_count": 34
        }
      ]
    },
    {
      "cell_type": "code",
      "source": [
        "confusion_calculada=confusion(np.array(df_test.ID)-1,y_pred).astype(int)\n",
        "names=df.id_name.unique()\n",
        "pd.DataFrame(confusion_calculada)#, index=names, columns=names)"
      ],
      "metadata": {
        "colab": {
          "base_uri": "https://localhost:8080/",
          "height": 424
        },
        "id": "z6mx5dypjomC",
        "outputId": "06e6b4ba-9ca5-4804-bcf4-1cb7eca2b2e5"
      },
      "execution_count": 35,
      "outputs": [
        {
          "output_type": "execute_result",
          "data": {
            "text/plain": [
              "    0   1   2   3   4   5   6   7   8   9   ...  54  55  56  57  58  59  60  \\\n",
              "0    0   0   0   0   0   0   0   0   0   0  ...   0   0   0   0   0   0   0   \n",
              "1    0   0   0   0   0   0   0   0   0   0  ...   0   0   0   0   0   0   0   \n",
              "2    0   0   0   0   0   0   0   0   0   0  ...   0   0   0   0   0   0   0   \n",
              "3    0   0   0   0   2   0   1   0   0   0  ...   0   0   0   1   0   0   0   \n",
              "4    0   0   0   0   1   0   0   0   0   0  ...   0   0   0   0   0   0   0   \n",
              "..  ..  ..  ..  ..  ..  ..  ..  ..  ..  ..  ...  ..  ..  ..  ..  ..  ..  ..   \n",
              "59   0   0   0   0   0   0   0   0   0   0  ...   0   0   0   0   0   0   0   \n",
              "60   0   0   0   0   0   0   0   0   0   0  ...   0   0   0   1   0   0   0   \n",
              "61   0   0   0   0   0   0   0   0   2   0  ...   0   0   0   0   0   0   0   \n",
              "62   0   0   0   0   0   0   0   0   0   0  ...   0   0   0   0   0   0   0   \n",
              "63   0   0   0   0   1   0   0   0   0   0  ...   0   0   0   0   0   0   0   \n",
              "\n",
              "    61  62  63  \n",
              "0    0   0   0  \n",
              "1    0   0   0  \n",
              "2    0   0   0  \n",
              "3    0   0   0  \n",
              "4    0   0   0  \n",
              "..  ..  ..  ..  \n",
              "59   0   0   0  \n",
              "60   0   0   0  \n",
              "61   0   0   0  \n",
              "62   0   0   0  \n",
              "63   0   0   0  \n",
              "\n",
              "[64 rows x 64 columns]"
            ],
            "text/html": [
              "\n",
              "  <div id=\"df-c300536c-d4a6-45b8-873d-54a92d3d99dd\">\n",
              "    <div class=\"colab-df-container\">\n",
              "      <div>\n",
              "<style scoped>\n",
              "    .dataframe tbody tr th:only-of-type {\n",
              "        vertical-align: middle;\n",
              "    }\n",
              "\n",
              "    .dataframe tbody tr th {\n",
              "        vertical-align: top;\n",
              "    }\n",
              "\n",
              "    .dataframe thead th {\n",
              "        text-align: right;\n",
              "    }\n",
              "</style>\n",
              "<table border=\"1\" class=\"dataframe\">\n",
              "  <thead>\n",
              "    <tr style=\"text-align: right;\">\n",
              "      <th></th>\n",
              "      <th>0</th>\n",
              "      <th>1</th>\n",
              "      <th>2</th>\n",
              "      <th>3</th>\n",
              "      <th>4</th>\n",
              "      <th>5</th>\n",
              "      <th>6</th>\n",
              "      <th>7</th>\n",
              "      <th>8</th>\n",
              "      <th>9</th>\n",
              "      <th>...</th>\n",
              "      <th>54</th>\n",
              "      <th>55</th>\n",
              "      <th>56</th>\n",
              "      <th>57</th>\n",
              "      <th>58</th>\n",
              "      <th>59</th>\n",
              "      <th>60</th>\n",
              "      <th>61</th>\n",
              "      <th>62</th>\n",
              "      <th>63</th>\n",
              "    </tr>\n",
              "  </thead>\n",
              "  <tbody>\n",
              "    <tr>\n",
              "      <th>0</th>\n",
              "      <td>0</td>\n",
              "      <td>0</td>\n",
              "      <td>0</td>\n",
              "      <td>0</td>\n",
              "      <td>0</td>\n",
              "      <td>0</td>\n",
              "      <td>0</td>\n",
              "      <td>0</td>\n",
              "      <td>0</td>\n",
              "      <td>0</td>\n",
              "      <td>...</td>\n",
              "      <td>0</td>\n",
              "      <td>0</td>\n",
              "      <td>0</td>\n",
              "      <td>0</td>\n",
              "      <td>0</td>\n",
              "      <td>0</td>\n",
              "      <td>0</td>\n",
              "      <td>0</td>\n",
              "      <td>0</td>\n",
              "      <td>0</td>\n",
              "    </tr>\n",
              "    <tr>\n",
              "      <th>1</th>\n",
              "      <td>0</td>\n",
              "      <td>0</td>\n",
              "      <td>0</td>\n",
              "      <td>0</td>\n",
              "      <td>0</td>\n",
              "      <td>0</td>\n",
              "      <td>0</td>\n",
              "      <td>0</td>\n",
              "      <td>0</td>\n",
              "      <td>0</td>\n",
              "      <td>...</td>\n",
              "      <td>0</td>\n",
              "      <td>0</td>\n",
              "      <td>0</td>\n",
              "      <td>0</td>\n",
              "      <td>0</td>\n",
              "      <td>0</td>\n",
              "      <td>0</td>\n",
              "      <td>0</td>\n",
              "      <td>0</td>\n",
              "      <td>0</td>\n",
              "    </tr>\n",
              "    <tr>\n",
              "      <th>2</th>\n",
              "      <td>0</td>\n",
              "      <td>0</td>\n",
              "      <td>0</td>\n",
              "      <td>0</td>\n",
              "      <td>0</td>\n",
              "      <td>0</td>\n",
              "      <td>0</td>\n",
              "      <td>0</td>\n",
              "      <td>0</td>\n",
              "      <td>0</td>\n",
              "      <td>...</td>\n",
              "      <td>0</td>\n",
              "      <td>0</td>\n",
              "      <td>0</td>\n",
              "      <td>0</td>\n",
              "      <td>0</td>\n",
              "      <td>0</td>\n",
              "      <td>0</td>\n",
              "      <td>0</td>\n",
              "      <td>0</td>\n",
              "      <td>0</td>\n",
              "    </tr>\n",
              "    <tr>\n",
              "      <th>3</th>\n",
              "      <td>0</td>\n",
              "      <td>0</td>\n",
              "      <td>0</td>\n",
              "      <td>0</td>\n",
              "      <td>2</td>\n",
              "      <td>0</td>\n",
              "      <td>1</td>\n",
              "      <td>0</td>\n",
              "      <td>0</td>\n",
              "      <td>0</td>\n",
              "      <td>...</td>\n",
              "      <td>0</td>\n",
              "      <td>0</td>\n",
              "      <td>0</td>\n",
              "      <td>1</td>\n",
              "      <td>0</td>\n",
              "      <td>0</td>\n",
              "      <td>0</td>\n",
              "      <td>0</td>\n",
              "      <td>0</td>\n",
              "      <td>0</td>\n",
              "    </tr>\n",
              "    <tr>\n",
              "      <th>4</th>\n",
              "      <td>0</td>\n",
              "      <td>0</td>\n",
              "      <td>0</td>\n",
              "      <td>0</td>\n",
              "      <td>1</td>\n",
              "      <td>0</td>\n",
              "      <td>0</td>\n",
              "      <td>0</td>\n",
              "      <td>0</td>\n",
              "      <td>0</td>\n",
              "      <td>...</td>\n",
              "      <td>0</td>\n",
              "      <td>0</td>\n",
              "      <td>0</td>\n",
              "      <td>0</td>\n",
              "      <td>0</td>\n",
              "      <td>0</td>\n",
              "      <td>0</td>\n",
              "      <td>0</td>\n",
              "      <td>0</td>\n",
              "      <td>0</td>\n",
              "    </tr>\n",
              "    <tr>\n",
              "      <th>...</th>\n",
              "      <td>...</td>\n",
              "      <td>...</td>\n",
              "      <td>...</td>\n",
              "      <td>...</td>\n",
              "      <td>...</td>\n",
              "      <td>...</td>\n",
              "      <td>...</td>\n",
              "      <td>...</td>\n",
              "      <td>...</td>\n",
              "      <td>...</td>\n",
              "      <td>...</td>\n",
              "      <td>...</td>\n",
              "      <td>...</td>\n",
              "      <td>...</td>\n",
              "      <td>...</td>\n",
              "      <td>...</td>\n",
              "      <td>...</td>\n",
              "      <td>...</td>\n",
              "      <td>...</td>\n",
              "      <td>...</td>\n",
              "      <td>...</td>\n",
              "    </tr>\n",
              "    <tr>\n",
              "      <th>59</th>\n",
              "      <td>0</td>\n",
              "      <td>0</td>\n",
              "      <td>0</td>\n",
              "      <td>0</td>\n",
              "      <td>0</td>\n",
              "      <td>0</td>\n",
              "      <td>0</td>\n",
              "      <td>0</td>\n",
              "      <td>0</td>\n",
              "      <td>0</td>\n",
              "      <td>...</td>\n",
              "      <td>0</td>\n",
              "      <td>0</td>\n",
              "      <td>0</td>\n",
              "      <td>0</td>\n",
              "      <td>0</td>\n",
              "      <td>0</td>\n",
              "      <td>0</td>\n",
              "      <td>0</td>\n",
              "      <td>0</td>\n",
              "      <td>0</td>\n",
              "    </tr>\n",
              "    <tr>\n",
              "      <th>60</th>\n",
              "      <td>0</td>\n",
              "      <td>0</td>\n",
              "      <td>0</td>\n",
              "      <td>0</td>\n",
              "      <td>0</td>\n",
              "      <td>0</td>\n",
              "      <td>0</td>\n",
              "      <td>0</td>\n",
              "      <td>0</td>\n",
              "      <td>0</td>\n",
              "      <td>...</td>\n",
              "      <td>0</td>\n",
              "      <td>0</td>\n",
              "      <td>0</td>\n",
              "      <td>1</td>\n",
              "      <td>0</td>\n",
              "      <td>0</td>\n",
              "      <td>0</td>\n",
              "      <td>0</td>\n",
              "      <td>0</td>\n",
              "      <td>0</td>\n",
              "    </tr>\n",
              "    <tr>\n",
              "      <th>61</th>\n",
              "      <td>0</td>\n",
              "      <td>0</td>\n",
              "      <td>0</td>\n",
              "      <td>0</td>\n",
              "      <td>0</td>\n",
              "      <td>0</td>\n",
              "      <td>0</td>\n",
              "      <td>0</td>\n",
              "      <td>2</td>\n",
              "      <td>0</td>\n",
              "      <td>...</td>\n",
              "      <td>0</td>\n",
              "      <td>0</td>\n",
              "      <td>0</td>\n",
              "      <td>0</td>\n",
              "      <td>0</td>\n",
              "      <td>0</td>\n",
              "      <td>0</td>\n",
              "      <td>0</td>\n",
              "      <td>0</td>\n",
              "      <td>0</td>\n",
              "    </tr>\n",
              "    <tr>\n",
              "      <th>62</th>\n",
              "      <td>0</td>\n",
              "      <td>0</td>\n",
              "      <td>0</td>\n",
              "      <td>0</td>\n",
              "      <td>0</td>\n",
              "      <td>0</td>\n",
              "      <td>0</td>\n",
              "      <td>0</td>\n",
              "      <td>0</td>\n",
              "      <td>0</td>\n",
              "      <td>...</td>\n",
              "      <td>0</td>\n",
              "      <td>0</td>\n",
              "      <td>0</td>\n",
              "      <td>0</td>\n",
              "      <td>0</td>\n",
              "      <td>0</td>\n",
              "      <td>0</td>\n",
              "      <td>0</td>\n",
              "      <td>0</td>\n",
              "      <td>0</td>\n",
              "    </tr>\n",
              "    <tr>\n",
              "      <th>63</th>\n",
              "      <td>0</td>\n",
              "      <td>0</td>\n",
              "      <td>0</td>\n",
              "      <td>0</td>\n",
              "      <td>1</td>\n",
              "      <td>0</td>\n",
              "      <td>0</td>\n",
              "      <td>0</td>\n",
              "      <td>0</td>\n",
              "      <td>0</td>\n",
              "      <td>...</td>\n",
              "      <td>0</td>\n",
              "      <td>0</td>\n",
              "      <td>0</td>\n",
              "      <td>0</td>\n",
              "      <td>0</td>\n",
              "      <td>0</td>\n",
              "      <td>0</td>\n",
              "      <td>0</td>\n",
              "      <td>0</td>\n",
              "      <td>0</td>\n",
              "    </tr>\n",
              "  </tbody>\n",
              "</table>\n",
              "<p>64 rows × 64 columns</p>\n",
              "</div>\n",
              "      <button class=\"colab-df-convert\" onclick=\"convertToInteractive('df-c300536c-d4a6-45b8-873d-54a92d3d99dd')\"\n",
              "              title=\"Convert this dataframe to an interactive table.\"\n",
              "              style=\"display:none;\">\n",
              "        \n",
              "  <svg xmlns=\"http://www.w3.org/2000/svg\" height=\"24px\"viewBox=\"0 0 24 24\"\n",
              "       width=\"24px\">\n",
              "    <path d=\"M0 0h24v24H0V0z\" fill=\"none\"/>\n",
              "    <path d=\"M18.56 5.44l.94 2.06.94-2.06 2.06-.94-2.06-.94-.94-2.06-.94 2.06-2.06.94zm-11 1L8.5 8.5l.94-2.06 2.06-.94-2.06-.94L8.5 2.5l-.94 2.06-2.06.94zm10 10l.94 2.06.94-2.06 2.06-.94-2.06-.94-.94-2.06-.94 2.06-2.06.94z\"/><path d=\"M17.41 7.96l-1.37-1.37c-.4-.4-.92-.59-1.43-.59-.52 0-1.04.2-1.43.59L10.3 9.45l-7.72 7.72c-.78.78-.78 2.05 0 2.83L4 21.41c.39.39.9.59 1.41.59.51 0 1.02-.2 1.41-.59l7.78-7.78 2.81-2.81c.8-.78.8-2.07 0-2.86zM5.41 20L4 18.59l7.72-7.72 1.47 1.35L5.41 20z\"/>\n",
              "  </svg>\n",
              "      </button>\n",
              "      \n",
              "  <style>\n",
              "    .colab-df-container {\n",
              "      display:flex;\n",
              "      flex-wrap:wrap;\n",
              "      gap: 12px;\n",
              "    }\n",
              "\n",
              "    .colab-df-convert {\n",
              "      background-color: #E8F0FE;\n",
              "      border: none;\n",
              "      border-radius: 50%;\n",
              "      cursor: pointer;\n",
              "      display: none;\n",
              "      fill: #1967D2;\n",
              "      height: 32px;\n",
              "      padding: 0 0 0 0;\n",
              "      width: 32px;\n",
              "    }\n",
              "\n",
              "    .colab-df-convert:hover {\n",
              "      background-color: #E2EBFA;\n",
              "      box-shadow: 0px 1px 2px rgba(60, 64, 67, 0.3), 0px 1px 3px 1px rgba(60, 64, 67, 0.15);\n",
              "      fill: #174EA6;\n",
              "    }\n",
              "\n",
              "    [theme=dark] .colab-df-convert {\n",
              "      background-color: #3B4455;\n",
              "      fill: #D2E3FC;\n",
              "    }\n",
              "\n",
              "    [theme=dark] .colab-df-convert:hover {\n",
              "      background-color: #434B5C;\n",
              "      box-shadow: 0px 1px 3px 1px rgba(0, 0, 0, 0.15);\n",
              "      filter: drop-shadow(0px 1px 2px rgba(0, 0, 0, 0.3));\n",
              "      fill: #FFFFFF;\n",
              "    }\n",
              "  </style>\n",
              "\n",
              "      <script>\n",
              "        const buttonEl =\n",
              "          document.querySelector('#df-c300536c-d4a6-45b8-873d-54a92d3d99dd button.colab-df-convert');\n",
              "        buttonEl.style.display =\n",
              "          google.colab.kernel.accessAllowed ? 'block' : 'none';\n",
              "\n",
              "        async function convertToInteractive(key) {\n",
              "          const element = document.querySelector('#df-c300536c-d4a6-45b8-873d-54a92d3d99dd');\n",
              "          const dataTable =\n",
              "            await google.colab.kernel.invokeFunction('convertToInteractive',\n",
              "                                                     [key], {});\n",
              "          if (!dataTable) return;\n",
              "\n",
              "          const docLinkHtml = 'Like what you see? Visit the ' +\n",
              "            '<a target=\"_blank\" href=https://colab.research.google.com/notebooks/data_table.ipynb>data table notebook</a>'\n",
              "            + ' to learn more about interactive tables.';\n",
              "          element.innerHTML = '';\n",
              "          dataTable['output_type'] = 'display_data';\n",
              "          await google.colab.output.renderOutput(dataTable, element);\n",
              "          const docLink = document.createElement('div');\n",
              "          docLink.innerHTML = docLinkHtml;\n",
              "          element.appendChild(docLink);\n",
              "        }\n",
              "      </script>\n",
              "    </div>\n",
              "  </div>\n",
              "  "
            ]
          },
          "metadata": {},
          "execution_count": 35
        }
      ]
    },
    {
      "cell_type": "code",
      "source": [
        "plt.figure(figsize=(12,10))\n",
        "import seaborn as sns\n",
        "sns.heatmap(confusion_calculada, cmap=\"YlGnBu\") #,annot=True"
      ],
      "metadata": {
        "colab": {
          "base_uri": "https://localhost:8080/",
          "height": 609
        },
        "id": "z8YGZPssjzAs",
        "outputId": "eb4662c2-2359-45b1-c098-e98ceddfaaf3"
      },
      "execution_count": 36,
      "outputs": [
        {
          "output_type": "execute_result",
          "data": {
            "text/plain": [
              "<matplotlib.axes._subplots.AxesSubplot at 0x7fba1421a950>"
            ]
          },
          "metadata": {},
          "execution_count": 36
        },
        {
          "output_type": "display_data",
          "data": {
            "text/plain": [
              "<Figure size 864x720 with 2 Axes>"
            ],
            "image/png": "[encoded data removed]"
          },
          "metadata": {
            "needs_background": "light"
          }
        }
      ]
    },
    {
      "cell_type": "code",
      "source": [
        "plt.plot(model_training_history.history['accuracy'])\n",
        "plt.plot(model_training_history.history['val_accuracy'])\n",
        "plt.legend(['train_acc','val_acc'])"
      ],
      "metadata": {
        "colab": {
          "base_uri": "https://localhost:8080/",
          "height": 282
        },
        "id": "28ZG9NDOSDQe",
        "outputId": "282da6d6-92c3-4673-c0dd-32a9d24901b9"
      },
      "execution_count": 37,
      "outputs": [
        {
          "output_type": "execute_result",
          "data": {
            "text/plain": [
              "<matplotlib.legend.Legend at 0x7fba80065490>"
            ]
          },
          "metadata": {},
          "execution_count": 37
        },
        {
          "output_type": "display_data",
          "data": {
            "text/plain": [
              "<Figure size 432x288 with 1 Axes>"
            ],
            "image/png": "[encoded data removed]"
          },
          "metadata": {
            "needs_background": "light"
          }
        }
      ]
    },
    {
      "cell_type": "code",
      "source": [
        "plt.plot(model_training_history.history['loss'])\n",
        "plt.plot(model_training_history.history['val_loss'])\n",
        "plt.legend(['train_loss','val_loss'])"
      ],
      "metadata": {
        "colab": {
          "base_uri": "https://localhost:8080/",
          "height": 282
        },
        "id": "TGsbLWa7SHdT",
        "outputId": "52ca51a7-8a1d-4e33-cc00-70cbdb47aea0"
      },
      "execution_count": 38,
      "outputs": [
        {
          "output_type": "execute_result",
          "data": {
            "text/plain": [
              "<matplotlib.legend.Legend at 0x7fb9fcac3a10>"
            ]
          },
          "metadata": {},
          "execution_count": 38
        },
        {
          "output_type": "display_data",
          "data": {
            "text/plain": [
              "<Figure size 432x288 with 1 Axes>"
            ],
            "image/png": "[encoded data removed]"
          },
          "metadata": {
            "needs_background": "light"
          }
        }
      ]
    },
    {
      "cell_type": "markdown",
      "source": [
        "Tengo 63 nombres y 64 IDs, se repite  \"Red\""
      ],
      "metadata": {
        "id": "tx07izbE8G8Y"
      }
    },
    {
      "cell_type": "code",
      "source": [
        "for layer in model.layers:\n",
        "    if 'conv'  in layer.name.lower():\n",
        "      filters, biases = layer.get_weights()\n",
        "      print(layer.name,filters.shape)\n",
        "    else:\n",
        "      weights = layer.get_weights()\n",
        "      if len(weights)>0:\n",
        "        message = \",\".join([str(w.shape) for w in weights])\n",
        "      else:\n",
        "        message=\"none\"\n",
        "      print(f\"{layer.name} weights: {message}\")\n"
      ],
      "metadata": {
        "id": "96wFP65y4m1m",
        "colab": {
          "base_uri": "https://localhost:8080/"
        },
        "outputId": "bacd33fb-9e4a-4f0c-b5ec-e3c9c65d8549"
      },
      "execution_count": 39,
      "outputs": [
        {
          "output_type": "stream",
          "name": "stdout",
          "text": [
            "conv3d (3, 3, 3, 1, 32)\n",
            "conv3d_1 (3, 3, 3, 32, 32)\n",
            "conv3d_2 (3, 3, 3, 32, 32)\n",
            "conv3d_3 (3, 3, 3, 32, 64)\n",
            "batch_normalization weights: (64,),(64,),(64,),(64,)\n",
            "max_pooling3d weights: none\n",
            "global_average_pooling3d weights: none\n",
            "dense weights: (64, 64),(64,)\n"
          ]
        }
      ]
    },
    {
      "cell_type": "code",
      "source": [
        "#Elegir capa convolucional y nro de filtro\n",
        "layer_name=\"conv3d_1\"#\"block1_conv2\"\n",
        "filter_index=0\n",
        "#dibujar filtro\n",
        "layer = layer_by_name(model,layer_name)\n",
        "filters, biases = layer.get_weights()\n",
        "plot_conv_weight(layer.name,filters[:,:,:,filter_index,0])"
      ],
      "metadata": {
        "colab": {
          "base_uri": "https://localhost:8080/",
          "height": 321
        },
        "id": "g1WtVL2LuyQ9",
        "outputId": "16fe2d94-5430-4cfb-d5ec-22afd67f9fb1"
      },
      "execution_count": 40,
      "outputs": [
        {
          "output_type": "error",
          "ename": "NameError",
          "evalue": "ignored",
          "traceback": [
            "\u001b[0;31m---------------------------------------------------------------------------\u001b[0m",
            "\u001b[0;31mNameError\u001b[0m                                 Traceback (most recent call last)",
            "\u001b[0;32m<ipython-input-40-f1cdce5fd003>\u001b[0m in \u001b[0;36m<module>\u001b[0;34m()\u001b[0m\n\u001b[1;32m      5\u001b[0m \u001b[0mlayer\u001b[0m \u001b[0;34m=\u001b[0m \u001b[0mlayer_by_name\u001b[0m\u001b[0;34m(\u001b[0m\u001b[0mmodel\u001b[0m\u001b[0;34m,\u001b[0m\u001b[0mlayer_name\u001b[0m\u001b[0;34m)\u001b[0m\u001b[0;34m\u001b[0m\u001b[0;34m\u001b[0m\u001b[0m\n\u001b[1;32m      6\u001b[0m \u001b[0mfilters\u001b[0m\u001b[0;34m,\u001b[0m \u001b[0mbiases\u001b[0m \u001b[0;34m=\u001b[0m \u001b[0mlayer\u001b[0m\u001b[0;34m.\u001b[0m\u001b[0mget_weights\u001b[0m\u001b[0;34m(\u001b[0m\u001b[0;34m)\u001b[0m\u001b[0;34m\u001b[0m\u001b[0;34m\u001b[0m\u001b[0m\n\u001b[0;32m----> 7\u001b[0;31m \u001b[0mplot_conv_weight\u001b[0m\u001b[0;34m(\u001b[0m\u001b[0mlayer\u001b[0m\u001b[0;34m.\u001b[0m\u001b[0mname\u001b[0m\u001b[0;34m,\u001b[0m\u001b[0mfilters\u001b[0m\u001b[0;34m[\u001b[0m\u001b[0;34m:\u001b[0m\u001b[0;34m,\u001b[0m\u001b[0;34m:\u001b[0m\u001b[0;34m,\u001b[0m\u001b[0;34m:\u001b[0m\u001b[0;34m,\u001b[0m\u001b[0mfilter_index\u001b[0m\u001b[0;34m,\u001b[0m\u001b[0;36m0\u001b[0m\u001b[0;34m]\u001b[0m\u001b[0;34m)\u001b[0m\u001b[0;34m\u001b[0m\u001b[0;34m\u001b[0m\u001b[0m\n\u001b[0m",
            "\u001b[0;32m/content/src/visualizar_filtros.py\u001b[0m in \u001b[0;36mplot_conv_weight\u001b[0;34m(layer_name, filters, max_filters, cols)\u001b[0m\n\u001b[1;32m      9\u001b[0m     \u001b[0mrows\u001b[0m\u001b[0;34m=\u001b[0m\u001b[0;34m(\u001b[0m \u001b[0mc\u001b[0m \u001b[0;34m//\u001b[0m \u001b[0mcols\u001b[0m \u001b[0;34m)\u001b[0m \u001b[0;34m+\u001b[0m \u001b[0mint\u001b[0m\u001b[0;34m(\u001b[0m\u001b[0;34m(\u001b[0m\u001b[0mc\u001b[0m \u001b[0;34m%\u001b[0m \u001b[0mcols\u001b[0m\u001b[0;34m)\u001b[0m\u001b[0;34m>\u001b[0m\u001b[0;36m0\u001b[0m\u001b[0;34m)\u001b[0m\u001b[0;34m\u001b[0m\u001b[0;34m\u001b[0m\u001b[0m\n\u001b[1;32m     10\u001b[0m     \u001b[0;31m# grilla de imágenes\u001b[0m\u001b[0;34m\u001b[0m\u001b[0;34m\u001b[0m\u001b[0;34m\u001b[0m\u001b[0m\n\u001b[0;32m---> 11\u001b[0;31m     \u001b[0mf\u001b[0m\u001b[0;34m=\u001b[0m\u001b[0mplt\u001b[0m\u001b[0;34m.\u001b[0m\u001b[0mfigure\u001b[0m\u001b[0;34m(\u001b[0m\u001b[0mfigsize\u001b[0m\u001b[0;34m=\u001b[0m\u001b[0;34m(\u001b[0m\u001b[0mcols\u001b[0m\u001b[0;34m,\u001b[0m\u001b[0mrows\u001b[0m\u001b[0;34m)\u001b[0m\u001b[0;34m,\u001b[0m\u001b[0mdpi\u001b[0m\u001b[0;34m=\u001b[0m\u001b[0;36m100\u001b[0m\u001b[0;34m)\u001b[0m\u001b[0;34m\u001b[0m\u001b[0;34m\u001b[0m\u001b[0m\n\u001b[0m\u001b[1;32m     12\u001b[0m     \u001b[0mgs\u001b[0m \u001b[0;34m=\u001b[0m \u001b[0mgridspec\u001b[0m\u001b[0;34m.\u001b[0m\u001b[0mGridSpec\u001b[0m\u001b[0;34m(\u001b[0m\u001b[0mrows\u001b[0m\u001b[0;34m,\u001b[0m \u001b[0mcols\u001b[0m\u001b[0;34m,\u001b[0m\u001b[0mwspace\u001b[0m\u001b[0;34m=\u001b[0m\u001b[0;36m0.0001\u001b[0m\u001b[0;34m,\u001b[0m\u001b[0mhspace\u001b[0m\u001b[0;34m=\u001b[0m\u001b[0;36m0.001\u001b[0m\u001b[0;34m)\u001b[0m\u001b[0;34m\u001b[0m\u001b[0;34m\u001b[0m\u001b[0m\n\u001b[1;32m     13\u001b[0m     \u001b[0;31m# maximo y minimo para dibujar todos en la misma escala\u001b[0m\u001b[0;34m\u001b[0m\u001b[0;34m\u001b[0m\u001b[0;34m\u001b[0m\u001b[0m\n",
            "\u001b[0;31mNameError\u001b[0m: name 'plt' is not defined"
          ]
        }
      ]
    },
    {
      "cell_type": "code",
      "source": [
        "filters.shape"
      ],
      "metadata": {
        "colab": {
          "base_uri": "https://localhost:8080/"
        },
        "id": "9WfU-yU-vMZr",
        "outputId": "9355a36b-ac83-4865-ddbf-d1c9e6ee0253"
      },
      "execution_count": 41,
      "outputs": [
        {
          "output_type": "execute_result",
          "data": {
            "text/plain": [
              "(3, 3, 3, 32, 32)"
            ]
          },
          "metadata": {},
          "execution_count": 41
        }
      ]
    },
    {
      "cell_type": "code",
      "source": [
        "stride(2,1,1) #primera capa\n",
        "#keras.layers.InputLayer(input_shape=[32,32,3]), para separar de la primera cada de convolucion\n",
        "\n",
        "# Plot generated samples\n",
        "#rows,cols = 5,5\n",
        "#f,ax=plt.subplots(rows,cols,figsize=(rows*1.5,cols*1.5))\n",
        "#for i in range(rows):\n",
        "  #for j in range(cols):\n",
        "\t\n",
        "    #x = samples_iterator.next()\n",
        "    #image = x[0].astype('uint8')\n",
        "    #ax[i,j].imshow(image)\n",
        "\n",
        "#print(\"Saving trained model..\")\n",
        "#model.save(\"conv_cifar10\")\n",
        "#print(\"Saving preprocessing function...\")\n",
        "#with open(\"preprocess_function.pickle\", \"wb\") as f:\n",
        "#    f.write(pickle.dumps(preprocess_data))\n",
        "#print(\"Done.\")\n",
        "#del model # delete variable, release memory"
      ],
      "metadata": {
        "id": "r_ADKhDO2vTH"
      },
      "execution_count": null,
      "outputs": []
    }
  ]
}