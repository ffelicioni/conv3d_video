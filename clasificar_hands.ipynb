{
  "nbformat": 4,
  "nbformat_minor": 0,
  "metadata": {
    "colab": {
      "name": "clasificar_hands.ipynb",
      "provenance": [],
      "collapsed_sections": [],
      "include_colab_link": true
    },
    "kernelspec": {
      "name": "python3",
      "display_name": "Python 3"
    },
    "language_info": {
      "name": "python"
    },
    "accelerator": "GPU"
  },
  "cells": [
    {
      "cell_type": "markdown",
      "metadata": {
        "id": "view-in-github",
        "colab_type": "text"
      },
      "source": [
        "<a href=\"https://colab.research.google.com/github/ffelicioni/conv3d_video/blob/main/clasificar_hands.ipynb\" target=\"_parent\"><img src=\"https://colab.research.google.com/assets/colab-badge.svg\" alt=\"Open In Colab\"/></a>"
      ]
    },
    {
      "cell_type": "markdown",
      "source": [
        "## Módulos"
      ],
      "metadata": {
        "id": "fzjgmRX78tRn"
      }
    },
    {
      "cell_type": "code",
      "execution_count": 1,
      "metadata": {
        "id": "xbVtRxLIYi69"
      },
      "outputs": [],
      "source": [
        "import os as os\n",
        "import pandas as pd\n",
        "import glob\n",
        "from pathlib import Path\n",
        "\n",
        "from IPython.display import clear_output\n",
        "import sys\n",
        "\n",
        "import seaborn as sns\n",
        "import matplotlib.pyplot as plt\n",
        "import numpy as np\n",
        "import math as math\n",
        "\n",
        "from google.colab.patches import cv2_imshow\n",
        "\n",
        "import tensorflow as tf\n",
        "from tensorflow import keras\n",
        "\n",
        "import cv2\n",
        "\n",
        "from sklearn.model_selection import train_test_split\n",
        "\n",
        "from sklearn.model_selection import StratifiedShuffleSplit\n",
        "\n",
        "import matplotlib.pyplot as plt\n",
        "from skimage import io\n",
        "\n",
        "import random as random\n",
        "\n",
        "import shutil"
      ]
    },
    {
      "cell_type": "markdown",
      "source": [
        "## Funciones"
      ],
      "metadata": {
        "id": "Coq5VvkF8oez"
      }
    },
    {
      "cell_type": "code",
      "source": [
        "! mkdir /content/src\n",
        "sys.path.append('./src')\n",
        "% cd /content/src\n",
        "archivos=['__init__.py','armado_dataset.py','clasificacion.py','visualizar_filtros.py','carga_datos.py']\n",
        "for archivo in archivos:\n",
        "    !wget \"https://raw.githubusercontent.com/ffelicioni/conv3d_video/main/src/{archivo}\"\n",
        "% cd /content\n",
        "\n",
        "clear_output()"
      ],
      "metadata": {
        "id": "tLbFnESzZ5dZ"
      },
      "execution_count": 2,
      "outputs": []
    },
    {
      "cell_type": "code",
      "source": [
        "from armado_dataset import video_capturing_function, data_load_function_frames, resampling_rand, data_load_frames_save_tf, load_data_from_tf\n",
        "\n",
        "from clasificacion import prob2labels, accuracy, confusion\n",
        "\n",
        "from carga_datos import CustomSequence\n",
        "\n",
        "from visualizar_filtros import plot_conv_weight, layer_by_name"
      ],
      "metadata": {
        "id": "wDk8AYPlaTIr"
      },
      "execution_count": 3,
      "outputs": []
    },
    {
      "cell_type": "markdown",
      "source": [
        "## Chequeo GPU"
      ],
      "metadata": {
        "id": "xlNa_dH48wwK"
      }
    },
    {
      "cell_type": "code",
      "source": [
        "tf.test.gpu_device_name()"
      ],
      "metadata": {
        "colab": {
          "base_uri": "https://localhost:8080/",
          "height": 35
        },
        "id": "yaTuNeJyzHhW",
        "outputId": "9801c43b-714f-431b-deb1-477b91fed3d6"
      },
      "execution_count": 4,
      "outputs": [
        {
          "output_type": "execute_result",
          "data": {
            "text/plain": [
              "'/device:GPU:0'"
            ],
            "application/vnd.google.colaboratory.intrinsic+json": {
              "type": "string"
            }
          },
          "metadata": {},
          "execution_count": 4
        }
      ]
    },
    {
      "cell_type": "code",
      "source": [
        "!/opt/bin/nvidia-smi"
      ],
      "metadata": {
        "colab": {
          "base_uri": "https://localhost:8080/"
        },
        "id": "w5SV6cv-3Lze",
        "outputId": "0bb9ee5d-09fe-4b21-e5bb-132866b48b60"
      },
      "execution_count": 5,
      "outputs": [
        {
          "output_type": "stream",
          "name": "stdout",
          "text": [
            "Mon Jul  4 19:27:48 2022       \n",
            "+-----------------------------------------------------------------------------+\n",
            "| NVIDIA-SMI 460.32.03    Driver Version: 460.32.03    CUDA Version: 11.2     |\n",
            "|-------------------------------+----------------------+----------------------+\n",
            "| GPU  Name        Persistence-M| Bus-Id        Disp.A | Volatile Uncorr. ECC |\n",
            "| Fan  Temp  Perf  Pwr:Usage/Cap|         Memory-Usage | GPU-Util  Compute M. |\n",
            "|                               |                      |               MIG M. |\n",
            "|===============================+======================+======================|\n",
            "|   0  Tesla T4            Off  | 00000000:00:04.0 Off |                    0 |\n",
            "| N/A   38C    P0    27W /  70W |    264MiB / 15109MiB |      0%      Default |\n",
            "|                               |                      |                  N/A |\n",
            "+-------------------------------+----------------------+----------------------+\n",
            "                                                                               \n",
            "+-----------------------------------------------------------------------------+\n",
            "| Processes:                                                                  |\n",
            "|  GPU   GI   CI        PID   Type   Process name                  GPU Memory |\n",
            "|        ID   ID                                                   Usage      |\n",
            "|=============================================================================|\n",
            "+-----------------------------------------------------------------------------+\n"
          ]
        }
      ]
    },
    {
      "cell_type": "code",
      "source": [
        "import gc\n",
        "gc.collect()"
      ],
      "metadata": {
        "colab": {
          "base_uri": "https://localhost:8080/"
        },
        "id": "n63YLbbE_kjf",
        "outputId": "c86a7113-c57e-4244-b21a-2d03c8d10069"
      },
      "execution_count": 6,
      "outputs": [
        {
          "output_type": "execute_result",
          "data": {
            "text/plain": [
              "297"
            ]
          },
          "metadata": {},
          "execution_count": 6
        }
      ]
    },
    {
      "cell_type": "markdown",
      "source": [
        "## Datasets"
      ],
      "metadata": {
        "id": "WC2b6Fp285Sn"
      }
    },
    {
      "cell_type": "code",
      "source": [
        "from google.colab import drive\n",
        "drive.mount('/content/drive')"
      ],
      "metadata": {
        "colab": {
          "base_uri": "https://localhost:8080/"
        },
        "id": "XArnzVbvYmvK",
        "outputId": "97b3fba8-7fb7-4b62-adbb-58d521e21d00"
      },
      "execution_count": 7,
      "outputs": [
        {
          "output_type": "stream",
          "name": "stdout",
          "text": [
            "Mounted at /content/drive\n"
          ]
        }
      ]
    },
    {
      "cell_type": "code",
      "source": [
        "!unzip drive/MyDrive/lsa64_preprocessed.zip -d dataset\n",
        "clear_output()"
      ],
      "metadata": {
        "id": "Y_yfppm4ZD20"
      },
      "execution_count": 8,
      "outputs": []
    },
    {
      "cell_type": "markdown",
      "source": [
        "Armo dataset con nombres de los videos disponibles"
      ],
      "metadata": {
        "id": "gXH5eIVAt1l5"
      }
    },
    {
      "cell_type": "code",
      "source": [
        "import glob\n",
        "from pathlib import Path\n",
        "import pandas as pd\n",
        "meta=[]\n",
        "data = []\n",
        "for file_path in sorted(glob.glob('/content/dataset/lsa64_hand_videos/*.avi')):\n",
        "  filename = Path(file_path).stem\n",
        "  filename_parts = filename.split('_')\n",
        "  metadata = {'file_path': file_path,\n",
        "              'ID': filename_parts[0],\n",
        "              'persona': filename_parts[1],\n",
        "              'repeticion': filename_parts[2],\n",
        "              'mano': filename_parts[3]\n",
        "              }\n",
        "  meta.append(metadata)\n",
        "  #image = io.cv2.imread(file_path,cv2.IMREAD_GRAYSCALE)\n",
        "  #data.append(image)\n",
        "\n",
        "df = pd.DataFrame(meta)\n",
        "df.ID=df.ID.astype('int64')"
      ],
      "metadata": {
        "id": "1sI7HZK9ZiFY"
      },
      "execution_count": 9,
      "outputs": []
    },
    {
      "cell_type": "code",
      "source": [
        "print('cantidad de videos:',len(sorted(glob.glob('/content/dataset/lsa64_hand_videos/*.avi'))))\n",
        "print('cantidad de personas:', len(df.persona.unique()))\n",
        "print('cantidad de repeticiones:', len(df.repeticion.unique()))"
      ],
      "metadata": {
        "colab": {
          "base_uri": "https://localhost:8080/"
        },
        "id": "kRQkwxyD4v-5",
        "outputId": "576dcc4d-8d59-406e-faf2-d7aee6e28590"
      },
      "execution_count": 10,
      "outputs": [
        {
          "output_type": "stream",
          "name": "stdout",
          "text": [
            "cantidad de videos: 4299\n",
            "cantidad de personas: 10\n",
            "cantidad de repeticiones: 5\n"
          ]
        }
      ]
    },
    {
      "cell_type": "code",
      "source": [
        "clases=pd.read_csv('/content/drive/MyDrive/clase_LSA64.csv')\n",
        "print('cantidad de clases:', len(clases.Name.unique()),'nombres: ',clases.Name.unique())"
      ],
      "metadata": {
        "colab": {
          "base_uri": "https://localhost:8080/"
        },
        "id": "ws0jy5FgeY5F",
        "outputId": "399efda6-bc17-4d3b-d838-0515ed66ce56"
      },
      "execution_count": 11,
      "outputs": [
        {
          "output_type": "stream",
          "name": "stdout",
          "text": [
            "cantidad de clases: 63 nombres:  ['Opaque' 'Red' 'Green' 'Yellow' 'Bright' 'Light-blue' 'Colors' 'Women'\n",
            " 'Enemy' 'Son' 'Man' 'Away' 'Drawer' 'Born' 'Learn' 'Call' 'Skimmer'\n",
            " 'Bitter' 'Sweet milk' 'Milk' 'Water' 'Food' 'Argentina' 'Uruguay'\n",
            " 'Country' 'Last name' 'Where' 'Mock' 'Birthday' 'Breakfast' 'Photo'\n",
            " 'Hungry' 'Map' 'Coin' 'Music' 'Ship' 'None' 'Name' 'Patience' 'Perfume'\n",
            " 'Deaf' 'Trap' 'Rice' 'Barbecue' 'Candy' 'Chewing-gum' 'Spaghetti'\n",
            " 'Yogurt' 'Accept' 'Thanks' 'Shut down' 'Appear' 'To land' 'Catch' 'Help'\n",
            " 'Dance' 'Bathe' 'Buy' 'Copy' 'Run' 'Realize' 'Give' 'Find']\n"
          ]
        }
      ]
    },
    {
      "cell_type": "markdown",
      "source": [
        "hay 63 clases distintas porque la clase \"Red\" se repite. "
      ],
      "metadata": {
        "id": "r4U88I4NuRTG"
      }
    },
    {
      "cell_type": "code",
      "source": [
        "df['id_name']=pd.merge(df,clases,on='ID',how='left').Name\n",
        "df"
      ],
      "metadata": {
        "colab": {
          "base_uri": "https://localhost:8080/",
          "height": 424
        },
        "id": "5k9OWVGh1lAf",
        "outputId": "c4460e6d-6140-4d2c-9e03-29ff6e6a9c32"
      },
      "execution_count": 12,
      "outputs": [
        {
          "output_type": "execute_result",
          "data": {
            "text/plain": [
              "                                              file_path  ID persona  \\\n",
              "0     /content/dataset/lsa64_hand_videos/001_001_001...   1     001   \n",
              "1     /content/dataset/lsa64_hand_videos/001_001_002...   1     001   \n",
              "2     /content/dataset/lsa64_hand_videos/001_001_003...   1     001   \n",
              "3     /content/dataset/lsa64_hand_videos/001_001_004...   1     001   \n",
              "4     /content/dataset/lsa64_hand_videos/001_001_005...   1     001   \n",
              "...                                                 ...  ..     ...   \n",
              "4294  /content/dataset/lsa64_hand_videos/064_010_001...  64     010   \n",
              "4295  /content/dataset/lsa64_hand_videos/064_010_002...  64     010   \n",
              "4296  /content/dataset/lsa64_hand_videos/064_010_003...  64     010   \n",
              "4297  /content/dataset/lsa64_hand_videos/064_010_004...  64     010   \n",
              "4298  /content/dataset/lsa64_hand_videos/064_010_005...  64     010   \n",
              "\n",
              "     repeticion   mano id_name  \n",
              "0           001  right  Opaque  \n",
              "1           002  right  Opaque  \n",
              "2           003  right  Opaque  \n",
              "3           004  right  Opaque  \n",
              "4           005  right  Opaque  \n",
              "...         ...    ...     ...  \n",
              "4294        001  right    Find  \n",
              "4295        002  right    Find  \n",
              "4296        003  right    Find  \n",
              "4297        004  right    Find  \n",
              "4298        005  right    Find  \n",
              "\n",
              "[4299 rows x 6 columns]"
            ],
            "text/html": [
              "\n",
              "  <div id=\"df-f94742f0-d95b-4307-a459-464e33b6d61f\">\n",
              "    <div class=\"colab-df-container\">\n",
              "      <div>\n",
              "<style scoped>\n",
              "    .dataframe tbody tr th:only-of-type {\n",
              "        vertical-align: middle;\n",
              "    }\n",
              "\n",
              "    .dataframe tbody tr th {\n",
              "        vertical-align: top;\n",
              "    }\n",
              "\n",
              "    .dataframe thead th {\n",
              "        text-align: right;\n",
              "    }\n",
              "</style>\n",
              "<table border=\"1\" class=\"dataframe\">\n",
              "  <thead>\n",
              "    <tr style=\"text-align: right;\">\n",
              "      <th></th>\n",
              "      <th>file_path</th>\n",
              "      <th>ID</th>\n",
              "      <th>persona</th>\n",
              "      <th>repeticion</th>\n",
              "      <th>mano</th>\n",
              "      <th>id_name</th>\n",
              "    </tr>\n",
              "  </thead>\n",
              "  <tbody>\n",
              "    <tr>\n",
              "      <th>0</th>\n",
              "      <td>/content/dataset/lsa64_hand_videos/001_001_001...</td>\n",
              "      <td>1</td>\n",
              "      <td>001</td>\n",
              "      <td>001</td>\n",
              "      <td>right</td>\n",
              "      <td>Opaque</td>\n",
              "    </tr>\n",
              "    <tr>\n",
              "      <th>1</th>\n",
              "      <td>/content/dataset/lsa64_hand_videos/001_001_002...</td>\n",
              "      <td>1</td>\n",
              "      <td>001</td>\n",
              "      <td>002</td>\n",
              "      <td>right</td>\n",
              "      <td>Opaque</td>\n",
              "    </tr>\n",
              "    <tr>\n",
              "      <th>2</th>\n",
              "      <td>/content/dataset/lsa64_hand_videos/001_001_003...</td>\n",
              "      <td>1</td>\n",
              "      <td>001</td>\n",
              "      <td>003</td>\n",
              "      <td>right</td>\n",
              "      <td>Opaque</td>\n",
              "    </tr>\n",
              "    <tr>\n",
              "      <th>3</th>\n",
              "      <td>/content/dataset/lsa64_hand_videos/001_001_004...</td>\n",
              "      <td>1</td>\n",
              "      <td>001</td>\n",
              "      <td>004</td>\n",
              "      <td>right</td>\n",
              "      <td>Opaque</td>\n",
              "    </tr>\n",
              "    <tr>\n",
              "      <th>4</th>\n",
              "      <td>/content/dataset/lsa64_hand_videos/001_001_005...</td>\n",
              "      <td>1</td>\n",
              "      <td>001</td>\n",
              "      <td>005</td>\n",
              "      <td>right</td>\n",
              "      <td>Opaque</td>\n",
              "    </tr>\n",
              "    <tr>\n",
              "      <th>...</th>\n",
              "      <td>...</td>\n",
              "      <td>...</td>\n",
              "      <td>...</td>\n",
              "      <td>...</td>\n",
              "      <td>...</td>\n",
              "      <td>...</td>\n",
              "    </tr>\n",
              "    <tr>\n",
              "      <th>4294</th>\n",
              "      <td>/content/dataset/lsa64_hand_videos/064_010_001...</td>\n",
              "      <td>64</td>\n",
              "      <td>010</td>\n",
              "      <td>001</td>\n",
              "      <td>right</td>\n",
              "      <td>Find</td>\n",
              "    </tr>\n",
              "    <tr>\n",
              "      <th>4295</th>\n",
              "      <td>/content/dataset/lsa64_hand_videos/064_010_002...</td>\n",
              "      <td>64</td>\n",
              "      <td>010</td>\n",
              "      <td>002</td>\n",
              "      <td>right</td>\n",
              "      <td>Find</td>\n",
              "    </tr>\n",
              "    <tr>\n",
              "      <th>4296</th>\n",
              "      <td>/content/dataset/lsa64_hand_videos/064_010_003...</td>\n",
              "      <td>64</td>\n",
              "      <td>010</td>\n",
              "      <td>003</td>\n",
              "      <td>right</td>\n",
              "      <td>Find</td>\n",
              "    </tr>\n",
              "    <tr>\n",
              "      <th>4297</th>\n",
              "      <td>/content/dataset/lsa64_hand_videos/064_010_004...</td>\n",
              "      <td>64</td>\n",
              "      <td>010</td>\n",
              "      <td>004</td>\n",
              "      <td>right</td>\n",
              "      <td>Find</td>\n",
              "    </tr>\n",
              "    <tr>\n",
              "      <th>4298</th>\n",
              "      <td>/content/dataset/lsa64_hand_videos/064_010_005...</td>\n",
              "      <td>64</td>\n",
              "      <td>010</td>\n",
              "      <td>005</td>\n",
              "      <td>right</td>\n",
              "      <td>Find</td>\n",
              "    </tr>\n",
              "  </tbody>\n",
              "</table>\n",
              "<p>4299 rows × 6 columns</p>\n",
              "</div>\n",
              "      <button class=\"colab-df-convert\" onclick=\"convertToInteractive('df-f94742f0-d95b-4307-a459-464e33b6d61f')\"\n",
              "              title=\"Convert this dataframe to an interactive table.\"\n",
              "              style=\"display:none;\">\n",
              "        \n",
              "  <svg xmlns=\"http://www.w3.org/2000/svg\" height=\"24px\"viewBox=\"0 0 24 24\"\n",
              "       width=\"24px\">\n",
              "    <path d=\"M0 0h24v24H0V0z\" fill=\"none\"/>\n",
              "    <path d=\"M18.56 5.44l.94 2.06.94-2.06 2.06-.94-2.06-.94-.94-2.06-.94 2.06-2.06.94zm-11 1L8.5 8.5l.94-2.06 2.06-.94-2.06-.94L8.5 2.5l-.94 2.06-2.06.94zm10 10l.94 2.06.94-2.06 2.06-.94-2.06-.94-.94-2.06-.94 2.06-2.06.94z\"/><path d=\"M17.41 7.96l-1.37-1.37c-.4-.4-.92-.59-1.43-.59-.52 0-1.04.2-1.43.59L10.3 9.45l-7.72 7.72c-.78.78-.78 2.05 0 2.83L4 21.41c.39.39.9.59 1.41.59.51 0 1.02-.2 1.41-.59l7.78-7.78 2.81-2.81c.8-.78.8-2.07 0-2.86zM5.41 20L4 18.59l7.72-7.72 1.47 1.35L5.41 20z\"/>\n",
              "  </svg>\n",
              "      </button>\n",
              "      \n",
              "  <style>\n",
              "    .colab-df-container {\n",
              "      display:flex;\n",
              "      flex-wrap:wrap;\n",
              "      gap: 12px;\n",
              "    }\n",
              "\n",
              "    .colab-df-convert {\n",
              "      background-color: #E8F0FE;\n",
              "      border: none;\n",
              "      border-radius: 50%;\n",
              "      cursor: pointer;\n",
              "      display: none;\n",
              "      fill: #1967D2;\n",
              "      height: 32px;\n",
              "      padding: 0 0 0 0;\n",
              "      width: 32px;\n",
              "    }\n",
              "\n",
              "    .colab-df-convert:hover {\n",
              "      background-color: #E2EBFA;\n",
              "      box-shadow: 0px 1px 2px rgba(60, 64, 67, 0.3), 0px 1px 3px 1px rgba(60, 64, 67, 0.15);\n",
              "      fill: #174EA6;\n",
              "    }\n",
              "\n",
              "    [theme=dark] .colab-df-convert {\n",
              "      background-color: #3B4455;\n",
              "      fill: #D2E3FC;\n",
              "    }\n",
              "\n",
              "    [theme=dark] .colab-df-convert:hover {\n",
              "      background-color: #434B5C;\n",
              "      box-shadow: 0px 1px 3px 1px rgba(0, 0, 0, 0.15);\n",
              "      filter: drop-shadow(0px 1px 2px rgba(0, 0, 0, 0.3));\n",
              "      fill: #FFFFFF;\n",
              "    }\n",
              "  </style>\n",
              "\n",
              "      <script>\n",
              "        const buttonEl =\n",
              "          document.querySelector('#df-f94742f0-d95b-4307-a459-464e33b6d61f button.colab-df-convert');\n",
              "        buttonEl.style.display =\n",
              "          google.colab.kernel.accessAllowed ? 'block' : 'none';\n",
              "\n",
              "        async function convertToInteractive(key) {\n",
              "          const element = document.querySelector('#df-f94742f0-d95b-4307-a459-464e33b6d61f');\n",
              "          const dataTable =\n",
              "            await google.colab.kernel.invokeFunction('convertToInteractive',\n",
              "                                                     [key], {});\n",
              "          if (!dataTable) return;\n",
              "\n",
              "          const docLinkHtml = 'Like what you see? Visit the ' +\n",
              "            '<a target=\"_blank\" href=https://colab.research.google.com/notebooks/data_table.ipynb>data table notebook</a>'\n",
              "            + ' to learn more about interactive tables.';\n",
              "          element.innerHTML = '';\n",
              "          dataTable['output_type'] = 'display_data';\n",
              "          await google.colab.output.renderOutput(dataTable, element);\n",
              "          const docLink = document.createElement('div');\n",
              "          docLink.innerHTML = docLinkHtml;\n",
              "          element.appendChild(docLink);\n",
              "        }\n",
              "      </script>\n",
              "    </div>\n",
              "  </div>\n",
              "  "
            ]
          },
          "metadata": {},
          "execution_count": 12
        }
      ]
    },
    {
      "cell_type": "code",
      "source": [
        "plt.plot(df.ID.value_counts(),'x')"
      ],
      "metadata": {
        "colab": {
          "base_uri": "https://localhost:8080/",
          "height": 282
        },
        "id": "rclTww50dBt-",
        "outputId": "c771c157-a7bb-47f2-c241-a16439eed12a"
      },
      "execution_count": 13,
      "outputs": [
        {
          "output_type": "execute_result",
          "data": {
            "text/plain": [
              "[<matplotlib.lines.Line2D at 0x7fd2615cf550>]"
            ]
          },
          "metadata": {},
          "execution_count": 13
        },
        {
          "output_type": "display_data",
          "data": {
            "text/plain": [
              "<Figure size 432x288 with 1 Axes>"
            ],
            "image/png": "[encoded data removed]"
          },
          "metadata": {
            "needs_background": "light"
          }
        }
      ]
    },
    {
      "cell_type": "markdown",
      "source": [
        "Lotes de 4"
      ],
      "metadata": {
        "id": "QJWBpRi2y4Yi"
      }
    },
    {
      "cell_type": "code",
      "source": [
        "batch=960\n",
        "batch_size=4\n",
        "cant_train=batch*batch_size #6*\n",
        "n_test=len(df)-cant_train\n",
        "print('entrenamiento:',cant_train, 'testing:', n_test,'-', (len(df)-cant_train)/cant_train,'%')\n",
        "print('cantidad batch:',batch,'batch_size:', cant_train / batch)"
      ],
      "metadata": {
        "colab": {
          "base_uri": "https://localhost:8080/"
        },
        "id": "t14Df5RyGyZ8",
        "outputId": "190871ee-dfd8-4d65-dd16-0e4792b8c942"
      },
      "execution_count": 14,
      "outputs": [
        {
          "output_type": "stream",
          "name": "stdout",
          "text": [
            "entrenamiento: 3840 testing: 459 - 0.11953125 %\n",
            "cantidad batch: 960 batch_size: 4.0\n"
          ]
        }
      ]
    },
    {
      "cell_type": "code",
      "source": [
        "X_train_index, X_test_index, y_train, y_test = train_test_split(df.index, df.ID, stratify=df.ID, test_size=n_test,random_state=0)\n",
        "\n",
        "df_train=df.loc[sorted(X_train_index)]\n",
        "\n",
        "df_test=df.loc[sorted(X_test_index)]\n",
        "df_test"
      ],
      "metadata": {
        "id": "e_LkKO0V6_n1",
        "colab": {
          "base_uri": "https://localhost:8080/",
          "height": 424
        },
        "outputId": "9d1437c6-87f0-410f-a2a8-02827094aee3"
      },
      "execution_count": 15,
      "outputs": [
        {
          "output_type": "execute_result",
          "data": {
            "text/plain": [
              "                                              file_path  ID persona  \\\n",
              "10    /content/dataset/lsa64_hand_videos/001_003_001...   1     003   \n",
              "11    /content/dataset/lsa64_hand_videos/001_003_002...   1     003   \n",
              "23    /content/dataset/lsa64_hand_videos/001_005_004...   1     005   \n",
              "31    /content/dataset/lsa64_hand_videos/001_007_002...   1     007   \n",
              "32    /content/dataset/lsa64_hand_videos/001_007_003...   1     007   \n",
              "...                                                 ...  ..     ...   \n",
              "4254  /content/dataset/lsa64_hand_videos/064_002_001...  64     002   \n",
              "4256  /content/dataset/lsa64_hand_videos/064_002_003...  64     002   \n",
              "4258  /content/dataset/lsa64_hand_videos/064_002_005...  64     002   \n",
              "4269  /content/dataset/lsa64_hand_videos/064_005_001...  64     005   \n",
              "4285  /content/dataset/lsa64_hand_videos/064_008_002...  64     008   \n",
              "\n",
              "     repeticion   mano id_name  \n",
              "10          001  right  Opaque  \n",
              "11          002  right  Opaque  \n",
              "23          004  right  Opaque  \n",
              "31          002  right  Opaque  \n",
              "32          003  right  Opaque  \n",
              "...         ...    ...     ...  \n",
              "4254        001  right    Find  \n",
              "4256        003  right    Find  \n",
              "4258        005  right    Find  \n",
              "4269        001  right    Find  \n",
              "4285        002  right    Find  \n",
              "\n",
              "[459 rows x 6 columns]"
            ],
            "text/html": [
              "\n",
              "  <div id=\"df-1512120a-8e7c-4aa0-a37d-ea1370251f5d\">\n",
              "    <div class=\"colab-df-container\">\n",
              "      <div>\n",
              "<style scoped>\n",
              "    .dataframe tbody tr th:only-of-type {\n",
              "        vertical-align: middle;\n",
              "    }\n",
              "\n",
              "    .dataframe tbody tr th {\n",
              "        vertical-align: top;\n",
              "    }\n",
              "\n",
              "    .dataframe thead th {\n",
              "        text-align: right;\n",
              "    }\n",
              "</style>\n",
              "<table border=\"1\" class=\"dataframe\">\n",
              "  <thead>\n",
              "    <tr style=\"text-align: right;\">\n",
              "      <th></th>\n",
              "      <th>file_path</th>\n",
              "      <th>ID</th>\n",
              "      <th>persona</th>\n",
              "      <th>repeticion</th>\n",
              "      <th>mano</th>\n",
              "      <th>id_name</th>\n",
              "    </tr>\n",
              "  </thead>\n",
              "  <tbody>\n",
              "    <tr>\n",
              "      <th>10</th>\n",
              "      <td>/content/dataset/lsa64_hand_videos/001_003_001...</td>\n",
              "      <td>1</td>\n",
              "      <td>003</td>\n",
              "      <td>001</td>\n",
              "      <td>right</td>\n",
              "      <td>Opaque</td>\n",
              "    </tr>\n",
              "    <tr>\n",
              "      <th>11</th>\n",
              "      <td>/content/dataset/lsa64_hand_videos/001_003_002...</td>\n",
              "      <td>1</td>\n",
              "      <td>003</td>\n",
              "      <td>002</td>\n",
              "      <td>right</td>\n",
              "      <td>Opaque</td>\n",
              "    </tr>\n",
              "    <tr>\n",
              "      <th>23</th>\n",
              "      <td>/content/dataset/lsa64_hand_videos/001_005_004...</td>\n",
              "      <td>1</td>\n",
              "      <td>005</td>\n",
              "      <td>004</td>\n",
              "      <td>right</td>\n",
              "      <td>Opaque</td>\n",
              "    </tr>\n",
              "    <tr>\n",
              "      <th>31</th>\n",
              "      <td>/content/dataset/lsa64_hand_videos/001_007_002...</td>\n",
              "      <td>1</td>\n",
              "      <td>007</td>\n",
              "      <td>002</td>\n",
              "      <td>right</td>\n",
              "      <td>Opaque</td>\n",
              "    </tr>\n",
              "    <tr>\n",
              "      <th>32</th>\n",
              "      <td>/content/dataset/lsa64_hand_videos/001_007_003...</td>\n",
              "      <td>1</td>\n",
              "      <td>007</td>\n",
              "      <td>003</td>\n",
              "      <td>right</td>\n",
              "      <td>Opaque</td>\n",
              "    </tr>\n",
              "    <tr>\n",
              "      <th>...</th>\n",
              "      <td>...</td>\n",
              "      <td>...</td>\n",
              "      <td>...</td>\n",
              "      <td>...</td>\n",
              "      <td>...</td>\n",
              "      <td>...</td>\n",
              "    </tr>\n",
              "    <tr>\n",
              "      <th>4254</th>\n",
              "      <td>/content/dataset/lsa64_hand_videos/064_002_001...</td>\n",
              "      <td>64</td>\n",
              "      <td>002</td>\n",
              "      <td>001</td>\n",
              "      <td>right</td>\n",
              "      <td>Find</td>\n",
              "    </tr>\n",
              "    <tr>\n",
              "      <th>4256</th>\n",
              "      <td>/content/dataset/lsa64_hand_videos/064_002_003...</td>\n",
              "      <td>64</td>\n",
              "      <td>002</td>\n",
              "      <td>003</td>\n",
              "      <td>right</td>\n",
              "      <td>Find</td>\n",
              "    </tr>\n",
              "    <tr>\n",
              "      <th>4258</th>\n",
              "      <td>/content/dataset/lsa64_hand_videos/064_002_005...</td>\n",
              "      <td>64</td>\n",
              "      <td>002</td>\n",
              "      <td>005</td>\n",
              "      <td>right</td>\n",
              "      <td>Find</td>\n",
              "    </tr>\n",
              "    <tr>\n",
              "      <th>4269</th>\n",
              "      <td>/content/dataset/lsa64_hand_videos/064_005_001...</td>\n",
              "      <td>64</td>\n",
              "      <td>005</td>\n",
              "      <td>001</td>\n",
              "      <td>right</td>\n",
              "      <td>Find</td>\n",
              "    </tr>\n",
              "    <tr>\n",
              "      <th>4285</th>\n",
              "      <td>/content/dataset/lsa64_hand_videos/064_008_002...</td>\n",
              "      <td>64</td>\n",
              "      <td>008</td>\n",
              "      <td>002</td>\n",
              "      <td>right</td>\n",
              "      <td>Find</td>\n",
              "    </tr>\n",
              "  </tbody>\n",
              "</table>\n",
              "<p>459 rows × 6 columns</p>\n",
              "</div>\n",
              "      <button class=\"colab-df-convert\" onclick=\"convertToInteractive('df-1512120a-8e7c-4aa0-a37d-ea1370251f5d')\"\n",
              "              title=\"Convert this dataframe to an interactive table.\"\n",
              "              style=\"display:none;\">\n",
              "        \n",
              "  <svg xmlns=\"http://www.w3.org/2000/svg\" height=\"24px\"viewBox=\"0 0 24 24\"\n",
              "       width=\"24px\">\n",
              "    <path d=\"M0 0h24v24H0V0z\" fill=\"none\"/>\n",
              "    <path d=\"M18.56 5.44l.94 2.06.94-2.06 2.06-.94-2.06-.94-.94-2.06-.94 2.06-2.06.94zm-11 1L8.5 8.5l.94-2.06 2.06-.94-2.06-.94L8.5 2.5l-.94 2.06-2.06.94zm10 10l.94 2.06.94-2.06 2.06-.94-2.06-.94-.94-2.06-.94 2.06-2.06.94z\"/><path d=\"M17.41 7.96l-1.37-1.37c-.4-.4-.92-.59-1.43-.59-.52 0-1.04.2-1.43.59L10.3 9.45l-7.72 7.72c-.78.78-.78 2.05 0 2.83L4 21.41c.39.39.9.59 1.41.59.51 0 1.02-.2 1.41-.59l7.78-7.78 2.81-2.81c.8-.78.8-2.07 0-2.86zM5.41 20L4 18.59l7.72-7.72 1.47 1.35L5.41 20z\"/>\n",
              "  </svg>\n",
              "      </button>\n",
              "      \n",
              "  <style>\n",
              "    .colab-df-container {\n",
              "      display:flex;\n",
              "      flex-wrap:wrap;\n",
              "      gap: 12px;\n",
              "    }\n",
              "\n",
              "    .colab-df-convert {\n",
              "      background-color: #E8F0FE;\n",
              "      border: none;\n",
              "      border-radius: 50%;\n",
              "      cursor: pointer;\n",
              "      display: none;\n",
              "      fill: #1967D2;\n",
              "      height: 32px;\n",
              "      padding: 0 0 0 0;\n",
              "      width: 32px;\n",
              "    }\n",
              "\n",
              "    .colab-df-convert:hover {\n",
              "      background-color: #E2EBFA;\n",
              "      box-shadow: 0px 1px 2px rgba(60, 64, 67, 0.3), 0px 1px 3px 1px rgba(60, 64, 67, 0.15);\n",
              "      fill: #174EA6;\n",
              "    }\n",
              "\n",
              "    [theme=dark] .colab-df-convert {\n",
              "      background-color: #3B4455;\n",
              "      fill: #D2E3FC;\n",
              "    }\n",
              "\n",
              "    [theme=dark] .colab-df-convert:hover {\n",
              "      background-color: #434B5C;\n",
              "      box-shadow: 0px 1px 3px 1px rgba(0, 0, 0, 0.15);\n",
              "      filter: drop-shadow(0px 1px 2px rgba(0, 0, 0, 0.3));\n",
              "      fill: #FFFFFF;\n",
              "    }\n",
              "  </style>\n",
              "\n",
              "      <script>\n",
              "        const buttonEl =\n",
              "          document.querySelector('#df-1512120a-8e7c-4aa0-a37d-ea1370251f5d button.colab-df-convert');\n",
              "        buttonEl.style.display =\n",
              "          google.colab.kernel.accessAllowed ? 'block' : 'none';\n",
              "\n",
              "        async function convertToInteractive(key) {\n",
              "          const element = document.querySelector('#df-1512120a-8e7c-4aa0-a37d-ea1370251f5d');\n",
              "          const dataTable =\n",
              "            await google.colab.kernel.invokeFunction('convertToInteractive',\n",
              "                                                     [key], {});\n",
              "          if (!dataTable) return;\n",
              "\n",
              "          const docLinkHtml = 'Like what you see? Visit the ' +\n",
              "            '<a target=\"_blank\" href=https://colab.research.google.com/notebooks/data_table.ipynb>data table notebook</a>'\n",
              "            + ' to learn more about interactive tables.';\n",
              "          element.innerHTML = '';\n",
              "          dataTable['output_type'] = 'display_data';\n",
              "          await google.colab.output.renderOutput(dataTable, element);\n",
              "          const docLink = document.createElement('div');\n",
              "          docLink.innerHTML = docLinkHtml;\n",
              "          element.appendChild(docLink);\n",
              "        }\n",
              "      </script>\n",
              "    </div>\n",
              "  </div>\n",
              "  "
            ]
          },
          "metadata": {},
          "execution_count": 15
        }
      ]
    },
    {
      "cell_type": "code",
      "source": [
        "plt.plot(df_train.ID.value_counts(),'x')"
      ],
      "metadata": {
        "colab": {
          "base_uri": "https://localhost:8080/",
          "height": 282
        },
        "id": "t3OXpMNucwQW",
        "outputId": "e215f62d-481b-4430-a7f3-1b4dd2d49884"
      },
      "execution_count": 16,
      "outputs": [
        {
          "output_type": "execute_result",
          "data": {
            "text/plain": [
              "[<matplotlib.lines.Line2D at 0x7fd2610c58d0>]"
            ]
          },
          "metadata": {},
          "execution_count": 16
        },
        {
          "output_type": "display_data",
          "data": {
            "text/plain": [
              "<Figure size 432x288 with 1 Axes>"
            ],
            "image/png": "[encoded data removed]"
          },
          "metadata": {
            "needs_background": "light"
          }
        }
      ]
    },
    {
      "cell_type": "markdown",
      "source": [
        "Separo en conjuntos de acuerdo a clase (intento que haya algún video de cada clase). "
      ],
      "metadata": {
        "id": "S692gallurzn"
      }
    },
    {
      "cell_type": "code",
      "source": [
        "df_resto=df_train.copy()\n",
        "df_train_batch=pd.DataFrame([])\n",
        "for i in range(batch-1):\n",
        "  X_train_index, X_test_index, y_train, y_test = train_test_split(df_resto.index, df_resto.ID, test_size=cant_train//batch,random_state=0)\n",
        "  df_seleccion=df_resto.loc[sorted(X_test_index)]   #dataset seleccionado de x videos\n",
        "  df_resto=df_resto.loc[sorted(X_train_index)]      #sigue iterando en el resto  \n",
        "  df_train_batch=pd.concat([df_train_batch,df_seleccion],axis=0)    #ordeno el dataset_batch\n",
        "  \n",
        "\n",
        "df_train_batch=pd.concat([df_train_batch,df_resto],axis=0)    #agrego la ultima parte"
      ],
      "metadata": {
        "id": "VS3lxcT5Xvus"
      },
      "execution_count": 17,
      "outputs": []
    },
    {
      "cell_type": "code",
      "source": [
        "df_train_batch[0:4]"
      ],
      "metadata": {
        "colab": {
          "base_uri": "https://localhost:8080/",
          "height": 175
        },
        "id": "mhmnoesBQQl6",
        "outputId": "4f0755a0-a7ba-42b9-8cc5-e0f056697b14"
      },
      "execution_count": 18,
      "outputs": [
        {
          "output_type": "execute_result",
          "data": {
            "text/plain": [
              "                                              file_path  ID persona  \\\n",
              "1516  /content/dataset/lsa64_hand_videos/030_004_002...  30     004   \n",
              "1909  /content/dataset/lsa64_hand_videos/035_001_005...  35     001   \n",
              "3993  /content/dataset/lsa64_hand_videos/060_010_003...  60     010   \n",
              "4072  /content/dataset/lsa64_hand_videos/061_008_002...  61     008   \n",
              "\n",
              "     repeticion   mano   id_name  \n",
              "1516        002  right  Birthday  \n",
              "1909        005  right      Coin  \n",
              "3993        003   left      Copy  \n",
              "4072        002  right       Run  "
            ],
            "text/html": [
              "\n",
              "  <div id=\"df-c8f1cd42-6fc2-453b-adfb-35282cbdf21d\">\n",
              "    <div class=\"colab-df-container\">\n",
              "      <div>\n",
              "<style scoped>\n",
              "    .dataframe tbody tr th:only-of-type {\n",
              "        vertical-align: middle;\n",
              "    }\n",
              "\n",
              "    .dataframe tbody tr th {\n",
              "        vertical-align: top;\n",
              "    }\n",
              "\n",
              "    .dataframe thead th {\n",
              "        text-align: right;\n",
              "    }\n",
              "</style>\n",
              "<table border=\"1\" class=\"dataframe\">\n",
              "  <thead>\n",
              "    <tr style=\"text-align: right;\">\n",
              "      <th></th>\n",
              "      <th>file_path</th>\n",
              "      <th>ID</th>\n",
              "      <th>persona</th>\n",
              "      <th>repeticion</th>\n",
              "      <th>mano</th>\n",
              "      <th>id_name</th>\n",
              "    </tr>\n",
              "  </thead>\n",
              "  <tbody>\n",
              "    <tr>\n",
              "      <th>1516</th>\n",
              "      <td>/content/dataset/lsa64_hand_videos/030_004_002...</td>\n",
              "      <td>30</td>\n",
              "      <td>004</td>\n",
              "      <td>002</td>\n",
              "      <td>right</td>\n",
              "      <td>Birthday</td>\n",
              "    </tr>\n",
              "    <tr>\n",
              "      <th>1909</th>\n",
              "      <td>/content/dataset/lsa64_hand_videos/035_001_005...</td>\n",
              "      <td>35</td>\n",
              "      <td>001</td>\n",
              "      <td>005</td>\n",
              "      <td>right</td>\n",
              "      <td>Coin</td>\n",
              "    </tr>\n",
              "    <tr>\n",
              "      <th>3993</th>\n",
              "      <td>/content/dataset/lsa64_hand_videos/060_010_003...</td>\n",
              "      <td>60</td>\n",
              "      <td>010</td>\n",
              "      <td>003</td>\n",
              "      <td>left</td>\n",
              "      <td>Copy</td>\n",
              "    </tr>\n",
              "    <tr>\n",
              "      <th>4072</th>\n",
              "      <td>/content/dataset/lsa64_hand_videos/061_008_002...</td>\n",
              "      <td>61</td>\n",
              "      <td>008</td>\n",
              "      <td>002</td>\n",
              "      <td>right</td>\n",
              "      <td>Run</td>\n",
              "    </tr>\n",
              "  </tbody>\n",
              "</table>\n",
              "</div>\n",
              "      <button class=\"colab-df-convert\" onclick=\"convertToInteractive('df-c8f1cd42-6fc2-453b-adfb-35282cbdf21d')\"\n",
              "              title=\"Convert this dataframe to an interactive table.\"\n",
              "              style=\"display:none;\">\n",
              "        \n",
              "  <svg xmlns=\"http://www.w3.org/2000/svg\" height=\"24px\"viewBox=\"0 0 24 24\"\n",
              "       width=\"24px\">\n",
              "    <path d=\"M0 0h24v24H0V0z\" fill=\"none\"/>\n",
              "    <path d=\"M18.56 5.44l.94 2.06.94-2.06 2.06-.94-2.06-.94-.94-2.06-.94 2.06-2.06.94zm-11 1L8.5 8.5l.94-2.06 2.06-.94-2.06-.94L8.5 2.5l-.94 2.06-2.06.94zm10 10l.94 2.06.94-2.06 2.06-.94-2.06-.94-.94-2.06-.94 2.06-2.06.94z\"/><path d=\"M17.41 7.96l-1.37-1.37c-.4-.4-.92-.59-1.43-.59-.52 0-1.04.2-1.43.59L10.3 9.45l-7.72 7.72c-.78.78-.78 2.05 0 2.83L4 21.41c.39.39.9.59 1.41.59.51 0 1.02-.2 1.41-.59l7.78-7.78 2.81-2.81c.8-.78.8-2.07 0-2.86zM5.41 20L4 18.59l7.72-7.72 1.47 1.35L5.41 20z\"/>\n",
              "  </svg>\n",
              "      </button>\n",
              "      \n",
              "  <style>\n",
              "    .colab-df-container {\n",
              "      display:flex;\n",
              "      flex-wrap:wrap;\n",
              "      gap: 12px;\n",
              "    }\n",
              "\n",
              "    .colab-df-convert {\n",
              "      background-color: #E8F0FE;\n",
              "      border: none;\n",
              "      border-radius: 50%;\n",
              "      cursor: pointer;\n",
              "      display: none;\n",
              "      fill: #1967D2;\n",
              "      height: 32px;\n",
              "      padding: 0 0 0 0;\n",
              "      width: 32px;\n",
              "    }\n",
              "\n",
              "    .colab-df-convert:hover {\n",
              "      background-color: #E2EBFA;\n",
              "      box-shadow: 0px 1px 2px rgba(60, 64, 67, 0.3), 0px 1px 3px 1px rgba(60, 64, 67, 0.15);\n",
              "      fill: #174EA6;\n",
              "    }\n",
              "\n",
              "    [theme=dark] .colab-df-convert {\n",
              "      background-color: #3B4455;\n",
              "      fill: #D2E3FC;\n",
              "    }\n",
              "\n",
              "    [theme=dark] .colab-df-convert:hover {\n",
              "      background-color: #434B5C;\n",
              "      box-shadow: 0px 1px 3px 1px rgba(0, 0, 0, 0.15);\n",
              "      filter: drop-shadow(0px 1px 2px rgba(0, 0, 0, 0.3));\n",
              "      fill: #FFFFFF;\n",
              "    }\n",
              "  </style>\n",
              "\n",
              "      <script>\n",
              "        const buttonEl =\n",
              "          document.querySelector('#df-c8f1cd42-6fc2-453b-adfb-35282cbdf21d button.colab-df-convert');\n",
              "        buttonEl.style.display =\n",
              "          google.colab.kernel.accessAllowed ? 'block' : 'none';\n",
              "\n",
              "        async function convertToInteractive(key) {\n",
              "          const element = document.querySelector('#df-c8f1cd42-6fc2-453b-adfb-35282cbdf21d');\n",
              "          const dataTable =\n",
              "            await google.colab.kernel.invokeFunction('convertToInteractive',\n",
              "                                                     [key], {});\n",
              "          if (!dataTable) return;\n",
              "\n",
              "          const docLinkHtml = 'Like what you see? Visit the ' +\n",
              "            '<a target=\"_blank\" href=https://colab.research.google.com/notebooks/data_table.ipynb>data table notebook</a>'\n",
              "            + ' to learn more about interactive tables.';\n",
              "          element.innerHTML = '';\n",
              "          dataTable['output_type'] = 'display_data';\n",
              "          await google.colab.output.renderOutput(dataTable, element);\n",
              "          const docLink = document.createElement('div');\n",
              "          docLink.innerHTML = docLinkHtml;\n",
              "          element.appendChild(docLink);\n",
              "        }\n",
              "      </script>\n",
              "    </div>\n",
              "  </div>\n",
              "  "
            ]
          },
          "metadata": {},
          "execution_count": 18
        }
      ]
    },
    {
      "cell_type": "code",
      "source": [
        "%ls"
      ],
      "metadata": {
        "colab": {
          "base_uri": "https://localhost:8080/"
        },
        "id": "X1j_0uVvVH5k",
        "outputId": "0ddb1939-2a52-4838-ae75-f816248e93cf"
      },
      "execution_count": 19,
      "outputs": [
        {
          "output_type": "stream",
          "name": "stdout",
          "text": [
            "\u001b[0m\u001b[01;34mdataset\u001b[0m/  \u001b[01;34mdrive\u001b[0m/  \u001b[01;34msample_data\u001b[0m/  \u001b[01;34msrc\u001b[0m/\n"
          ]
        }
      ]
    },
    {
      "cell_type": "markdown",
      "source": [
        "### Funciones varias\n",
        "\n",
        "procesamiento, carga de datos, salvado, etc"
      ],
      "metadata": {
        "id": "fqAoxd063bo5"
      }
    },
    {
      "cell_type": "code",
      "source": [
        "def video_capturing_function(dataset,folder_name):\n",
        "    for i in sorted(dataset.file_path.index):\n",
        "        video_name=Path(dataset.file_path[i]).stem\n",
        "        video_read_path=dataset.file_path[i]\n",
        "        cap=cv2.VideoCapture(video_read_path)\n",
        "        stretches_path='/content'\n",
        "        \n",
        "        try:\n",
        "            if not os.path.exists(os.path.join(stretches_path,folder_name)):\n",
        "                os.mkdir(os.path.join(stretches_path,folder_name))\n",
        "                \n",
        "            os.mkdir(os.path.join(stretches_path,folder_name,video_name))\n",
        "        except:\n",
        "            print(\"Folder Already Created\")\n",
        "        \n",
        "        \n",
        "        train_write_file=os.path.join(os.path.join(stretches_path,folder_name),video_name)\n",
        "        cap.set(cv2.CAP_PROP_FPS, 1)\n",
        "        frame_count = int(cap.get(cv2.CAP_PROP_FRAME_COUNT))\n",
        "        #print(frame_count)\n",
        "        #frameRate=cap.get(5)\n",
        "        x=1\n",
        "        count=0\n",
        "        while(cap.isOpened()):\n",
        "            frameId = cap.get(1) #current frame number\n",
        "            ret, frame = cap.read()\n",
        "\n",
        "            if (ret != True):\n",
        "                break\n",
        "            filename =\"frame%d.jpg\" % count;count+=1\n",
        "            frame_grey=cv2.cvtColor(frame, cv2.COLOR_BGR2GRAY) #para escala de gris \n",
        "            cv2.imwrite(os.path.join(train_write_file,filename), frame_grey)\n",
        "        cap.release()\n",
        "    return print(\"All frames written in the: \"+folder_name+\" Folder\")\n",
        "\n",
        "\n",
        "def data_load_function_frames(dataset,directory, frame_ref):\n",
        "    frames=[]\n",
        "    for i in sorted(dataset.file_path.index):\n",
        "        vid_name=Path(dataset.file_path[i]).stem\n",
        "        vid_dir_path=os.path.join(directory,vid_name)\n",
        "        frame_count = len(os.listdir(vid_dir_path))  #cantidad de frames \n",
        "        \n",
        "        frames_to_select=[]\n",
        "        for l in np.arange(0,frame_count):\n",
        "            frames_to_select.append('frame%d.jpg' % l)\n",
        "\n",
        "        frames_to_select=resampling_rand(frames_to_select,frame_ref, frame_count)\n",
        "        #print(frames_to_select)\n",
        "        vid_data=[]\n",
        "        for frame in frames_to_select:            \n",
        "            image=(io.imread(os.path.join(vid_dir_path,frame))/255.0).astype('float32')\n",
        "            #image=image.resize((250, 250), Image.ANTIALIAS) \n",
        "            #datu=np.asarray(image)\n",
        "            #normu_dat=datu/255\n",
        "            #vid_data.append(normu_dat)\n",
        "            vid_data.append(image)\n",
        "        vid_data=np.array(vid_data)\n",
        "        frames.append(vid_data)\n",
        "    return np.array(frames)\n",
        "\n",
        "def resampling_rand(frames_to_select,frame_ref, frame_count):\n",
        "    if (frame_count < frame_ref):\n",
        "        frames_to_select=frames_to_select+[frames_to_select[-1]]*(frame_ref-frame_count)\n",
        "    else:\n",
        "        random.seed=0\n",
        "        new_dic_lis = dict(zip(range(0,len(frames_to_select)), frames_to_select)) \n",
        "        frames_to_select=[new_dic_lis[x] for x in sorted(random.sample(new_dic_lis.keys(),frame_ref))]\n",
        "    return (frames_to_select)\n",
        "\n",
        "def data_load_frames_save_tf(dataset,directory, frame_ref):\n",
        "    frames=[]\n",
        "    for i in sorted(dataset.file_path.index):\n",
        "        vid_name=Path(dataset.file_path[i]).stem\n",
        "        vid_dir_path=os.path.join(directory,vid_name)\n",
        "        frame_count = len(os.listdir(vid_dir_path))  #cantidad de frames \n",
        "        \n",
        "        frames_to_select=[]\n",
        "        for l in np.arange(0,frame_count):\n",
        "            frames_to_select.append('frame%d.jpg' % l)\n",
        "\n",
        "        frames_to_select=resampling_rand(frames_to_select,frame_ref, frame_count)\n",
        "        #print(frames_to_select)\n",
        "        vid_data=[]\n",
        "        for frame in frames_to_select:            \n",
        "            image=(io.imread(os.path.join(vid_dir_path,frame))/255.0).astype('float32')\n",
        "            vid_data.append(image)\n",
        "        vid_data=np.array(vid_data)\n",
        "        #print(vid_dir_path+'.npy')\n",
        "        np.save(vid_dir_path+'.npy',vid_data)\n",
        "        shutil.rmtree(vid_dir_path)\n",
        "        #frames.append(vid_data)\n",
        "    return None #frames\n",
        "\n",
        "def load_data_from_tf(dataset,directory):\n",
        "    list_tf=[]\n",
        "    for i in sorted(dataset.file_path.index):\n",
        "        vid_name=Path(dataset.file_path[i]).stem\n",
        "        vid_dir_path=os.path.join(directory,vid_name)\n",
        "        vid_data=np.load(vid_dir_path+'.npy')\n",
        "        list_tf.append(vid_data)\n",
        "\n",
        "    #print(np.max(np.array(list_tf)))\n",
        "    return np.array(list_tf)"
      ],
      "metadata": {
        "id": "eXe7-gS94Jho"
      },
      "execution_count": null,
      "outputs": []
    },
    {
      "cell_type": "markdown",
      "source": [
        "### Funciones para clasificación"
      ],
      "metadata": {
        "id": "gdhxpRRV3W2-"
      }
    },
    {
      "cell_type": "code",
      "source": [
        "def prob2labels(y_prob):\n",
        "    n,c=y_prob.shape\n",
        "    labels=np.zeros(n,dtype=int)\n",
        "    labels=np.argmax(y_prob,axis=1)\n",
        "    return labels\n",
        "\n",
        "def prob2labels2(y_prob):\n",
        "    n,c=y_prob.shape\n",
        "    labels=np.zeros(n,dtype=int)\n",
        "    maximos=np.max(y_prob,axis=1)\n",
        "    valores=np.array(range(0,c,1))\n",
        "    for i in range(0,n):\n",
        "        labels[i]=np.dot(np.equal(y_prob[i,:],np.array(maximos[i])).astype(int),valores)\n",
        "    return labels\n",
        "\n",
        "\n",
        "def accuracy(y,y_pred):\n",
        "    accuracy=0.0\n",
        "    for i in range(0,len(y)):\n",
        "        if (y[i]==y_pred[i]):\n",
        "            accuracy=accuracy+1\n",
        "    accuracy=accuracy/len(y)\n",
        "    return accuracy\n",
        "\n",
        "def confusion(y,y_pred):\n",
        "    classes=int(y.max()+1)\n",
        "    matrix=np.zeros( (classes,classes))\n",
        "    n,=y.shape\n",
        "    for i in range(0,len(y)):\n",
        "        matrix[y[i],y_pred[i]]=(matrix[y[i],y_pred[i]]+1)\n",
        "    return matrix\n",
        "\n",
        "def confusion2accuracy(confusion):\n",
        "    c,c = confusion.shape\n",
        "    accuracy = 0.0\n",
        "    accuracy=np.sum(np.diag(confusion))/np.sum(confusion)\n",
        "    return accuracy"
      ],
      "metadata": {
        "id": "Ty9-6p6gz2Lh"
      },
      "execution_count": null,
      "outputs": []
    },
    {
      "cell_type": "markdown",
      "source": [
        "### Generador\n",
        "\n",
        "implementación de generador para evitar cargar todos los datos en memoria"
      ],
      "metadata": {
        "id": "D04RhD3zvSsW"
      }
    },
    {
      "cell_type": "code",
      "source": [
        "def generator(batch_size):\n",
        "  n=3840\n",
        "  while True:\n",
        "    for i in range(n//batch_size):\n",
        "       index=i*batch_size\n",
        "       X=load_data_from_tf(df_train_batch[index:index+batch_size],\"train_data\")\n",
        "       #y=df_train_batch[index:index+batch_size].ID\n",
        "       a=np.array(df_train_batch[index:index+batch_size].ID)\n",
        "       y = tf.keras.utils.to_categorical(a-1, num_classes =64)\n",
        "      \n",
        "\n",
        "       nf,w,h=X[0].shape\n",
        "       #print(nf,w,h)\n",
        "       #print(len(X))\n",
        "       X.reshape(batch_size,nf,w,h,1)\n",
        "       #return X, y\n",
        "\n",
        "       yield X,y"
      ],
      "metadata": {
        "id": "lPCGOWIhfIK3"
      },
      "execution_count": null,
      "outputs": []
    },
    {
      "cell_type": "markdown",
      "source": [
        "### clase Custom Sequence"
      ],
      "metadata": {
        "id": "vz_sKeIbvccJ"
      }
    },
    {
      "cell_type": "code",
      "source": [
        "class CustomSequence(keras.utils.Sequence):\n",
        "\n",
        "    def __init__(self, batch_size):\n",
        "        super().__init__()\n",
        "\n",
        "        self.batch_size = batch_size\n",
        "        self.n=3840\n",
        "        \n",
        "\n",
        "    def __len__(self):\n",
        "        # return the number of BATCHES (not samples)\n",
        "        # In this dataset\n",
        "        return self.n // self.batch_size\n",
        "\n",
        "    def __getitem__(self, batch_index):\n",
        "        # Return BATCH (not a sample) with index `batch_index`\n",
        "\n",
        "        #Calculate first and last index of samples of the batch\n",
        "        idx_start = batch_index*self.batch_size\n",
        "        idx_end = idx_start+self.batch_size\n",
        "        #select samples\n",
        "        #batch_x = self.x[start:end,:,:,:]\n",
        "        #batch_y = self.y[start:end,0]\n",
        "\n",
        "        X=load_data_from_tf(df_train_batch[idx_start:idx_end],\"train_data\")\n",
        "        a=np.array(df_train_batch[idx_start:idx_end].ID)\n",
        "        y = tf.keras.utils.to_categorical(a-1, num_classes =64)\n",
        "        #print('salida:',np.max(df_train_batch[idx_start:idx_end].ID)) \n",
        "\n",
        "        nf,w,h=X[0].shape\n",
        "        #print(nf,w,h)\n",
        "        #print(len(X))\n",
        "        X.reshape(self.batch_size,nf,w,h,1)\n",
        "        \n",
        "        return X, y"
      ],
      "metadata": {
        "id": "1mKsfpk1sWWX"
      },
      "execution_count": null,
      "outputs": []
    },
    {
      "cell_type": "markdown",
      "source": [
        "Visualizar filtros"
      ],
      "metadata": {
        "id": "7G4sSQXy4lCr"
      }
    },
    {
      "cell_type": "code",
      "source": [
        "import matplotlib.gridspec as gridspec\n",
        "\n",
        "def plot_conv_weight(layer_name,filters,max_filters=128,cols=12):\n",
        "  h,w,c=filters.shape\n",
        "  if c>max_filters:\n",
        "    filters=filters[:,:,max_filters]\n",
        "    c = max_filters\n",
        "  # calcular cant de filas\n",
        "  rows=( c // cols ) + int((c % cols)>0)\n",
        "  # grilla de imágenes\n",
        "  f=plt.figure(figsize=(cols,rows),dpi=100)\n",
        "  gs = gridspec.GridSpec(rows, cols,wspace=0.0001,hspace=0.001)\n",
        "  # maximo y minimo para dibujar todos en la misma escala\n",
        "  mi,ma=filters.min(),filters.max()\n",
        "  for i in range(c):\n",
        "      ax = plt.subplot(gs[i])\n",
        "      ax.imshow(filters[:,:,i],cmap=\"gray\",vmin=mi,vmax=ma)\n",
        "      ax.set_xticks([])\n",
        "      ax.set_yticks([])\n",
        "  # poner en blanco los ax que sobran\n",
        "  for i in range(c,cols*rows):\n",
        "    ax = plt.subplot(gs[i])\n",
        "    ax.axis(\"off\")\n",
        "\n",
        "      \n",
        "\n",
        "def layer_by_name(model,layer_name):\n",
        "  for layer in model.layers:\n",
        "    if layer.name==layer_name:        \n",
        "      return layer\n",
        "  raise ValueError(f\"Invalid layer name {layer_name}\")"
      ],
      "metadata": {
        "id": "NIniEikN4vN6"
      },
      "execution_count": null,
      "outputs": []
    },
    {
      "cell_type": "markdown",
      "source": [
        "# Data training - test"
      ],
      "metadata": {
        "id": "VKxQshAIEcD7"
      }
    },
    {
      "cell_type": "markdown",
      "source": [
        "Con la separación realizada se arman dos carpetas: train_data y test_data. Cada video fue convertido a un conjunto de imágenes de 1 solo canal, dentro de cada archivo"
      ],
      "metadata": {
        "id": "bswMPcPBw7bY"
      }
    },
    {
      "cell_type": "code",
      "source": [
        "video_capturing_function(df_train,'train_data')\n",
        "\n",
        "video_capturing_function(df_test,'test_data')\n",
        "\n",
        "#https://medium.com/video-classification-using-keras-and-tensorflow/action-recognition-and-video-classification-using-keras-and-tensorflow-56badcbe5f77"
      ],
      "metadata": {
        "colab": {
          "base_uri": "https://localhost:8080/"
        },
        "id": "4rsAXnEy4hpc",
        "outputId": "6e1b2be4-62bc-472c-89b9-adee08d81a8d"
      },
      "execution_count": 20,
      "outputs": [
        {
          "output_type": "stream",
          "name": "stdout",
          "text": [
            "All frames written in the: train_data Folder\n",
            "All frames written in the: test_data Folder\n"
          ]
        }
      ]
    },
    {
      "cell_type": "code",
      "source": [
        "gc.collect()"
      ],
      "metadata": {
        "id": "KZJrF02cAAyV",
        "outputId": "edaf92cd-d1a0-459e-f16b-d8d01425cbf6",
        "colab": {
          "base_uri": "https://localhost:8080/"
        }
      },
      "execution_count": 21,
      "outputs": [
        {
          "output_type": "execute_result",
          "data": {
            "text/plain": [
              "399"
            ]
          },
          "metadata": {},
          "execution_count": 21
        }
      ]
    },
    {
      "cell_type": "markdown",
      "source": [
        "### Ejemplo \n",
        "Imagen de uno de los videos"
      ],
      "metadata": {
        "id": "YL2fUa4mxPMN"
      }
    },
    {
      "cell_type": "code",
      "source": [
        "imagen_rgb=(io.imread(\"/content/train_data/001_001_001_right/frame0.jpg\")/255.0).astype('float32')\n",
        "plt.imshow(imagen_rgb) # no es necesario el vmin/vmax para imágenes a color\n",
        "\n",
        "print(\"Dimensiones de la imagen:\")\n",
        "plt.imshow(imagen_rgb,vmin=0,vmax=1)\n",
        "plt.title(\"Canal Rojo\")\n",
        "plt.figure()"
      ],
      "metadata": {
        "colab": {
          "base_uri": "https://localhost:8080/",
          "height": 333
        },
        "id": "gTGAL6fTttbV",
        "outputId": "0b6aefd6-9387-462c-d645-a70b3480b1cf"
      },
      "execution_count": 23,
      "outputs": [
        {
          "output_type": "stream",
          "name": "stdout",
          "text": [
            "Dimensiones de la imagen:\n"
          ]
        },
        {
          "output_type": "execute_result",
          "data": {
            "text/plain": [
              "<Figure size 432x288 with 0 Axes>"
            ]
          },
          "metadata": {},
          "execution_count": 23
        },
        {
          "output_type": "display_data",
          "data": {
            "text/plain": [
              "<Figure size 432x288 with 1 Axes>"
            ],
            "image/png": "[encoded data removed]"
          },
          "metadata": {
            "needs_background": "light"
          }
        },
        {
          "output_type": "display_data",
          "data": {
            "text/plain": [
              "<Figure size 432x288 with 0 Axes>"
            ]
          },
          "metadata": {}
        }
      ]
    },
    {
      "cell_type": "markdown",
      "source": [
        "### Obtención de tensores \n",
        "\n",
        "**Funcion \"data_load_frames_save_tf\"**\n",
        "\n",
        "Proceso los videos y selecciono 32 frames del total de videos de forma aleatoria, en caso que los videos tengan menos frames repito el último hasta completar los 32.\n",
        "\n",
        "Los frames de cada video (imágenes) se pasan a tensores de numpy para que cuando se desee cargar lotes no se tenga que procesar imagenes sino leer archivos numpy previamente salvados. Los tensores son grabados en float32 para reducir el tamaño de archivos.\n",
        "\n",
        "La función borra además las imágenes para no sobrecargar el disco de la máqunia del colab.\n",
        "\n",
        "Los archivos de los tensores de numpy se guardan en **train_data** y **test_data**"
      ],
      "metadata": {
        "id": "hFYrdTc25V5y"
      }
    },
    {
      "cell_type": "code",
      "source": [
        "data_load_frames_save_tf(df_test,'test_data',32)\n",
        "data_load_frames_save_tf(df_train,'train_data',32)"
      ],
      "metadata": {
        "id": "CbSUc0dy0Shl"
      },
      "execution_count": 24,
      "outputs": []
    },
    {
      "cell_type": "code",
      "source": [
        "gc.collect()"
      ],
      "metadata": {
        "colab": {
          "base_uri": "https://localhost:8080/"
        },
        "id": "zNVprE3nseDx",
        "outputId": "34e9f6fc-1c4b-43bd-948a-71dacbfd4fb1"
      },
      "execution_count": 25,
      "outputs": [
        {
          "output_type": "execute_result",
          "data": {
            "text/plain": [
              "2953"
            ]
          },
          "metadata": {},
          "execution_count": 25
        }
      ]
    },
    {
      "cell_type": "markdown",
      "source": [
        "# Modelo Convolucional 3D \n"
      ],
      "metadata": {
        "id": "BS6rzySu-CMh"
      }
    },
    {
      "cell_type": "code",
      "source": [
        "test_dataset_new=load_data_from_tf(df_test,\"test_data\")"
      ],
      "metadata": {
        "id": "I-sZ2axmHHfx"
      },
      "execution_count": 26,
      "outputs": []
    },
    {
      "cell_type": "code",
      "source": [
        "#a=np.array(df_train.ID)\n",
        "#y_train = tf.keras.utils.to_categorical(a-1, num_classes =np.max(df_train.ID))\n",
        "\n",
        "a=np.array(df_test.ID)\n",
        "y_test = tf.keras.utils.to_categorical(a-1, num_classes =np.max(df_test.ID))"
      ],
      "metadata": {
        "id": "1SD1b-Afndn9"
      },
      "execution_count": 27,
      "outputs": []
    },
    {
      "cell_type": "code",
      "source": [
        "model_output_size=len(df_test.ID.unique())\n",
        "model_output_size"
      ],
      "metadata": {
        "id": "dLRZJip9-sLG",
        "colab": {
          "base_uri": "https://localhost:8080/"
        },
        "outputId": "e3300ec4-ad94-47aa-c89b-8d00c20cce2a"
      },
      "execution_count": 28,
      "outputs": [
        {
          "output_type": "execute_result",
          "data": {
            "text/plain": [
              "64"
            ]
          },
          "metadata": {},
          "execution_count": 28
        }
      ]
    },
    {
      "cell_type": "code",
      "source": [
        "stride(2,1,1) #primera capa\n",
        "#keras.layers.InputLayer(input_shape=[32,32,3]), para separar de la primera cada de convolucion\n",
        "\n",
        "# Plot generated samples\n",
        "#rows,cols = 5,5\n",
        "#f,ax=plt.subplots(rows,cols,figsize=(rows*1.5,cols*1.5))\n",
        "#for i in range(rows):\n",
        "  #for j in range(cols):\n",
        "\t\n",
        "    #x = samples_iterator.next()\n",
        "    #image = x[0].astype('uint8')\n",
        "    #ax[i,j].imshow(image)\n",
        "\n",
        "#print(\"Saving trained model..\")\n",
        "#model.save(\"conv_cifar10\")\n",
        "#print(\"Saving preprocessing function...\")\n",
        "#with open(\"preprocess_function.pickle\", \"wb\") as f:\n",
        "#    f.write(pickle.dumps(preprocess_data))\n",
        "#print(\"Done.\")\n",
        "#del model # delete variable, release memory"
      ],
      "metadata": {
        "id": "r_ADKhDO2vTH"
      },
      "execution_count": null,
      "outputs": []
    },
    {
      "cell_type": "markdown",
      "source": [
        "Modelo de conv3d. Modelo Original "
      ],
      "metadata": {
        "id": "1b-QPwE60jgE"
      }
    },
    {
      "cell_type": "code",
      "source": [
        "nf=32\n",
        "w=128 \n",
        "h=128\n",
        "\n",
        "from sklearn.model_selection import train_test_split\n",
        "\n",
        "from tensorflow.keras.layers import *\n",
        "from tensorflow.keras.models import Sequential\n",
        "from tensorflow.keras.utils import to_categorical\n",
        "from tensorflow.keras.callbacks import EarlyStopping\n",
        "from tensorflow.keras.utils import plot_model\n",
        "\n",
        "def create_model():\n",
        "\n",
        "    # We will use a Sequential model for model construction\n",
        "    model = Sequential()\n",
        "\n",
        "    # Defining The Model Architecture\n",
        "    model.add(Conv3D(filters = 16, kernel_size = (3, 3,3), padding='same', activation = 'relu', input_shape = (nf,w, h, 1)))\n",
        "    model.add(Conv3D(filters = 32, kernel_size = (3, 3,3), padding='same', activation = 'relu'))\n",
        "    model.add(Conv3D(filters = 32, kernel_size = (3, 3,3), padding='same', activation = 'relu'))\n",
        "    model.add(Conv3D(filters = 64, kernel_size = (3, 3,3), padding='same', activation = 'relu')) \n",
        "    \n",
        "    model.add(BatchNormalization())\n",
        "    model.add(MaxPooling3D(pool_size = (2, 2,2)))\n",
        "    model.add(GlobalAveragePooling3D())\n",
        "    model.add(Dense(64, activation = 'relu'))\n",
        "    model.add(BatchNormalization())\n",
        "    model.add(Dense(model_output_size, activation = 'softmax'))\n",
        "\n",
        "    # Printing the models summary\n",
        "    model.summary()\n",
        "\n",
        "    return model\n",
        "\n",
        "\n",
        "# Calling the create_model method\n",
        "model = create_model()\n",
        "\n",
        "print(\"Model Created Successfully!\")"
      ],
      "metadata": {
        "colab": {
          "base_uri": "https://localhost:8080/"
        },
        "id": "TywgF079-Gnj",
        "outputId": "ec9d9e63-dea0-41aa-9618-904304f6b803"
      },
      "execution_count": null,
      "outputs": [
        {
          "output_type": "stream",
          "name": "stdout",
          "text": [
            "Model: \"sequential_2\"\n",
            "_________________________________________________________________\n",
            " Layer (type)                Output Shape              Param #   \n",
            "=================================================================\n",
            " conv3d_8 (Conv3D)           (None, 32, 128, 128, 16)  448       \n",
            "                                                                 \n",
            " conv3d_9 (Conv3D)           (None, 32, 128, 128, 32)  13856     \n",
            "                                                                 \n",
            " conv3d_10 (Conv3D)          (None, 32, 128, 128, 32)  27680     \n",
            "                                                                 \n",
            " conv3d_11 (Conv3D)          (None, 32, 128, 128, 64)  55360     \n",
            "                                                                 \n",
            " batch_normalization_4 (Batc  (None, 32, 128, 128, 64)  256      \n",
            " hNormalization)                                                 \n",
            "                                                                 \n",
            " max_pooling3d_2 (MaxPooling  (None, 16, 64, 64, 64)   0         \n",
            " 3D)                                                             \n",
            "                                                                 \n",
            " global_average_pooling3d_2   (None, 64)               0         \n",
            " (GlobalAveragePooling3D)                                        \n",
            "                                                                 \n",
            " dense_4 (Dense)             (None, 64)                4160      \n",
            "                                                                 \n",
            " batch_normalization_5 (Batc  (None, 64)               256       \n",
            " hNormalization)                                                 \n",
            "                                                                 \n",
            " dense_5 (Dense)             (None, 64)                4160      \n",
            "                                                                 \n",
            "=================================================================\n",
            "Total params: 106,176\n",
            "Trainable params: 105,920\n",
            "Non-trainable params: 256\n",
            "_________________________________________________________________\n",
            "Model Created Successfully!\n"
          ]
        }
      ]
    },
    {
      "cell_type": "markdown",
      "source": [
        "Conv2D(stride_temporal=2)->\n",
        "Conv2D(stride_temporal=2,stride_espacial=2) -> Conv2D(stride_temporal=2) -> Conv2D(stride_temporal=2,stride_espacial=2)"
      ],
      "metadata": {
        "id": "uvlg-7hT26d4"
      }
    },
    {
      "cell_type": "code",
      "source": [
        "nf=32\n",
        "w=128 \n",
        "h=128\n",
        "\n",
        "from sklearn.model_selection import train_test_split\n",
        "\n",
        "from tensorflow.keras.layers import *\n",
        "from tensorflow.keras.models import Sequential\n",
        "from tensorflow.keras.utils import to_categorical\n",
        "from tensorflow.keras.callbacks import EarlyStopping\n",
        "from tensorflow.keras.utils import plot_model\n",
        "\n",
        "def create_model():\n",
        "\n",
        "    # We will use a Sequential model for model construction\n",
        "    model = Sequential()\n",
        "\n",
        "    # Defining The Model Architecture\n",
        "    model.add(Conv3D(filters = 32, kernel_size = (3, 3,3), strides=(1,1,2), padding='same', activation = 'relu', input_shape = (nf,w, h, 1)))\n",
        "    model.add(Conv3D(filters = 32, kernel_size = (3, 3,3),strides=(2,2,2), padding='same', activation = 'relu'))\n",
        "    model.add(Conv3D(filters = 32, kernel_size = (3, 3,3),strides=(1,1,2), padding='same', activation = 'relu'))\n",
        "    model.add(Conv3D(filters = 64, kernel_size = (3, 3,3),strides=(2,2,2), padding='same', activation = 'relu')) \n",
        "    \n",
        "    model.add(BatchNormalization())\n",
        "    model.add(MaxPooling3D(pool_size = (2, 2,2)))\n",
        "    model.add(GlobalAveragePooling3D())\n",
        "    #model.add(Dense(64, activation = 'relu'))\n",
        "    #model.add(BatchNormalization())\n",
        "    model.add(Dense(model_output_size, activation = 'softmax'))\n",
        "\n",
        "    # Printing the models summary\n",
        "    model.summary()\n",
        "\n",
        "    return model\n",
        "\n",
        "\n",
        "# Calling the create_model method\n",
        "model = create_model()\n",
        "\n",
        "print(\"Model Created Successfully!\")"
      ],
      "metadata": {
        "colab": {
          "base_uri": "https://localhost:8080/"
        },
        "id": "DBBg19_8WMQL",
        "outputId": "f5fea1d6-c899-476c-9f8b-1ece0028f79b"
      },
      "execution_count": 29,
      "outputs": [
        {
          "output_type": "stream",
          "name": "stdout",
          "text": [
            "Model: \"sequential\"\n",
            "_________________________________________________________________\n",
            " Layer (type)                Output Shape              Param #   \n",
            "=================================================================\n",
            " conv3d (Conv3D)             (None, 32, 128, 64, 32)   896       \n",
            "                                                                 \n",
            " conv3d_1 (Conv3D)           (None, 16, 64, 32, 32)    27680     \n",
            "                                                                 \n",
            " conv3d_2 (Conv3D)           (None, 16, 64, 16, 32)    27680     \n",
            "                                                                 \n",
            " conv3d_3 (Conv3D)           (None, 8, 32, 8, 64)      55360     \n",
            "                                                                 \n",
            " batch_normalization (BatchN  (None, 8, 32, 8, 64)     256       \n",
            " ormalization)                                                   \n",
            "                                                                 \n",
            " max_pooling3d (MaxPooling3D  (None, 4, 16, 4, 64)     0         \n",
            " )                                                               \n",
            "                                                                 \n",
            " global_average_pooling3d (G  (None, 64)               0         \n",
            " lobalAveragePooling3D)                                          \n",
            "                                                                 \n",
            " dense (Dense)               (None, 64)                4160      \n",
            "                                                                 \n",
            "=================================================================\n",
            "Total params: 116,032\n",
            "Trainable params: 115,904\n",
            "Non-trainable params: 128\n",
            "_________________________________________________________________\n",
            "Model Created Successfully!\n"
          ]
        }
      ]
    },
    {
      "cell_type": "code",
      "source": [
        "plot_model(model, to_file = 'model_structure_plot.png', show_shapes = True, show_layer_names = True)"
      ],
      "metadata": {
        "colab": {
          "base_uri": "https://localhost:8080/",
          "height": 976
        },
        "id": "xNrwGrS1-5Cf",
        "outputId": "0a5d00f7-4ce8-4b0c-fde9-ca347844dc12"
      },
      "execution_count": 30,
      "outputs": [
        {
          "output_type": "execute_result",
          "data": {
            "text/plain": [
              "<IPython.core.display.Image object>"
            ],
            "image/png": "[encoded data removed]"
          },
          "metadata": {},
          "execution_count": 30
        }
      ]
    },
    {
      "cell_type": "markdown",
      "source": [
        "### Entrenamiento con Custom Sequence \n",
        "\n",
        "La función CustomSequence carga cada lote con 128 tensores numpy guardados en la carpeta train_data (nombre de archivo.npy) usando la función \n",
        "**load_data_from_tf**. "
      ],
      "metadata": {
        "id": "Ys4U6x4F1nMN"
      }
    },
    {
      "cell_type": "code",
      "source": [
        "# Adding Early Stopping Callback\n",
        "early_stopping_callback = EarlyStopping(monitor = 'val_loss', patience = 15, mode = 'min', restore_best_weights = True)\n",
        "\n",
        "# Adding loss, optimizer and metrics values to the model.\n",
        "model.compile(loss = 'categorical_crossentropy', optimizer = 'Adam', metrics = [\"accuracy\"])\n",
        "\n",
        "# generator\n",
        "#model_training_history = model.fit(generator(64), steps_per_epoch=60 , #validation_data=(test_dataset_new,y_test),\n",
        "#                                   callbacks = [early_stopping_callback]) #, shuffle = True\n",
        "# entrenamiento clásico\n",
        "#model_training_history = model.fit(x = train_dataset_new, y = y_train, epochs = 50, batch_size = 10 , validation_data=(test_dataset_new,y_test), callbacks = [early_stopping_callback]) #, shuffle = True\n",
        "\n",
        "# usando generador custom\n",
        "model_training_history = model.fit_generator(CustomSequence(4), epochs=1 , validation_data=(test_dataset_new,y_test), callbacks = [early_stopping_callback]) #, shuffle = True"
      ],
      "metadata": {
        "id": "hxNtGFKY_Hoy",
        "colab": {
          "base_uri": "https://localhost:8080/",
          "height": 417
        },
        "outputId": "eceb0b3a-595a-4112-ac74-28a1a085e4ac"
      },
      "execution_count": 31,
      "outputs": [
        {
          "output_type": "stream",
          "name": "stderr",
          "text": [
            "/usr/local/lib/python3.7/dist-packages/ipykernel_launcher.py:14: UserWarning: `Model.fit_generator` is deprecated and will be removed in a future version. Please use `Model.fit`, which supports generators.\n",
            "  \n"
          ]
        },
        {
          "output_type": "error",
          "ename": "NameError",
          "evalue": "ignored",
          "traceback": [
            "\u001b[0;31m---------------------------------------------------------------------------\u001b[0m",
            "\u001b[0;31mNameError\u001b[0m                                 Traceback (most recent call last)",
            "\u001b[0;32m<ipython-input-31-84e45b12cac9>\u001b[0m in \u001b[0;36m<module>\u001b[0;34m()\u001b[0m\n\u001b[1;32m     12\u001b[0m \u001b[0;34m\u001b[0m\u001b[0m\n\u001b[1;32m     13\u001b[0m \u001b[0;31m# usando generador custom\u001b[0m\u001b[0;34m\u001b[0m\u001b[0;34m\u001b[0m\u001b[0;34m\u001b[0m\u001b[0m\n\u001b[0;32m---> 14\u001b[0;31m \u001b[0mmodel_training_history\u001b[0m \u001b[0;34m=\u001b[0m \u001b[0mmodel\u001b[0m\u001b[0;34m.\u001b[0m\u001b[0mfit_generator\u001b[0m\u001b[0;34m(\u001b[0m\u001b[0mCustomSequence\u001b[0m\u001b[0;34m(\u001b[0m\u001b[0;36m4\u001b[0m\u001b[0;34m)\u001b[0m\u001b[0;34m,\u001b[0m \u001b[0mepochs\u001b[0m\u001b[0;34m=\u001b[0m\u001b[0;36m1\u001b[0m \u001b[0;34m,\u001b[0m \u001b[0mvalidation_data\u001b[0m\u001b[0;34m=\u001b[0m\u001b[0;34m(\u001b[0m\u001b[0mtest_dataset_new\u001b[0m\u001b[0;34m,\u001b[0m\u001b[0my_test\u001b[0m\u001b[0;34m)\u001b[0m\u001b[0;34m,\u001b[0m \u001b[0mcallbacks\u001b[0m \u001b[0;34m=\u001b[0m \u001b[0;34m[\u001b[0m\u001b[0mearly_stopping_callback\u001b[0m\u001b[0;34m]\u001b[0m\u001b[0;34m)\u001b[0m \u001b[0;31m#, shuffle = True\u001b[0m\u001b[0;34m\u001b[0m\u001b[0;34m\u001b[0m\u001b[0m\n\u001b[0m",
            "\u001b[0;32m/usr/local/lib/python3.7/dist-packages/keras/engine/training.py\u001b[0m in \u001b[0;36mfit_generator\u001b[0;34m(self, generator, steps_per_epoch, epochs, verbose, callbacks, validation_data, validation_steps, validation_freq, class_weight, max_queue_size, workers, use_multiprocessing, shuffle, initial_epoch)\u001b[0m\n\u001b[1;32m   2221\u001b[0m         \u001b[0muse_multiprocessing\u001b[0m\u001b[0;34m=\u001b[0m\u001b[0muse_multiprocessing\u001b[0m\u001b[0;34m,\u001b[0m\u001b[0;34m\u001b[0m\u001b[0;34m\u001b[0m\u001b[0m\n\u001b[1;32m   2222\u001b[0m         \u001b[0mshuffle\u001b[0m\u001b[0;34m=\u001b[0m\u001b[0mshuffle\u001b[0m\u001b[0;34m,\u001b[0m\u001b[0;34m\u001b[0m\u001b[0;34m\u001b[0m\u001b[0m\n\u001b[0;32m-> 2223\u001b[0;31m         initial_epoch=initial_epoch)\n\u001b[0m\u001b[1;32m   2224\u001b[0m \u001b[0;34m\u001b[0m\u001b[0m\n\u001b[1;32m   2225\u001b[0m   \u001b[0;34m@\u001b[0m\u001b[0mdoc_controls\u001b[0m\u001b[0;34m.\u001b[0m\u001b[0mdo_not_generate_docs\u001b[0m\u001b[0;34m\u001b[0m\u001b[0;34m\u001b[0m\u001b[0m\n",
            "\u001b[0;32m/usr/local/lib/python3.7/dist-packages/keras/utils/traceback_utils.py\u001b[0m in \u001b[0;36merror_handler\u001b[0;34m(*args, **kwargs)\u001b[0m\n\u001b[1;32m     65\u001b[0m     \u001b[0;32mexcept\u001b[0m \u001b[0mException\u001b[0m \u001b[0;32mas\u001b[0m \u001b[0me\u001b[0m\u001b[0;34m:\u001b[0m  \u001b[0;31m# pylint: disable=broad-except\u001b[0m\u001b[0;34m\u001b[0m\u001b[0;34m\u001b[0m\u001b[0m\n\u001b[1;32m     66\u001b[0m       \u001b[0mfiltered_tb\u001b[0m \u001b[0;34m=\u001b[0m \u001b[0m_process_traceback_frames\u001b[0m\u001b[0;34m(\u001b[0m\u001b[0me\u001b[0m\u001b[0;34m.\u001b[0m\u001b[0m__traceback__\u001b[0m\u001b[0;34m)\u001b[0m\u001b[0;34m\u001b[0m\u001b[0;34m\u001b[0m\u001b[0m\n\u001b[0;32m---> 67\u001b[0;31m       \u001b[0;32mraise\u001b[0m \u001b[0me\u001b[0m\u001b[0;34m.\u001b[0m\u001b[0mwith_traceback\u001b[0m\u001b[0;34m(\u001b[0m\u001b[0mfiltered_tb\u001b[0m\u001b[0;34m)\u001b[0m \u001b[0;32mfrom\u001b[0m \u001b[0;32mNone\u001b[0m\u001b[0;34m\u001b[0m\u001b[0;34m\u001b[0m\u001b[0m\n\u001b[0m\u001b[1;32m     68\u001b[0m     \u001b[0;32mfinally\u001b[0m\u001b[0;34m:\u001b[0m\u001b[0;34m\u001b[0m\u001b[0;34m\u001b[0m\u001b[0m\n\u001b[1;32m     69\u001b[0m       \u001b[0;32mdel\u001b[0m \u001b[0mfiltered_tb\u001b[0m\u001b[0;34m\u001b[0m\u001b[0;34m\u001b[0m\u001b[0m\n",
            "\u001b[0;32m/content/src/carga_datos.py\u001b[0m in \u001b[0;36m__getitem__\u001b[0;34m(self, batch_index)\u001b[0m\n\u001b[1;32m     47\u001b[0m         \u001b[0;31m#batch_y = self.y[start:end,0]\u001b[0m\u001b[0;34m\u001b[0m\u001b[0;34m\u001b[0m\u001b[0;34m\u001b[0m\u001b[0m\n\u001b[1;32m     48\u001b[0m \u001b[0;34m\u001b[0m\u001b[0m\n\u001b[0;32m---> 49\u001b[0;31m         \u001b[0mX\u001b[0m\u001b[0;34m=\u001b[0m\u001b[0mload_data_from_tf\u001b[0m\u001b[0;34m(\u001b[0m\u001b[0mdf_train_batch\u001b[0m\u001b[0;34m[\u001b[0m\u001b[0midx_start\u001b[0m\u001b[0;34m:\u001b[0m\u001b[0midx_end\u001b[0m\u001b[0;34m]\u001b[0m\u001b[0;34m,\u001b[0m\u001b[0;34m\"train_data\"\u001b[0m\u001b[0;34m)\u001b[0m\u001b[0;34m\u001b[0m\u001b[0;34m\u001b[0m\u001b[0m\n\u001b[0m\u001b[1;32m     50\u001b[0m         \u001b[0ma\u001b[0m\u001b[0;34m=\u001b[0m\u001b[0mnp\u001b[0m\u001b[0;34m.\u001b[0m\u001b[0marray\u001b[0m\u001b[0;34m(\u001b[0m\u001b[0mdf_train_batch\u001b[0m\u001b[0;34m[\u001b[0m\u001b[0midx_start\u001b[0m\u001b[0;34m:\u001b[0m\u001b[0midx_end\u001b[0m\u001b[0;34m]\u001b[0m\u001b[0;34m.\u001b[0m\u001b[0mID\u001b[0m\u001b[0;34m)\u001b[0m\u001b[0;34m\u001b[0m\u001b[0;34m\u001b[0m\u001b[0m\n\u001b[1;32m     51\u001b[0m         \u001b[0my\u001b[0m \u001b[0;34m=\u001b[0m \u001b[0mtf\u001b[0m\u001b[0;34m.\u001b[0m\u001b[0mkeras\u001b[0m\u001b[0;34m.\u001b[0m\u001b[0mutils\u001b[0m\u001b[0;34m.\u001b[0m\u001b[0mto_categorical\u001b[0m\u001b[0;34m(\u001b[0m\u001b[0ma\u001b[0m\u001b[0;34m-\u001b[0m\u001b[0;36m1\u001b[0m\u001b[0;34m,\u001b[0m \u001b[0mnum_classes\u001b[0m \u001b[0;34m=\u001b[0m\u001b[0;36m64\u001b[0m\u001b[0;34m)\u001b[0m\u001b[0;34m\u001b[0m\u001b[0;34m\u001b[0m\u001b[0m\n",
            "\u001b[0;31mNameError\u001b[0m: name 'load_data_from_tf' is not defined"
          ]
        }
      ]
    },
    {
      "cell_type": "code",
      "source": [
        "y_predict=model.predict(test_dataset_new)"
      ],
      "metadata": {
        "id": "eO_cRTBw0yyv"
      },
      "execution_count": null,
      "outputs": []
    },
    {
      "cell_type": "code",
      "source": [
        "y_pred=prob2labels(y_predict)"
      ],
      "metadata": {
        "id": "bqkoca5V1C7u"
      },
      "execution_count": null,
      "outputs": []
    },
    {
      "cell_type": "code",
      "source": [
        "accuracy(np.array(df_test.ID)-1,y_pred)"
      ],
      "metadata": {
        "colab": {
          "base_uri": "https://localhost:8080/"
        },
        "id": "2o1lHuYd1ImY",
        "outputId": "0c837cdb-3db9-4893-a451-ca63cec63fc1"
      },
      "execution_count": null,
      "outputs": [
        {
          "output_type": "execute_result",
          "data": {
            "text/plain": [
              "0.840958605664488"
            ]
          },
          "metadata": {},
          "execution_count": 36
        }
      ]
    },
    {
      "cell_type": "code",
      "source": [
        "confusion_calculada=confusion(np.array(df_test.ID)-1,y_pred).astype(int)\n",
        "names=df.id_name.unique()\n",
        "pd.DataFrame(confusion_calculada)#, index=names, columns=names)"
      ],
      "metadata": {
        "colab": {
          "base_uri": "https://localhost:8080/",
          "height": 424
        },
        "id": "z6mx5dypjomC",
        "outputId": "25f741d8-93c5-43bb-cf9c-e079041ccdc8"
      },
      "execution_count": null,
      "outputs": [
        {
          "output_type": "execute_result",
          "data": {
            "text/plain": [
              "    0   1   2   3   4   5   6   7   8   9   ...  54  55  56  57  58  59  60  \\\n",
              "0    5   0   0   0   0   0   0   0   0   0  ...   0   0   0   0   0   0   0   \n",
              "1    0   5   0   0   0   0   0   0   0   0  ...   0   0   0   0   0   0   0   \n",
              "2    0   0   5   0   0   0   0   0   0   0  ...   0   0   0   0   0   0   0   \n",
              "3    0   0   0   6   0   0   0   0   0   0  ...   0   0   0   0   0   0   0   \n",
              "4    0   0   0   0   5   0   0   0   0   0  ...   0   0   0   0   0   0   0   \n",
              "..  ..  ..  ..  ..  ..  ..  ..  ..  ..  ..  ...  ..  ..  ..  ..  ..  ..  ..   \n",
              "59   0   0   0   0   0   0   0   0   0   0  ...   0   0   0   0   0   7   0   \n",
              "60   0   0   0   0   0   0   0   0   0   0  ...   0   0   0   0   0   0  10   \n",
              "61   0   0   0   0   0   0   0   0   0   0  ...   0   0   0   0   0   0   0   \n",
              "62   0   0   0   0   0   0   0   0   0   0  ...   0   1   0   0   0   0   0   \n",
              "63   0   0   0   0   0   0   0   0   0   0  ...   0   0   0   0   0   0   0   \n",
              "\n",
              "    61  62  63  \n",
              "0    0   0   0  \n",
              "1    0   0   0  \n",
              "2    0   0   0  \n",
              "3    0   0   0  \n",
              "4    0   0   0  \n",
              "..  ..  ..  ..  \n",
              "59   0   0   0  \n",
              "60   0   0   0  \n",
              "61   5   0   1  \n",
              "62   0   6   0  \n",
              "63   0   0   4  \n",
              "\n",
              "[64 rows x 64 columns]"
            ],
            "text/html": [
              "\n",
              "  <div id=\"df-24b23ace-1643-4913-bc0a-7bfe5c9a3867\">\n",
              "    <div class=\"colab-df-container\">\n",
              "      <div>\n",
              "<style scoped>\n",
              "    .dataframe tbody tr th:only-of-type {\n",
              "        vertical-align: middle;\n",
              "    }\n",
              "\n",
              "    .dataframe tbody tr th {\n",
              "        vertical-align: top;\n",
              "    }\n",
              "\n",
              "    .dataframe thead th {\n",
              "        text-align: right;\n",
              "    }\n",
              "</style>\n",
              "<table border=\"1\" class=\"dataframe\">\n",
              "  <thead>\n",
              "    <tr style=\"text-align: right;\">\n",
              "      <th></th>\n",
              "      <th>0</th>\n",
              "      <th>1</th>\n",
              "      <th>2</th>\n",
              "      <th>3</th>\n",
              "      <th>4</th>\n",
              "      <th>5</th>\n",
              "      <th>6</th>\n",
              "      <th>7</th>\n",
              "      <th>8</th>\n",
              "      <th>9</th>\n",
              "      <th>...</th>\n",
              "      <th>54</th>\n",
              "      <th>55</th>\n",
              "      <th>56</th>\n",
              "      <th>57</th>\n",
              "      <th>58</th>\n",
              "      <th>59</th>\n",
              "      <th>60</th>\n",
              "      <th>61</th>\n",
              "      <th>62</th>\n",
              "      <th>63</th>\n",
              "    </tr>\n",
              "  </thead>\n",
              "  <tbody>\n",
              "    <tr>\n",
              "      <th>0</th>\n",
              "      <td>5</td>\n",
              "      <td>0</td>\n",
              "      <td>0</td>\n",
              "      <td>0</td>\n",
              "      <td>0</td>\n",
              "      <td>0</td>\n",
              "      <td>0</td>\n",
              "      <td>0</td>\n",
              "      <td>0</td>\n",
              "      <td>0</td>\n",
              "      <td>...</td>\n",
              "      <td>0</td>\n",
              "      <td>0</td>\n",
              "      <td>0</td>\n",
              "      <td>0</td>\n",
              "      <td>0</td>\n",
              "      <td>0</td>\n",
              "      <td>0</td>\n",
              "      <td>0</td>\n",
              "      <td>0</td>\n",
              "      <td>0</td>\n",
              "    </tr>\n",
              "    <tr>\n",
              "      <th>1</th>\n",
              "      <td>0</td>\n",
              "      <td>5</td>\n",
              "      <td>0</td>\n",
              "      <td>0</td>\n",
              "      <td>0</td>\n",
              "      <td>0</td>\n",
              "      <td>0</td>\n",
              "      <td>0</td>\n",
              "      <td>0</td>\n",
              "      <td>0</td>\n",
              "      <td>...</td>\n",
              "      <td>0</td>\n",
              "      <td>0</td>\n",
              "      <td>0</td>\n",
              "      <td>0</td>\n",
              "      <td>0</td>\n",
              "      <td>0</td>\n",
              "      <td>0</td>\n",
              "      <td>0</td>\n",
              "      <td>0</td>\n",
              "      <td>0</td>\n",
              "    </tr>\n",
              "    <tr>\n",
              "      <th>2</th>\n",
              "      <td>0</td>\n",
              "      <td>0</td>\n",
              "      <td>5</td>\n",
              "      <td>0</td>\n",
              "      <td>0</td>\n",
              "      <td>0</td>\n",
              "      <td>0</td>\n",
              "      <td>0</td>\n",
              "      <td>0</td>\n",
              "      <td>0</td>\n",
              "      <td>...</td>\n",
              "      <td>0</td>\n",
              "      <td>0</td>\n",
              "      <td>0</td>\n",
              "      <td>0</td>\n",
              "      <td>0</td>\n",
              "      <td>0</td>\n",
              "      <td>0</td>\n",
              "      <td>0</td>\n",
              "      <td>0</td>\n",
              "      <td>0</td>\n",
              "    </tr>\n",
              "    <tr>\n",
              "      <th>3</th>\n",
              "      <td>0</td>\n",
              "      <td>0</td>\n",
              "      <td>0</td>\n",
              "      <td>6</td>\n",
              "      <td>0</td>\n",
              "      <td>0</td>\n",
              "      <td>0</td>\n",
              "      <td>0</td>\n",
              "      <td>0</td>\n",
              "      <td>0</td>\n",
              "      <td>...</td>\n",
              "      <td>0</td>\n",
              "      <td>0</td>\n",
              "      <td>0</td>\n",
              "      <td>0</td>\n",
              "      <td>0</td>\n",
              "      <td>0</td>\n",
              "      <td>0</td>\n",
              "      <td>0</td>\n",
              "      <td>0</td>\n",
              "      <td>0</td>\n",
              "    </tr>\n",
              "    <tr>\n",
              "      <th>4</th>\n",
              "      <td>0</td>\n",
              "      <td>0</td>\n",
              "      <td>0</td>\n",
              "      <td>0</td>\n",
              "      <td>5</td>\n",
              "      <td>0</td>\n",
              "      <td>0</td>\n",
              "      <td>0</td>\n",
              "      <td>0</td>\n",
              "      <td>0</td>\n",
              "      <td>...</td>\n",
              "      <td>0</td>\n",
              "      <td>0</td>\n",
              "      <td>0</td>\n",
              "      <td>0</td>\n",
              "      <td>0</td>\n",
              "      <td>0</td>\n",
              "      <td>0</td>\n",
              "      <td>0</td>\n",
              "      <td>0</td>\n",
              "      <td>0</td>\n",
              "    </tr>\n",
              "    <tr>\n",
              "      <th>...</th>\n",
              "      <td>...</td>\n",
              "      <td>...</td>\n",
              "      <td>...</td>\n",
              "      <td>...</td>\n",
              "      <td>...</td>\n",
              "      <td>...</td>\n",
              "      <td>...</td>\n",
              "      <td>...</td>\n",
              "      <td>...</td>\n",
              "      <td>...</td>\n",
              "      <td>...</td>\n",
              "      <td>...</td>\n",
              "      <td>...</td>\n",
              "      <td>...</td>\n",
              "      <td>...</td>\n",
              "      <td>...</td>\n",
              "      <td>...</td>\n",
              "      <td>...</td>\n",
              "      <td>...</td>\n",
              "      <td>...</td>\n",
              "      <td>...</td>\n",
              "    </tr>\n",
              "    <tr>\n",
              "      <th>59</th>\n",
              "      <td>0</td>\n",
              "      <td>0</td>\n",
              "      <td>0</td>\n",
              "      <td>0</td>\n",
              "      <td>0</td>\n",
              "      <td>0</td>\n",
              "      <td>0</td>\n",
              "      <td>0</td>\n",
              "      <td>0</td>\n",
              "      <td>0</td>\n",
              "      <td>...</td>\n",
              "      <td>0</td>\n",
              "      <td>0</td>\n",
              "      <td>0</td>\n",
              "      <td>0</td>\n",
              "      <td>0</td>\n",
              "      <td>7</td>\n",
              "      <td>0</td>\n",
              "      <td>0</td>\n",
              "      <td>0</td>\n",
              "      <td>0</td>\n",
              "    </tr>\n",
              "    <tr>\n",
              "      <th>60</th>\n",
              "      <td>0</td>\n",
              "      <td>0</td>\n",
              "      <td>0</td>\n",
              "      <td>0</td>\n",
              "      <td>0</td>\n",
              "      <td>0</td>\n",
              "      <td>0</td>\n",
              "      <td>0</td>\n",
              "      <td>0</td>\n",
              "      <td>0</td>\n",
              "      <td>...</td>\n",
              "      <td>0</td>\n",
              "      <td>0</td>\n",
              "      <td>0</td>\n",
              "      <td>0</td>\n",
              "      <td>0</td>\n",
              "      <td>0</td>\n",
              "      <td>10</td>\n",
              "      <td>0</td>\n",
              "      <td>0</td>\n",
              "      <td>0</td>\n",
              "    </tr>\n",
              "    <tr>\n",
              "      <th>61</th>\n",
              "      <td>0</td>\n",
              "      <td>0</td>\n",
              "      <td>0</td>\n",
              "      <td>0</td>\n",
              "      <td>0</td>\n",
              "      <td>0</td>\n",
              "      <td>0</td>\n",
              "      <td>0</td>\n",
              "      <td>0</td>\n",
              "      <td>0</td>\n",
              "      <td>...</td>\n",
              "      <td>0</td>\n",
              "      <td>0</td>\n",
              "      <td>0</td>\n",
              "      <td>0</td>\n",
              "      <td>0</td>\n",
              "      <td>0</td>\n",
              "      <td>0</td>\n",
              "      <td>5</td>\n",
              "      <td>0</td>\n",
              "      <td>1</td>\n",
              "    </tr>\n",
              "    <tr>\n",
              "      <th>62</th>\n",
              "      <td>0</td>\n",
              "      <td>0</td>\n",
              "      <td>0</td>\n",
              "      <td>0</td>\n",
              "      <td>0</td>\n",
              "      <td>0</td>\n",
              "      <td>0</td>\n",
              "      <td>0</td>\n",
              "      <td>0</td>\n",
              "      <td>0</td>\n",
              "      <td>...</td>\n",
              "      <td>0</td>\n",
              "      <td>1</td>\n",
              "      <td>0</td>\n",
              "      <td>0</td>\n",
              "      <td>0</td>\n",
              "      <td>0</td>\n",
              "      <td>0</td>\n",
              "      <td>0</td>\n",
              "      <td>6</td>\n",
              "      <td>0</td>\n",
              "    </tr>\n",
              "    <tr>\n",
              "      <th>63</th>\n",
              "      <td>0</td>\n",
              "      <td>0</td>\n",
              "      <td>0</td>\n",
              "      <td>0</td>\n",
              "      <td>0</td>\n",
              "      <td>0</td>\n",
              "      <td>0</td>\n",
              "      <td>0</td>\n",
              "      <td>0</td>\n",
              "      <td>0</td>\n",
              "      <td>...</td>\n",
              "      <td>0</td>\n",
              "      <td>0</td>\n",
              "      <td>0</td>\n",
              "      <td>0</td>\n",
              "      <td>0</td>\n",
              "      <td>0</td>\n",
              "      <td>0</td>\n",
              "      <td>0</td>\n",
              "      <td>0</td>\n",
              "      <td>4</td>\n",
              "    </tr>\n",
              "  </tbody>\n",
              "</table>\n",
              "<p>64 rows × 64 columns</p>\n",
              "</div>\n",
              "      <button class=\"colab-df-convert\" onclick=\"convertToInteractive('df-24b23ace-1643-4913-bc0a-7bfe5c9a3867')\"\n",
              "              title=\"Convert this dataframe to an interactive table.\"\n",
              "              style=\"display:none;\">\n",
              "        \n",
              "  <svg xmlns=\"http://www.w3.org/2000/svg\" height=\"24px\"viewBox=\"0 0 24 24\"\n",
              "       width=\"24px\">\n",
              "    <path d=\"M0 0h24v24H0V0z\" fill=\"none\"/>\n",
              "    <path d=\"M18.56 5.44l.94 2.06.94-2.06 2.06-.94-2.06-.94-.94-2.06-.94 2.06-2.06.94zm-11 1L8.5 8.5l.94-2.06 2.06-.94-2.06-.94L8.5 2.5l-.94 2.06-2.06.94zm10 10l.94 2.06.94-2.06 2.06-.94-2.06-.94-.94-2.06-.94 2.06-2.06.94z\"/><path d=\"M17.41 7.96l-1.37-1.37c-.4-.4-.92-.59-1.43-.59-.52 0-1.04.2-1.43.59L10.3 9.45l-7.72 7.72c-.78.78-.78 2.05 0 2.83L4 21.41c.39.39.9.59 1.41.59.51 0 1.02-.2 1.41-.59l7.78-7.78 2.81-2.81c.8-.78.8-2.07 0-2.86zM5.41 20L4 18.59l7.72-7.72 1.47 1.35L5.41 20z\"/>\n",
              "  </svg>\n",
              "      </button>\n",
              "      \n",
              "  <style>\n",
              "    .colab-df-container {\n",
              "      display:flex;\n",
              "      flex-wrap:wrap;\n",
              "      gap: 12px;\n",
              "    }\n",
              "\n",
              "    .colab-df-convert {\n",
              "      background-color: #E8F0FE;\n",
              "      border: none;\n",
              "      border-radius: 50%;\n",
              "      cursor: pointer;\n",
              "      display: none;\n",
              "      fill: #1967D2;\n",
              "      height: 32px;\n",
              "      padding: 0 0 0 0;\n",
              "      width: 32px;\n",
              "    }\n",
              "\n",
              "    .colab-df-convert:hover {\n",
              "      background-color: #E2EBFA;\n",
              "      box-shadow: 0px 1px 2px rgba(60, 64, 67, 0.3), 0px 1px 3px 1px rgba(60, 64, 67, 0.15);\n",
              "      fill: #174EA6;\n",
              "    }\n",
              "\n",
              "    [theme=dark] .colab-df-convert {\n",
              "      background-color: #3B4455;\n",
              "      fill: #D2E3FC;\n",
              "    }\n",
              "\n",
              "    [theme=dark] .colab-df-convert:hover {\n",
              "      background-color: #434B5C;\n",
              "      box-shadow: 0px 1px 3px 1px rgba(0, 0, 0, 0.15);\n",
              "      filter: drop-shadow(0px 1px 2px rgba(0, 0, 0, 0.3));\n",
              "      fill: #FFFFFF;\n",
              "    }\n",
              "  </style>\n",
              "\n",
              "      <script>\n",
              "        const buttonEl =\n",
              "          document.querySelector('#df-24b23ace-1643-4913-bc0a-7bfe5c9a3867 button.colab-df-convert');\n",
              "        buttonEl.style.display =\n",
              "          google.colab.kernel.accessAllowed ? 'block' : 'none';\n",
              "\n",
              "        async function convertToInteractive(key) {\n",
              "          const element = document.querySelector('#df-24b23ace-1643-4913-bc0a-7bfe5c9a3867');\n",
              "          const dataTable =\n",
              "            await google.colab.kernel.invokeFunction('convertToInteractive',\n",
              "                                                     [key], {});\n",
              "          if (!dataTable) return;\n",
              "\n",
              "          const docLinkHtml = 'Like what you see? Visit the ' +\n",
              "            '<a target=\"_blank\" href=https://colab.research.google.com/notebooks/data_table.ipynb>data table notebook</a>'\n",
              "            + ' to learn more about interactive tables.';\n",
              "          element.innerHTML = '';\n",
              "          dataTable['output_type'] = 'display_data';\n",
              "          await google.colab.output.renderOutput(dataTable, element);\n",
              "          const docLink = document.createElement('div');\n",
              "          docLink.innerHTML = docLinkHtml;\n",
              "          element.appendChild(docLink);\n",
              "        }\n",
              "      </script>\n",
              "    </div>\n",
              "  </div>\n",
              "  "
            ]
          },
          "metadata": {},
          "execution_count": 37
        }
      ]
    },
    {
      "cell_type": "code",
      "source": [
        "plt.figure(figsize=(12,10))\n",
        "import seaborn as sns\n",
        "sns.heatmap(confusion_calculada, cmap=\"YlGnBu\") #,annot=True"
      ],
      "metadata": {
        "colab": {
          "base_uri": "https://localhost:8080/",
          "height": 609
        },
        "id": "z8YGZPssjzAs",
        "outputId": "62e1b26d-7464-47a5-b0c2-48acad9c06fa"
      },
      "execution_count": null,
      "outputs": [
        {
          "output_type": "execute_result",
          "data": {
            "text/plain": [
              "<matplotlib.axes._subplots.AxesSubplot at 0x7ff995eb0550>"
            ]
          },
          "metadata": {},
          "execution_count": 38
        },
        {
          "output_type": "display_data",
          "data": {
            "text/plain": [
              "<Figure size 864x720 with 2 Axes>"
            ],
            "image/png": "[encoded data removed]"
          },
          "metadata": {
            "needs_background": "light"
          }
        }
      ]
    },
    {
      "cell_type": "code",
      "source": [
        "plt.plot(model_training_history.history['accuracy'])\n",
        "plt.plot(model_training_history.history['val_accuracy'])\n",
        "plt.legend(['train_acc','val_acc'])"
      ],
      "metadata": {
        "colab": {
          "base_uri": "https://localhost:8080/",
          "height": 282
        },
        "id": "28ZG9NDOSDQe",
        "outputId": "232650cd-03ed-4786-b652-ecb1d41ed3f5"
      },
      "execution_count": null,
      "outputs": [
        {
          "output_type": "execute_result",
          "data": {
            "text/plain": [
              "<matplotlib.legend.Legend at 0x7ff9975a61d0>"
            ]
          },
          "metadata": {},
          "execution_count": 40
        },
        {
          "output_type": "display_data",
          "data": {
            "text/plain": [
              "<Figure size 432x288 with 1 Axes>"
            ],
            "image/png": "[encoded data removed]"
          },
          "metadata": {
            "needs_background": "light"
          }
        }
      ]
    },
    {
      "cell_type": "code",
      "source": [
        "plt.plot(model_training_history.history['loss'])\n",
        "plt.plot(model_training_history.history['val_loss'])\n",
        "plt.legend(['train_loss','val_loss'])"
      ],
      "metadata": {
        "colab": {
          "base_uri": "https://localhost:8080/",
          "height": 285
        },
        "id": "TGsbLWa7SHdT",
        "outputId": "753ee59e-3eec-45d4-f584-d62ff1e18b5c"
      },
      "execution_count": null,
      "outputs": [
        {
          "output_type": "execute_result",
          "data": {
            "text/plain": [
              "<matplotlib.legend.Legend at 0x7ff9974e1d90>"
            ]
          },
          "metadata": {},
          "execution_count": 41
        },
        {
          "output_type": "display_data",
          "data": {
            "text/plain": [
              "<Figure size 432x288 with 1 Axes>"
            ],
            "image/png": "[encoded data removed]"
          },
          "metadata": {
            "needs_background": "light"
          }
        }
      ]
    },
    {
      "cell_type": "markdown",
      "source": [
        "Tengo 63 nombres y 64 IDs, se repite  \"Red\""
      ],
      "metadata": {
        "id": "tx07izbE8G8Y"
      }
    },
    {
      "cell_type": "code",
      "source": [
        "for layer in model.layers:\n",
        "    if 'conv'  in layer.name.lower():\n",
        "      filters, biases = layer.get_weights()\n",
        "      print(layer.name,filters.shape)\n",
        "    else:\n",
        "      weights = layer.get_weights()\n",
        "      if len(weights)>0:\n",
        "        message = \",\".join([str(w.shape) for w in weights])\n",
        "      else:\n",
        "        message=\"none\"\n",
        "      print(f\"{layer.name} weights: {message}\")\n"
      ],
      "metadata": {
        "id": "96wFP65y4m1m",
        "colab": {
          "base_uri": "https://localhost:8080/"
        },
        "outputId": "deb2d409-2826-4b24-fc2b-e54ad976f05f"
      },
      "execution_count": null,
      "outputs": [
        {
          "output_type": "stream",
          "name": "stdout",
          "text": [
            "conv3d (3, 3, 3, 1, 32)\n",
            "conv3d_1 (3, 3, 3, 32, 32)\n",
            "conv3d_2 (3, 3, 3, 32, 32)\n",
            "conv3d_3 (3, 3, 3, 32, 64)\n",
            "batch_normalization weights: (64,),(64,),(64,),(64,)\n",
            "max_pooling3d weights: none\n",
            "global_average_pooling3d weights: none\n",
            "dense weights: (64, 64),(64,)\n"
          ]
        }
      ]
    },
    {
      "cell_type": "code",
      "source": [
        "#Elegir capa convolucional y nro de filtro\n",
        "layer_name=\"conv3d_1\"#\"block1_conv2\"\n",
        "filter_index=0\n",
        "#dibujar filtro\n",
        "layer = layer_by_name(model,layer_name)\n",
        "filters, biases = layer.get_weights()\n",
        "plot_conv_weight(layer.name,filters[:,:,:,filter_index,0])"
      ],
      "metadata": {
        "colab": {
          "base_uri": "https://localhost:8080/",
          "height": 117
        },
        "id": "g1WtVL2LuyQ9",
        "outputId": "04e58fe6-3f17-4bef-a8e3-2b5e178c8048"
      },
      "execution_count": null,
      "outputs": [
        {
          "output_type": "display_data",
          "data": {
            "text/plain": [
              "<Figure size 1200x100 with 12 Axes>"
            ],
            "image/png": "[encoded data removed]"
          },
          "metadata": {
            "needs_background": "light"
          }
        }
      ]
    },
    {
      "cell_type": "code",
      "source": [
        "filters.shape"
      ],
      "metadata": {
        "colab": {
          "base_uri": "https://localhost:8080/"
        },
        "id": "9WfU-yU-vMZr",
        "outputId": "7ba55955-efa2-4828-e5c0-e4518b32c2cb"
      },
      "execution_count": null,
      "outputs": [
        {
          "output_type": "execute_result",
          "data": {
            "text/plain": [
              "(3, 3, 3, 32, 32)"
            ]
          },
          "metadata": {},
          "execution_count": 47
        }
      ]
    }
  ]
}