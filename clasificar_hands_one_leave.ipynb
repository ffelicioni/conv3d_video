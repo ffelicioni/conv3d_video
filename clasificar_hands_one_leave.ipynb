{
  "nbformat": 4,
  "nbformat_minor": 0,
  "metadata": {
    "colab": {
      "name": "clasificar_hands.ipynb",
      "provenance": [],
      "collapsed_sections": [],
      "include_colab_link": true
    },
    "kernelspec": {
      "name": "python3",
      "display_name": "Python 3"
    },
    "language_info": {
      "name": "python"
    },
    "accelerator": "GPU"
  },
  "cells": [
    {
      "cell_type": "markdown",
      "metadata": {
        "id": "view-in-github",
        "colab_type": "text"
      },
      "source": [
        "<a href=\"https://colab.research.google.com/github/ffelicioni/conv3d_video/blob/main/clasificar_hands_one_leave.ipynb\" target=\"_parent\"><img src=\"https://colab.research.google.com/assets/colab-badge.svg\" alt=\"Open In Colab\"/></a>"
      ]
    },
    {
      "cell_type": "markdown",
      "source": [
        "# Deep Learning - Clasificación de lenguaje de señas"
      ],
      "metadata": {
        "id": "gSdSlvzgMyxK"
      }
    },
    {
      "cell_type": "markdown",
      "source": [
        "## Módulos"
      ],
      "metadata": {
        "id": "fzjgmRX78tRn"
      }
    },
    {
      "cell_type": "code",
      "execution_count": 1,
      "metadata": {
        "id": "xbVtRxLIYi69"
      },
      "outputs": [],
      "source": [
        "import os as os\n",
        "import pandas as pd\n",
        "import glob\n",
        "from pathlib import Path\n",
        "\n",
        "from IPython.display import clear_output\n",
        "import sys\n",
        "\n",
        "import seaborn as sns\n",
        "import matplotlib.pyplot as plt\n",
        "import numpy as np\n",
        "import math as math\n",
        "\n",
        "from google.colab.patches import cv2_imshow\n",
        "\n",
        "import tensorflow as tf\n",
        "from tensorflow import keras\n",
        "\n",
        "import cv2\n",
        "\n",
        "from sklearn.model_selection import train_test_split\n",
        "\n",
        "from sklearn.model_selection import StratifiedShuffleSplit\n",
        "\n",
        "import matplotlib.pyplot as plt\n",
        "from skimage import io\n",
        "\n",
        "import random as random\n",
        "\n",
        "import shutil"
      ]
    },
    {
      "cell_type": "markdown",
      "source": [
        "## Funciones"
      ],
      "metadata": {
        "id": "Coq5VvkF8oez"
      }
    },
    {
      "cell_type": "code",
      "source": [
        "! mkdir /content/src\n",
        "sys.path.append('./src')\n",
        "% cd /content/src\n",
        "archivos=['__init__.py','armado_dataset.py','clasificacion.py','visualizar_filtros.py','carga_datos.py','separar_train_test.py']\n",
        "for archivo in archivos:\n",
        "    !wget \"https://raw.githubusercontent.com/ffelicioni/conv3d_video/main/src/{archivo}\"\n",
        "% cd /content\n",
        "\n",
        "clear_output()"
      ],
      "metadata": {
        "id": "tLbFnESzZ5dZ"
      },
      "execution_count": 2,
      "outputs": []
    },
    {
      "cell_type": "code",
      "source": [
        "from armado_dataset import video_capturing_function, data_load_function_frames, resampling_rand, data_load_frames_save_tf, load_data_from_tf, df_videos_names, video_duracion\n",
        "from separar_train_test import df_train_reordenar\n",
        "from clasificacion import prob2labels, accuracy, confusion\n",
        "from visualizar_filtros import plot_conv_weight, layer_by_name"
      ],
      "metadata": {
        "id": "wDk8AYPlaTIr"
      },
      "execution_count": 3,
      "outputs": []
    },
    {
      "cell_type": "markdown",
      "source": [
        "Clase sequence para carga de datos"
      ],
      "metadata": {
        "id": "9GlAdXB564Ll"
      }
    },
    {
      "cell_type": "code",
      "source": [
        "class CustomSequence(keras.utils.Sequence):\n",
        "    def __init__(self, batch_size):\n",
        "        super().__init__()\n",
        "        self.batch_size = batch_size\n",
        "        self.n=3869 \n",
        "    def __len__(self):\n",
        "        return self.n // self.batch_size\n",
        "\n",
        "    def __getitem__(self, batch_index):\n",
        "        idx_start = batch_index*self.batch_size\n",
        "        idx_end = idx_start+self.batch_size\n",
        "        \n",
        "        X=load_data_from_tf(df_train_batch[idx_start:idx_end],\"train_data\")\n",
        "        a=np.array(df_train_batch[idx_start:idx_end].ID)\n",
        "        y = tf.keras.utils.to_categorical(a-1, num_classes =64)\n",
        "        \n",
        "        nf,w,h=X[0].shape\n",
        "        X.reshape(self.batch_size,nf,w,h,1)\n",
        "        return X, y"
      ],
      "metadata": {
        "id": "1mKsfpk1sWWX"
      },
      "execution_count": 4,
      "outputs": []
    },
    {
      "cell_type": "markdown",
      "source": [
        "## Chequeo GPU"
      ],
      "metadata": {
        "id": "xlNa_dH48wwK"
      }
    },
    {
      "cell_type": "code",
      "source": [
        "tf.test.gpu_device_name()"
      ],
      "metadata": {
        "colab": {
          "base_uri": "https://localhost:8080/",
          "height": 35
        },
        "id": "yaTuNeJyzHhW",
        "outputId": "ae49d57f-0f60-4657-901b-db0a64b6a232"
      },
      "execution_count": 5,
      "outputs": [
        {
          "output_type": "execute_result",
          "data": {
            "text/plain": [
              "'/device:GPU:0'"
            ],
            "application/vnd.google.colaboratory.intrinsic+json": {
              "type": "string"
            }
          },
          "metadata": {},
          "execution_count": 5
        }
      ]
    },
    {
      "cell_type": "code",
      "source": [
        "!/opt/bin/nvidia-smi"
      ],
      "metadata": {
        "colab": {
          "base_uri": "https://localhost:8080/"
        },
        "id": "w5SV6cv-3Lze",
        "outputId": "77d2ae84-cb54-4548-eba2-beba4993e832"
      },
      "execution_count": 6,
      "outputs": [
        {
          "output_type": "stream",
          "name": "stdout",
          "text": [
            "Thu Jul 14 16:04:27 2022       \n",
            "+-----------------------------------------------------------------------------+\n",
            "| NVIDIA-SMI 460.32.03    Driver Version: 460.32.03    CUDA Version: 11.2     |\n",
            "|-------------------------------+----------------------+----------------------+\n",
            "| GPU  Name        Persistence-M| Bus-Id        Disp.A | Volatile Uncorr. ECC |\n",
            "| Fan  Temp  Perf  Pwr:Usage/Cap|         Memory-Usage | GPU-Util  Compute M. |\n",
            "|                               |                      |               MIG M. |\n",
            "|===============================+======================+======================|\n",
            "|   0  Tesla T4            Off  | 00000000:00:04.0 Off |                    0 |\n",
            "| N/A   41C    P0    25W /  70W |    284MiB / 15109MiB |      0%      Default |\n",
            "|                               |                      |                  N/A |\n",
            "+-------------------------------+----------------------+----------------------+\n",
            "                                                                               \n",
            "+-----------------------------------------------------------------------------+\n",
            "| Processes:                                                                  |\n",
            "|  GPU   GI   CI        PID   Type   Process name                  GPU Memory |\n",
            "|        ID   ID                                                   Usage      |\n",
            "|=============================================================================|\n",
            "+-----------------------------------------------------------------------------+\n"
          ]
        }
      ]
    },
    {
      "cell_type": "code",
      "source": [
        "import gc\n",
        "gc.collect()"
      ],
      "metadata": {
        "colab": {
          "base_uri": "https://localhost:8080/"
        },
        "id": "n63YLbbE_kjf",
        "outputId": "005d1fd2-8d22-4926-c6bb-dc5dc65cea45"
      },
      "execution_count": 7,
      "outputs": [
        {
          "output_type": "execute_result",
          "data": {
            "text/plain": [
              "275"
            ]
          },
          "metadata": {},
          "execution_count": 7
        }
      ]
    },
    {
      "cell_type": "markdown",
      "source": [
        "## Datasets"
      ],
      "metadata": {
        "id": "WC2b6Fp285Sn"
      }
    },
    {
      "cell_type": "code",
      "source": [
        "from google.colab import drive\n",
        "drive.mount('/content/drive', force_remount=True)"
      ],
      "metadata": {
        "colab": {
          "base_uri": "https://localhost:8080/"
        },
        "id": "XArnzVbvYmvK",
        "outputId": "19ebbcdb-ff9b-43d5-a3ff-93ae5135438b"
      },
      "execution_count": 8,
      "outputs": [
        {
          "output_type": "stream",
          "name": "stdout",
          "text": [
            "Mounted at /content/drive\n"
          ]
        }
      ]
    },
    {
      "cell_type": "code",
      "source": [
        "!unzip drive/MyDrive/lsa64_preprocessed.zip -d dataset\n",
        "clear_output()"
      ],
      "metadata": {
        "id": "Y_yfppm4ZD20"
      },
      "execution_count": 9,
      "outputs": []
    },
    {
      "cell_type": "markdown",
      "source": [
        "Armo dataset con nombres de los videos disponibles"
      ],
      "metadata": {
        "id": "gXH5eIVAt1l5"
      }
    },
    {
      "cell_type": "code",
      "source": [
        "df=df_videos_names('/content/dataset/lsa64_hand_videos/*.avi')\n",
        "print('cantidad de videos:',len(sorted(glob.glob('/content/dataset/lsa64_hand_videos/*.avi'))))\n",
        "print('cantidad de videos de la mano derecha:',len(df[df.mano=='right']))\n",
        "print('cantidad de videos de la mano izquierda:',len(df[df.mano=='left']))\n",
        "print('cantidad de personas:', len(df.persona.unique()))\n",
        "print('cantidad de repeticiones:', len(df.repeticion.unique()))"
      ],
      "metadata": {
        "colab": {
          "base_uri": "https://localhost:8080/"
        },
        "id": "kRQkwxyD4v-5",
        "outputId": "897eb963-bcf9-4288-f935-016380430ba0"
      },
      "execution_count": 11,
      "outputs": [
        {
          "output_type": "stream",
          "name": "stdout",
          "text": [
            "cantidad de videos: 4299\n",
            "cantidad de videos de la mano derecha: 3200\n",
            "cantidad de videos de la mano izquierda: 1099\n",
            "cantidad de personas: 10\n",
            "cantidad de repeticiones: 5\n"
          ]
        }
      ]
    },
    {
      "cell_type": "code",
      "source": [
        "clases=pd.read_csv('https://raw.githubusercontent.com/ffelicioni/conv3d_video/main/data/clase_LSA64.csv')\n",
        "print('cantidad de clases:', len(clases.Name.unique()),'nombres: ',clases.Name.unique())"
      ],
      "metadata": {
        "colab": {
          "base_uri": "https://localhost:8080/"
        },
        "id": "ws0jy5FgeY5F",
        "outputId": "6ed700b6-9d25-4c6c-d8f3-295e0c827e51"
      },
      "execution_count": 12,
      "outputs": [
        {
          "output_type": "stream",
          "name": "stdout",
          "text": [
            "cantidad de clases: 64 nombres:  ['Opaque' 'Red' 'Green' 'Yellow' 'Bright' 'Light-blue' 'Colors' 'Rose'\n",
            " 'Women' 'Enemy' 'Son' 'Man' 'Away' 'Drawer' 'Born' 'Learn' 'Call'\n",
            " 'Skimmer' 'Bitter' 'Sweet milk' 'Milk' 'Water' 'Food' 'Argentina'\n",
            " 'Uruguay' 'Country' 'Last name' 'Where' 'Mock' 'Birthday' 'Breakfast'\n",
            " 'Photo' 'Hungry' 'Map' 'Coin' 'Music' 'Ship' 'None' 'Name' 'Patience'\n",
            " 'Perfume' 'Deaf' 'Trap' 'Rice' 'Barbecue' 'Candy' 'Chewing-gum'\n",
            " 'Spaghetti' 'Yogurt' 'Accept' 'Thanks' 'Shut down' 'Appear' 'To land'\n",
            " 'Catch' 'Help' 'Dance' 'Bathe' 'Buy' 'Copy' 'Run' 'Realize' 'Give' 'Find']\n"
          ]
        }
      ]
    },
    {
      "cell_type": "code",
      "source": [
        "df['id_name']=pd.merge(df,clases,on='ID',how='left').Name\n",
        "df"
      ],
      "metadata": {
        "colab": {
          "base_uri": "https://localhost:8080/",
          "height": 424
        },
        "id": "5k9OWVGh1lAf",
        "outputId": "8140c6a7-8736-4f2c-b21c-38a0cbc559ab"
      },
      "execution_count": 13,
      "outputs": [
        {
          "output_type": "execute_result",
          "data": {
            "text/plain": [
              "                                              file_path  ID persona  \\\n",
              "0     /content/dataset/lsa64_hand_videos/001_001_001...   1     001   \n",
              "1     /content/dataset/lsa64_hand_videos/001_001_002...   1     001   \n",
              "2     /content/dataset/lsa64_hand_videos/001_001_003...   1     001   \n",
              "3     /content/dataset/lsa64_hand_videos/001_001_004...   1     001   \n",
              "4     /content/dataset/lsa64_hand_videos/001_001_005...   1     001   \n",
              "...                                                 ...  ..     ...   \n",
              "4294  /content/dataset/lsa64_hand_videos/064_010_001...  64     010   \n",
              "4295  /content/dataset/lsa64_hand_videos/064_010_002...  64     010   \n",
              "4296  /content/dataset/lsa64_hand_videos/064_010_003...  64     010   \n",
              "4297  /content/dataset/lsa64_hand_videos/064_010_004...  64     010   \n",
              "4298  /content/dataset/lsa64_hand_videos/064_010_005...  64     010   \n",
              "\n",
              "     repeticion   mano id_name  \n",
              "0           001  right  Opaque  \n",
              "1           002  right  Opaque  \n",
              "2           003  right  Opaque  \n",
              "3           004  right  Opaque  \n",
              "4           005  right  Opaque  \n",
              "...         ...    ...     ...  \n",
              "4294        001  right    Find  \n",
              "4295        002  right    Find  \n",
              "4296        003  right    Find  \n",
              "4297        004  right    Find  \n",
              "4298        005  right    Find  \n",
              "\n",
              "[4299 rows x 6 columns]"
            ],
            "text/html": [
              "\n",
              "  <div id=\"df-7187abba-3b7e-49e7-b6b7-488aa22e6f86\">\n",
              "    <div class=\"colab-df-container\">\n",
              "      <div>\n",
              "<style scoped>\n",
              "    .dataframe tbody tr th:only-of-type {\n",
              "        vertical-align: middle;\n",
              "    }\n",
              "\n",
              "    .dataframe tbody tr th {\n",
              "        vertical-align: top;\n",
              "    }\n",
              "\n",
              "    .dataframe thead th {\n",
              "        text-align: right;\n",
              "    }\n",
              "</style>\n",
              "<table border=\"1\" class=\"dataframe\">\n",
              "  <thead>\n",
              "    <tr style=\"text-align: right;\">\n",
              "      <th></th>\n",
              "      <th>file_path</th>\n",
              "      <th>ID</th>\n",
              "      <th>persona</th>\n",
              "      <th>repeticion</th>\n",
              "      <th>mano</th>\n",
              "      <th>id_name</th>\n",
              "    </tr>\n",
              "  </thead>\n",
              "  <tbody>\n",
              "    <tr>\n",
              "      <th>0</th>\n",
              "      <td>/content/dataset/lsa64_hand_videos/001_001_001...</td>\n",
              "      <td>1</td>\n",
              "      <td>001</td>\n",
              "      <td>001</td>\n",
              "      <td>right</td>\n",
              "      <td>Opaque</td>\n",
              "    </tr>\n",
              "    <tr>\n",
              "      <th>1</th>\n",
              "      <td>/content/dataset/lsa64_hand_videos/001_001_002...</td>\n",
              "      <td>1</td>\n",
              "      <td>001</td>\n",
              "      <td>002</td>\n",
              "      <td>right</td>\n",
              "      <td>Opaque</td>\n",
              "    </tr>\n",
              "    <tr>\n",
              "      <th>2</th>\n",
              "      <td>/content/dataset/lsa64_hand_videos/001_001_003...</td>\n",
              "      <td>1</td>\n",
              "      <td>001</td>\n",
              "      <td>003</td>\n",
              "      <td>right</td>\n",
              "      <td>Opaque</td>\n",
              "    </tr>\n",
              "    <tr>\n",
              "      <th>3</th>\n",
              "      <td>/content/dataset/lsa64_hand_videos/001_001_004...</td>\n",
              "      <td>1</td>\n",
              "      <td>001</td>\n",
              "      <td>004</td>\n",
              "      <td>right</td>\n",
              "      <td>Opaque</td>\n",
              "    </tr>\n",
              "    <tr>\n",
              "      <th>4</th>\n",
              "      <td>/content/dataset/lsa64_hand_videos/001_001_005...</td>\n",
              "      <td>1</td>\n",
              "      <td>001</td>\n",
              "      <td>005</td>\n",
              "      <td>right</td>\n",
              "      <td>Opaque</td>\n",
              "    </tr>\n",
              "    <tr>\n",
              "      <th>...</th>\n",
              "      <td>...</td>\n",
              "      <td>...</td>\n",
              "      <td>...</td>\n",
              "      <td>...</td>\n",
              "      <td>...</td>\n",
              "      <td>...</td>\n",
              "    </tr>\n",
              "    <tr>\n",
              "      <th>4294</th>\n",
              "      <td>/content/dataset/lsa64_hand_videos/064_010_001...</td>\n",
              "      <td>64</td>\n",
              "      <td>010</td>\n",
              "      <td>001</td>\n",
              "      <td>right</td>\n",
              "      <td>Find</td>\n",
              "    </tr>\n",
              "    <tr>\n",
              "      <th>4295</th>\n",
              "      <td>/content/dataset/lsa64_hand_videos/064_010_002...</td>\n",
              "      <td>64</td>\n",
              "      <td>010</td>\n",
              "      <td>002</td>\n",
              "      <td>right</td>\n",
              "      <td>Find</td>\n",
              "    </tr>\n",
              "    <tr>\n",
              "      <th>4296</th>\n",
              "      <td>/content/dataset/lsa64_hand_videos/064_010_003...</td>\n",
              "      <td>64</td>\n",
              "      <td>010</td>\n",
              "      <td>003</td>\n",
              "      <td>right</td>\n",
              "      <td>Find</td>\n",
              "    </tr>\n",
              "    <tr>\n",
              "      <th>4297</th>\n",
              "      <td>/content/dataset/lsa64_hand_videos/064_010_004...</td>\n",
              "      <td>64</td>\n",
              "      <td>010</td>\n",
              "      <td>004</td>\n",
              "      <td>right</td>\n",
              "      <td>Find</td>\n",
              "    </tr>\n",
              "    <tr>\n",
              "      <th>4298</th>\n",
              "      <td>/content/dataset/lsa64_hand_videos/064_010_005...</td>\n",
              "      <td>64</td>\n",
              "      <td>010</td>\n",
              "      <td>005</td>\n",
              "      <td>right</td>\n",
              "      <td>Find</td>\n",
              "    </tr>\n",
              "  </tbody>\n",
              "</table>\n",
              "<p>4299 rows × 6 columns</p>\n",
              "</div>\n",
              "      <button class=\"colab-df-convert\" onclick=\"convertToInteractive('df-7187abba-3b7e-49e7-b6b7-488aa22e6f86')\"\n",
              "              title=\"Convert this dataframe to an interactive table.\"\n",
              "              style=\"display:none;\">\n",
              "        \n",
              "  <svg xmlns=\"http://www.w3.org/2000/svg\" height=\"24px\"viewBox=\"0 0 24 24\"\n",
              "       width=\"24px\">\n",
              "    <path d=\"M0 0h24v24H0V0z\" fill=\"none\"/>\n",
              "    <path d=\"M18.56 5.44l.94 2.06.94-2.06 2.06-.94-2.06-.94-.94-2.06-.94 2.06-2.06.94zm-11 1L8.5 8.5l.94-2.06 2.06-.94-2.06-.94L8.5 2.5l-.94 2.06-2.06.94zm10 10l.94 2.06.94-2.06 2.06-.94-2.06-.94-.94-2.06-.94 2.06-2.06.94z\"/><path d=\"M17.41 7.96l-1.37-1.37c-.4-.4-.92-.59-1.43-.59-.52 0-1.04.2-1.43.59L10.3 9.45l-7.72 7.72c-.78.78-.78 2.05 0 2.83L4 21.41c.39.39.9.59 1.41.59.51 0 1.02-.2 1.41-.59l7.78-7.78 2.81-2.81c.8-.78.8-2.07 0-2.86zM5.41 20L4 18.59l7.72-7.72 1.47 1.35L5.41 20z\"/>\n",
              "  </svg>\n",
              "      </button>\n",
              "      \n",
              "  <style>\n",
              "    .colab-df-container {\n",
              "      display:flex;\n",
              "      flex-wrap:wrap;\n",
              "      gap: 12px;\n",
              "    }\n",
              "\n",
              "    .colab-df-convert {\n",
              "      background-color: #E8F0FE;\n",
              "      border: none;\n",
              "      border-radius: 50%;\n",
              "      cursor: pointer;\n",
              "      display: none;\n",
              "      fill: #1967D2;\n",
              "      height: 32px;\n",
              "      padding: 0 0 0 0;\n",
              "      width: 32px;\n",
              "    }\n",
              "\n",
              "    .colab-df-convert:hover {\n",
              "      background-color: #E2EBFA;\n",
              "      box-shadow: 0px 1px 2px rgba(60, 64, 67, 0.3), 0px 1px 3px 1px rgba(60, 64, 67, 0.15);\n",
              "      fill: #174EA6;\n",
              "    }\n",
              "\n",
              "    [theme=dark] .colab-df-convert {\n",
              "      background-color: #3B4455;\n",
              "      fill: #D2E3FC;\n",
              "    }\n",
              "\n",
              "    [theme=dark] .colab-df-convert:hover {\n",
              "      background-color: #434B5C;\n",
              "      box-shadow: 0px 1px 3px 1px rgba(0, 0, 0, 0.15);\n",
              "      filter: drop-shadow(0px 1px 2px rgba(0, 0, 0, 0.3));\n",
              "      fill: #FFFFFF;\n",
              "    }\n",
              "  </style>\n",
              "\n",
              "      <script>\n",
              "        const buttonEl =\n",
              "          document.querySelector('#df-7187abba-3b7e-49e7-b6b7-488aa22e6f86 button.colab-df-convert');\n",
              "        buttonEl.style.display =\n",
              "          google.colab.kernel.accessAllowed ? 'block' : 'none';\n",
              "\n",
              "        async function convertToInteractive(key) {\n",
              "          const element = document.querySelector('#df-7187abba-3b7e-49e7-b6b7-488aa22e6f86');\n",
              "          const dataTable =\n",
              "            await google.colab.kernel.invokeFunction('convertToInteractive',\n",
              "                                                     [key], {});\n",
              "          if (!dataTable) return;\n",
              "\n",
              "          const docLinkHtml = 'Like what you see? Visit the ' +\n",
              "            '<a target=\"_blank\" href=https://colab.research.google.com/notebooks/data_table.ipynb>data table notebook</a>'\n",
              "            + ' to learn more about interactive tables.';\n",
              "          element.innerHTML = '';\n",
              "          dataTable['output_type'] = 'display_data';\n",
              "          await google.colab.output.renderOutput(dataTable, element);\n",
              "          const docLink = document.createElement('div');\n",
              "          docLink.innerHTML = docLinkHtml;\n",
              "          element.appendChild(docLink);\n",
              "        }\n",
              "      </script>\n",
              "    </div>\n",
              "  </div>\n",
              "  "
            ]
          },
          "metadata": {},
          "execution_count": 13
        }
      ]
    },
    {
      "cell_type": "code",
      "source": [
        "df.persona.value_counts()"
      ],
      "metadata": {
        "id": "PLVI658wJzmi",
        "outputId": "4fc019ea-e66c-47b1-bf4a-186365d006e1",
        "colab": {
          "base_uri": "https://localhost:8080/"
        }
      },
      "execution_count": 14,
      "outputs": [
        {
          "output_type": "execute_result",
          "data": {
            "text/plain": [
              "001    430\n",
              "002    430\n",
              "003    430\n",
              "004    430\n",
              "006    430\n",
              "007    430\n",
              "008    430\n",
              "009    430\n",
              "010    430\n",
              "005    429\n",
              "Name: persona, dtype: int64"
            ]
          },
          "metadata": {},
          "execution_count": 14
        }
      ]
    },
    {
      "cell_type": "markdown",
      "source": [
        "Señas con cada mano"
      ],
      "metadata": {
        "id": "cH5SDXya4yhV"
      }
    },
    {
      "cell_type": "code",
      "source": [
        "df[df.mano=='right']"
      ],
      "metadata": {
        "id": "JKZ4wx_74xm-",
        "outputId": "21c4b19e-2294-4893-a282-3ac98dc24abd",
        "colab": {
          "base_uri": "https://localhost:8080/",
          "height": 424
        }
      },
      "execution_count": 15,
      "outputs": [
        {
          "output_type": "execute_result",
          "data": {
            "text/plain": [
              "                                              file_path  ID persona  \\\n",
              "0     /content/dataset/lsa64_hand_videos/001_001_001...   1     001   \n",
              "1     /content/dataset/lsa64_hand_videos/001_001_002...   1     001   \n",
              "2     /content/dataset/lsa64_hand_videos/001_001_003...   1     001   \n",
              "3     /content/dataset/lsa64_hand_videos/001_001_004...   1     001   \n",
              "4     /content/dataset/lsa64_hand_videos/001_001_005...   1     001   \n",
              "...                                                 ...  ..     ...   \n",
              "4294  /content/dataset/lsa64_hand_videos/064_010_001...  64     010   \n",
              "4295  /content/dataset/lsa64_hand_videos/064_010_002...  64     010   \n",
              "4296  /content/dataset/lsa64_hand_videos/064_010_003...  64     010   \n",
              "4297  /content/dataset/lsa64_hand_videos/064_010_004...  64     010   \n",
              "4298  /content/dataset/lsa64_hand_videos/064_010_005...  64     010   \n",
              "\n",
              "     repeticion   mano id_name  \n",
              "0           001  right  Opaque  \n",
              "1           002  right  Opaque  \n",
              "2           003  right  Opaque  \n",
              "3           004  right  Opaque  \n",
              "4           005  right  Opaque  \n",
              "...         ...    ...     ...  \n",
              "4294        001  right    Find  \n",
              "4295        002  right    Find  \n",
              "4296        003  right    Find  \n",
              "4297        004  right    Find  \n",
              "4298        005  right    Find  \n",
              "\n",
              "[3200 rows x 6 columns]"
            ],
            "text/html": [
              "\n",
              "  <div id=\"df-e2d009f9-7d8e-405d-86ad-81b6e6de81ab\">\n",
              "    <div class=\"colab-df-container\">\n",
              "      <div>\n",
              "<style scoped>\n",
              "    .dataframe tbody tr th:only-of-type {\n",
              "        vertical-align: middle;\n",
              "    }\n",
              "\n",
              "    .dataframe tbody tr th {\n",
              "        vertical-align: top;\n",
              "    }\n",
              "\n",
              "    .dataframe thead th {\n",
              "        text-align: right;\n",
              "    }\n",
              "</style>\n",
              "<table border=\"1\" class=\"dataframe\">\n",
              "  <thead>\n",
              "    <tr style=\"text-align: right;\">\n",
              "      <th></th>\n",
              "      <th>file_path</th>\n",
              "      <th>ID</th>\n",
              "      <th>persona</th>\n",
              "      <th>repeticion</th>\n",
              "      <th>mano</th>\n",
              "      <th>id_name</th>\n",
              "    </tr>\n",
              "  </thead>\n",
              "  <tbody>\n",
              "    <tr>\n",
              "      <th>0</th>\n",
              "      <td>/content/dataset/lsa64_hand_videos/001_001_001...</td>\n",
              "      <td>1</td>\n",
              "      <td>001</td>\n",
              "      <td>001</td>\n",
              "      <td>right</td>\n",
              "      <td>Opaque</td>\n",
              "    </tr>\n",
              "    <tr>\n",
              "      <th>1</th>\n",
              "      <td>/content/dataset/lsa64_hand_videos/001_001_002...</td>\n",
              "      <td>1</td>\n",
              "      <td>001</td>\n",
              "      <td>002</td>\n",
              "      <td>right</td>\n",
              "      <td>Opaque</td>\n",
              "    </tr>\n",
              "    <tr>\n",
              "      <th>2</th>\n",
              "      <td>/content/dataset/lsa64_hand_videos/001_001_003...</td>\n",
              "      <td>1</td>\n",
              "      <td>001</td>\n",
              "      <td>003</td>\n",
              "      <td>right</td>\n",
              "      <td>Opaque</td>\n",
              "    </tr>\n",
              "    <tr>\n",
              "      <th>3</th>\n",
              "      <td>/content/dataset/lsa64_hand_videos/001_001_004...</td>\n",
              "      <td>1</td>\n",
              "      <td>001</td>\n",
              "      <td>004</td>\n",
              "      <td>right</td>\n",
              "      <td>Opaque</td>\n",
              "    </tr>\n",
              "    <tr>\n",
              "      <th>4</th>\n",
              "      <td>/content/dataset/lsa64_hand_videos/001_001_005...</td>\n",
              "      <td>1</td>\n",
              "      <td>001</td>\n",
              "      <td>005</td>\n",
              "      <td>right</td>\n",
              "      <td>Opaque</td>\n",
              "    </tr>\n",
              "    <tr>\n",
              "      <th>...</th>\n",
              "      <td>...</td>\n",
              "      <td>...</td>\n",
              "      <td>...</td>\n",
              "      <td>...</td>\n",
              "      <td>...</td>\n",
              "      <td>...</td>\n",
              "    </tr>\n",
              "    <tr>\n",
              "      <th>4294</th>\n",
              "      <td>/content/dataset/lsa64_hand_videos/064_010_001...</td>\n",
              "      <td>64</td>\n",
              "      <td>010</td>\n",
              "      <td>001</td>\n",
              "      <td>right</td>\n",
              "      <td>Find</td>\n",
              "    </tr>\n",
              "    <tr>\n",
              "      <th>4295</th>\n",
              "      <td>/content/dataset/lsa64_hand_videos/064_010_002...</td>\n",
              "      <td>64</td>\n",
              "      <td>010</td>\n",
              "      <td>002</td>\n",
              "      <td>right</td>\n",
              "      <td>Find</td>\n",
              "    </tr>\n",
              "    <tr>\n",
              "      <th>4296</th>\n",
              "      <td>/content/dataset/lsa64_hand_videos/064_010_003...</td>\n",
              "      <td>64</td>\n",
              "      <td>010</td>\n",
              "      <td>003</td>\n",
              "      <td>right</td>\n",
              "      <td>Find</td>\n",
              "    </tr>\n",
              "    <tr>\n",
              "      <th>4297</th>\n",
              "      <td>/content/dataset/lsa64_hand_videos/064_010_004...</td>\n",
              "      <td>64</td>\n",
              "      <td>010</td>\n",
              "      <td>004</td>\n",
              "      <td>right</td>\n",
              "      <td>Find</td>\n",
              "    </tr>\n",
              "    <tr>\n",
              "      <th>4298</th>\n",
              "      <td>/content/dataset/lsa64_hand_videos/064_010_005...</td>\n",
              "      <td>64</td>\n",
              "      <td>010</td>\n",
              "      <td>005</td>\n",
              "      <td>right</td>\n",
              "      <td>Find</td>\n",
              "    </tr>\n",
              "  </tbody>\n",
              "</table>\n",
              "<p>3200 rows × 6 columns</p>\n",
              "</div>\n",
              "      <button class=\"colab-df-convert\" onclick=\"convertToInteractive('df-e2d009f9-7d8e-405d-86ad-81b6e6de81ab')\"\n",
              "              title=\"Convert this dataframe to an interactive table.\"\n",
              "              style=\"display:none;\">\n",
              "        \n",
              "  <svg xmlns=\"http://www.w3.org/2000/svg\" height=\"24px\"viewBox=\"0 0 24 24\"\n",
              "       width=\"24px\">\n",
              "    <path d=\"M0 0h24v24H0V0z\" fill=\"none\"/>\n",
              "    <path d=\"M18.56 5.44l.94 2.06.94-2.06 2.06-.94-2.06-.94-.94-2.06-.94 2.06-2.06.94zm-11 1L8.5 8.5l.94-2.06 2.06-.94-2.06-.94L8.5 2.5l-.94 2.06-2.06.94zm10 10l.94 2.06.94-2.06 2.06-.94-2.06-.94-.94-2.06-.94 2.06-2.06.94z\"/><path d=\"M17.41 7.96l-1.37-1.37c-.4-.4-.92-.59-1.43-.59-.52 0-1.04.2-1.43.59L10.3 9.45l-7.72 7.72c-.78.78-.78 2.05 0 2.83L4 21.41c.39.39.9.59 1.41.59.51 0 1.02-.2 1.41-.59l7.78-7.78 2.81-2.81c.8-.78.8-2.07 0-2.86zM5.41 20L4 18.59l7.72-7.72 1.47 1.35L5.41 20z\"/>\n",
              "  </svg>\n",
              "      </button>\n",
              "      \n",
              "  <style>\n",
              "    .colab-df-container {\n",
              "      display:flex;\n",
              "      flex-wrap:wrap;\n",
              "      gap: 12px;\n",
              "    }\n",
              "\n",
              "    .colab-df-convert {\n",
              "      background-color: #E8F0FE;\n",
              "      border: none;\n",
              "      border-radius: 50%;\n",
              "      cursor: pointer;\n",
              "      display: none;\n",
              "      fill: #1967D2;\n",
              "      height: 32px;\n",
              "      padding: 0 0 0 0;\n",
              "      width: 32px;\n",
              "    }\n",
              "\n",
              "    .colab-df-convert:hover {\n",
              "      background-color: #E2EBFA;\n",
              "      box-shadow: 0px 1px 2px rgba(60, 64, 67, 0.3), 0px 1px 3px 1px rgba(60, 64, 67, 0.15);\n",
              "      fill: #174EA6;\n",
              "    }\n",
              "\n",
              "    [theme=dark] .colab-df-convert {\n",
              "      background-color: #3B4455;\n",
              "      fill: #D2E3FC;\n",
              "    }\n",
              "\n",
              "    [theme=dark] .colab-df-convert:hover {\n",
              "      background-color: #434B5C;\n",
              "      box-shadow: 0px 1px 3px 1px rgba(0, 0, 0, 0.15);\n",
              "      filter: drop-shadow(0px 1px 2px rgba(0, 0, 0, 0.3));\n",
              "      fill: #FFFFFF;\n",
              "    }\n",
              "  </style>\n",
              "\n",
              "      <script>\n",
              "        const buttonEl =\n",
              "          document.querySelector('#df-e2d009f9-7d8e-405d-86ad-81b6e6de81ab button.colab-df-convert');\n",
              "        buttonEl.style.display =\n",
              "          google.colab.kernel.accessAllowed ? 'block' : 'none';\n",
              "\n",
              "        async function convertToInteractive(key) {\n",
              "          const element = document.querySelector('#df-e2d009f9-7d8e-405d-86ad-81b6e6de81ab');\n",
              "          const dataTable =\n",
              "            await google.colab.kernel.invokeFunction('convertToInteractive',\n",
              "                                                     [key], {});\n",
              "          if (!dataTable) return;\n",
              "\n",
              "          const docLinkHtml = 'Like what you see? Visit the ' +\n",
              "            '<a target=\"_blank\" href=https://colab.research.google.com/notebooks/data_table.ipynb>data table notebook</a>'\n",
              "            + ' to learn more about interactive tables.';\n",
              "          element.innerHTML = '';\n",
              "          dataTable['output_type'] = 'display_data';\n",
              "          await google.colab.output.renderOutput(dataTable, element);\n",
              "          const docLink = document.createElement('div');\n",
              "          docLink.innerHTML = docLinkHtml;\n",
              "          element.appendChild(docLink);\n",
              "        }\n",
              "      </script>\n",
              "    </div>\n",
              "  </div>\n",
              "  "
            ]
          },
          "metadata": {},
          "execution_count": 15
        }
      ]
    },
    {
      "cell_type": "code",
      "source": [
        "df[df.mano=='left'].ID.value_counts()"
      ],
      "metadata": {
        "id": "wmdpq83Y4uY2",
        "outputId": "07527d0d-70df-4ada-facb-88a772115a9c",
        "colab": {
          "base_uri": "https://localhost:8080/"
        }
      },
      "execution_count": 16,
      "outputs": [
        {
          "output_type": "execute_result",
          "data": {
            "text/plain": [
              "29    50\n",
              "31    50\n",
              "61    50\n",
              "60    50\n",
              "58    50\n",
              "57    50\n",
              "56    50\n",
              "55    50\n",
              "53    50\n",
              "51    50\n",
              "50    50\n",
              "49    50\n",
              "48    50\n",
              "45    50\n",
              "44    50\n",
              "43    50\n",
              "36    50\n",
              "35    50\n",
              "34    50\n",
              "32    50\n",
              "63    50\n",
              "54    49\n",
              "Name: ID, dtype: int64"
            ]
          },
          "metadata": {},
          "execution_count": 16
        }
      ]
    },
    {
      "cell_type": "markdown",
      "source": [
        "Diferentes formas de separar en train y test\n",
        "- selecciono datos de test en los cuales haya videos mezclados de distintos participantes\n",
        "- selecciono datos de test de un único participante "
      ],
      "metadata": {
        "id": "jnht8wml0E4E"
      }
    },
    {
      "cell_type": "code",
      "source": [
        "#df_right=df[df.mano=='right']\n",
        "\n",
        "#_, X_test_index, _, _ = train_test_split(df_right.index, df_right.ID, stratify=df_right.ID, test_size=260,random_state=0)\n",
        "\n",
        "#df_test=df_right.loc[sorted(X_test_index)]"
      ],
      "metadata": {
        "id": "AOTDAFwk5huj"
      },
      "execution_count": 17,
      "outputs": []
    },
    {
      "cell_type": "code",
      "source": [
        "#df_uno=pd.merge(df_test,df,on=['ID','persona','repeticion'],how='left')\n",
        "#df_uno=df_uno[['file_path_y','ID','persona','repeticion','mano_y','id_name_y']]\n",
        "#df_uno.rename(columns={'file_path_y':'file_path','mano_y':'mano','id_name_y':'id_name'},inplace=True)\n",
        "#df_uno[df_uno.mano=='left']\n",
        "#df_test=df_uno.copy()"
      ],
      "metadata": {
        "id": "AyPVQ8eeP0rf"
      },
      "execution_count": 18,
      "outputs": []
    },
    {
      "cell_type": "markdown",
      "source": [
        "Reservo al participante 10 para test"
      ],
      "metadata": {
        "id": "Wm6ns6tgK8qm"
      }
    },
    {
      "cell_type": "code",
      "source": [
        "df_test=df[df.persona=='009']"
      ],
      "metadata": {
        "id": "jC-iKi3ELEe8"
      },
      "execution_count": 19,
      "outputs": []
    },
    {
      "cell_type": "code",
      "source": [
        "df_train=df[~df.file_path.isin(df_test.file_path)]"
      ],
      "metadata": {
        "id": "Y2erA3lJUnYy"
      },
      "execution_count": 20,
      "outputs": []
    },
    {
      "cell_type": "code",
      "source": [
        "print('tamaño dataset train', len(df_train))\n",
        "print('tamaño dataset test', len(df_test))"
      ],
      "metadata": {
        "colab": {
          "base_uri": "https://localhost:8080/"
        },
        "id": "AwRPDgv405aN",
        "outputId": "4e0bade3-ad94-4a88-f6fc-d51aec6bdd6c"
      },
      "execution_count": 21,
      "outputs": [
        {
          "output_type": "stream",
          "name": "stdout",
          "text": [
            "tamaño dataset train 3869\n",
            "tamaño dataset test 430\n"
          ]
        }
      ]
    },
    {
      "cell_type": "code",
      "source": [
        "3870/4"
      ],
      "metadata": {
        "colab": {
          "base_uri": "https://localhost:8080/"
        },
        "id": "bcRCCZ-q1KQh",
        "outputId": "ff7cbdc8-04e0-4710-d0ef-f4c385475c3a"
      },
      "execution_count": 22,
      "outputs": [
        {
          "output_type": "execute_result",
          "data": {
            "text/plain": [
              "967.5"
            ]
          },
          "metadata": {},
          "execution_count": 22
        }
      ]
    },
    {
      "cell_type": "markdown",
      "source": [
        "Lotes de 4"
      ],
      "metadata": {
        "id": "QJWBpRi2y4Yi"
      }
    },
    {
      "cell_type": "code",
      "source": [
        "batch=967\n",
        "batch_size=4\n",
        "cant_train=batch*batch_size \n",
        "n_test=len(df_test)\n",
        "print('entrenamiento:',cant_train, 'testing:', n_test,'-', (len(df)-cant_train)/cant_train,'%')\n",
        "print('cantidad batch:',batch,'batch_size:', cant_train / batch)"
      ],
      "metadata": {
        "colab": {
          "base_uri": "https://localhost:8080/"
        },
        "id": "t14Df5RyGyZ8",
        "outputId": "57f21770-10b4-419c-ad18-fbe14ea5b6c7"
      },
      "execution_count": 23,
      "outputs": [
        {
          "output_type": "stream",
          "name": "stdout",
          "text": [
            "entrenamiento: 3868 testing: 430 - 0.11142709410548086 %\n",
            "cantidad batch: 967 batch_size: 4.0\n"
          ]
        }
      ]
    },
    {
      "cell_type": "code",
      "source": [
        "#X_train_index, X_test_index, y_train, y_test = train_test_split(df.index, df.ID, stratify=df.ID, test_size=n_test,random_state=0)\n",
        "#df_train=df.loc[sorted(X_train_index)]\n",
        "#df_test=df.loc[sorted(X_test_index)]\n",
        "#df_train_batch=df_train_reordenar(df_train,cant_train,batch)"
      ],
      "metadata": {
        "id": "e_LkKO0V6_n1"
      },
      "execution_count": 24,
      "outputs": []
    },
    {
      "cell_type": "markdown",
      "source": [
        "Mezclo los nombres de archivos en el conjuntos de train que será usado en entrenamiento CustomSequence. "
      ],
      "metadata": {
        "id": "S692gallurzn"
      }
    },
    {
      "cell_type": "code",
      "source": [
        "df_train_batch=df_train_reordenar(df_train,cant_train,batch)"
      ],
      "metadata": {
        "id": "MoP_pwHK87lD"
      },
      "execution_count": 25,
      "outputs": []
    },
    {
      "cell_type": "markdown",
      "source": [
        "Ejemplo de seña realizada con ambas manos en el conjunto de train"
      ],
      "metadata": {
        "id": "6bz6d2pa1kS2"
      }
    },
    {
      "cell_type": "code",
      "source": [
        "df_train_batch[((df_train_batch.ID==31)&(df_train_batch.persona=='009')&(df_train_batch.repeticion=='005'))]"
      ],
      "metadata": {
        "colab": {
          "base_uri": "https://localhost:8080/",
          "height": 49
        },
        "id": "7zPQcnsqzsah",
        "outputId": "b86ff01b-675e-4cef-e60f-7a3c6807b021"
      },
      "execution_count": 26,
      "outputs": [
        {
          "output_type": "execute_result",
          "data": {
            "text/plain": [
              "Empty DataFrame\n",
              "Columns: [file_path, ID, persona, repeticion, mano, id_name]\n",
              "Index: []"
            ],
            "text/html": [
              "\n",
              "  <div id=\"df-5e063cdd-1989-412a-9103-2efa341e5730\">\n",
              "    <div class=\"colab-df-container\">\n",
              "      <div>\n",
              "<style scoped>\n",
              "    .dataframe tbody tr th:only-of-type {\n",
              "        vertical-align: middle;\n",
              "    }\n",
              "\n",
              "    .dataframe tbody tr th {\n",
              "        vertical-align: top;\n",
              "    }\n",
              "\n",
              "    .dataframe thead th {\n",
              "        text-align: right;\n",
              "    }\n",
              "</style>\n",
              "<table border=\"1\" class=\"dataframe\">\n",
              "  <thead>\n",
              "    <tr style=\"text-align: right;\">\n",
              "      <th></th>\n",
              "      <th>file_path</th>\n",
              "      <th>ID</th>\n",
              "      <th>persona</th>\n",
              "      <th>repeticion</th>\n",
              "      <th>mano</th>\n",
              "      <th>id_name</th>\n",
              "    </tr>\n",
              "  </thead>\n",
              "  <tbody>\n",
              "  </tbody>\n",
              "</table>\n",
              "</div>\n",
              "      <button class=\"colab-df-convert\" onclick=\"convertToInteractive('df-5e063cdd-1989-412a-9103-2efa341e5730')\"\n",
              "              title=\"Convert this dataframe to an interactive table.\"\n",
              "              style=\"display:none;\">\n",
              "        \n",
              "  <svg xmlns=\"http://www.w3.org/2000/svg\" height=\"24px\"viewBox=\"0 0 24 24\"\n",
              "       width=\"24px\">\n",
              "    <path d=\"M0 0h24v24H0V0z\" fill=\"none\"/>\n",
              "    <path d=\"M18.56 5.44l.94 2.06.94-2.06 2.06-.94-2.06-.94-.94-2.06-.94 2.06-2.06.94zm-11 1L8.5 8.5l.94-2.06 2.06-.94-2.06-.94L8.5 2.5l-.94 2.06-2.06.94zm10 10l.94 2.06.94-2.06 2.06-.94-2.06-.94-.94-2.06-.94 2.06-2.06.94z\"/><path d=\"M17.41 7.96l-1.37-1.37c-.4-.4-.92-.59-1.43-.59-.52 0-1.04.2-1.43.59L10.3 9.45l-7.72 7.72c-.78.78-.78 2.05 0 2.83L4 21.41c.39.39.9.59 1.41.59.51 0 1.02-.2 1.41-.59l7.78-7.78 2.81-2.81c.8-.78.8-2.07 0-2.86zM5.41 20L4 18.59l7.72-7.72 1.47 1.35L5.41 20z\"/>\n",
              "  </svg>\n",
              "      </button>\n",
              "      \n",
              "  <style>\n",
              "    .colab-df-container {\n",
              "      display:flex;\n",
              "      flex-wrap:wrap;\n",
              "      gap: 12px;\n",
              "    }\n",
              "\n",
              "    .colab-df-convert {\n",
              "      background-color: #E8F0FE;\n",
              "      border: none;\n",
              "      border-radius: 50%;\n",
              "      cursor: pointer;\n",
              "      display: none;\n",
              "      fill: #1967D2;\n",
              "      height: 32px;\n",
              "      padding: 0 0 0 0;\n",
              "      width: 32px;\n",
              "    }\n",
              "\n",
              "    .colab-df-convert:hover {\n",
              "      background-color: #E2EBFA;\n",
              "      box-shadow: 0px 1px 2px rgba(60, 64, 67, 0.3), 0px 1px 3px 1px rgba(60, 64, 67, 0.15);\n",
              "      fill: #174EA6;\n",
              "    }\n",
              "\n",
              "    [theme=dark] .colab-df-convert {\n",
              "      background-color: #3B4455;\n",
              "      fill: #D2E3FC;\n",
              "    }\n",
              "\n",
              "    [theme=dark] .colab-df-convert:hover {\n",
              "      background-color: #434B5C;\n",
              "      box-shadow: 0px 1px 3px 1px rgba(0, 0, 0, 0.15);\n",
              "      filter: drop-shadow(0px 1px 2px rgba(0, 0, 0, 0.3));\n",
              "      fill: #FFFFFF;\n",
              "    }\n",
              "  </style>\n",
              "\n",
              "      <script>\n",
              "        const buttonEl =\n",
              "          document.querySelector('#df-5e063cdd-1989-412a-9103-2efa341e5730 button.colab-df-convert');\n",
              "        buttonEl.style.display =\n",
              "          google.colab.kernel.accessAllowed ? 'block' : 'none';\n",
              "\n",
              "        async function convertToInteractive(key) {\n",
              "          const element = document.querySelector('#df-5e063cdd-1989-412a-9103-2efa341e5730');\n",
              "          const dataTable =\n",
              "            await google.colab.kernel.invokeFunction('convertToInteractive',\n",
              "                                                     [key], {});\n",
              "          if (!dataTable) return;\n",
              "\n",
              "          const docLinkHtml = 'Like what you see? Visit the ' +\n",
              "            '<a target=\"_blank\" href=https://colab.research.google.com/notebooks/data_table.ipynb>data table notebook</a>'\n",
              "            + ' to learn more about interactive tables.';\n",
              "          element.innerHTML = '';\n",
              "          dataTable['output_type'] = 'display_data';\n",
              "          await google.colab.output.renderOutput(dataTable, element);\n",
              "          const docLink = document.createElement('div');\n",
              "          docLink.innerHTML = docLinkHtml;\n",
              "          element.appendChild(docLink);\n",
              "        }\n",
              "      </script>\n",
              "    </div>\n",
              "  </div>\n",
              "  "
            ]
          },
          "metadata": {},
          "execution_count": 26
        }
      ]
    },
    {
      "cell_type": "code",
      "source": [
        "%ls"
      ],
      "metadata": {
        "colab": {
          "base_uri": "https://localhost:8080/"
        },
        "id": "X1j_0uVvVH5k",
        "outputId": "161b1033-a068-4293-f5fa-4dd267a5bdc9"
      },
      "execution_count": 27,
      "outputs": [
        {
          "output_type": "stream",
          "name": "stdout",
          "text": [
            "\u001b[0m\u001b[01;34mdataset\u001b[0m/  \u001b[01;34mdrive\u001b[0m/  \u001b[01;34msample_data\u001b[0m/  \u001b[01;34msrc\u001b[0m/\n"
          ]
        }
      ]
    },
    {
      "cell_type": "markdown",
      "source": [
        "# Data training - test"
      ],
      "metadata": {
        "id": "VKxQshAIEcD7"
      }
    },
    {
      "cell_type": "markdown",
      "source": [
        "Con la separación realizada se arman dos carpetas: train_data y test_data. Cada video fue convertido a un conjunto de imágenes de 1 solo canal, dentro de cada archivo.\n",
        "\n",
        "Referencia \n",
        "https://medium.com/video-classification-using-keras-and-tensorflow/action-recognition-and-video-classification-using-keras-and-tensorflow-56badcbe5f77"
      ],
      "metadata": {
        "id": "bswMPcPBw7bY"
      }
    },
    {
      "cell_type": "code",
      "source": [
        "video_capturing_function(df_train,'train_data')\n",
        "\n",
        "video_capturing_function(df_test,'test_data')"
      ],
      "metadata": {
        "colab": {
          "base_uri": "https://localhost:8080/"
        },
        "id": "4rsAXnEy4hpc",
        "outputId": "26f433ca-3f3a-4e13-a76e-812d638f1080"
      },
      "execution_count": 28,
      "outputs": [
        {
          "output_type": "stream",
          "name": "stdout",
          "text": [
            "All frames written in the: train_data Folder\n",
            "All frames written in the: test_data Folder\n"
          ]
        }
      ]
    },
    {
      "cell_type": "code",
      "source": [
        "gc.collect()"
      ],
      "metadata": {
        "id": "KZJrF02cAAyV",
        "colab": {
          "base_uri": "https://localhost:8080/"
        },
        "outputId": "a6a1e58b-cb88-4ac3-8211-8a83e5fa34a9"
      },
      "execution_count": 29,
      "outputs": [
        {
          "output_type": "execute_result",
          "data": {
            "text/plain": [
              "203"
            ]
          },
          "metadata": {},
          "execution_count": 29
        }
      ]
    },
    {
      "cell_type": "markdown",
      "source": [
        "### Obtención de tensores \n",
        "\n",
        "**Funcion \"data_load_frames_save_tf\"**\n",
        "\n",
        "Proceso los videos y selecciono 32 frames del total de videos de forma aleatoria, en caso que los videos tengan menos frames repito el último hasta completar los 32.\n",
        "\n",
        "Los frames de cada video (imágenes) se pasan a tensores de numpy para que cuando se desee cargar lotes no se tenga que procesar imagenes sino leer archivos numpy previamente salvados. Los tensores son grabados en float32 para reducir el tamaño de archivos.\n",
        "\n",
        "La función borra además las imágenes para no sobrecargar el disco de la máqunia del colab.\n",
        "\n",
        "Los archivos de los tensores de numpy se guardan en **train_data** y **test_data**"
      ],
      "metadata": {
        "id": "hFYrdTc25V5y"
      }
    },
    {
      "cell_type": "code",
      "source": [
        "data_load_frames_save_tf(df_test,'test_data',32)\n",
        "data_load_frames_save_tf(df_train,'train_data',32)"
      ],
      "metadata": {
        "id": "CbSUc0dy0Shl"
      },
      "execution_count": 30,
      "outputs": []
    },
    {
      "cell_type": "code",
      "source": [
        "gc.collect()"
      ],
      "metadata": {
        "colab": {
          "base_uri": "https://localhost:8080/"
        },
        "id": "zNVprE3nseDx",
        "outputId": "db3c006b-5919-4ce7-a921-ab37f31296de"
      },
      "execution_count": 31,
      "outputs": [
        {
          "output_type": "execute_result",
          "data": {
            "text/plain": [
              "50"
            ]
          },
          "metadata": {},
          "execution_count": 31
        }
      ]
    },
    {
      "cell_type": "markdown",
      "source": [
        "# Modelo Convolucional 3D \n"
      ],
      "metadata": {
        "id": "BS6rzySu-CMh"
      }
    },
    {
      "cell_type": "code",
      "source": [
        "test_dataset_new=load_data_from_tf(df_test,\"test_data\")"
      ],
      "metadata": {
        "id": "I-sZ2axmHHfx"
      },
      "execution_count": 32,
      "outputs": []
    },
    {
      "cell_type": "code",
      "source": [
        "test_dataset_new.shape"
      ],
      "metadata": {
        "id": "MS-Rqp157HyD",
        "outputId": "fbf7c3d3-fa32-4e46-c90b-2e09349fa60a",
        "colab": {
          "base_uri": "https://localhost:8080/"
        }
      },
      "execution_count": 33,
      "outputs": [
        {
          "output_type": "execute_result",
          "data": {
            "text/plain": [
              "(430, 32, 128, 128)"
            ]
          },
          "metadata": {},
          "execution_count": 33
        }
      ]
    },
    {
      "cell_type": "code",
      "source": [
        "a=np.array(df_test.ID)\n",
        "y_test = tf.keras.utils.to_categorical(a-1, num_classes =np.max(df_test.ID))\n",
        "\n",
        "model_output_size=len(df_test.ID.unique())\n",
        "model_output_size"
      ],
      "metadata": {
        "id": "1SD1b-Afndn9",
        "colab": {
          "base_uri": "https://localhost:8080/"
        },
        "outputId": "fe5a0ac1-30a7-4a0c-b8ee-01e290c5edd2"
      },
      "execution_count": 34,
      "outputs": [
        {
          "output_type": "execute_result",
          "data": {
            "text/plain": [
              "64"
            ]
          },
          "metadata": {},
          "execution_count": 34
        }
      ]
    },
    {
      "cell_type": "markdown",
      "source": [
        "Conv2D(stride_temporal=2)->\n",
        "Conv2D(stride_temporal=2,stride_espacial=2) -> Conv2D(stride_temporal=2) -> Conv2D(stride_temporal=2,stride_espacial=2)"
      ],
      "metadata": {
        "id": "uvlg-7hT26d4"
      }
    },
    {
      "cell_type": "code",
      "source": [
        "nf=32\n",
        "w=128 \n",
        "h=128\n",
        "\n",
        "from sklearn.model_selection import train_test_split\n",
        "\n",
        "from tensorflow.keras.layers import *\n",
        "from tensorflow.keras.models import Sequential\n",
        "from tensorflow.keras.utils import to_categorical\n",
        "from tensorflow.keras.callbacks import EarlyStopping\n",
        "from tensorflow.keras.utils import plot_model\n",
        "\n",
        "def create_model():\n",
        "\n",
        "    model = Sequential()\n",
        "\n",
        "    model.add(Conv3D(filters = 32, kernel_size = (3, 3,3), strides=(2,1,1), padding='same', activation = 'relu', input_shape = (nf,w, h, 1)))\n",
        "    model.add(Conv3D(filters = 32, kernel_size = (3, 3,3),strides=(2,2,2), padding='same', activation = 'relu'))\n",
        "    model.add(Conv3D(filters = 32, kernel_size = (3, 3,3),strides=(2,1,1), padding='same', activation = 'relu'))\n",
        "    model.add(Conv3D(filters = 64, kernel_size = (3, 3,3),strides=(2,2,2), padding='same', activation = 'relu')) \n",
        "    \n",
        "    model.add(BatchNormalization())\n",
        "    model.add(MaxPooling3D(pool_size = (2, 2,2)))\n",
        "    model.add(GlobalAveragePooling3D())\n",
        "\n",
        "    model.add(Dense(model_output_size, activation = 'softmax'))\n",
        "\n",
        "    model.summary()\n",
        "\n",
        "    return model\n",
        "\n",
        "\n",
        "model = create_model()\n",
        "\n",
        "print(\"Model Created Successfully!\")"
      ],
      "metadata": {
        "colab": {
          "base_uri": "https://localhost:8080/"
        },
        "id": "DBBg19_8WMQL",
        "outputId": "da87f24e-5cb1-42de-a494-d433b58d17b5"
      },
      "execution_count": 35,
      "outputs": [
        {
          "output_type": "stream",
          "name": "stdout",
          "text": [
            "Model: \"sequential\"\n",
            "_________________________________________________________________\n",
            " Layer (type)                Output Shape              Param #   \n",
            "=================================================================\n",
            " conv3d (Conv3D)             (None, 16, 128, 128, 32)  896       \n",
            "                                                                 \n",
            " conv3d_1 (Conv3D)           (None, 8, 64, 64, 32)     27680     \n",
            "                                                                 \n",
            " conv3d_2 (Conv3D)           (None, 4, 64, 64, 32)     27680     \n",
            "                                                                 \n",
            " conv3d_3 (Conv3D)           (None, 2, 32, 32, 64)     55360     \n",
            "                                                                 \n",
            " batch_normalization (BatchN  (None, 2, 32, 32, 64)    256       \n",
            " ormalization)                                                   \n",
            "                                                                 \n",
            " max_pooling3d (MaxPooling3D  (None, 1, 16, 16, 64)    0         \n",
            " )                                                               \n",
            "                                                                 \n",
            " global_average_pooling3d (G  (None, 64)               0         \n",
            " lobalAveragePooling3D)                                          \n",
            "                                                                 \n",
            " dense (Dense)               (None, 64)                4160      \n",
            "                                                                 \n",
            "=================================================================\n",
            "Total params: 116,032\n",
            "Trainable params: 115,904\n",
            "Non-trainable params: 128\n",
            "_________________________________________________________________\n",
            "Model Created Successfully!\n"
          ]
        }
      ]
    },
    {
      "cell_type": "code",
      "source": [
        "plot_model(model, to_file = 'model_structure_plot.png', show_shapes = True, show_layer_names = True)"
      ],
      "metadata": {
        "colab": {
          "base_uri": "https://localhost:8080/",
          "height": 976
        },
        "id": "xNrwGrS1-5Cf",
        "outputId": "806a2eb8-00c5-449a-a2d0-f68cffc639d7"
      },
      "execution_count": 36,
      "outputs": [
        {
          "output_type": "execute_result",
          "data": {
            "text/plain": [
              "<IPython.core.display.Image object>"
            ],
            "image/png": "[encoded data removed]"
          },
          "metadata": {},
          "execution_count": 36
        }
      ]
    },
    {
      "cell_type": "markdown",
      "source": [
        "### Entrenamiento con Custom Sequence \n",
        "\n",
        "La función CustomSequence carga cada lote con 128 tensores numpy guardados en la carpeta train_data (nombre de archivo.npy) usando la función \n",
        "**load_data_from_tf**. "
      ],
      "metadata": {
        "id": "Ys4U6x4F1nMN"
      }
    },
    {
      "cell_type": "code",
      "source": [
        "# Adding Early Stopping Callback\n",
        "early_stopping_callback = EarlyStopping(monitor = 'val_loss', patience = 15, mode = 'min', restore_best_weights = True)\n",
        "\n",
        "# Adding loss, optimizer and metrics values to the model.\n",
        "model.compile(loss = 'categorical_crossentropy', optimizer = 'Adam', metrics = [\"accuracy\"])\n",
        "\n",
        "# usando generador custom\n",
        "model_training_history = model.fit(CustomSequence(4), epochs=40 , validation_data=(test_dataset_new,y_test), callbacks = [early_stopping_callback]) #, shuffle = True"
      ],
      "metadata": {
        "id": "hxNtGFKY_Hoy",
        "colab": {
          "base_uri": "https://localhost:8080/"
        },
        "outputId": "c74e7c3c-fc32-4a07-fc02-9a0bdaba39a7"
      },
      "execution_count": 37,
      "outputs": [
        {
          "output_type": "stream",
          "name": "stdout",
          "text": [
            "Epoch 1/40\n",
            "967/967 [==============================] - 77s 65ms/step - loss: 3.8291 - accuracy: 0.0579 - val_loss: 3.6652 - val_accuracy: 0.0884\n",
            "Epoch 2/40\n",
            "967/967 [==============================] - 62s 64ms/step - loss: 3.4913 - accuracy: 0.1083 - val_loss: 3.6290 - val_accuracy: 0.0767\n",
            "Epoch 3/40\n",
            "967/967 [==============================] - 60s 62ms/step - loss: 3.1809 - accuracy: 0.1776 - val_loss: 3.2305 - val_accuracy: 0.1558\n",
            "Epoch 4/40\n",
            "967/967 [==============================] - 59s 61ms/step - loss: 2.8869 - accuracy: 0.2350 - val_loss: 3.0517 - val_accuracy: 0.2000\n",
            "Epoch 5/40\n",
            "967/967 [==============================] - 60s 62ms/step - loss: 2.6406 - accuracy: 0.2950 - val_loss: 2.7691 - val_accuracy: 0.2605\n",
            "Epoch 6/40\n",
            "967/967 [==============================] - 59s 61ms/step - loss: 2.4276 - accuracy: 0.3379 - val_loss: 2.5834 - val_accuracy: 0.2605\n",
            "Epoch 7/40\n",
            "967/967 [==============================] - 110s 114ms/step - loss: 2.2297 - accuracy: 0.3821 - val_loss: 2.6557 - val_accuracy: 0.2884\n",
            "Epoch 8/40\n",
            "967/967 [==============================] - 158s 164ms/step - loss: 2.0200 - accuracy: 0.4405 - val_loss: 2.3908 - val_accuracy: 0.3465\n",
            "Epoch 9/40\n",
            "967/967 [==============================] - 158s 164ms/step - loss: 1.8194 - accuracy: 0.5031 - val_loss: 2.3159 - val_accuracy: 0.3372\n",
            "Epoch 10/40\n",
            "967/967 [==============================] - 152s 158ms/step - loss: 1.6070 - accuracy: 0.5574 - val_loss: 2.1958 - val_accuracy: 0.3930\n",
            "Epoch 11/40\n",
            "967/967 [==============================] - 159s 164ms/step - loss: 1.4254 - accuracy: 0.6192 - val_loss: 2.2123 - val_accuracy: 0.4000\n",
            "Epoch 12/40\n",
            "967/967 [==============================] - 112s 116ms/step - loss: 1.2330 - accuracy: 0.6644 - val_loss: 2.7848 - val_accuracy: 0.2977\n",
            "Epoch 13/40\n",
            "967/967 [==============================] - 156s 162ms/step - loss: 1.0720 - accuracy: 0.7156 - val_loss: 2.0271 - val_accuracy: 0.4465\n",
            "Epoch 14/40\n",
            "967/967 [==============================] - 156s 161ms/step - loss: 0.9221 - accuracy: 0.7567 - val_loss: 2.0610 - val_accuracy: 0.4605\n",
            "Epoch 15/40\n",
            "967/967 [==============================] - 157s 162ms/step - loss: 0.7956 - accuracy: 0.7921 - val_loss: 2.0970 - val_accuracy: 0.4233\n",
            "Epoch 16/40\n",
            "967/967 [==============================] - 159s 164ms/step - loss: 0.6767 - accuracy: 0.8252 - val_loss: 2.5396 - val_accuracy: 0.3767\n",
            "Epoch 17/40\n",
            "967/967 [==============================] - 155s 161ms/step - loss: 0.5779 - accuracy: 0.8552 - val_loss: 2.0405 - val_accuracy: 0.4884\n",
            "Epoch 18/40\n",
            "967/967 [==============================] - 110s 114ms/step - loss: 0.5036 - accuracy: 0.8738 - val_loss: 2.0868 - val_accuracy: 0.4721\n",
            "Epoch 19/40\n",
            "967/967 [==============================] - 157s 163ms/step - loss: 0.4234 - accuracy: 0.9007 - val_loss: 2.0693 - val_accuracy: 0.4930\n",
            "Epoch 20/40\n",
            "967/967 [==============================] - 160s 166ms/step - loss: 0.3521 - accuracy: 0.9165 - val_loss: 2.2500 - val_accuracy: 0.4605\n",
            "Epoch 21/40\n",
            "967/967 [==============================] - 157s 163ms/step - loss: 0.3067 - accuracy: 0.9312 - val_loss: 2.3493 - val_accuracy: 0.4372\n",
            "Epoch 22/40\n",
            "967/967 [==============================] - 159s 164ms/step - loss: 0.2501 - accuracy: 0.9524 - val_loss: 2.3197 - val_accuracy: 0.5070\n",
            "Epoch 23/40\n",
            "967/967 [==============================] - 155s 160ms/step - loss: 0.2165 - accuracy: 0.9592 - val_loss: 2.2903 - val_accuracy: 0.4372\n",
            "Epoch 24/40\n",
            "967/967 [==============================] - 157s 162ms/step - loss: 0.1870 - accuracy: 0.9633 - val_loss: 2.8258 - val_accuracy: 0.4326\n",
            "Epoch 25/40\n",
            "967/967 [==============================] - 158s 163ms/step - loss: 0.1526 - accuracy: 0.9726 - val_loss: 2.2998 - val_accuracy: 0.5047\n",
            "Epoch 26/40\n",
            "967/967 [==============================] - 153s 158ms/step - loss: 0.1302 - accuracy: 0.9770 - val_loss: 2.6247 - val_accuracy: 0.4907\n",
            "Epoch 27/40\n",
            "967/967 [==============================] - 157s 162ms/step - loss: 0.1358 - accuracy: 0.9741 - val_loss: 2.4063 - val_accuracy: 0.4977\n",
            "Epoch 28/40\n",
            "967/967 [==============================] - 114s 118ms/step - loss: 0.0902 - accuracy: 0.9871 - val_loss: 2.8099 - val_accuracy: 0.4837\n"
          ]
        }
      ]
    },
    {
      "cell_type": "code",
      "source": [
        "print(\"Saving trained model..\")\n",
        "model.save('conv3d_lsa64.h5')\n",
        "print(\"Done.\")"
      ],
      "metadata": {
        "id": "BL5Dd0EM8Le4",
        "outputId": "d07b0708-1ea6-4dab-ec10-f06379fcd228",
        "colab": {
          "base_uri": "https://localhost:8080/"
        }
      },
      "execution_count": 38,
      "outputs": [
        {
          "output_type": "stream",
          "name": "stdout",
          "text": [
            "Saving trained model..\n",
            "Done.\n"
          ]
        }
      ]
    },
    {
      "cell_type": "code",
      "source": [
        "y_predict=model.predict(test_dataset_new)\n",
        "y_pred=prob2labels(y_predict)\n",
        "accuracy(np.array(df_test.ID)-1,y_pred)"
      ],
      "metadata": {
        "id": "eO_cRTBw0yyv",
        "outputId": "de325e08-bd4d-4722-8f7a-0faf8f453e1a",
        "colab": {
          "base_uri": "https://localhost:8080/"
        }
      },
      "execution_count": 39,
      "outputs": [
        {
          "output_type": "execute_result",
          "data": {
            "text/plain": [
              "0.44651162790697674"
            ]
          },
          "metadata": {},
          "execution_count": 39
        }
      ]
    },
    {
      "cell_type": "code",
      "source": [
        ""
      ],
      "metadata": {
        "id": "QrM2NNraUYMY"
      },
      "execution_count": 39,
      "outputs": []
    },
    {
      "cell_type": "code",
      "source": [
        "confusion_calculada=confusion(np.array(df_test.ID)-1,y_pred).astype(int)\n",
        "names=df.id_name.unique()\n",
        "\n",
        "plt.figure(figsize=(17,14))\n",
        "import seaborn as sns\n",
        "confusion_normalizada=confusion_calculada / confusion_calculada.astype(np.float64).sum(axis=1)\n"
      ],
      "metadata": {
        "colab": {
          "base_uri": "https://localhost:8080/",
          "height": 34
        },
        "id": "z8YGZPssjzAs",
        "outputId": "e26b76e0-12a4-4a53-a3cd-baafa133458e"
      },
      "execution_count": 40,
      "outputs": [
        {
          "output_type": "display_data",
          "data": {
            "text/plain": [
              "<Figure size 1224x1008 with 0 Axes>"
            ]
          },
          "metadata": {}
        }
      ]
    },
    {
      "cell_type": "code",
      "source": [
        "plt.figure(figsize=(17,14))\n",
        "nombres=['Opaque','Red','Green','Yellow','Bright','Light-blue','Colors','Rose',\n",
        " 'Women', 'Enemy', 'Son' ,'Man', 'Away', 'Drawer' ,'Born' ,'Learn', 'Call',\n",
        " 'Skimmer', 'Bitter' ,'Sweet milk' ,'Milk' ,'Water', 'Food', 'Argentina',\n",
        " 'Uruguay' ,'Country', 'Last name', 'Where', 'Mock', 'Birthday', 'Breakfast',\n",
        " 'Photo', 'Hungry' ,'Map' ,'Coin' ,'Music', 'Ship' ,'None' ,'Name' ,'Patience',\n",
        " 'Perfume' ,'Deaf', 'Trap' ,'Rice' ,'Barbecue', 'Candy', 'Chewing-gum',\n",
        " 'Spaghetti' ,'Yogurt' ,'Accept' ,'Thanks' ,'Shut down', 'Appear' ,'To land',\n",
        " 'Catch', 'Help', 'Dance' ,'Bathe', 'Buy' ,'Copy', 'Run' ,'Realize','Give', 'Find']\n",
        "df_confusion = pd.DataFrame(confusion_normalizada, index=nombres, columns=nombres)\n",
        "\n",
        "sns.heatmap(df_confusion, cmap=\"Blues\")"
      ],
      "metadata": {
        "colab": {
          "base_uri": "https://localhost:8080/",
          "height": 889
        },
        "id": "-wqmxWI6We6M",
        "outputId": "df8644b9-1a4d-4a15-d2cd-6d436194b3fb"
      },
      "execution_count": 41,
      "outputs": [
        {
          "output_type": "execute_result",
          "data": {
            "text/plain": [
              "<matplotlib.axes._subplots.AxesSubplot at 0x7f19902cbbd0>"
            ]
          },
          "metadata": {},
          "execution_count": 41
        },
        {
          "output_type": "display_data",
          "data": {
            "text/plain": [
              "<Figure size 1224x1008 with 2 Axes>"
            ],
            "image/png": "[encoded data removed]"
          },
          "metadata": {
            "needs_background": "light"
          }
        }
      ]
    },
    {
      "cell_type": "code",
      "source": [
        "sns.set(rc={\"figure.figsize\":(6, 4)})\n",
        "sns.set_style(\"ticks\")\n",
        "plt.plot(model_training_history.history['accuracy'])\n",
        "plt.plot(model_training_history.history['val_accuracy'])\n",
        "sns.set_style(\"ticks\")\n",
        "plt.legend(['train_acc','val_acc'])"
      ],
      "metadata": {
        "colab": {
          "base_uri": "https://localhost:8080/",
          "height": 285
        },
        "id": "28ZG9NDOSDQe",
        "outputId": "c23b2a63-12f3-42e8-d71d-99c837fe7b19"
      },
      "execution_count": 42,
      "outputs": [
        {
          "output_type": "execute_result",
          "data": {
            "text/plain": [
              "<matplotlib.legend.Legend at 0x7f1910228a90>"
            ]
          },
          "metadata": {},
          "execution_count": 42
        },
        {
          "output_type": "display_data",
          "data": {
            "text/plain": [
              "<Figure size 432x288 with 1 Axes>"
            ],
            "image/png": "[encoded data removed]"
          },
          "metadata": {}
        }
      ]
    },
    {
      "cell_type": "code",
      "source": [
        "plt.plot(model_training_history.history['loss'])\n",
        "plt.plot(model_training_history.history['val_loss'])\n",
        "sns.set_style(\"ticks\")\n",
        "plt.legend(['train_loss','val_loss'])"
      ],
      "metadata": {
        "colab": {
          "base_uri": "https://localhost:8080/",
          "height": 288
        },
        "id": "TGsbLWa7SHdT",
        "outputId": "4b549aac-2452-46c9-fad9-395cd8247d44"
      },
      "execution_count": 43,
      "outputs": [
        {
          "output_type": "execute_result",
          "data": {
            "text/plain": [
              "<matplotlib.legend.Legend at 0x7f19101a2a10>"
            ]
          },
          "metadata": {},
          "execution_count": 43
        },
        {
          "output_type": "display_data",
          "data": {
            "text/plain": [
              "<Figure size 432x288 with 1 Axes>"
            ],
            "image/png": "[encoded data removed]"
          },
          "metadata": {}
        }
      ]
    },
    {
      "cell_type": "markdown",
      "source": [
        "Visualización de filtros del modelo"
      ],
      "metadata": {
        "id": "tx07izbE8G8Y"
      }
    },
    {
      "cell_type": "code",
      "source": [
        "for layer in model.layers:\n",
        "    if 'conv'  in layer.name.lower():\n",
        "      filters, biases = layer.get_weights()\n",
        "      print(layer.name,filters.shape)\n",
        "    else:\n",
        "      weights = layer.get_weights()\n",
        "      if len(weights)>0:\n",
        "        message = \",\".join([str(w.shape) for w in weights])\n",
        "      else:\n",
        "        message=\"none\"\n",
        "      print(f\"{layer.name} weights: {message}\")\n"
      ],
      "metadata": {
        "id": "96wFP65y4m1m",
        "colab": {
          "base_uri": "https://localhost:8080/"
        },
        "outputId": "19711e0b-b50c-40a7-9b57-6eda7fbb8d53"
      },
      "execution_count": 44,
      "outputs": [
        {
          "output_type": "stream",
          "name": "stdout",
          "text": [
            "conv3d (3, 3, 3, 1, 32)\n",
            "conv3d_1 (3, 3, 3, 32, 32)\n",
            "conv3d_2 (3, 3, 3, 32, 32)\n",
            "conv3d_3 (3, 3, 3, 32, 64)\n",
            "batch_normalization weights: (64,),(64,),(64,),(64,)\n",
            "max_pooling3d weights: none\n",
            "global_average_pooling3d weights: none\n",
            "dense weights: (64, 64),(64,)\n"
          ]
        }
      ]
    },
    {
      "cell_type": "code",
      "source": [
        "#Elegir capa convolucional y nro de filtro\n",
        "layer_name=\"conv3d\"\n",
        "filter_index=0\n",
        "\n",
        "layer = layer_by_name(model,layer_name)\n",
        "filters, biases = layer.get_weights()\n",
        "\n",
        "#filters.shape[4]//4\n",
        "\n",
        "print('filters - primera capa - 0 a 8')\n",
        "# 8 primeros filtros de la primera capa convolucional\n",
        "for i in range(0,8): \n",
        "  plot_conv_weight(layer.name,filters[:,:,:,0,i])"
      ],
      "metadata": {
        "colab": {
          "base_uri": "https://localhost:8080/",
          "height": 858
        },
        "id": "g1WtVL2LuyQ9",
        "outputId": "dc20867f-b73c-4453-cbcf-398241750cd4"
      },
      "execution_count": 45,
      "outputs": [
        {
          "output_type": "stream",
          "name": "stdout",
          "text": [
            "filters - primera capa - 0 a 8\n"
          ]
        },
        {
          "output_type": "display_data",
          "data": {
            "text/plain": [
              "<Figure size 1200x100 with 12 Axes>"
            ],
            "image/png": "[encoded data removed]"
          },
          "metadata": {}
        },
        {
          "output_type": "display_data",
          "data": {
            "text/plain": [
              "<Figure size 1200x100 with 12 Axes>"
            ],
            "image/png": "[encoded data removed]"
          },
          "metadata": {}
        },
        {
          "output_type": "display_data",
          "data": {
            "text/plain": [
              "<Figure size 1200x100 with 12 Axes>"
            ],
            "image/png": "[encoded data removed]"
          },
          "metadata": {}
        },
        {
          "output_type": "display_data",
          "data": {
            "text/plain": [
              "<Figure size 1200x100 with 12 Axes>"
            ],
            "image/png": "[encoded data removed]"
          },
          "metadata": {}
        },
        {
          "output_type": "display_data",
          "data": {
            "text/plain": [
              "<Figure size 1200x100 with 12 Axes>"
            ],
            "image/png": "[encoded data removed]"
          },
          "metadata": {}
        },
        {
          "output_type": "display_data",
          "data": {
            "text/plain": [
              "<Figure size 1200x100 with 12 Axes>"
            ],
            "image/png": "[encoded data removed]"
          },
          "metadata": {}
        },
        {
          "output_type": "display_data",
          "data": {
            "text/plain": [
              "<Figure size 1200x100 with 12 Axes>"
            ],
            "image/png": "[encoded data removed]"
          },
          "metadata": {}
        },
        {
          "output_type": "display_data",
          "data": {
            "text/plain": [
              "<Figure size 1200x100 with 12 Axes>"
            ],
            "image/png": "[encoded data removed]"
          },
          "metadata": {}
        }
      ]
    },
    {
      "cell_type": "code",
      "source": [
        "print('filters - primera capa - 8 a 16')\n",
        "# 8 segundos filtros de la primera capa convolucional\n",
        "for i in range(8,16): \n",
        "  plot_conv_weight(layer.name,filters[:,:,:,0,i])"
      ],
      "metadata": {
        "id": "0styxzMWUnn9",
        "outputId": "4f3bca75-caf5-494f-9f86-762405f48192",
        "colab": {
          "base_uri": "https://localhost:8080/",
          "height": 858
        }
      },
      "execution_count": 46,
      "outputs": [
        {
          "output_type": "stream",
          "name": "stdout",
          "text": [
            "filters - primera capa - 8 a 16\n"
          ]
        },
        {
          "output_type": "display_data",
          "data": {
            "text/plain": [
              "<Figure size 1200x100 with 12 Axes>"
            ],
            "image/png": "[encoded data removed]"
          },
          "metadata": {}
        },
        {
          "output_type": "display_data",
          "data": {
            "text/plain": [
              "<Figure size 1200x100 with 12 Axes>"
            ],
            "image/png": "[encoded data removed]"
          },
          "metadata": {}
        },
        {
          "output_type": "display_data",
          "data": {
            "text/plain": [
              "<Figure size 1200x100 with 12 Axes>"
            ],
            "image/png": "[encoded data removed]"
          },
          "metadata": {}
        },
        {
          "output_type": "display_data",
          "data": {
            "text/plain": [
              "<Figure size 1200x100 with 12 Axes>"
            ],
            "image/png": "[encoded data removed]"
          },
          "metadata": {}
        },
        {
          "output_type": "display_data",
          "data": {
            "text/plain": [
              "<Figure size 1200x100 with 12 Axes>"
            ],
            "image/png": "[encoded data removed]"
          },
          "metadata": {}
        },
        {
          "output_type": "display_data",
          "data": {
            "text/plain": [
              "<Figure size 1200x100 with 12 Axes>"
            ],
            "image/png": "[encoded data removed]"
          },
          "metadata": {}
        },
        {
          "output_type": "display_data",
          "data": {
            "text/plain": [
              "<Figure size 1200x100 with 12 Axes>"
            ],
            "image/png": "[encoded data removed]"
          },
          "metadata": {}
        },
        {
          "output_type": "display_data",
          "data": {
            "text/plain": [
              "<Figure size 1200x100 with 12 Axes>"
            ],
            "image/png": "[encoded data removed]"
          },
          "metadata": {}
        }
      ]
    },
    {
      "cell_type": "code",
      "source": [
        "filters.shape"
      ],
      "metadata": {
        "colab": {
          "base_uri": "https://localhost:8080/"
        },
        "id": "9WfU-yU-vMZr",
        "outputId": "9721301a-f40e-4de6-bc1a-d6e266105ae1"
      },
      "execution_count": 47,
      "outputs": [
        {
          "output_type": "execute_result",
          "data": {
            "text/plain": [
              "(3, 3, 3, 1, 32)"
            ]
          },
          "metadata": {},
          "execution_count": 47
        }
      ]
    },
    {
      "cell_type": "code",
      "source": [
        "from matplotlib import pyplot\n"
      ],
      "metadata": {
        "id": "TZOSGSMEPUHm"
      },
      "execution_count": 48,
      "outputs": []
    },
    {
      "cell_type": "code",
      "source": [
        "df_train_batch[df_train_batch.ID==31]"
      ],
      "metadata": {
        "id": "VpdAudilNBw-",
        "outputId": "6b239e4c-bd1d-42c2-de67-a1d62a071c28",
        "colab": {
          "base_uri": "https://localhost:8080/",
          "height": 424
        }
      },
      "execution_count": 49,
      "outputs": [
        {
          "output_type": "execute_result",
          "data": {
            "text/plain": [
              "                                              file_path  ID persona  \\\n",
              "1582  /content/dataset/lsa64_hand_videos/031_004_002...  31     004   \n",
              "1621  /content/dataset/lsa64_hand_videos/031_008_001...  31     008   \n",
              "1608  /content/dataset/lsa64_hand_videos/031_006_005...  31     006   \n",
              "1629  /content/dataset/lsa64_hand_videos/031_008_005...  31     008   \n",
              "1611  /content/dataset/lsa64_hand_videos/031_007_001...  31     007   \n",
              "...                                                 ...  ..     ...   \n",
              "1643  /content/dataset/lsa64_hand_videos/031_010_002...  31     010   \n",
              "1553  /content/dataset/lsa64_hand_videos/031_001_002...  31     001   \n",
              "1564  /content/dataset/lsa64_hand_videos/031_002_003...  31     002   \n",
              "1614  /content/dataset/lsa64_hand_videos/031_007_003...  31     007   \n",
              "1587  /content/dataset/lsa64_hand_videos/031_004_004...  31     004   \n",
              "\n",
              "     repeticion   mano    id_name  \n",
              "1582        002   left  Breakfast  \n",
              "1621        001  right  Breakfast  \n",
              "1608        005   left  Breakfast  \n",
              "1629        005  right  Breakfast  \n",
              "1611        001  right  Breakfast  \n",
              "...         ...    ...        ...  \n",
              "1643        002  right  Breakfast  \n",
              "1553        002  right  Breakfast  \n",
              "1564        003   left  Breakfast  \n",
              "1614        003   left  Breakfast  \n",
              "1587        004  right  Breakfast  \n",
              "\n",
              "[90 rows x 6 columns]"
            ],
            "text/html": [
              "\n",
              "  <div id=\"df-4c1850be-e9d0-4f26-9314-10ea157f8e60\">\n",
              "    <div class=\"colab-df-container\">\n",
              "      <div>\n",
              "<style scoped>\n",
              "    .dataframe tbody tr th:only-of-type {\n",
              "        vertical-align: middle;\n",
              "    }\n",
              "\n",
              "    .dataframe tbody tr th {\n",
              "        vertical-align: top;\n",
              "    }\n",
              "\n",
              "    .dataframe thead th {\n",
              "        text-align: right;\n",
              "    }\n",
              "</style>\n",
              "<table border=\"1\" class=\"dataframe\">\n",
              "  <thead>\n",
              "    <tr style=\"text-align: right;\">\n",
              "      <th></th>\n",
              "      <th>file_path</th>\n",
              "      <th>ID</th>\n",
              "      <th>persona</th>\n",
              "      <th>repeticion</th>\n",
              "      <th>mano</th>\n",
              "      <th>id_name</th>\n",
              "    </tr>\n",
              "  </thead>\n",
              "  <tbody>\n",
              "    <tr>\n",
              "      <th>1582</th>\n",
              "      <td>/content/dataset/lsa64_hand_videos/031_004_002...</td>\n",
              "      <td>31</td>\n",
              "      <td>004</td>\n",
              "      <td>002</td>\n",
              "      <td>left</td>\n",
              "      <td>Breakfast</td>\n",
              "    </tr>\n",
              "    <tr>\n",
              "      <th>1621</th>\n",
              "      <td>/content/dataset/lsa64_hand_videos/031_008_001...</td>\n",
              "      <td>31</td>\n",
              "      <td>008</td>\n",
              "      <td>001</td>\n",
              "      <td>right</td>\n",
              "      <td>Breakfast</td>\n",
              "    </tr>\n",
              "    <tr>\n",
              "      <th>1608</th>\n",
              "      <td>/content/dataset/lsa64_hand_videos/031_006_005...</td>\n",
              "      <td>31</td>\n",
              "      <td>006</td>\n",
              "      <td>005</td>\n",
              "      <td>left</td>\n",
              "      <td>Breakfast</td>\n",
              "    </tr>\n",
              "    <tr>\n",
              "      <th>1629</th>\n",
              "      <td>/content/dataset/lsa64_hand_videos/031_008_005...</td>\n",
              "      <td>31</td>\n",
              "      <td>008</td>\n",
              "      <td>005</td>\n",
              "      <td>right</td>\n",
              "      <td>Breakfast</td>\n",
              "    </tr>\n",
              "    <tr>\n",
              "      <th>1611</th>\n",
              "      <td>/content/dataset/lsa64_hand_videos/031_007_001...</td>\n",
              "      <td>31</td>\n",
              "      <td>007</td>\n",
              "      <td>001</td>\n",
              "      <td>right</td>\n",
              "      <td>Breakfast</td>\n",
              "    </tr>\n",
              "    <tr>\n",
              "      <th>...</th>\n",
              "      <td>...</td>\n",
              "      <td>...</td>\n",
              "      <td>...</td>\n",
              "      <td>...</td>\n",
              "      <td>...</td>\n",
              "      <td>...</td>\n",
              "    </tr>\n",
              "    <tr>\n",
              "      <th>1643</th>\n",
              "      <td>/content/dataset/lsa64_hand_videos/031_010_002...</td>\n",
              "      <td>31</td>\n",
              "      <td>010</td>\n",
              "      <td>002</td>\n",
              "      <td>right</td>\n",
              "      <td>Breakfast</td>\n",
              "    </tr>\n",
              "    <tr>\n",
              "      <th>1553</th>\n",
              "      <td>/content/dataset/lsa64_hand_videos/031_001_002...</td>\n",
              "      <td>31</td>\n",
              "      <td>001</td>\n",
              "      <td>002</td>\n",
              "      <td>right</td>\n",
              "      <td>Breakfast</td>\n",
              "    </tr>\n",
              "    <tr>\n",
              "      <th>1564</th>\n",
              "      <td>/content/dataset/lsa64_hand_videos/031_002_003...</td>\n",
              "      <td>31</td>\n",
              "      <td>002</td>\n",
              "      <td>003</td>\n",
              "      <td>left</td>\n",
              "      <td>Breakfast</td>\n",
              "    </tr>\n",
              "    <tr>\n",
              "      <th>1614</th>\n",
              "      <td>/content/dataset/lsa64_hand_videos/031_007_003...</td>\n",
              "      <td>31</td>\n",
              "      <td>007</td>\n",
              "      <td>003</td>\n",
              "      <td>left</td>\n",
              "      <td>Breakfast</td>\n",
              "    </tr>\n",
              "    <tr>\n",
              "      <th>1587</th>\n",
              "      <td>/content/dataset/lsa64_hand_videos/031_004_004...</td>\n",
              "      <td>31</td>\n",
              "      <td>004</td>\n",
              "      <td>004</td>\n",
              "      <td>right</td>\n",
              "      <td>Breakfast</td>\n",
              "    </tr>\n",
              "  </tbody>\n",
              "</table>\n",
              "<p>90 rows × 6 columns</p>\n",
              "</div>\n",
              "      <button class=\"colab-df-convert\" onclick=\"convertToInteractive('df-4c1850be-e9d0-4f26-9314-10ea157f8e60')\"\n",
              "              title=\"Convert this dataframe to an interactive table.\"\n",
              "              style=\"display:none;\">\n",
              "        \n",
              "  <svg xmlns=\"http://www.w3.org/2000/svg\" height=\"24px\"viewBox=\"0 0 24 24\"\n",
              "       width=\"24px\">\n",
              "    <path d=\"M0 0h24v24H0V0z\" fill=\"none\"/>\n",
              "    <path d=\"M18.56 5.44l.94 2.06.94-2.06 2.06-.94-2.06-.94-.94-2.06-.94 2.06-2.06.94zm-11 1L8.5 8.5l.94-2.06 2.06-.94-2.06-.94L8.5 2.5l-.94 2.06-2.06.94zm10 10l.94 2.06.94-2.06 2.06-.94-2.06-.94-.94-2.06-.94 2.06-2.06.94z\"/><path d=\"M17.41 7.96l-1.37-1.37c-.4-.4-.92-.59-1.43-.59-.52 0-1.04.2-1.43.59L10.3 9.45l-7.72 7.72c-.78.78-.78 2.05 0 2.83L4 21.41c.39.39.9.59 1.41.59.51 0 1.02-.2 1.41-.59l7.78-7.78 2.81-2.81c.8-.78.8-2.07 0-2.86zM5.41 20L4 18.59l7.72-7.72 1.47 1.35L5.41 20z\"/>\n",
              "  </svg>\n",
              "      </button>\n",
              "      \n",
              "  <style>\n",
              "    .colab-df-container {\n",
              "      display:flex;\n",
              "      flex-wrap:wrap;\n",
              "      gap: 12px;\n",
              "    }\n",
              "\n",
              "    .colab-df-convert {\n",
              "      background-color: #E8F0FE;\n",
              "      border: none;\n",
              "      border-radius: 50%;\n",
              "      cursor: pointer;\n",
              "      display: none;\n",
              "      fill: #1967D2;\n",
              "      height: 32px;\n",
              "      padding: 0 0 0 0;\n",
              "      width: 32px;\n",
              "    }\n",
              "\n",
              "    .colab-df-convert:hover {\n",
              "      background-color: #E2EBFA;\n",
              "      box-shadow: 0px 1px 2px rgba(60, 64, 67, 0.3), 0px 1px 3px 1px rgba(60, 64, 67, 0.15);\n",
              "      fill: #174EA6;\n",
              "    }\n",
              "\n",
              "    [theme=dark] .colab-df-convert {\n",
              "      background-color: #3B4455;\n",
              "      fill: #D2E3FC;\n",
              "    }\n",
              "\n",
              "    [theme=dark] .colab-df-convert:hover {\n",
              "      background-color: #434B5C;\n",
              "      box-shadow: 0px 1px 3px 1px rgba(0, 0, 0, 0.15);\n",
              "      filter: drop-shadow(0px 1px 2px rgba(0, 0, 0, 0.3));\n",
              "      fill: #FFFFFF;\n",
              "    }\n",
              "  </style>\n",
              "\n",
              "      <script>\n",
              "        const buttonEl =\n",
              "          document.querySelector('#df-4c1850be-e9d0-4f26-9314-10ea157f8e60 button.colab-df-convert');\n",
              "        buttonEl.style.display =\n",
              "          google.colab.kernel.accessAllowed ? 'block' : 'none';\n",
              "\n",
              "        async function convertToInteractive(key) {\n",
              "          const element = document.querySelector('#df-4c1850be-e9d0-4f26-9314-10ea157f8e60');\n",
              "          const dataTable =\n",
              "            await google.colab.kernel.invokeFunction('convertToInteractive',\n",
              "                                                     [key], {});\n",
              "          if (!dataTable) return;\n",
              "\n",
              "          const docLinkHtml = 'Like what you see? Visit the ' +\n",
              "            '<a target=\"_blank\" href=https://colab.research.google.com/notebooks/data_table.ipynb>data table notebook</a>'\n",
              "            + ' to learn more about interactive tables.';\n",
              "          element.innerHTML = '';\n",
              "          dataTable['output_type'] = 'display_data';\n",
              "          await google.colab.output.renderOutput(dataTable, element);\n",
              "          const docLink = document.createElement('div');\n",
              "          docLink.innerHTML = docLinkHtml;\n",
              "          element.appendChild(docLink);\n",
              "        }\n",
              "      </script>\n",
              "    </div>\n",
              "  </div>\n",
              "  "
            ]
          },
          "metadata": {},
          "execution_count": 49
        }
      ]
    },
    {
      "cell_type": "code",
      "source": [
        "df_train_batch.loc[0]"
      ],
      "metadata": {
        "id": "YAyfGrrBDV6Y",
        "outputId": "78936404-667d-4645-997c-0a2391de20f7",
        "colab": {
          "base_uri": "https://localhost:8080/"
        }
      },
      "execution_count": 50,
      "outputs": [
        {
          "output_type": "execute_result",
          "data": {
            "text/plain": [
              "file_path     /content/dataset/lsa64_hand_videos/001_001_001...\n",
              "ID                                                            1\n",
              "persona                                                     001\n",
              "repeticion                                                  001\n",
              "mano                                                      right\n",
              "id_name                                                  Opaque\n",
              "Name: 0, dtype: object"
            ]
          },
          "metadata": {},
          "execution_count": 50
        }
      ]
    },
    {
      "cell_type": "code",
      "source": [
        "ejemplo=pd.DataFrame(df_train_batch.loc[0]).T\n",
        "XR=load_data_from_tf(ejemplo,\"train_data\")\n",
        "XR.shape\n",
        "\n",
        "ejemplo=pd.DataFrame(df_train_batch.loc[1]).T\n",
        "XL=load_data_from_tf(ejemplo,\"train_data\")\n",
        "XL.shape"
      ],
      "metadata": {
        "id": "MdSH0mankPAb",
        "outputId": "9e9dd412-bd04-41e4-a2a6-16a95ad42a20",
        "colab": {
          "base_uri": "https://localhost:8080/"
        }
      },
      "execution_count": 54,
      "outputs": [
        {
          "output_type": "execute_result",
          "data": {
            "text/plain": [
              "(1, 32, 128, 128)"
            ]
          },
          "metadata": {},
          "execution_count": 54
        }
      ]
    },
    {
      "cell_type": "code",
      "source": [
        "visualization_model = tf.keras.models.Model(inputs=model.inputs, outputs=model.layers[0].output)"
      ],
      "metadata": {
        "id": "I04TFbzvmBCQ"
      },
      "execution_count": 55,
      "outputs": []
    },
    {
      "cell_type": "code",
      "source": [
        "feature_maps = visualization_model.predict(XR)\n",
        "rows,cols = 4,8\n",
        "f,ax=plt.subplots(rows,cols,figsize=(rows*3,cols*1))\n",
        "\n",
        "# plot all 64 maps in an 8x8 squares\n",
        "ix = 1\n",
        "for _ in range(cols):\n",
        "\tfor _ in range(rows):\n",
        "\t\t# specify subplot and turn of axis\n",
        "\t\tax = pyplot.subplot(rows,cols, ix)\n",
        "\t\tax.set_xticks([])\n",
        "\t\tax.set_yticks([])\n",
        "\t\t# plot filter channel in grayscale\n",
        "\t\tpyplot.imshow(feature_maps[0, 2, :,:, ix-1], cmap='plasma')\n",
        "\t\tix += 1\n",
        "# show the figure\n",
        "pyplot.show()"
      ],
      "metadata": {
        "id": "81Zf9va1WV_X",
        "outputId": "14e6ae82-aed0-4e0d-b7e8-906f27254134",
        "colab": {
          "base_uri": "https://localhost:8080/",
          "height": 448
        }
      },
      "execution_count": 56,
      "outputs": [
        {
          "output_type": "display_data",
          "data": {
            "text/plain": [
              "<Figure size 864x576 with 32 Axes>"
            ],
            "image/png": "[encoded data removed]"
          },
          "metadata": {}
        }
      ]
    },
    {
      "cell_type": "code",
      "source": [
        "feature_maps = visualization_model.predict(XL)\n",
        "rows,cols = 4,8\n",
        "f,ax=plt.subplots(rows,cols,figsize=(rows*3,cols*1))\n",
        "\n",
        "# plot all 64 maps in an 8x8 squares\n",
        "ix = 1\n",
        "for _ in range(cols):\n",
        "\tfor _ in range(rows):\n",
        "\t\t# specify subplot and turn of axis\n",
        "\t\tax = pyplot.subplot(rows,cols, ix)\n",
        "\t\tax.set_xticks([])\n",
        "\t\tax.set_yticks([])\n",
        "\t\t# plot filter channel in grayscale\n",
        "\t\tpyplot.imshow(feature_maps[0, 2, :,:, ix-1], cmap='plasma')\n",
        "\t\tix += 1\n",
        "# show the figure\n",
        "pyplot.show()"
      ],
      "metadata": {
        "id": "9vaiWq5TOJl_",
        "outputId": "2dea127a-14bd-4d66-f2e1-6090c49bd472",
        "colab": {
          "base_uri": "https://localhost:8080/",
          "height": 448
        }
      },
      "execution_count": 57,
      "outputs": [
        {
          "output_type": "display_data",
          "data": {
            "text/plain": [
              "<Figure size 864x576 with 32 Axes>"
            ],
            "image/png": "[encoded data removed]"
          },
          "metadata": {}
        }
      ]
    }
  ]
}